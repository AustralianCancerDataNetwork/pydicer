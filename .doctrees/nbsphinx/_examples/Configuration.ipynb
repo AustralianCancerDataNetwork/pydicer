{
 "cells": [
  {
   "attachments": {},
   "cell_type": "markdown",
   "metadata": {},
   "source": [
    "# Configuration\n",
    "\n",
    "[![Open In Colab](https://colab.research.google.com/assets/colab-badge.svg)](https://colab.research.google.com/github/AustralianCancerDataNetwork/pydicer/blob/main/examples/Configuration.ipynb)\n",
    "\n",
    "PyDicer provides various options which you may configure to change the behaviour of the tool."
   ]
  },
  {
   "cell_type": "code",
   "execution_count": 1,
   "metadata": {
    "execution": {
     "iopub.execute_input": "2024-12-16T10:43:42.947755Z",
     "iopub.status.busy": "2024-12-16T10:43:42.947557Z",
     "iopub.status.idle": "2024-12-16T10:43:53.227871Z",
     "shell.execute_reply": "2024-12-16T10:43:53.227132Z"
    }
   },
   "outputs": [],
   "source": [
    "try:\n",
    "    from pydicer import PyDicer\n",
    "except ImportError:\n",
    "    !pip install pydicer\n",
    "    from pydicer import PyDicer\n",
    "\n",
    "import logging\n",
    "\n",
    "from pydicer.utils import fetch_converted_test_data\n",
    "\n",
    "working_directory = fetch_converted_test_data(\"./testdata_lctsc\", dataset=\"LCTSC\")\n",
    "\n",
    "pydicer = PyDicer(working_directory)"
   ]
  },
  {
   "cell_type": "markdown",
   "metadata": {},
   "source": [
    "## Getting and Setting Options\n",
    "\n",
    "Use the `get_config` and `set_config` functions of the [config module](https://australiancancerdatanetwork.github.io/pydicer/config.html) to get and set configuration options respectively."
   ]
  },
  {
   "cell_type": "code",
   "execution_count": 2,
   "metadata": {
    "execution": {
     "iopub.execute_input": "2024-12-16T10:43:53.231028Z",
     "iopub.status.busy": "2024-12-16T10:43:53.230675Z",
     "iopub.status.idle": "2024-12-16T10:43:53.235598Z",
     "shell.execute_reply": "2024-12-16T10:43:53.235060Z"
    }
   },
   "outputs": [
    {
     "name": "stdout",
     "output_type": "stream",
     "text": [
      "Current logging verbosity: 0\n",
      "New logging verbosity: 10\n"
     ]
    }
   ],
   "source": [
    "logging_verbosity = pydicer.config.get_config(\"verbosity\")\n",
    "print(f\"Current logging verbosity: {logging_verbosity}\")\n",
    "\n",
    "# Set to logging level DEBUG\n",
    "pydicer.config.set_config(\"verbosity\", logging.DEBUG)\n",
    "\n",
    "logging_verbosity = pydicer.config.get_config(\"verbosity\")\n",
    "print(f\"New logging verbosity: {logging_verbosity}\")"
   ]
  },
  {
   "cell_type": "markdown",
   "metadata": {},
   "source": [
    "## Options Available\n",
    "\n",
    "### Logging Verbosity\n",
    "\n",
    "Level of output for standard out. Value indicates the [Python built-in log level](https://docs.python.org/3/library/logging.html#logging-levels). A value of 0\n",
    "(not set) will display the process bar. Logs of all levels are available in the .pydicer directory.\n",
    "\n",
    "Valid options are: `[logging.NOTSET, logging.DEBUG, logging.INFO, logging.WARNING, logging.ERROR]`"
   ]
  },
  {
   "cell_type": "code",
   "execution_count": 3,
   "metadata": {
    "execution": {
     "iopub.execute_input": "2024-12-16T10:43:53.237941Z",
     "iopub.status.busy": "2024-12-16T10:43:53.237741Z",
     "iopub.status.idle": "2024-12-16T10:43:53.241158Z",
     "shell.execute_reply": "2024-12-16T10:43:53.240613Z"
    }
   },
   "outputs": [],
   "source": [
    "pydicer.config.set_config(\"verbosity\", logging.DEBUG)"
   ]
  },
  {
   "cell_type": "markdown",
   "metadata": {},
   "source": [
    "### Frame of Reference Fallback Linkage\n",
    "\n",
    "Determine whether to fallback on linking objects via their [Frame of Reference UID](https://dicom.innolitics.com/ciods/ct-image/frame-of-reference/00200052) if no more stable\n",
    "link exists.\n",
    "\n",
    "Valid options are: `True` or `False`"
   ]
  },
  {
   "cell_type": "code",
   "execution_count": 4,
   "metadata": {
    "execution": {
     "iopub.execute_input": "2024-12-16T10:43:53.243605Z",
     "iopub.status.busy": "2024-12-16T10:43:53.243247Z",
     "iopub.status.idle": "2024-12-16T10:43:53.246526Z",
     "shell.execute_reply": "2024-12-16T10:43:53.245916Z"
    }
   },
   "outputs": [],
   "source": [
    "pydicer.config.set_config(\"for_fallback_linkage\", True)"
   ]
  },
  {
   "cell_type": "markdown",
   "metadata": {},
   "source": [
    "### Enforce `.dcm` file extension\n",
    "\n",
    "If True only files with the .dcm or .DCM extension will be preprocessed. Otherwise any file in the\n",
    "DICOM directory will be preprocessed.\n",
    "\n",
    "Valid options are: `True` or `False`"
   ]
  },
  {
   "cell_type": "code",
   "execution_count": 5,
   "metadata": {
    "execution": {
     "iopub.execute_input": "2024-12-16T10:43:53.249310Z",
     "iopub.status.busy": "2024-12-16T10:43:53.248795Z",
     "iopub.status.idle": "2024-12-16T10:43:53.252168Z",
     "shell.execute_reply": "2024-12-16T10:43:53.251556Z"
    }
   },
   "outputs": [],
   "source": [
    "pydicer.config.set_config(\"enforce_dcm_ext\", True)"
   ]
  },
  {
   "cell_type": "markdown",
   "metadata": {},
   "source": [
    "### Interpolate Missing Slices\n",
    "\n",
    "When missing slices are detected these will be interpolated if True. Otherwise these cases will be\n",
    "sent to quarantine.\n",
    "\n",
    "Valid options are: `True` or `False`"
   ]
  },
  {
   "cell_type": "code",
   "execution_count": 6,
   "metadata": {
    "execution": {
     "iopub.execute_input": "2024-12-16T10:43:53.254628Z",
     "iopub.status.busy": "2024-12-16T10:43:53.254190Z",
     "iopub.status.idle": "2024-12-16T10:43:53.257442Z",
     "shell.execute_reply": "2024-12-16T10:43:53.256914Z"
    }
   },
   "outputs": [],
   "source": [
    "pydicer.config.set_config(\"interp_missing_slices\", True)"
   ]
  },
  {
   "cell_type": "markdown",
   "metadata": {},
   "source": [
    "### Ignore Duplicate Slices\n",
    "\n",
    "If two slices at the same location with different pixel data are found then the first slice is used\n",
    "if ignore_duplicate_slices is True. Otherwise an error is raised and these images are sent to\n",
    "quarantine.\n",
    "\n",
    "Valid options are: `True` or `False`"
   ]
  },
  {
   "cell_type": "code",
   "execution_count": 7,
   "metadata": {
    "execution": {
     "iopub.execute_input": "2024-12-16T10:43:53.259814Z",
     "iopub.status.busy": "2024-12-16T10:43:53.259359Z",
     "iopub.status.idle": "2024-12-16T10:43:53.262698Z",
     "shell.execute_reply": "2024-12-16T10:43:53.262164Z"
    }
   },
   "outputs": [],
   "source": [
    "pydicer.config.set_config(\"ignore_duplicate_slices\", False)"
   ]
  },
  {
   "cell_type": "markdown",
   "metadata": {},
   "source": [
    "### Generate NRRD\n",
    "\n",
    "Whether or not to generate an additional NRRD file when converting RTSTRUCT. This allows loading\n",
    "easily into [3D slicer](https://www.slicer.org/), but it takes up more disk space and takes time to generate the file.\n",
    "\n",
    "Valid options are: `True` or `False`"
   ]
  },
  {
   "cell_type": "code",
   "execution_count": 8,
   "metadata": {
    "execution": {
     "iopub.execute_input": "2024-12-16T10:43:53.265024Z",
     "iopub.status.busy": "2024-12-16T10:43:53.264647Z",
     "iopub.status.idle": "2024-12-16T10:43:53.267801Z",
     "shell.execute_reply": "2024-12-16T10:43:53.267281Z"
    }
   },
   "outputs": [],
   "source": [
    "pydicer.config.set_config(\"generate_nrrd\", False)"
   ]
  },
  {
   "cell_type": "markdown",
   "metadata": {},
   "source": [
    "### NRRD Colormap\n",
    "\n",
    "If NRRD files are to be generated, this defines the Matplotlib colormap to use when saving NRRD\n",
    "file of structures.\n",
    "\n",
    "Valid options are any [Matplotlib colormap](https://matplotlib.org/stable/users/explain/colors/colormaps.html)."
   ]
  },
  {
   "cell_type": "code",
   "execution_count": 9,
   "metadata": {
    "execution": {
     "iopub.execute_input": "2024-12-16T10:43:53.270041Z",
     "iopub.status.busy": "2024-12-16T10:43:53.269849Z",
     "iopub.status.idle": "2024-12-16T10:43:53.273006Z",
     "shell.execute_reply": "2024-12-16T10:43:53.272495Z"
    }
   },
   "outputs": [],
   "source": [
    "pydicer.config.set_config(\"nrrd_colormap\", \"rainbow\")"
   ]
  },
  {
   "cell_type": "code",
   "execution_count": null,
   "metadata": {},
   "outputs": [],
   "source": []
  }
 ],
 "metadata": {
  "interpreter": {
   "hash": "814af119db7f8f2860617be3dcd1d37c560587d11c65bd58c45b1679d3ee6ea4"
  },
  "kernelspec": {
   "display_name": "Python 3.8.0 64-bit ('pydicer': pyenv)",
   "language": "python",
   "name": "python3"
  },
  "language_info": {
   "codemirror_mode": {
    "name": "ipython",
    "version": 3
   },
   "file_extension": ".py",
   "mimetype": "text/x-python",
   "name": "python",
   "nbconvert_exporter": "python",
   "pygments_lexer": "ipython3",
   "version": "3.9.20"
  }
 },
 "nbformat": 4,
 "nbformat_minor": 2
}
