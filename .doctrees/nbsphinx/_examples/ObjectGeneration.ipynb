{
 "cells": [
  {
   "attachments": {},
   "cell_type": "markdown",
   "metadata": {},
   "source": [
    "# Generating Data Objects\n",
    "\n",
    "[![Open In Colab](https://colab.research.google.com/assets/colab-badge.svg)](https://colab.research.google.com/github/AustralianCancerDataNetwork/pydicer/blob/main/examples/ObjectGeneration.ipynb)\n",
    "\n",
    "While PyDicer primarily deals with converting data objects from DICOM, there are instances where\n",
    "you may want to generate a new data object and have it integrated into your PyDicer dataset.\n",
    "\n",
    "Some examples of when you may want to do this are:\n",
    "- Generate a new dose grid with EQD2 correction applied.\n",
    "- Generate a structure set of auto-segmented structures.\n",
    "- Generate a Pseudo-CT image from an MRI.\n",
    "\n",
    "In this guide we show you how to generate new data objects to help you perform tasks such as those\n",
    "described in the examples mentioned above."
   ]
  },
  {
   "cell_type": "code",
   "execution_count": 1,
   "metadata": {
    "execution": {
     "iopub.execute_input": "2025-03-13T20:40:41.174849Z",
     "iopub.status.busy": "2025-03-13T20:40:41.174279Z",
     "iopub.status.idle": "2025-03-13T20:40:42.184920Z",
     "shell.execute_reply": "2025-03-13T20:40:42.184334Z"
    }
   },
   "outputs": [
    {
     "name": "stderr",
     "output_type": "stream",
     "text": [
      "Working directory %s aready exists, won't download test data.\n"
     ]
    }
   ],
   "source": [
    "try:\n",
    "    from pydicer import PyDicer\n",
    "except ImportError:\n",
    "    !pip install pydicer\n",
    "    from pydicer import PyDicer\n",
    "\n",
    "from pathlib import Path\n",
    "import SimpleITK as sitk\n",
    "\n",
    "from pydicer.utils import fetch_converted_test_data, load_object_metadata, read_simple_itk_image\n",
    "\n",
    "working_directory = fetch_converted_test_data(\"./testdata_hnscc\", dataset=\"HNSCC\")\n",
    "\n",
    "pydicer = PyDicer(working_directory)"
   ]
  },
  {
   "cell_type": "markdown",
   "metadata": {},
   "source": [
    "## Generate Dose Objects\n",
    "\n",
    "In the following cell, we:\n",
    "- Iterate over each dose grid in our dataset\n",
    "- Load the dose grid using SimpleITK\n",
    "- Apply EQD2 dose correction (hard coded for demonstration purposes)\n",
    "- Save the corrected dose as a new object in our dataset\n",
    "\n",
    "Once the dose object is saved, when you compute DVHs and dose metrics, this new dose will appear\n",
    "in that data."
   ]
  },
  {
   "cell_type": "code",
   "execution_count": 2,
   "metadata": {
    "execution": {
     "iopub.execute_input": "2025-03-13T20:40:42.187799Z",
     "iopub.status.busy": "2025-03-13T20:40:42.187329Z",
     "iopub.status.idle": "2025-03-13T20:40:43.572329Z",
     "shell.execute_reply": "2025-03-13T20:40:43.571700Z"
    }
   },
   "outputs": [
    {
     "name": "stdout",
     "output_type": "stream",
     "text": [
      "HNSCC-01-0176 has 20 fractions\n",
      "Saving dose grid with ID: 833a74_EQD2_ab2\n"
     ]
    },
    {
     "name": "stdout",
     "output_type": "stream",
     "text": [
      "HNSCC-01-0176 has 20 fractions\n",
      "Saving dose grid with ID: bf3fba_EQD2_ab2\n"
     ]
    },
    {
     "name": "stdout",
     "output_type": "stream",
     "text": [
      "HNSCC-01-0199 has 33 fractions\n",
      "Saving dose grid with ID: c16e76_EQD2_ab2\n"
     ]
    },
    {
     "name": "stdout",
     "output_type": "stream",
     "text": [
      "HNSCC-01-0019 has 21 fractions\n",
      "Saving dose grid with ID: 309e1a_EQD2_ab2\n"
     ]
    }
   ],
   "source": [
    "alpha_beta = 2\n",
    "\n",
    "df = pydicer.read_converted_data()\n",
    "df_doses = df[df[\"modality\"] == \"RTDOSE\"]\n",
    "\n",
    "for _, dose_row in df_doses.iterrows():\n",
    "    if \"EQD2_ab\" in dose_row.hashed_uid:\n",
    "        # This is an already scaled dose\n",
    "        continue\n",
    "\n",
    "    df_linked_plan = df[df[\"sop_instance_uid\"] == dose_row.referenced_sop_instance_uid]\n",
    "\n",
    "    linked_plan = df_linked_plan.iloc[0]\n",
    "    ds_plan = load_object_metadata(linked_plan)\n",
    "\n",
    "    # Read the planned fractions from the plan object\n",
    "    fractions = int(ds_plan.FractionGroupSequence[0].NumberOfFractionsPlanned)\n",
    "\n",
    "    print(f\"{dose_row.patient_id} has {fractions} fractions\")\n",
    "\n",
    "    # Load the dose grid\n",
    "    dose_path = Path(dose_row.path).joinpath(\"RTDOSE.nii.gz\")\n",
    "    dose = sitk.ReadImage(str(dose_path))\n",
    "    dose = sitk.Cast(dose, sitk.sitkFloat64)\n",
    "\n",
    "    dose_id = f\"{dose_row.hashed_uid}_EQD2_ab{alpha_beta}\"\n",
    "\n",
    "    if len(df_doses[df_doses.hashed_uid == dose_id]) > 0:\n",
    "        print(f\"Already converted dose for {dose_id}\")\n",
    "        continue\n",
    "\n",
    "    # Apply the EQD2 correction\n",
    "    eqd2_dose = dose * (((dose / fractions) + alpha_beta) / (2 + alpha_beta))\n",
    "\n",
    "    # Save off the new dose grid\n",
    "    try:\n",
    "        print(f\"Saving dose grid with ID: {dose_id}\")\n",
    "        pydicer.add_dose_object(\n",
    "            eqd2_dose, dose_id, dose_row.patient_id, linked_plan, dose_row.for_uid\n",
    "        )\n",
    "    except SystemError:\n",
    "        print(f\"Dose object {dose_id} already exists!\")"
   ]
  },
  {
   "cell_type": "markdown",
   "metadata": {},
   "source": [
    "Now we can load our data objects, and check that our new dose grids are stored alongside our\n",
    "converted data."
   ]
  },
  {
   "cell_type": "code",
   "execution_count": 3,
   "metadata": {
    "execution": {
     "iopub.execute_input": "2025-03-13T20:40:43.574857Z",
     "iopub.status.busy": "2025-03-13T20:40:43.574665Z",
     "iopub.status.idle": "2025-03-13T20:40:43.593917Z",
     "shell.execute_reply": "2025-03-13T20:40:43.593258Z"
    }
   },
   "outputs": [
    {
     "data": {
      "text/html": [
       "<div>\n",
       "<style scoped>\n",
       "    .dataframe tbody tr th:only-of-type {\n",
       "        vertical-align: middle;\n",
       "    }\n",
       "\n",
       "    .dataframe tbody tr th {\n",
       "        vertical-align: top;\n",
       "    }\n",
       "\n",
       "    .dataframe thead th {\n",
       "        text-align: right;\n",
       "    }\n",
       "</style>\n",
       "<table border=\"1\" class=\"dataframe\">\n",
       "  <thead>\n",
       "    <tr style=\"text-align: right;\">\n",
       "      <th></th>\n",
       "      <th>sop_instance_uid</th>\n",
       "      <th>hashed_uid</th>\n",
       "      <th>modality</th>\n",
       "      <th>patient_id</th>\n",
       "      <th>series_uid</th>\n",
       "      <th>for_uid</th>\n",
       "      <th>referenced_sop_instance_uid</th>\n",
       "      <th>path</th>\n",
       "    </tr>\n",
       "  </thead>\n",
       "  <tbody>\n",
       "    <tr>\n",
       "      <th>4</th>\n",
       "      <td>1.3.6.1.4.1.14519.5.2.1.1706.8040.169033525924...</td>\n",
       "      <td>833a74</td>\n",
       "      <td>RTDOSE</td>\n",
       "      <td>HNSCC-01-0176</td>\n",
       "      <td>1.3.6.1.4.1.14519.5.2.1.1706.8040.279793773343...</td>\n",
       "      <td>1.3.6.1.4.1.14519.5.2.1.1706.8040.706719210726...</td>\n",
       "      <td>1.3.6.1.4.1.14519.5.2.1.1706.8040.470253980284...</td>\n",
       "      <td>testdata_hnscc/data/HNSCC-01-0176/doses/833a74</td>\n",
       "    </tr>\n",
       "    <tr>\n",
       "      <th>5</th>\n",
       "      <td>1.3.6.1.4.1.14519.5.2.1.1706.8040.267291308489...</td>\n",
       "      <td>bf3fba</td>\n",
       "      <td>RTDOSE</td>\n",
       "      <td>HNSCC-01-0176</td>\n",
       "      <td>1.3.6.1.4.1.14519.5.2.1.1706.8040.283706688235...</td>\n",
       "      <td>1.3.6.1.4.1.14519.5.2.1.1706.8040.566662631858...</td>\n",
       "      <td>1.3.6.1.4.1.14519.5.2.1.1706.8040.173917268454...</td>\n",
       "      <td>testdata_hnscc/data/HNSCC-01-0176/doses/bf3fba</td>\n",
       "    </tr>\n",
       "    <tr>\n",
       "      <th>10</th>\n",
       "      <td>833a74_EQD2_ab2</td>\n",
       "      <td>833a74_EQD2_ab2</td>\n",
       "      <td>RTDOSE</td>\n",
       "      <td>HNSCC-01-0176</td>\n",
       "      <td>833a74_EQD2_ab2</td>\n",
       "      <td>1.3.6.1.4.1.14519.5.2.1.1706.8040.706719210726...</td>\n",
       "      <td>1.3.6.1.4.1.14519.5.2.1.1706.8040.470253980284...</td>\n",
       "      <td>testdata_hnscc/data/HNSCC-01-0176/doses/833a74...</td>\n",
       "    </tr>\n",
       "    <tr>\n",
       "      <th>11</th>\n",
       "      <td>bf3fba_EQD2_ab2</td>\n",
       "      <td>bf3fba_EQD2_ab2</td>\n",
       "      <td>RTDOSE</td>\n",
       "      <td>HNSCC-01-0176</td>\n",
       "      <td>bf3fba_EQD2_ab2</td>\n",
       "      <td>1.3.6.1.4.1.14519.5.2.1.1706.8040.566662631858...</td>\n",
       "      <td>1.3.6.1.4.1.14519.5.2.1.1706.8040.173917268454...</td>\n",
       "      <td>testdata_hnscc/data/HNSCC-01-0176/doses/bf3fba...</td>\n",
       "    </tr>\n",
       "    <tr>\n",
       "      <th>13</th>\n",
       "      <td>1.3.6.1.4.1.14519.5.2.1.1706.8040.264264397186...</td>\n",
       "      <td>c16e76</td>\n",
       "      <td>RTDOSE</td>\n",
       "      <td>HNSCC-01-0199</td>\n",
       "      <td>1.3.6.1.4.1.14519.5.2.1.1706.8040.233527028792...</td>\n",
       "      <td>1.3.6.1.4.1.14519.5.2.1.1706.8040.870916135819...</td>\n",
       "      <td>1.3.6.1.4.1.14519.5.2.1.1706.8040.287865632112...</td>\n",
       "      <td>testdata_hnscc/data/HNSCC-01-0199/doses/c16e76</td>\n",
       "    </tr>\n",
       "    <tr>\n",
       "      <th>16</th>\n",
       "      <td>c16e76_EQD2_ab2</td>\n",
       "      <td>c16e76_EQD2_ab2</td>\n",
       "      <td>RTDOSE</td>\n",
       "      <td>HNSCC-01-0199</td>\n",
       "      <td>c16e76_EQD2_ab2</td>\n",
       "      <td>1.3.6.1.4.1.14519.5.2.1.1706.8040.870916135819...</td>\n",
       "      <td>1.3.6.1.4.1.14519.5.2.1.1706.8040.287865632112...</td>\n",
       "      <td>testdata_hnscc/data/HNSCC-01-0199/doses/c16e76...</td>\n",
       "    </tr>\n",
       "    <tr>\n",
       "      <th>18</th>\n",
       "      <td>1.3.6.1.4.1.14519.5.2.1.1706.8040.242809596262...</td>\n",
       "      <td>309e1a</td>\n",
       "      <td>RTDOSE</td>\n",
       "      <td>HNSCC-01-0019</td>\n",
       "      <td>1.3.6.1.4.1.14519.5.2.1.1706.8040.777975715563...</td>\n",
       "      <td>1.3.6.1.4.1.14519.5.2.1.1706.8040.290727775603...</td>\n",
       "      <td>1.3.6.1.4.1.14519.5.2.1.1706.8040.254865609982...</td>\n",
       "      <td>testdata_hnscc/data/HNSCC-01-0019/doses/309e1a</td>\n",
       "    </tr>\n",
       "    <tr>\n",
       "      <th>21</th>\n",
       "      <td>309e1a_EQD2_ab2</td>\n",
       "      <td>309e1a_EQD2_ab2</td>\n",
       "      <td>RTDOSE</td>\n",
       "      <td>HNSCC-01-0019</td>\n",
       "      <td>309e1a_EQD2_ab2</td>\n",
       "      <td>1.3.6.1.4.1.14519.5.2.1.1706.8040.290727775603...</td>\n",
       "      <td>1.3.6.1.4.1.14519.5.2.1.1706.8040.254865609982...</td>\n",
       "      <td>testdata_hnscc/data/HNSCC-01-0019/doses/309e1a...</td>\n",
       "    </tr>\n",
       "  </tbody>\n",
       "</table>\n",
       "</div>"
      ],
      "text/plain": [
       "                                     sop_instance_uid       hashed_uid  \\\n",
       "4   1.3.6.1.4.1.14519.5.2.1.1706.8040.169033525924...           833a74   \n",
       "5   1.3.6.1.4.1.14519.5.2.1.1706.8040.267291308489...           bf3fba   \n",
       "10                                    833a74_EQD2_ab2  833a74_EQD2_ab2   \n",
       "11                                    bf3fba_EQD2_ab2  bf3fba_EQD2_ab2   \n",
       "13  1.3.6.1.4.1.14519.5.2.1.1706.8040.264264397186...           c16e76   \n",
       "16                                    c16e76_EQD2_ab2  c16e76_EQD2_ab2   \n",
       "18  1.3.6.1.4.1.14519.5.2.1.1706.8040.242809596262...           309e1a   \n",
       "21                                    309e1a_EQD2_ab2  309e1a_EQD2_ab2   \n",
       "\n",
       "   modality     patient_id                                         series_uid  \\\n",
       "4    RTDOSE  HNSCC-01-0176  1.3.6.1.4.1.14519.5.2.1.1706.8040.279793773343...   \n",
       "5    RTDOSE  HNSCC-01-0176  1.3.6.1.4.1.14519.5.2.1.1706.8040.283706688235...   \n",
       "10   RTDOSE  HNSCC-01-0176                                    833a74_EQD2_ab2   \n",
       "11   RTDOSE  HNSCC-01-0176                                    bf3fba_EQD2_ab2   \n",
       "13   RTDOSE  HNSCC-01-0199  1.3.6.1.4.1.14519.5.2.1.1706.8040.233527028792...   \n",
       "16   RTDOSE  HNSCC-01-0199                                    c16e76_EQD2_ab2   \n",
       "18   RTDOSE  HNSCC-01-0019  1.3.6.1.4.1.14519.5.2.1.1706.8040.777975715563...   \n",
       "21   RTDOSE  HNSCC-01-0019                                    309e1a_EQD2_ab2   \n",
       "\n",
       "                                              for_uid  \\\n",
       "4   1.3.6.1.4.1.14519.5.2.1.1706.8040.706719210726...   \n",
       "5   1.3.6.1.4.1.14519.5.2.1.1706.8040.566662631858...   \n",
       "10  1.3.6.1.4.1.14519.5.2.1.1706.8040.706719210726...   \n",
       "11  1.3.6.1.4.1.14519.5.2.1.1706.8040.566662631858...   \n",
       "13  1.3.6.1.4.1.14519.5.2.1.1706.8040.870916135819...   \n",
       "16  1.3.6.1.4.1.14519.5.2.1.1706.8040.870916135819...   \n",
       "18  1.3.6.1.4.1.14519.5.2.1.1706.8040.290727775603...   \n",
       "21  1.3.6.1.4.1.14519.5.2.1.1706.8040.290727775603...   \n",
       "\n",
       "                          referenced_sop_instance_uid  \\\n",
       "4   1.3.6.1.4.1.14519.5.2.1.1706.8040.470253980284...   \n",
       "5   1.3.6.1.4.1.14519.5.2.1.1706.8040.173917268454...   \n",
       "10  1.3.6.1.4.1.14519.5.2.1.1706.8040.470253980284...   \n",
       "11  1.3.6.1.4.1.14519.5.2.1.1706.8040.173917268454...   \n",
       "13  1.3.6.1.4.1.14519.5.2.1.1706.8040.287865632112...   \n",
       "16  1.3.6.1.4.1.14519.5.2.1.1706.8040.287865632112...   \n",
       "18  1.3.6.1.4.1.14519.5.2.1.1706.8040.254865609982...   \n",
       "21  1.3.6.1.4.1.14519.5.2.1.1706.8040.254865609982...   \n",
       "\n",
       "                                                 path  \n",
       "4      testdata_hnscc/data/HNSCC-01-0176/doses/833a74  \n",
       "5      testdata_hnscc/data/HNSCC-01-0176/doses/bf3fba  \n",
       "10  testdata_hnscc/data/HNSCC-01-0176/doses/833a74...  \n",
       "11  testdata_hnscc/data/HNSCC-01-0176/doses/bf3fba...  \n",
       "13     testdata_hnscc/data/HNSCC-01-0199/doses/c16e76  \n",
       "16  testdata_hnscc/data/HNSCC-01-0199/doses/c16e76...  \n",
       "18     testdata_hnscc/data/HNSCC-01-0019/doses/309e1a  \n",
       "21  testdata_hnscc/data/HNSCC-01-0019/doses/309e1a...  "
      ]
     },
     "execution_count": 3,
     "metadata": {},
     "output_type": "execute_result"
    }
   ],
   "source": [
    "df = pydicer.read_converted_data()\n",
    "df[df.modality==\"RTDOSE\"]"
   ]
  },
  {
   "cell_type": "markdown",
   "metadata": {},
   "source": [
    "## Generate Structure Set Objects\n",
    "\n",
    "In this example, we:\n",
    "- Iterate over each CT image in our dataset\n",
    "- Load the CT image using SimpleITK, and apply a threshold to segment bones\n",
    "- Save the segmented bones as a new structure set object\n",
    "\n",
    "> Note: This specific functionality is supported by the [auto-segmentation inference module](https://australiancancerdatanetwork.github.io/pydicer/generate.html#module-pydicer.generate.segmentation). If you\n",
    "> are using this to generate auto-segmentations it is recommended you use that functionality."
   ]
  },
  {
   "cell_type": "code",
   "execution_count": 4,
   "metadata": {
    "execution": {
     "iopub.execute_input": "2025-03-13T20:40:43.596631Z",
     "iopub.status.busy": "2025-03-13T20:40:43.596230Z",
     "iopub.status.idle": "2025-03-13T20:40:45.018451Z",
     "shell.execute_reply": "2025-03-13T20:40:45.017767Z"
    }
   },
   "outputs": [
    {
     "name": "stdout",
     "output_type": "stream",
     "text": [
      "Saving structure set with ID: bones_c4ffd0\n",
      "Saving structure set with ID: bones_8e0da9\n"
     ]
    },
    {
     "name": "stdout",
     "output_type": "stream",
     "text": [
      "Saving structure set with ID: bones_ec4aec\n"
     ]
    },
    {
     "name": "stdout",
     "output_type": "stream",
     "text": [
      "Saving structure set with ID: bones_33c44a\n"
     ]
    },
    {
     "name": "stdout",
     "output_type": "stream",
     "text": [
      "Saving structure set with ID: bones_72b0f9\n"
     ]
    },
    {
     "name": "stdout",
     "output_type": "stream",
     "text": [
      "Saving structure set with ID: bones_b281ea\n"
     ]
    }
   ],
   "source": [
    "bone_threshold = 300 # Set threshold at 300 HU\n",
    "\n",
    "df = pydicer.read_converted_data()\n",
    "df_cts = df[df[\"modality\"] == \"CT\"]\n",
    "\n",
    "for idx, ct_row in df_cts.iterrows():\n",
    "\n",
    "    # Load the image\n",
    "    img = read_simple_itk_image(ct_row)\n",
    "\n",
    "    # Apply the threshold\n",
    "    bone_mask = img > bone_threshold\n",
    "\n",
    "    # Save the mask in a new structure set\n",
    "    structure_set_id = f\"bones_{ct_row.hashed_uid}\"\n",
    "    new_structure_set = {\n",
    "        \"bones\": bone_mask\n",
    "    }\n",
    "\n",
    "\n",
    "    try:\n",
    "        print(f\"Saving structure set with ID: {structure_set_id}\")\n",
    "        pydicer.add_structure_object(\n",
    "            new_structure_set,\n",
    "            structure_set_id,\n",
    "            ct_row.patient_id,\n",
    "            ct_row,\n",
    "        )\n",
    "    except SystemError:\n",
    "        print(f\"Structure Set {structure_set_id} already exists!\")\n"
   ]
  },
  {
   "cell_type": "markdown",
   "metadata": {},
   "source": [
    "Let's load out data objects to see if we have our new structure sets."
   ]
  },
  {
   "cell_type": "code",
   "execution_count": 5,
   "metadata": {
    "execution": {
     "iopub.execute_input": "2025-03-13T20:40:45.021310Z",
     "iopub.status.busy": "2025-03-13T20:40:45.021099Z",
     "iopub.status.idle": "2025-03-13T20:40:45.037221Z",
     "shell.execute_reply": "2025-03-13T20:40:45.036576Z"
    }
   },
   "outputs": [
    {
     "data": {
      "text/html": [
       "<div>\n",
       "<style scoped>\n",
       "    .dataframe tbody tr th:only-of-type {\n",
       "        vertical-align: middle;\n",
       "    }\n",
       "\n",
       "    .dataframe tbody tr th {\n",
       "        vertical-align: top;\n",
       "    }\n",
       "\n",
       "    .dataframe thead th {\n",
       "        text-align: right;\n",
       "    }\n",
       "</style>\n",
       "<table border=\"1\" class=\"dataframe\">\n",
       "  <thead>\n",
       "    <tr style=\"text-align: right;\">\n",
       "      <th></th>\n",
       "      <th>sop_instance_uid</th>\n",
       "      <th>hashed_uid</th>\n",
       "      <th>modality</th>\n",
       "      <th>patient_id</th>\n",
       "      <th>series_uid</th>\n",
       "      <th>for_uid</th>\n",
       "      <th>referenced_sop_instance_uid</th>\n",
       "      <th>path</th>\n",
       "    </tr>\n",
       "  </thead>\n",
       "  <tbody>\n",
       "    <tr>\n",
       "      <th>8</th>\n",
       "      <td>1.3.6.1.4.1.14519.5.2.1.1706.8040.403955456521...</td>\n",
       "      <td>cbbf5b</td>\n",
       "      <td>RTSTRUCT</td>\n",
       "      <td>HNSCC-01-0176</td>\n",
       "      <td>1.3.6.1.4.1.14519.5.2.1.1706.8040.276897558084...</td>\n",
       "      <td>1.3.6.1.4.1.14519.5.2.1.1706.8040.120880328745...</td>\n",
       "      <td>1.3.6.1.4.1.14519.5.2.1.1706.8040.334001018535...</td>\n",
       "      <td>testdata_hnscc/data/HNSCC-01-0176/structures/c...</td>\n",
       "    </tr>\n",
       "    <tr>\n",
       "      <th>9</th>\n",
       "      <td>1.3.6.1.4.1.14519.5.2.1.1706.8040.323156708629...</td>\n",
       "      <td>6d2934</td>\n",
       "      <td>RTSTRUCT</td>\n",
       "      <td>HNSCC-01-0176</td>\n",
       "      <td>1.3.6.1.4.1.14519.5.2.1.1706.8040.495627765798...</td>\n",
       "      <td>1.3.6.1.4.1.14519.5.2.1.1706.8040.310630617866...</td>\n",
       "      <td>1.3.6.1.4.1.14519.5.2.1.1706.8040.469610481459...</td>\n",
       "      <td>testdata_hnscc/data/HNSCC-01-0176/structures/6...</td>\n",
       "    </tr>\n",
       "    <tr>\n",
       "      <th>12</th>\n",
       "      <td>bones_c4ffd0</td>\n",
       "      <td>bones_c4ffd0</td>\n",
       "      <td>RTSTRUCT</td>\n",
       "      <td>HNSCC-01-0176</td>\n",
       "      <td>bones_c4ffd0</td>\n",
       "      <td>1.3.6.1.4.1.14519.5.2.1.1706.8040.120880328745...</td>\n",
       "      <td>1.3.6.1.4.1.14519.5.2.1.1706.8040.334001018535...</td>\n",
       "      <td>testdata_hnscc/data/HNSCC-01-0176/structures/b...</td>\n",
       "    </tr>\n",
       "    <tr>\n",
       "      <th>13</th>\n",
       "      <td>bones_8e0da9</td>\n",
       "      <td>bones_8e0da9</td>\n",
       "      <td>RTSTRUCT</td>\n",
       "      <td>HNSCC-01-0176</td>\n",
       "      <td>bones_8e0da9</td>\n",
       "      <td>1.3.6.1.4.1.14519.5.2.1.1706.8040.216161306702...</td>\n",
       "      <td>1.3.6.1.4.1.14519.5.2.1.1706.8040.107072817915...</td>\n",
       "      <td>testdata_hnscc/data/HNSCC-01-0176/structures/b...</td>\n",
       "    </tr>\n",
       "    <tr>\n",
       "      <th>14</th>\n",
       "      <td>bones_ec4aec</td>\n",
       "      <td>bones_ec4aec</td>\n",
       "      <td>RTSTRUCT</td>\n",
       "      <td>HNSCC-01-0176</td>\n",
       "      <td>bones_ec4aec</td>\n",
       "      <td>1.3.6.1.4.1.14519.5.2.1.1706.8040.216161306702...</td>\n",
       "      <td>1.3.6.1.4.1.14519.5.2.1.1706.8040.133948865586...</td>\n",
       "      <td>testdata_hnscc/data/HNSCC-01-0176/structures/b...</td>\n",
       "    </tr>\n",
       "    <tr>\n",
       "      <th>15</th>\n",
       "      <td>bones_33c44a</td>\n",
       "      <td>bones_33c44a</td>\n",
       "      <td>RTSTRUCT</td>\n",
       "      <td>HNSCC-01-0176</td>\n",
       "      <td>bones_33c44a</td>\n",
       "      <td>1.3.6.1.4.1.14519.5.2.1.1706.8040.310630617866...</td>\n",
       "      <td>1.3.6.1.4.1.14519.5.2.1.1706.8040.469610481459...</td>\n",
       "      <td>testdata_hnscc/data/HNSCC-01-0176/structures/b...</td>\n",
       "    </tr>\n",
       "    <tr>\n",
       "      <th>19</th>\n",
       "      <td>1.3.6.1.4.1.14519.5.2.1.1706.8040.166429645421...</td>\n",
       "      <td>06e49c</td>\n",
       "      <td>RTSTRUCT</td>\n",
       "      <td>HNSCC-01-0199</td>\n",
       "      <td>1.3.6.1.4.1.14519.5.2.1.1706.8040.243934637013...</td>\n",
       "      <td>1.3.6.1.4.1.14519.5.2.1.1706.8040.870916135819...</td>\n",
       "      <td>1.3.6.1.4.1.14519.5.2.1.1706.8040.240263316258...</td>\n",
       "      <td>testdata_hnscc/data/HNSCC-01-0199/structures/0...</td>\n",
       "    </tr>\n",
       "    <tr>\n",
       "      <th>21</th>\n",
       "      <td>bones_72b0f9</td>\n",
       "      <td>bones_72b0f9</td>\n",
       "      <td>RTSTRUCT</td>\n",
       "      <td>HNSCC-01-0199</td>\n",
       "      <td>bones_72b0f9</td>\n",
       "      <td>1.3.6.1.4.1.14519.5.2.1.1706.8040.870916135819...</td>\n",
       "      <td>1.3.6.1.4.1.14519.5.2.1.1706.8040.240263316258...</td>\n",
       "      <td>testdata_hnscc/data/HNSCC-01-0199/structures/b...</td>\n",
       "    </tr>\n",
       "    <tr>\n",
       "      <th>25</th>\n",
       "      <td>1.3.6.1.4.1.14519.5.2.1.1706.8040.168221415040...</td>\n",
       "      <td>7cdcd9</td>\n",
       "      <td>RTSTRUCT</td>\n",
       "      <td>HNSCC-01-0019</td>\n",
       "      <td>1.3.6.1.4.1.14519.5.2.1.1706.8040.103450757970...</td>\n",
       "      <td>1.3.6.1.4.1.14519.5.2.1.1706.8040.290727775603...</td>\n",
       "      <td>1.3.6.1.4.1.14519.5.2.1.1706.8040.418136430763...</td>\n",
       "      <td>testdata_hnscc/data/HNSCC-01-0019/structures/7...</td>\n",
       "    </tr>\n",
       "    <tr>\n",
       "      <th>27</th>\n",
       "      <td>bones_b281ea</td>\n",
       "      <td>bones_b281ea</td>\n",
       "      <td>RTSTRUCT</td>\n",
       "      <td>HNSCC-01-0019</td>\n",
       "      <td>bones_b281ea</td>\n",
       "      <td>1.3.6.1.4.1.14519.5.2.1.1706.8040.290727775603...</td>\n",
       "      <td>1.3.6.1.4.1.14519.5.2.1.1706.8040.418136430763...</td>\n",
       "      <td>testdata_hnscc/data/HNSCC-01-0019/structures/b...</td>\n",
       "    </tr>\n",
       "  </tbody>\n",
       "</table>\n",
       "</div>"
      ],
      "text/plain": [
       "                                     sop_instance_uid    hashed_uid  modality  \\\n",
       "8   1.3.6.1.4.1.14519.5.2.1.1706.8040.403955456521...        cbbf5b  RTSTRUCT   \n",
       "9   1.3.6.1.4.1.14519.5.2.1.1706.8040.323156708629...        6d2934  RTSTRUCT   \n",
       "12                                       bones_c4ffd0  bones_c4ffd0  RTSTRUCT   \n",
       "13                                       bones_8e0da9  bones_8e0da9  RTSTRUCT   \n",
       "14                                       bones_ec4aec  bones_ec4aec  RTSTRUCT   \n",
       "15                                       bones_33c44a  bones_33c44a  RTSTRUCT   \n",
       "19  1.3.6.1.4.1.14519.5.2.1.1706.8040.166429645421...        06e49c  RTSTRUCT   \n",
       "21                                       bones_72b0f9  bones_72b0f9  RTSTRUCT   \n",
       "25  1.3.6.1.4.1.14519.5.2.1.1706.8040.168221415040...        7cdcd9  RTSTRUCT   \n",
       "27                                       bones_b281ea  bones_b281ea  RTSTRUCT   \n",
       "\n",
       "       patient_id                                         series_uid  \\\n",
       "8   HNSCC-01-0176  1.3.6.1.4.1.14519.5.2.1.1706.8040.276897558084...   \n",
       "9   HNSCC-01-0176  1.3.6.1.4.1.14519.5.2.1.1706.8040.495627765798...   \n",
       "12  HNSCC-01-0176                                       bones_c4ffd0   \n",
       "13  HNSCC-01-0176                                       bones_8e0da9   \n",
       "14  HNSCC-01-0176                                       bones_ec4aec   \n",
       "15  HNSCC-01-0176                                       bones_33c44a   \n",
       "19  HNSCC-01-0199  1.3.6.1.4.1.14519.5.2.1.1706.8040.243934637013...   \n",
       "21  HNSCC-01-0199                                       bones_72b0f9   \n",
       "25  HNSCC-01-0019  1.3.6.1.4.1.14519.5.2.1.1706.8040.103450757970...   \n",
       "27  HNSCC-01-0019                                       bones_b281ea   \n",
       "\n",
       "                                              for_uid  \\\n",
       "8   1.3.6.1.4.1.14519.5.2.1.1706.8040.120880328745...   \n",
       "9   1.3.6.1.4.1.14519.5.2.1.1706.8040.310630617866...   \n",
       "12  1.3.6.1.4.1.14519.5.2.1.1706.8040.120880328745...   \n",
       "13  1.3.6.1.4.1.14519.5.2.1.1706.8040.216161306702...   \n",
       "14  1.3.6.1.4.1.14519.5.2.1.1706.8040.216161306702...   \n",
       "15  1.3.6.1.4.1.14519.5.2.1.1706.8040.310630617866...   \n",
       "19  1.3.6.1.4.1.14519.5.2.1.1706.8040.870916135819...   \n",
       "21  1.3.6.1.4.1.14519.5.2.1.1706.8040.870916135819...   \n",
       "25  1.3.6.1.4.1.14519.5.2.1.1706.8040.290727775603...   \n",
       "27  1.3.6.1.4.1.14519.5.2.1.1706.8040.290727775603...   \n",
       "\n",
       "                          referenced_sop_instance_uid  \\\n",
       "8   1.3.6.1.4.1.14519.5.2.1.1706.8040.334001018535...   \n",
       "9   1.3.6.1.4.1.14519.5.2.1.1706.8040.469610481459...   \n",
       "12  1.3.6.1.4.1.14519.5.2.1.1706.8040.334001018535...   \n",
       "13  1.3.6.1.4.1.14519.5.2.1.1706.8040.107072817915...   \n",
       "14  1.3.6.1.4.1.14519.5.2.1.1706.8040.133948865586...   \n",
       "15  1.3.6.1.4.1.14519.5.2.1.1706.8040.469610481459...   \n",
       "19  1.3.6.1.4.1.14519.5.2.1.1706.8040.240263316258...   \n",
       "21  1.3.6.1.4.1.14519.5.2.1.1706.8040.240263316258...   \n",
       "25  1.3.6.1.4.1.14519.5.2.1.1706.8040.418136430763...   \n",
       "27  1.3.6.1.4.1.14519.5.2.1.1706.8040.418136430763...   \n",
       "\n",
       "                                                 path  \n",
       "8   testdata_hnscc/data/HNSCC-01-0176/structures/c...  \n",
       "9   testdata_hnscc/data/HNSCC-01-0176/structures/6...  \n",
       "12  testdata_hnscc/data/HNSCC-01-0176/structures/b...  \n",
       "13  testdata_hnscc/data/HNSCC-01-0176/structures/b...  \n",
       "14  testdata_hnscc/data/HNSCC-01-0176/structures/b...  \n",
       "15  testdata_hnscc/data/HNSCC-01-0176/structures/b...  \n",
       "19  testdata_hnscc/data/HNSCC-01-0199/structures/0...  \n",
       "21  testdata_hnscc/data/HNSCC-01-0199/structures/b...  \n",
       "25  testdata_hnscc/data/HNSCC-01-0019/structures/7...  \n",
       "27  testdata_hnscc/data/HNSCC-01-0019/structures/b...  "
      ]
     },
     "execution_count": 5,
     "metadata": {},
     "output_type": "execute_result"
    }
   ],
   "source": [
    "df = pydicer.read_converted_data()\n",
    "df[df.modality==\"RTSTRUCT\"]"
   ]
  },
  {
   "cell_type": "markdown",
   "metadata": {},
   "source": [
    "And we can also run the [visualise module](https://australiancancerdatanetwork.github.io/pydicer/visualise.html). Use the `force=False` flag to ensure that only the newly\n",
    "generated objects are visualised"
   ]
  },
  {
   "cell_type": "code",
   "execution_count": 6,
   "metadata": {
    "execution": {
     "iopub.execute_input": "2025-03-13T20:40:45.039634Z",
     "iopub.status.busy": "2025-03-13T20:40:45.039410Z",
     "iopub.status.idle": "2025-03-13T20:41:31.286297Z",
     "shell.execute_reply": "2025-03-13T20:41:31.285654Z"
    }
   },
   "outputs": [
    {
     "name": "stderr",
     "output_type": "stream",
     "text": [
      "\r",
      "  0%|          | 0/24 [00:00<?, ?objects/s, visualise]"
     ]
    },
    {
     "name": "stderr",
     "output_type": "stream",
     "text": [
      "\r",
      " 38%|███▊      | 9/24 [00:09<00:15,  1.04s/objects, visualise]"
     ]
    },
    {
     "name": "stderr",
     "output_type": "stream",
     "text": [
      "\r",
      " 42%|████▏     | 10/24 [00:19<00:31,  2.26s/objects, visualise]"
     ]
    },
    {
     "name": "stderr",
     "output_type": "stream",
     "text": [
      "\r",
      " 46%|████▌     | 11/24 [00:19<00:25,  1.99s/objects, visualise]"
     ]
    },
    {
     "name": "stderr",
     "output_type": "stream",
     "text": [
      "\r",
      " 50%|█████     | 12/24 [00:20<00:20,  1.68s/objects, visualise]"
     ]
    },
    {
     "name": "stderr",
     "output_type": "stream",
     "text": [
      "\r",
      " 54%|█████▍    | 13/24 [00:20<00:15,  1.39s/objects, visualise]"
     ]
    },
    {
     "name": "stderr",
     "output_type": "stream",
     "text": [
      "\r",
      " 58%|█████▊    | 14/24 [00:21<00:12,  1.21s/objects, visualise]"
     ]
    },
    {
     "name": "stderr",
     "output_type": "stream",
     "text": [
      "\r",
      " 67%|██████▋   | 16/24 [00:22<00:07,  1.06objects/s, visualise]"
     ]
    },
    {
     "name": "stderr",
     "output_type": "stream",
     "text": [
      "\r",
      " 75%|███████▌  | 18/24 [00:35<00:18,  3.00s/objects, visualise]"
     ]
    },
    {
     "name": "stderr",
     "output_type": "stream",
     "text": [
      "\r",
      " 79%|███████▉  | 19/24 [00:36<00:12,  2.52s/objects, visualise]"
     ]
    },
    {
     "name": "stderr",
     "output_type": "stream",
     "text": [
      "\r",
      " 88%|████████▊ | 21/24 [00:37<00:05,  1.76s/objects, visualise]"
     ]
    },
    {
     "name": "stderr",
     "output_type": "stream",
     "text": [
      "\r",
      " 96%|█████████▌| 23/24 [00:45<00:02,  2.63s/objects, visualise]"
     ]
    },
    {
     "name": "stderr",
     "output_type": "stream",
     "text": [
      "\r",
      "100%|██████████| 24/24 [00:46<00:00,  2.22s/objects, visualise]"
     ]
    },
    {
     "name": "stderr",
     "output_type": "stream",
     "text": [
      "\r",
      "100%|██████████| 24/24 [00:46<00:00,  1.93s/objects, visualise]"
     ]
    },
    {
     "name": "stderr",
     "output_type": "stream",
     "text": [
      "\n"
     ]
    }
   ],
   "source": [
    "pydicer.visualise.visualise(force=False)"
   ]
  },
  {
   "cell_type": "markdown",
   "metadata": {},
   "source": [
    "Take a look inside the `testdata_hnscc/data` directory for the new structure set folders. See the\n",
    "visualised snapshot to check that our bone segmentation worked!"
   ]
  },
  {
   "cell_type": "markdown",
   "metadata": {},
   "source": [
    "## Generate Image Objects\n",
    "\n",
    "In this example, we:\n",
    "- Iterate over each CT image in our dataset\n",
    "- Load the CT image using SimpleITK, and apply a Laplacian Sharpening image filter to it\n",
    "- Save the image as a new image object"
   ]
  },
  {
   "cell_type": "code",
   "execution_count": 7,
   "metadata": {
    "execution": {
     "iopub.execute_input": "2025-03-13T20:41:31.289102Z",
     "iopub.status.busy": "2025-03-13T20:41:31.288722Z",
     "iopub.status.idle": "2025-03-13T20:41:48.779636Z",
     "shell.execute_reply": "2025-03-13T20:41:48.778965Z"
    }
   },
   "outputs": [
    {
     "name": "stdout",
     "output_type": "stream",
     "text": [
      "Saving image with ID: sharp_c4ffd0\n"
     ]
    },
    {
     "name": "stdout",
     "output_type": "stream",
     "text": [
      "Saving image with ID: sharp_8e0da9\n"
     ]
    },
    {
     "name": "stdout",
     "output_type": "stream",
     "text": [
      "Saving image with ID: sharp_ec4aec\n"
     ]
    },
    {
     "name": "stdout",
     "output_type": "stream",
     "text": [
      "Saving image with ID: sharp_33c44a\n"
     ]
    },
    {
     "name": "stdout",
     "output_type": "stream",
     "text": [
      "Saving image with ID: sharp_72b0f9\n"
     ]
    },
    {
     "name": "stdout",
     "output_type": "stream",
     "text": [
      "Saving image with ID: sharp_b281ea\n"
     ]
    }
   ],
   "source": [
    "df = pydicer.read_converted_data()\n",
    "df_cts = df[df[\"modality\"] == \"CT\"]\n",
    "\n",
    "for idx, ct_row in df_cts.iterrows():\n",
    "\n",
    "    # Load the image\n",
    "    img = read_simple_itk_image(ct_row)\n",
    "\n",
    "    # Sharpen the image\n",
    "    img_sharp = sitk.LaplacianSharpening(img)\n",
    "\n",
    "    # Save the sharpened image\n",
    "    img_id = f\"sharp_{ct_row.hashed_uid}\"\n",
    "    \n",
    "    try:\n",
    "        print(f\"Saving image with ID: {img_id}\")\n",
    "        pydicer.add_image_object(\n",
    "            img_sharp,\n",
    "            img_id,\n",
    "            ct_row.modality,\n",
    "            ct_row.patient_id,\n",
    "            for_uid=ct_row.for_uid\n",
    "        )\n",
    "    except SystemError:\n",
    "        print(f\"Image {img_id} already exists!\")"
   ]
  },
  {
   "cell_type": "markdown",
   "metadata": {},
   "source": [
    "Now we can visualise the images and produce snapshots once more. Find the sharpened images in the\n",
    "working directory. Can you see the difference between the sharpened CT and the original?"
   ]
  },
  {
   "cell_type": "code",
   "execution_count": 8,
   "metadata": {
    "execution": {
     "iopub.execute_input": "2025-03-13T20:41:48.782950Z",
     "iopub.status.busy": "2025-03-13T20:41:48.782407Z",
     "iopub.status.idle": "2025-03-13T20:41:51.010660Z",
     "shell.execute_reply": "2025-03-13T20:41:51.009978Z"
    }
   },
   "outputs": [
    {
     "name": "stderr",
     "output_type": "stream",
     "text": [
      "\r",
      "  0%|          | 0/30 [00:00<?, ?objects/s, visualise]"
     ]
    },
    {
     "name": "stderr",
     "output_type": "stream",
     "text": [
      "/home/runner/.cache/pypoetry/virtualenvs/pydicer-pNPN9n62-py3.9/lib/python3.9/site-packages/pydicom/valuerep.py:443: UserWarning: Invalid value for VR DA: 'NaT'.\n",
      "  warnings.warn(msg)\n",
      "\r",
      " 50%|█████     | 15/30 [00:00<00:00, 26.53objects/s, visualise]"
     ]
    },
    {
     "name": "stderr",
     "output_type": "stream",
     "text": [
      "/home/runner/.cache/pypoetry/virtualenvs/pydicer-pNPN9n62-py3.9/lib/python3.9/site-packages/pydicom/valuerep.py:443: UserWarning: Invalid value for VR DA: 'NaT'.\n",
      "  warnings.warn(msg)\n"
     ]
    },
    {
     "name": "stderr",
     "output_type": "stream",
     "text": [
      "/home/runner/.cache/pypoetry/virtualenvs/pydicer-pNPN9n62-py3.9/lib/python3.9/site-packages/pydicom/valuerep.py:443: UserWarning: Invalid value for VR DA: 'NaT'.\n",
      "  warnings.warn(msg)\n"
     ]
    },
    {
     "name": "stderr",
     "output_type": "stream",
     "text": [
      "/home/runner/.cache/pypoetry/virtualenvs/pydicer-pNPN9n62-py3.9/lib/python3.9/site-packages/pydicom/valuerep.py:443: UserWarning: Invalid value for VR DA: 'NaT'.\n",
      "  warnings.warn(msg)\n",
      "\r",
      " 60%|██████    | 18/30 [00:01<00:01, 10.87objects/s, visualise]"
     ]
    },
    {
     "name": "stderr",
     "output_type": "stream",
     "text": [
      "/home/runner/.cache/pypoetry/virtualenvs/pydicer-pNPN9n62-py3.9/lib/python3.9/site-packages/pydicom/valuerep.py:443: UserWarning: Invalid value for VR DA: 'NaT'.\n",
      "  warnings.warn(msg)\n",
      "\r",
      " 80%|████████  | 24/30 [00:01<00:00, 11.82objects/s, visualise]"
     ]
    },
    {
     "name": "stderr",
     "output_type": "stream",
     "text": [
      "/home/runner/.cache/pypoetry/virtualenvs/pydicer-pNPN9n62-py3.9/lib/python3.9/site-packages/pydicom/valuerep.py:443: UserWarning: Invalid value for VR DA: 'NaT'.\n",
      "  warnings.warn(msg)\n",
      "\r",
      "100%|██████████| 30/30 [00:02<00:00, 13.13objects/s, visualise]"
     ]
    },
    {
     "name": "stderr",
     "output_type": "stream",
     "text": [
      "\r",
      "100%|██████████| 30/30 [00:02<00:00, 13.54objects/s, visualise]"
     ]
    },
    {
     "name": "stderr",
     "output_type": "stream",
     "text": [
      "\n"
     ]
    }
   ],
   "source": [
    "pydicer.visualise.visualise(force=False)"
   ]
  },
  {
   "cell_type": "code",
   "execution_count": null,
   "metadata": {},
   "outputs": [],
   "source": []
  }
 ],
 "metadata": {
  "interpreter": {
   "hash": "814af119db7f8f2860617be3dcd1d37c560587d11c65bd58c45b1679d3ee6ea4"
  },
  "kernelspec": {
   "display_name": "Python 3.8.0 64-bit ('pydicer': pyenv)",
   "language": "python",
   "name": "python3"
  },
  "language_info": {
   "codemirror_mode": {
    "name": "ipython",
    "version": 3
   },
   "file_extension": ".py",
   "mimetype": "text/x-python",
   "name": "python",
   "nbconvert_exporter": "python",
   "pygments_lexer": "ipython3",
   "version": "3.9.21"
  }
 },
 "nbformat": 4,
 "nbformat_minor": 2
}
