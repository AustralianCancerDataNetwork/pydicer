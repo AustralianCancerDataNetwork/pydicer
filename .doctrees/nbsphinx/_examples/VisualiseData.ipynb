{
 "cells": [
  {
   "cell_type": "markdown",
   "metadata": {},
   "source": [
    "# Visualise Data\n",
    "\n",
    "[![Open In Colab](https://colab.research.google.com/assets/colab-badge.svg)](https://colab.research.google.com/github/AustralianCancerDataNetwork/pydicer/blob/main/examples/VisualiseData.ipynb)\n",
    "\n",
    "PyDicer's [visualise module](https://australiancancerdatanetwork.github.io/pydicer/visualise.html) will produce cross-sections of data objects and store them\n",
    "in `.png` format within the data object directory. This is particularly useful for fast inspection\n",
    "of the data to ensure that nothing has gone wrong during conversion.\n",
    "\n",
    "The visualise module can be run at any time after conversion. If you are using advanced features\n",
    "of PyDicer, such as [auto-segmentation inference](https://australiancancerdatanetwork.github.io/pydicer/_examples/AutoSegmentation.html) and [object generation](https://australiancancerdatanetwork.github.io/pydicer/_examples/ObjectGeneration.html), you can run the\n",
    "visualise module following the generation of the new data objects to produce the cross-section\n",
    "`.png` files."
   ]
  },
  {
   "cell_type": "code",
   "execution_count": 1,
   "metadata": {
    "execution": {
     "iopub.execute_input": "2024-02-02T13:08:34.317088Z",
     "iopub.status.busy": "2024-02-02T13:08:34.316893Z",
     "iopub.status.idle": "2024-02-02T13:08:35.306086Z",
     "shell.execute_reply": "2024-02-02T13:08:35.305393Z"
    }
   },
   "outputs": [],
   "source": [
    "try:\n",
    "    from pydicer import PyDicer\n",
    "except ImportError:\n",
    "    !pip install pydicer\n",
    "    from pydicer import PyDicer\n",
    "\n",
    "from pathlib import Path\n",
    "\n",
    "from pydicer.utils import fetch_converted_test_data"
   ]
  },
  {
   "cell_type": "markdown",
   "metadata": {},
   "source": [
    "## Setup PyDicer\n",
    "\n",
    "HNSCC data prepared for this example are downloaded and stored into a `testdata_hnscc` directory.\n",
    "We will use this for our PyDicer working directory. We also initialise our PyDicer object."
   ]
  },
  {
   "cell_type": "code",
   "execution_count": 2,
   "metadata": {
    "execution": {
     "iopub.execute_input": "2024-02-02T13:08:35.309256Z",
     "iopub.status.busy": "2024-02-02T13:08:35.308803Z",
     "iopub.status.idle": "2024-02-02T13:08:35.313246Z",
     "shell.execute_reply": "2024-02-02T13:08:35.312645Z"
    }
   },
   "outputs": [
    {
     "name": "stderr",
     "output_type": "stream",
     "text": [
      "Working directory %s aready exists, won't download test data.\n"
     ]
    }
   ],
   "source": [
    "working_directory = fetch_converted_test_data(\"./testdata_hnscc\", dataset=\"HNSCC\")\n",
    "\n",
    "pydicer = PyDicer(working_directory)"
   ]
  },
  {
   "cell_type": "markdown",
   "metadata": {},
   "source": [
    "## Visualise Data\n",
    "\n",
    "We simply call the [visualise](https://australiancancerdatanetwork.github.io/pydicer/visualise.html#pydicer.visualise.data.VisualiseData.visualise) function of the `visualise` module to produce the cross-sections.\n",
    "\n",
    "Inspect some of the data object directories in `testdata_hnscc/data` and look for the `.png`\n",
    "cross-sections. The `{hashed_uid}` in files named `vis_{hashed_uid}.png`  refers to a UID hash\n",
    "linking to the image being visualised. Visualisations are produced for:\n",
    "- Images\n",
    "- RT Structure Sets\n",
    "- RT Dose Grids"
   ]
  },
  {
   "cell_type": "code",
   "execution_count": 3,
   "metadata": {
    "execution": {
     "iopub.execute_input": "2024-02-02T13:08:35.315959Z",
     "iopub.status.busy": "2024-02-02T13:08:35.315497Z",
     "iopub.status.idle": "2024-02-02T13:10:41.942610Z",
     "shell.execute_reply": "2024-02-02T13:10:41.941922Z"
    }
   },
   "outputs": [
    {
     "name": "stderr",
     "output_type": "stream",
     "text": [
      "\r",
      "  0%|          | 0/30 [00:00<?, ?objects/s, visualise]"
     ]
    },
    {
     "name": "stderr",
     "output_type": "stream",
     "text": [
      "\r",
      "  3%|▎         | 1/30 [00:00<00:12,  2.39objects/s, visualise]"
     ]
    },
    {
     "name": "stderr",
     "output_type": "stream",
     "text": [
      "\r",
      "  7%|▋         | 2/30 [00:09<02:26,  5.22s/objects, visualise]"
     ]
    },
    {
     "name": "stderr",
     "output_type": "stream",
     "text": [
      "\r",
      " 10%|█         | 3/30 [00:16<02:46,  6.17s/objects, visualise]"
     ]
    },
    {
     "name": "stderr",
     "output_type": "stream",
     "text": [
      "\r",
      " 13%|█▎        | 4/30 [00:25<03:06,  7.18s/objects, visualise]"
     ]
    },
    {
     "name": "stderr",
     "output_type": "stream",
     "text": [
      "\r",
      " 17%|█▋        | 5/30 [00:25<02:00,  4.81s/objects, visualise]"
     ]
    },
    {
     "name": "stderr",
     "output_type": "stream",
     "text": [
      "/home/runner/.cache/pypoetry/virtualenvs/pydicer-pNPN9n62-py3.9/lib/python3.9/site-packages/pydicom/valuerep.py:443: UserWarning: Invalid value for VR DA: 'NaT'.\n",
      "  warnings.warn(msg)\n",
      "\r",
      " 20%|██        | 6/30 [00:26<01:20,  3.34s/objects, visualise]"
     ]
    },
    {
     "name": "stderr",
     "output_type": "stream",
     "text": [
      "\r",
      " 23%|██▎       | 7/30 [00:26<00:55,  2.39s/objects, visualise]"
     ]
    },
    {
     "name": "stderr",
     "output_type": "stream",
     "text": [
      "\r",
      " 27%|██▋       | 8/30 [00:39<02:07,  5.81s/objects, visualise]"
     ]
    },
    {
     "name": "stderr",
     "output_type": "stream",
     "text": [
      "\r",
      " 30%|███       | 9/30 [00:51<02:40,  7.62s/objects, visualise]"
     ]
    },
    {
     "name": "stderr",
     "output_type": "stream",
     "text": [
      "\r",
      " 33%|███▎      | 10/30 [01:04<03:06,  9.31s/objects, visualise]"
     ]
    },
    {
     "name": "stderr",
     "output_type": "stream",
     "text": [
      "\r",
      " 37%|███▋      | 11/30 [01:05<02:06,  6.68s/objects, visualise]"
     ]
    },
    {
     "name": "stderr",
     "output_type": "stream",
     "text": [
      "/home/runner/.cache/pypoetry/virtualenvs/pydicer-pNPN9n62-py3.9/lib/python3.9/site-packages/pydicom/valuerep.py:443: UserWarning: Invalid value for VR DA: 'NaT'.\n",
      "  warnings.warn(msg)\n",
      "\r",
      " 40%|████      | 12/30 [01:05<01:26,  4.79s/objects, visualise]"
     ]
    },
    {
     "name": "stderr",
     "output_type": "stream",
     "text": [
      "\r",
      " 43%|████▎     | 13/30 [01:05<00:58,  3.45s/objects, visualise]"
     ]
    },
    {
     "name": "stderr",
     "output_type": "stream",
     "text": [
      "\r",
      " 47%|████▋     | 14/30 [01:06<00:39,  2.49s/objects, visualise]"
     ]
    },
    {
     "name": "stderr",
     "output_type": "stream",
     "text": [
      "\r",
      " 50%|█████     | 15/30 [01:06<00:27,  1.82s/objects, visualise]"
     ]
    },
    {
     "name": "stderr",
     "output_type": "stream",
     "text": [
      "\r",
      " 53%|█████▎    | 16/30 [01:06<00:19,  1.39s/objects, visualise]"
     ]
    },
    {
     "name": "stderr",
     "output_type": "stream",
     "text": [
      "\r",
      " 57%|█████▋    | 17/30 [01:16<00:49,  3.79s/objects, visualise]"
     ]
    },
    {
     "name": "stderr",
     "output_type": "stream",
     "text": [
      "\r",
      " 60%|██████    | 18/30 [01:25<01:07,  5.58s/objects, visualise]"
     ]
    },
    {
     "name": "stderr",
     "output_type": "stream",
     "text": [
      "\r",
      " 63%|██████▎   | 19/30 [01:34<01:12,  6.56s/objects, visualise]"
     ]
    },
    {
     "name": "stderr",
     "output_type": "stream",
     "text": [
      "\r",
      " 67%|██████▋   | 20/30 [01:44<01:13,  7.37s/objects, visualise]"
     ]
    },
    {
     "name": "stderr",
     "output_type": "stream",
     "text": [
      "\r",
      " 70%|███████   | 21/30 [01:53<01:12,  8.01s/objects, visualise]"
     ]
    },
    {
     "name": "stderr",
     "output_type": "stream",
     "text": [
      "\r",
      " 73%|███████▎  | 22/30 [02:03<01:08,  8.53s/objects, visualise]"
     ]
    },
    {
     "name": "stderr",
     "output_type": "stream",
     "text": [
      "\r",
      " 77%|███████▋  | 23/30 [02:03<00:43,  6.15s/objects, visualise]"
     ]
    },
    {
     "name": "stderr",
     "output_type": "stream",
     "text": [
      "\r",
      " 80%|████████  | 24/30 [02:04<00:26,  4.42s/objects, visualise]"
     ]
    },
    {
     "name": "stderr",
     "output_type": "stream",
     "text": [
      "\r",
      " 83%|████████▎ | 25/30 [02:04<00:15,  3.19s/objects, visualise]"
     ]
    },
    {
     "name": "stderr",
     "output_type": "stream",
     "text": [
      "\r",
      " 87%|████████▋ | 26/30 [02:05<00:09,  2.44s/objects, visualise]"
     ]
    },
    {
     "name": "stderr",
     "output_type": "stream",
     "text": [
      "/home/runner/.cache/pypoetry/virtualenvs/pydicer-pNPN9n62-py3.9/lib/python3.9/site-packages/pydicom/valuerep.py:443: UserWarning: Invalid value for VR DA: 'NaT'.\n",
      "  warnings.warn(msg)\n",
      "\r",
      " 90%|█████████ | 27/30 [02:05<00:05,  1.81s/objects, visualise]"
     ]
    },
    {
     "name": "stderr",
     "output_type": "stream",
     "text": [
      "/home/runner/.cache/pypoetry/virtualenvs/pydicer-pNPN9n62-py3.9/lib/python3.9/site-packages/pydicom/valuerep.py:443: UserWarning: Invalid value for VR DA: 'NaT'.\n",
      "  warnings.warn(msg)\n",
      "\r",
      " 93%|█████████▎| 28/30 [02:05<00:02,  1.35s/objects, visualise]"
     ]
    },
    {
     "name": "stderr",
     "output_type": "stream",
     "text": [
      "/home/runner/.cache/pypoetry/virtualenvs/pydicer-pNPN9n62-py3.9/lib/python3.9/site-packages/pydicom/valuerep.py:443: UserWarning: Invalid value for VR DA: 'NaT'.\n",
      "  warnings.warn(msg)\n",
      "\r",
      " 97%|█████████▋| 29/30 [02:06<00:01,  1.02s/objects, visualise]"
     ]
    },
    {
     "name": "stderr",
     "output_type": "stream",
     "text": [
      "/home/runner/.cache/pypoetry/virtualenvs/pydicer-pNPN9n62-py3.9/lib/python3.9/site-packages/pydicom/valuerep.py:443: UserWarning: Invalid value for VR DA: 'NaT'.\n",
      "  warnings.warn(msg)\n",
      "\r",
      "100%|██████████| 30/30 [02:06<00:00,  1.19objects/s, visualise]"
     ]
    },
    {
     "name": "stderr",
     "output_type": "stream",
     "text": [
      "\r",
      "100%|██████████| 30/30 [02:06<00:00,  4.22s/objects, visualise]"
     ]
    },
    {
     "name": "stderr",
     "output_type": "stream",
     "text": [
      "\n"
     ]
    }
   ],
   "source": [
    "pydicer.visualise.visualise()"
   ]
  },
  {
   "cell_type": "markdown",
   "metadata": {},
   "source": [
    "### Run for a single patient\n",
    "\n",
    "You can run the visualisation for only a single patient (or list of specific patients) by providing\n",
    "the `patient` argument."
   ]
  },
  {
   "cell_type": "code",
   "execution_count": 4,
   "metadata": {
    "execution": {
     "iopub.execute_input": "2024-02-02T13:10:41.945087Z",
     "iopub.status.busy": "2024-02-02T13:10:41.944888Z",
     "iopub.status.idle": "2024-02-02T13:11:21.630326Z",
     "shell.execute_reply": "2024-02-02T13:11:21.629717Z"
    }
   },
   "outputs": [
    {
     "name": "stderr",
     "output_type": "stream",
     "text": [
      "\r",
      "  0%|          | 0/6 [00:00<?, ?objects/s, visualise]"
     ]
    },
    {
     "name": "stderr",
     "output_type": "stream",
     "text": [
      "\r",
      " 17%|█▋        | 1/6 [00:00<00:02,  2.26objects/s, visualise]"
     ]
    },
    {
     "name": "stderr",
     "output_type": "stream",
     "text": [
      "\r",
      " 33%|███▎      | 2/6 [00:13<00:31,  7.84s/objects, visualise]"
     ]
    },
    {
     "name": "stderr",
     "output_type": "stream",
     "text": [
      "\r",
      " 50%|█████     | 3/6 [00:25<00:29,  9.73s/objects, visualise]"
     ]
    },
    {
     "name": "stderr",
     "output_type": "stream",
     "text": [
      "\r",
      " 67%|██████▋   | 4/6 [00:38<00:22, 11.03s/objects, visualise]"
     ]
    },
    {
     "name": "stderr",
     "output_type": "stream",
     "text": [
      "\r",
      " 83%|████████▎ | 5/6 [00:39<00:07,  7.32s/objects, visualise]"
     ]
    },
    {
     "name": "stderr",
     "output_type": "stream",
     "text": [
      "/home/runner/.cache/pypoetry/virtualenvs/pydicer-pNPN9n62-py3.9/lib/python3.9/site-packages/pydicom/valuerep.py:443: UserWarning: Invalid value for VR DA: 'NaT'.\n",
      "  warnings.warn(msg)\n",
      "\r",
      "100%|██████████| 6/6 [00:39<00:00,  4.99s/objects, visualise]"
     ]
    },
    {
     "name": "stderr",
     "output_type": "stream",
     "text": [
      "\r",
      "100%|██████████| 6/6 [00:39<00:00,  6.61s/objects, visualise]"
     ]
    },
    {
     "name": "stderr",
     "output_type": "stream",
     "text": [
      "\n"
     ]
    }
   ],
   "source": [
    "pydicer.visualise.visualise(patient=\"HNSCC-01-0199\")"
   ]
  },
  {
   "cell_type": "markdown",
   "metadata": {},
   "source": [
    "### Avoid Re-generating Visualisation\n",
    "\n",
    "If you've added more data to your dataset, and want to avoid re-generating visualisations, set the\n",
    "`force` argument to `False`."
   ]
  },
  {
   "cell_type": "code",
   "execution_count": 5,
   "metadata": {
    "execution": {
     "iopub.execute_input": "2024-02-02T13:11:21.632984Z",
     "iopub.status.busy": "2024-02-02T13:11:21.632617Z",
     "iopub.status.idle": "2024-02-02T13:11:21.720784Z",
     "shell.execute_reply": "2024-02-02T13:11:21.720167Z"
    }
   },
   "outputs": [
    {
     "name": "stderr",
     "output_type": "stream",
     "text": [
      "\r",
      "  0%|          | 0/30 [00:00<?, ?objects/s, visualise]"
     ]
    },
    {
     "name": "stderr",
     "output_type": "stream",
     "text": [
      "\r",
      "100%|██████████| 30/30 [00:00<00:00, 390.94objects/s, visualise]"
     ]
    },
    {
     "name": "stderr",
     "output_type": "stream",
     "text": [
      "\n"
     ]
    }
   ],
   "source": [
    "pydicer.visualise.visualise(force=False)"
   ]
  },
  {
   "cell_type": "code",
   "execution_count": null,
   "metadata": {},
   "outputs": [],
   "source": []
  }
 ],
 "metadata": {
  "interpreter": {
   "hash": "814af119db7f8f2860617be3dcd1d37c560587d11c65bd58c45b1679d3ee6ea4"
  },
  "kernelspec": {
   "display_name": "Python 3.8.0 64-bit ('pydicer': pyenv)",
   "language": "python",
   "name": "python3"
  },
  "language_info": {
   "codemirror_mode": {
    "name": "ipython",
    "version": 3
   },
   "file_extension": ".py",
   "mimetype": "text/x-python",
   "name": "python",
   "nbconvert_exporter": "python",
   "pygments_lexer": "ipython3",
   "version": "3.9.18"
  }
 },
 "nbformat": 4,
 "nbformat_minor": 2
}
