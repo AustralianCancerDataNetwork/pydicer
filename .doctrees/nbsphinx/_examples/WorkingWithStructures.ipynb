{
 "cells": [
  {
   "attachments": {},
   "cell_type": "markdown",
   "metadata": {},
   "source": [
    "# Working with Structures\n",
    "\n",
    "In PyDicer, structure sets which have been converted from the DICOM `RTSTRUCT` modality are stored\n",
    "within the directory structure. One common issue when working with real world datasets is that\n",
    "structure names are often inconsistent requiring standardisation of names prior to analysing data.\n",
    "\n",
    "In PyDicer, structure name standardisation is achieved by defining structure mapping dictionaries\n",
    "which can be stored globally (applied to all structure sets) or locally (specific mapping per\n",
    "structure set or per patient).\n",
    "\n",
    "In this guide we present some examples on how to define such structure name mappings and will\n",
    "introduce the `StructureSet` class which simplifies loading and working with structure objects."
   ]
  },
  {
   "cell_type": "code",
   "execution_count": 1,
   "metadata": {
    "execution": {
     "iopub.execute_input": "2023-12-13T06:38:20.138267Z",
     "iopub.status.busy": "2023-12-13T06:38:20.137669Z",
     "iopub.status.idle": "2023-12-13T06:38:21.194612Z",
     "shell.execute_reply": "2023-12-13T06:38:21.194003Z"
    }
   },
   "outputs": [],
   "source": [
    "try:\n",
    "    from pydicer import PyDicer\n",
    "except ImportError:\n",
    "    !pip install pydicer\n",
    "    from pydicer import PyDicer\n",
    "\n",
    "from pathlib import Path\n",
    "\n",
    "import SimpleITK as sitk\n",
    "\n",
    "from pydicer.utils import fetch_converted_test_data, add_structure_name_mapping\n",
    "from pydicer.dataset.structureset import StructureSet"
   ]
  },
  {
   "cell_type": "markdown",
   "metadata": {},
   "source": [
    "## Setup PyDicer\n",
    "\n",
    "Here we load the LCTSC data which has already been converted. This is downloaded into the\n",
    "`testdata_lctsc` directory. We also initialise a `PyDicer` object."
   ]
  },
  {
   "cell_type": "code",
   "execution_count": 2,
   "metadata": {
    "execution": {
     "iopub.execute_input": "2023-12-13T06:38:21.198011Z",
     "iopub.status.busy": "2023-12-13T06:38:21.197372Z",
     "iopub.status.idle": "2023-12-13T06:38:21.202300Z",
     "shell.execute_reply": "2023-12-13T06:38:21.201780Z"
    }
   },
   "outputs": [
    {
     "name": "stderr",
     "output_type": "stream",
     "text": [
      "Working directory %s aready exists, won't download test data.\n"
     ]
    }
   ],
   "source": [
    "working_directory = fetch_converted_test_data(\"./testdata_lctsc\", dataset=\"LCTSC\")\n",
    "\n",
    "pydicer = PyDicer(working_directory)"
   ]
  },
  {
   "cell_type": "markdown",
   "metadata": {},
   "source": [
    "## Load Structures with `StructureSet`\n",
    "\n",
    "With the `StructureSet`, we can load structures in a structure set, with the structure name being\n",
    "the key and the `SimpleITK` Image of the mask as the value.\n",
    "\n",
    "In the following cell, we create a `StructureSet` object, determine the names of the structures in\n",
    "that structure set, and iterate over each structure, printing the sum of all voxel values in the\n",
    "mask (for demonstration purposes)."
   ]
  },
  {
   "cell_type": "code",
   "execution_count": 3,
   "metadata": {
    "execution": {
     "iopub.execute_input": "2023-12-13T06:38:21.204961Z",
     "iopub.status.busy": "2023-12-13T06:38:21.204452Z",
     "iopub.status.idle": "2023-12-13T06:38:21.260326Z",
     "shell.execute_reply": "2023-12-13T06:38:21.259615Z"
    }
   },
   "outputs": [
    {
     "name": "stdout",
     "output_type": "stream",
     "text": [
      "pydicer.dataset.structureset - WARNING - No mapping file found with id default\n"
     ]
    },
    {
     "name": "stdout",
     "output_type": "stream",
     "text": [
      "Structure names: ['Lung_R', 'SpinalCord', 'Heart', 'Lung_L', 'Esophagus']\n",
      "Mask voxel sum for Lung_R: 68074\n",
      "Mask voxel sum for SpinalCord: 4157\n",
      "Mask voxel sum for Heart: 23857\n",
      "Mask voxel sum for Lung_L: 52528\n",
      "Mask voxel sum for Esophagus: 1151\n"
     ]
    }
   ],
   "source": [
    "# Load the converted data\n",
    "df = pydicer.read_converted_data()\n",
    "df_structs = df[df.modality==\"RTSTRUCT\"]\n",
    "\n",
    "# Create a StructureSet for the first row\n",
    "struct_row = df_structs.iloc[0]\n",
    "structure_set = StructureSet(struct_row)\n",
    "\n",
    "structure_names = structure_set.structure_names\n",
    "print(f\"Structure names: {structure_names}\")\n",
    "\n",
    "for structure in structure_names:\n",
    "    mask = sitk.GetArrayFromImage(structure_set[structure])\n",
    "    print(f\"Mask voxel sum for {structure}: {mask.sum()}\")"
   ]
  },
  {
   "cell_type": "markdown",
   "metadata": {},
   "source": [
    "In the next cell, we iterate over all our structure sets, and print out the names of the structures\n",
    "available. Notice that for some structure sets, structures aren't named consistently. In the next\n",
    "section we will resolve this with a structure name mapping."
   ]
  },
  {
   "cell_type": "code",
   "execution_count": 4,
   "metadata": {
    "execution": {
     "iopub.execute_input": "2023-12-13T06:38:21.263055Z",
     "iopub.status.busy": "2023-12-13T06:38:21.262661Z",
     "iopub.status.idle": "2023-12-13T06:38:21.296148Z",
     "shell.execute_reply": "2023-12-13T06:38:21.295453Z"
    }
   },
   "outputs": [
    {
     "name": "stdout",
     "output_type": "stream",
     "text": [
      "pydicer.dataset.structureset - WARNING - No mapping file found with id default\n"
     ]
    },
    {
     "name": "stdout",
     "output_type": "stream",
     "text": [
      "Patient: LCTSC-Train-S1-007, Structure names: ['Lung_R', 'SpinalCord', 'Heart', 'Lung_L', 'Esophagus']\n",
      "pydicer.dataset.structureset - WARNING - No mapping file found with id default\n"
     ]
    },
    {
     "name": "stdout",
     "output_type": "stream",
     "text": [
      "Patient: LCTSC-Train-S1-008, Structure names: ['Lung_R', 'SpinalCord', 'Heart', 'Lung_L', 'Esophagus']\n",
      "pydicer.dataset.structureset - WARNING - No mapping file found with id default\n"
     ]
    },
    {
     "name": "stdout",
     "output_type": "stream",
     "text": [
      "Patient: LCTSC-Train-S1-002, Structure names: ['SpinalCord', 'Heart', 'Lung_Left', 'Esophagus', 'Lung_Right']\n",
      "pydicer.dataset.structureset - WARNING - No mapping file found with id default\n"
     ]
    },
    {
     "name": "stdout",
     "output_type": "stream",
     "text": [
      "Patient: LCTSC-Train-S1-004, Structure names: ['Lung_R', 'SC', 'Heart', 'Lung_L', 'Esophagus']\n",
      "pydicer.dataset.structureset - WARNING - No mapping file found with id default\n"
     ]
    },
    {
     "name": "stdout",
     "output_type": "stream",
     "text": [
      "Patient: LCTSC-Train-S1-001, Structure names: ['Lung_R', 'SpinalCord', 'Heart', 'Lung_L', 'Esophagus']\n",
      "pydicer.dataset.structureset - WARNING - No mapping file found with id default\n"
     ]
    },
    {
     "name": "stdout",
     "output_type": "stream",
     "text": [
      "Patient: LCTSC-Test-S1-101, Structure names: ['Lung_R', 'SpinalCord', 'Heart', 'Lung_L', 'Esophagus']\n",
      "pydicer.dataset.structureset - WARNING - No mapping file found with id default\n"
     ]
    },
    {
     "name": "stdout",
     "output_type": "stream",
     "text": [
      "Patient: LCTSC-Train-S1-006, Structure names: ['Lung_R', 'SpinalCord', 'Heart', 'Lung_L', 'Esophagus']\n",
      "pydicer.dataset.structureset - WARNING - No mapping file found with id default\n"
     ]
    },
    {
     "name": "stdout",
     "output_type": "stream",
     "text": [
      "Patient: LCTSC-Train-S1-005, Structure names: ['L_Lung', 'Lung_R', 'SpinalCord', 'Heart', 'Esophagus']\n",
      "pydicer.dataset.structureset - WARNING - No mapping file found with id default\n"
     ]
    },
    {
     "name": "stdout",
     "output_type": "stream",
     "text": [
      "Patient: LCTSC-Test-S1-102, Structure names: ['Lung_R', 'SpinalCord', 'Heart', 'Lung_L', 'Esophagus']\n",
      "pydicer.dataset.structureset - WARNING - No mapping file found with id default\n"
     ]
    },
    {
     "name": "stdout",
     "output_type": "stream",
     "text": [
      "Patient: LCTSC-Train-S1-003, Structure names: ['Lung_R', 'SpinalCord', 'Heart', 'Lung_L', 'Esophagus']\n"
     ]
    }
   ],
   "source": [
    "df = pydicer.read_converted_data()\n",
    "df_structs = df[df.modality==\"RTSTRUCT\"]\n",
    "\n",
    "for idx, struct_row in df_structs.iterrows():\n",
    "    structure_set = StructureSet(struct_row)\n",
    "\n",
    "    structure_names = structure_set.structure_names\n",
    "    print(f\"Patient: {struct_row.patient_id}, Structure names: {structure_names}\")"
   ]
  },
  {
   "cell_type": "markdown",
   "metadata": {},
   "source": [
    "## Add Structure Name Mapping\n",
    "\n",
    "Structure name mappings are defined as Python dictionaries, with the standardised structure name\n",
    "as the key, and the value a list of name variations which should map to the standardised name.\n",
    "\n",
    "Use the `add_structure_name_mapping` to add a mapping. A `mapping_id` may be supplied to refer\n",
    "to different mappings. If no `mapping_id` is supplied, a default mapping id is used.\n",
    "\n",
    "If a `structure_set_row` or `patient_id` is supplied, then the mapping will be stored at the\n",
    "corresponding level. If neither is supplied, the mapping will be stored globally for all structure\n",
    "sets in the datasets."
   ]
  },
  {
   "cell_type": "code",
   "execution_count": 5,
   "metadata": {
    "execution": {
     "iopub.execute_input": "2023-12-13T06:38:21.298861Z",
     "iopub.status.busy": "2023-12-13T06:38:21.298486Z",
     "iopub.status.idle": "2023-12-13T06:38:21.302014Z",
     "shell.execute_reply": "2023-12-13T06:38:21.301369Z"
    }
   },
   "outputs": [],
   "source": [
    "mapping = {\n",
    "    \"Esophagus\": [],\n",
    "    \"Heart\": [],\n",
    "    \"Lung_L\": [\"Lung_Left\"],\n",
    "    \"Lung_R\": [\"Lung_Right\"],\n",
    "    \"SpinalCord\": [\"SC\"],\n",
    "}"
   ]
  },
  {
   "cell_type": "code",
   "execution_count": 6,
   "metadata": {
    "execution": {
     "iopub.execute_input": "2023-12-13T06:38:21.304434Z",
     "iopub.status.busy": "2023-12-13T06:38:21.304087Z",
     "iopub.status.idle": "2023-12-13T06:38:21.308277Z",
     "shell.execute_reply": "2023-12-13T06:38:21.307616Z"
    }
   },
   "outputs": [
    {
     "name": "stdout",
     "output_type": "stream",
     "text": [
      "pydicer.utils - INFO - Adding mapping for project in testdata_lctsc/.pydicer\n"
     ]
    }
   ],
   "source": [
    "pydicer.add_structure_name_mapping(mapping)"
   ]
  },
  {
   "cell_type": "markdown",
   "metadata": {},
   "source": [
    "The default mapping has been saved. You can find the saved mapping in the\n",
    "`testdata_lctsc/.pydicer/.structure_set_mappings` directory."
   ]
  },
  {
   "cell_type": "markdown",
   "metadata": {},
   "source": [
    "Now we can check our `StructureSet` to confirm the names are mapped properly."
   ]
  },
  {
   "cell_type": "code",
   "execution_count": 7,
   "metadata": {
    "execution": {
     "iopub.execute_input": "2023-12-13T06:38:21.310945Z",
     "iopub.status.busy": "2023-12-13T06:38:21.310535Z",
     "iopub.status.idle": "2023-12-13T06:38:21.326958Z",
     "shell.execute_reply": "2023-12-13T06:38:21.326415Z"
    }
   },
   "outputs": [
    {
     "name": "stdout",
     "output_type": "stream",
     "text": [
      "pydicer.dataset.structureset - DEBUG - Using mapping file in testdata_lctsc/.pydicer/.structure_set_mappings/default.json\n"
     ]
    },
    {
     "name": "stdout",
     "output_type": "stream",
     "text": [
      "Patient: LCTSC-Train-S1-007, Structure names: ['Esophagus', 'Heart', 'Lung_L', 'Lung_R', 'SpinalCord']\n",
      "pydicer.dataset.structureset - DEBUG - Using mapping file in testdata_lctsc/.pydicer/.structure_set_mappings/default.json\n"
     ]
    },
    {
     "name": "stdout",
     "output_type": "stream",
     "text": [
      "Patient: LCTSC-Train-S1-008, Structure names: ['Esophagus', 'Heart', 'Lung_L', 'Lung_R', 'SpinalCord']\n",
      "pydicer.dataset.structureset - DEBUG - Using mapping file in testdata_lctsc/.pydicer/.structure_set_mappings/default.json\n"
     ]
    },
    {
     "name": "stdout",
     "output_type": "stream",
     "text": [
      "Patient: LCTSC-Train-S1-002, Structure names: ['Esophagus', 'Heart', 'Lung_L', 'Lung_R', 'SpinalCord']\n",
      "pydicer.dataset.structureset - DEBUG - Using mapping file in testdata_lctsc/.pydicer/.structure_set_mappings/default.json\n"
     ]
    },
    {
     "name": "stdout",
     "output_type": "stream",
     "text": [
      "Patient: LCTSC-Train-S1-004, Structure names: ['Esophagus', 'Heart', 'Lung_L', 'Lung_R', 'SpinalCord']\n",
      "pydicer.dataset.structureset - DEBUG - Using mapping file in testdata_lctsc/.pydicer/.structure_set_mappings/default.json\n"
     ]
    },
    {
     "name": "stdout",
     "output_type": "stream",
     "text": [
      "Patient: LCTSC-Train-S1-001, Structure names: ['Esophagus', 'Heart', 'Lung_L', 'Lung_R', 'SpinalCord']\n",
      "pydicer.dataset.structureset - DEBUG - Using mapping file in testdata_lctsc/.pydicer/.structure_set_mappings/default.json\n"
     ]
    },
    {
     "name": "stdout",
     "output_type": "stream",
     "text": [
      "Patient: LCTSC-Test-S1-101, Structure names: ['Esophagus', 'Heart', 'Lung_L', 'Lung_R', 'SpinalCord']\n",
      "pydicer.dataset.structureset - DEBUG - Using mapping file in testdata_lctsc/.pydicer/.structure_set_mappings/default.json\n"
     ]
    },
    {
     "name": "stdout",
     "output_type": "stream",
     "text": [
      "Patient: LCTSC-Train-S1-006, Structure names: ['Esophagus', 'Heart', 'Lung_L', 'Lung_R', 'SpinalCord']\n",
      "pydicer.dataset.structureset - DEBUG - Using mapping file in testdata_lctsc/.pydicer/.structure_set_mappings/default.json\n"
     ]
    },
    {
     "name": "stdout",
     "output_type": "stream",
     "text": [
      "Patient: LCTSC-Train-S1-005, Structure names: ['Esophagus', 'Heart', 'Lung_L', 'Lung_R', 'SpinalCord']\n",
      "pydicer.dataset.structureset - DEBUG - Using mapping file in testdata_lctsc/.pydicer/.structure_set_mappings/default.json\n"
     ]
    },
    {
     "name": "stdout",
     "output_type": "stream",
     "text": [
      "Patient: LCTSC-Test-S1-102, Structure names: ['Esophagus', 'Heart', 'Lung_L', 'Lung_R', 'SpinalCord']\n",
      "pydicer.dataset.structureset - DEBUG - Using mapping file in testdata_lctsc/.pydicer/.structure_set_mappings/default.json\n"
     ]
    },
    {
     "name": "stdout",
     "output_type": "stream",
     "text": [
      "Patient: LCTSC-Train-S1-003, Structure names: ['Esophagus', 'Heart', 'Lung_L', 'Lung_R', 'SpinalCord']\n"
     ]
    }
   ],
   "source": [
    "for idx, struct_row in df_structs.iterrows():\n",
    "    structure_set = StructureSet(struct_row)\n",
    "\n",
    "    structure_names = structure_set.structure_names\n",
    "    print(f\"Patient: {struct_row.patient_id}, Structure names: {structure_names}\")"
   ]
  },
  {
   "cell_type": "markdown",
   "metadata": {},
   "source": [
    "## Subsets of Structures\n",
    "\n",
    "Structure name mappings are also useful if you only want to work with a subset of structures\n",
    "available. Simply leave them out of the mapping entirely, and they won't be loaded as part of the\n",
    "`StructureSet`.\n",
    "\n",
    "In this example, we use a `mapping_id` of `struct_subset` to keep this mapping separate from the\n",
    "mapping defined above."
   ]
  },
  {
   "cell_type": "code",
   "execution_count": 8,
   "metadata": {
    "execution": {
     "iopub.execute_input": "2023-12-13T06:38:21.329771Z",
     "iopub.status.busy": "2023-12-13T06:38:21.329280Z",
     "iopub.status.idle": "2023-12-13T06:38:21.346230Z",
     "shell.execute_reply": "2023-12-13T06:38:21.345609Z"
    }
   },
   "outputs": [
    {
     "name": "stdout",
     "output_type": "stream",
     "text": [
      "pydicer.utils - INFO - Adding mapping for project in testdata_lctsc/.pydicer\n"
     ]
    },
    {
     "name": "stdout",
     "output_type": "stream",
     "text": [
      "pydicer.dataset.structureset - DEBUG - Using mapping file in testdata_lctsc/.pydicer/.structure_set_mappings/struct_subset.json\n"
     ]
    },
    {
     "name": "stdout",
     "output_type": "stream",
     "text": [
      "Patient: LCTSC-Train-S1-007, Structure names: ['Lung_L', 'Lung_R']\n",
      "pydicer.dataset.structureset - DEBUG - Using mapping file in testdata_lctsc/.pydicer/.structure_set_mappings/struct_subset.json\n"
     ]
    },
    {
     "name": "stdout",
     "output_type": "stream",
     "text": [
      "Patient: LCTSC-Train-S1-008, Structure names: ['Lung_L', 'Lung_R']\n",
      "pydicer.dataset.structureset - DEBUG - Using mapping file in testdata_lctsc/.pydicer/.structure_set_mappings/struct_subset.json\n"
     ]
    },
    {
     "name": "stdout",
     "output_type": "stream",
     "text": [
      "Patient: LCTSC-Train-S1-002, Structure names: ['Lung_L', 'Lung_R']\n",
      "pydicer.dataset.structureset - DEBUG - Using mapping file in testdata_lctsc/.pydicer/.structure_set_mappings/struct_subset.json\n"
     ]
    },
    {
     "name": "stdout",
     "output_type": "stream",
     "text": [
      "Patient: LCTSC-Train-S1-004, Structure names: ['Lung_L', 'Lung_R']\n",
      "pydicer.dataset.structureset - DEBUG - Using mapping file in testdata_lctsc/.pydicer/.structure_set_mappings/struct_subset.json\n"
     ]
    },
    {
     "name": "stdout",
     "output_type": "stream",
     "text": [
      "Patient: LCTSC-Train-S1-001, Structure names: ['Lung_L', 'Lung_R']\n",
      "pydicer.dataset.structureset - DEBUG - Using mapping file in testdata_lctsc/.pydicer/.structure_set_mappings/struct_subset.json\n"
     ]
    },
    {
     "name": "stdout",
     "output_type": "stream",
     "text": [
      "Patient: LCTSC-Test-S1-101, Structure names: ['Lung_L', 'Lung_R']\n",
      "pydicer.dataset.structureset - DEBUG - Using mapping file in testdata_lctsc/.pydicer/.structure_set_mappings/struct_subset.json\n"
     ]
    },
    {
     "name": "stdout",
     "output_type": "stream",
     "text": [
      "Patient: LCTSC-Train-S1-006, Structure names: ['Lung_L', 'Lung_R']\n",
      "pydicer.dataset.structureset - DEBUG - Using mapping file in testdata_lctsc/.pydicer/.structure_set_mappings/struct_subset.json\n"
     ]
    },
    {
     "name": "stdout",
     "output_type": "stream",
     "text": [
      "Patient: LCTSC-Train-S1-005, Structure names: ['Lung_L', 'Lung_R']\n",
      "pydicer.dataset.structureset - DEBUG - Using mapping file in testdata_lctsc/.pydicer/.structure_set_mappings/struct_subset.json\n"
     ]
    },
    {
     "name": "stdout",
     "output_type": "stream",
     "text": [
      "Patient: LCTSC-Test-S1-102, Structure names: ['Lung_L', 'Lung_R']\n",
      "pydicer.dataset.structureset - DEBUG - Using mapping file in testdata_lctsc/.pydicer/.structure_set_mappings/struct_subset.json\n"
     ]
    },
    {
     "name": "stdout",
     "output_type": "stream",
     "text": [
      "Patient: LCTSC-Train-S1-003, Structure names: ['Lung_L', 'Lung_R']\n"
     ]
    }
   ],
   "source": [
    "mapping_id = \"struct_subset\"\n",
    "sub_mapping = {\n",
    "    \"Lung_L\": [\"Lung_Left\"],\n",
    "    \"Lung_R\": [\"Lung_Right\"],\n",
    "}\n",
    "\n",
    "pydicer.add_structure_name_mapping(sub_mapping, mapping_id=mapping_id)\n",
    "\n",
    "for idx, struct_row in df_structs.iterrows():\n",
    "    structure_set = StructureSet(struct_row, mapping_id=mapping_id) # Provide the mapping_id!\n",
    "\n",
    "    structure_names = structure_set.structure_names\n",
    "    print(f\"Patient: {struct_row.patient_id}, Structure names: {structure_names}\")"
   ]
  },
  {
   "cell_type": "markdown",
   "metadata": {},
   "source": [
    "## Local Structure Name Mappings\n",
    "\n",
    "Next, we only specify a mapping for one specific structure set. We will use `local_mapping` as the\n",
    "`mapping_id`. In the output you will see that only one structure set has had the mapping applied."
   ]
  },
  {
   "cell_type": "code",
   "execution_count": 9,
   "metadata": {
    "execution": {
     "iopub.execute_input": "2023-12-13T06:38:21.348825Z",
     "iopub.status.busy": "2023-12-13T06:38:21.348454Z",
     "iopub.status.idle": "2023-12-13T06:38:21.367382Z",
     "shell.execute_reply": "2023-12-13T06:38:21.366750Z"
    }
   },
   "outputs": [
    {
     "name": "stdout",
     "output_type": "stream",
     "text": [
      "pydicer.utils - INFO - Adding mapping local_mapping for structure set f036b8\n"
     ]
    },
    {
     "name": "stdout",
     "output_type": "stream",
     "text": [
      "pydicer.utils - INFO - Adding mapping for stucture_set in testdata_lctsc/data/LCTSC-Train-S1-002/structures/f036b8\n"
     ]
    },
    {
     "name": "stdout",
     "output_type": "stream",
     "text": [
      "pydicer.dataset.structureset - WARNING - No mapping file found with id local_mapping\n"
     ]
    },
    {
     "name": "stdout",
     "output_type": "stream",
     "text": [
      "Patient: LCTSC-Train-S1-007, Structure names: ['Lung_R', 'SpinalCord', 'Heart', 'Lung_L', 'Esophagus']\n",
      "pydicer.dataset.structureset - WARNING - No mapping file found with id local_mapping\n"
     ]
    },
    {
     "name": "stdout",
     "output_type": "stream",
     "text": [
      "Patient: LCTSC-Train-S1-008, Structure names: ['Lung_R', 'SpinalCord', 'Heart', 'Lung_L', 'Esophagus']\n",
      "pydicer.dataset.structureset - DEBUG - Using mapping file in testdata_lctsc/data/LCTSC-Train-S1-002/structures/f036b8/.structure_set_mappings/local_mapping.json\n"
     ]
    },
    {
     "name": "stdout",
     "output_type": "stream",
     "text": [
      "Patient: LCTSC-Train-S1-002, Structure names: ['Esophagus', 'Heart', 'Lung_L', 'Lung_R', 'SpinalCord']\n",
      "pydicer.dataset.structureset - WARNING - No mapping file found with id local_mapping\n"
     ]
    },
    {
     "name": "stdout",
     "output_type": "stream",
     "text": [
      "Patient: LCTSC-Train-S1-004, Structure names: ['Lung_R', 'SC', 'Heart', 'Lung_L', 'Esophagus']\n",
      "pydicer.dataset.structureset - WARNING - No mapping file found with id local_mapping\n"
     ]
    },
    {
     "name": "stdout",
     "output_type": "stream",
     "text": [
      "Patient: LCTSC-Train-S1-001, Structure names: ['Lung_R', 'SpinalCord', 'Heart', 'Lung_L', 'Esophagus']\n",
      "pydicer.dataset.structureset - WARNING - No mapping file found with id local_mapping\n"
     ]
    },
    {
     "name": "stdout",
     "output_type": "stream",
     "text": [
      "Patient: LCTSC-Test-S1-101, Structure names: ['Lung_R', 'SpinalCord', 'Heart', 'Lung_L', 'Esophagus']\n",
      "pydicer.dataset.structureset - WARNING - No mapping file found with id local_mapping\n"
     ]
    },
    {
     "name": "stdout",
     "output_type": "stream",
     "text": [
      "Patient: LCTSC-Train-S1-006, Structure names: ['Lung_R', 'SpinalCord', 'Heart', 'Lung_L', 'Esophagus']\n",
      "pydicer.dataset.structureset - WARNING - No mapping file found with id local_mapping\n"
     ]
    },
    {
     "name": "stdout",
     "output_type": "stream",
     "text": [
      "Patient: LCTSC-Train-S1-005, Structure names: ['L_Lung', 'Lung_R', 'SpinalCord', 'Heart', 'Esophagus']\n",
      "pydicer.dataset.structureset - WARNING - No mapping file found with id local_mapping\n"
     ]
    },
    {
     "name": "stdout",
     "output_type": "stream",
     "text": [
      "Patient: LCTSC-Test-S1-102, Structure names: ['Lung_R', 'SpinalCord', 'Heart', 'Lung_L', 'Esophagus']\n",
      "pydicer.dataset.structureset - WARNING - No mapping file found with id local_mapping\n"
     ]
    },
    {
     "name": "stdout",
     "output_type": "stream",
     "text": [
      "Patient: LCTSC-Train-S1-003, Structure names: ['Lung_R', 'SpinalCord', 'Heart', 'Lung_L', 'Esophagus']\n"
     ]
    }
   ],
   "source": [
    "mapping_id = \"local_mapping\"\n",
    "mapping = {\n",
    "    \"Esophagus\": [],\n",
    "    \"Heart\": [],\n",
    "    \"Lung_L\": [\"Lung_Left\"],\n",
    "    \"Lung_R\": [\"Lung_Right\"],\n",
    "    \"SpinalCord\": [\"SC\"],\n",
    "}\n",
    "\n",
    "struct_row = df[(df.patient_id==\"LCTSC-Train-S1-002\") & (df.modality==\"RTSTRUCT\")].iloc[0]\n",
    "\n",
    "# Only adding mapping for one structure set\n",
    "pydicer.add_structure_name_mapping(\n",
    "    mapping,\n",
    "    mapping_id=mapping_id,\n",
    "    structure_set_row=struct_row\n",
    ")\n",
    "\n",
    "for idx, struct_row in df_structs.iterrows():\n",
    "    structure_set = StructureSet(struct_row, mapping_id=mapping_id) # Provide the mapping_id!\n",
    "\n",
    "    structure_names = structure_set.structure_names\n",
    "    print(f\"Patient: {struct_row.patient_id}, Structure names: {structure_names}\")"
   ]
  },
  {
   "cell_type": "markdown",
   "metadata": {},
   "source": [
    "Notice that mapping has only been applied to the structure set for patient `LCTSC-Train-S1-002`"
   ]
  },
  {
   "cell_type": "markdown",
   "metadata": {},
   "source": [
    "## Using Mappings in PyDicer\n",
    "\n",
    "Once mappings are defined, these can be used when you:\n",
    "- Compute Dose Metrics\n",
    "- Fetch Radiomics Features\n",
    "- Analyse Auto-segmentations\n",
    "- Prepare data for nnUNet training\n",
    "\n",
    "Check out the documentation for those modules to see where you can supply your `mapping_id` to have\n",
    "the structure set standardisation applied. If you have used the default `mapping_id`, the\n",
    "standardisation will be applied automatically."
   ]
  },
  {
   "cell_type": "code",
   "execution_count": null,
   "metadata": {},
   "outputs": [],
   "source": []
  }
 ],
 "metadata": {
  "interpreter": {
   "hash": "814af119db7f8f2860617be3dcd1d37c560587d11c65bd58c45b1679d3ee6ea4"
  },
  "kernelspec": {
   "display_name": "Python 3.8.0 64-bit ('pydicer': pyenv)",
   "language": "python",
   "name": "python3"
  },
  "language_info": {
   "codemirror_mode": {
    "name": "ipython",
    "version": 3
   },
   "file_extension": ".py",
   "mimetype": "text/x-python",
   "name": "python",
   "nbconvert_exporter": "python",
   "pygments_lexer": "ipython3",
   "version": "3.9.18"
  }
 },
 "nbformat": 4,
 "nbformat_minor": 2
}
