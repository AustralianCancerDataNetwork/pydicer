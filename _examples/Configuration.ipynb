{
 "cells": [
  {
   "attachments": {},
   "cell_type": "markdown",
   "metadata": {},
   "source": [
    "# Configuration\n",
    "\n",
    "[![Open In Colab](https://colab.research.google.com/assets/colab-badge.svg)](https://colab.research.google.com/github/AustralianCancerDataNetwork/pydicer/blob/main/examples/Configuration.ipynb)\n",
    "\n",
    "PyDicer provides various options which you may configure to change the behaviour of the tool."
   ]
  },
  {
   "cell_type": "code",
   "execution_count": 1,
   "metadata": {
    "execution": {
     "iopub.execute_input": "2024-12-16T12:43:40.148661Z",
     "iopub.status.busy": "2024-12-16T12:43:40.148130Z",
     "iopub.status.idle": "2024-12-16T12:43:43.650604Z",
     "shell.execute_reply": "2024-12-16T12:43:43.649833Z"
    }
   },
   "outputs": [],
   "source": [
    "try:\n",
    "    from pydicer import PyDicer\n",
    "except ImportError:\n",
    "    !pip install pydicer\n",
    "    from pydicer import PyDicer\n",
    "\n",
    "import logging\n",
    "\n",
    "from pydicer.utils import fetch_converted_test_data\n",
    "\n",
    "working_directory = fetch_converted_test_data(\"./testdata_lctsc\", dataset=\"LCTSC\")\n",
    "\n",
    "pydicer = PyDicer(working_directory)"
   ]
  },
  {
   "cell_type": "markdown",
   "metadata": {},
   "source": [
    "## Getting and Setting Options\n",
    "\n",
    "Use the `get_config` and `set_config` functions of the [config module](https://australiancancerdatanetwork.github.io/pydicer/config.html) to get and set configuration options respectively."
   ]
  },
  {
   "cell_type": "code",
   "execution_count": 2,
   "metadata": {
    "execution": {
     "iopub.execute_input": "2024-12-16T12:43:43.654005Z",
     "iopub.status.busy": "2024-12-16T12:43:43.653524Z",
     "iopub.status.idle": "2024-12-16T12:43:43.658183Z",
     "shell.execute_reply": "2024-12-16T12:43:43.657543Z"
    }
   },
   "outputs": [
    {
     "name": "stdout",
     "output_type": "stream",
     "text": [
      "Current logging verbosity: 0\n",
      "New logging verbosity: 10\n"
     ]
    }
   ],
   "source": [
    "logging_verbosity = pydicer.config.get_config(\"verbosity\")\n",
    "print(f\"Current logging verbosity: {logging_verbosity}\")\n",
    "\n",
    "# Set to logging level DEBUG\n",
    "pydicer.config.set_config(\"verbosity\", logging.DEBUG)\n",
    "\n",
    "logging_verbosity = pydicer.config.get_config(\"verbosity\")\n",
    "print(f\"New logging verbosity: {logging_verbosity}\")"
   ]
  },
  {
   "cell_type": "markdown",
   "metadata": {},
   "source": [
    "## Options Available\n",
    "\n",
    "### Logging Verbosity\n",
    "\n",
    "Level of output for standard out. Value indicates the [Python built-in log level](https://docs.python.org/3/library/logging.html#logging-levels). A value of 0\n",
    "(not set) will display the process bar. Logs of all levels are available in the .pydicer directory.\n",
    "\n",
    "Valid options are: `[logging.NOTSET, logging.DEBUG, logging.INFO, logging.WARNING, logging.ERROR]`"
   ]
  },
  {
   "cell_type": "code",
   "execution_count": 3,
   "metadata": {
    "execution": {
     "iopub.execute_input": "2024-12-16T12:43:43.660996Z",
     "iopub.status.busy": "2024-12-16T12:43:43.660478Z",
     "iopub.status.idle": "2024-12-16T12:43:43.664145Z",
     "shell.execute_reply": "2024-12-16T12:43:43.663594Z"
    }
   },
   "outputs": [],
   "source": [
    "pydicer.config.set_config(\"verbosity\", logging.DEBUG)"
   ]
  },
  {
   "cell_type": "markdown",
   "metadata": {},
   "source": [
    "### Frame of Reference Fallback Linkage\n",
    "\n",
    "Determine whether to fallback on linking objects via their [Frame of Reference UID](https://dicom.innolitics.com/ciods/ct-image/frame-of-reference/00200052) if no more stable\n",
    "link exists.\n",
    "\n",
    "Valid options are: `True` or `False`"
   ]
  },
  {
   "cell_type": "code",
   "execution_count": 4,
   "metadata": {
    "execution": {
     "iopub.execute_input": "2024-12-16T12:43:43.666583Z",
     "iopub.status.busy": "2024-12-16T12:43:43.666199Z",
     "iopub.status.idle": "2024-12-16T12:43:43.669496Z",
     "shell.execute_reply": "2024-12-16T12:43:43.668975Z"
    }
   },
   "outputs": [],
   "source": [
    "pydicer.config.set_config(\"for_fallback_linkage\", True)"
   ]
  },
  {
   "cell_type": "markdown",
   "metadata": {},
   "source": [
    "### Enforce `.dcm` file extension\n",
    "\n",
    "If True only files with the .dcm or .DCM extension will be preprocessed. Otherwise any file in the\n",
    "DICOM directory will be preprocessed.\n",
    "\n",
    "Valid options are: `True` or `False`"
   ]
  },
  {
   "cell_type": "code",
   "execution_count": 5,
   "metadata": {
    "execution": {
     "iopub.execute_input": "2024-12-16T12:43:43.671806Z",
     "iopub.status.busy": "2024-12-16T12:43:43.671623Z",
     "iopub.status.idle": "2024-12-16T12:43:43.674725Z",
     "shell.execute_reply": "2024-12-16T12:43:43.674216Z"
    }
   },
   "outputs": [],
   "source": [
    "pydicer.config.set_config(\"enforce_dcm_ext\", True)"
   ]
  },
  {
   "cell_type": "markdown",
   "metadata": {},
   "source": [
    "### Interpolate Missing Slices\n",
    "\n",
    "When missing slices are detected these will be interpolated if True. Otherwise these cases will be\n",
    "sent to quarantine.\n",
    "\n",
    "Valid options are: `True` or `False`"
   ]
  },
  {
   "cell_type": "code",
   "execution_count": 6,
   "metadata": {
    "execution": {
     "iopub.execute_input": "2024-12-16T12:43:43.677029Z",
     "iopub.status.busy": "2024-12-16T12:43:43.676835Z",
     "iopub.status.idle": "2024-12-16T12:43:43.680133Z",
     "shell.execute_reply": "2024-12-16T12:43:43.679502Z"
    }
   },
   "outputs": [],
   "source": [
    "pydicer.config.set_config(\"interp_missing_slices\", True)"
   ]
  },
  {
   "cell_type": "markdown",
   "metadata": {},
   "source": [
    "### Ignore Duplicate Slices\n",
    "\n",
    "If two slices at the same location with different pixel data are found then the first slice is used\n",
    "if ignore_duplicate_slices is True. Otherwise an error is raised and these images are sent to\n",
    "quarantine.\n",
    "\n",
    "Valid options are: `True` or `False`"
   ]
  },
  {
   "cell_type": "code",
   "execution_count": 7,
   "metadata": {
    "execution": {
     "iopub.execute_input": "2024-12-16T12:43:43.682519Z",
     "iopub.status.busy": "2024-12-16T12:43:43.682138Z",
     "iopub.status.idle": "2024-12-16T12:43:43.685385Z",
     "shell.execute_reply": "2024-12-16T12:43:43.684863Z"
    }
   },
   "outputs": [],
   "source": [
    "pydicer.config.set_config(\"ignore_duplicate_slices\", False)"
   ]
  },
  {
   "cell_type": "markdown",
   "metadata": {},
   "source": [
    "### Generate NRRD\n",
    "\n",
    "Whether or not to generate an additional NRRD file when converting RTSTRUCT. This allows loading\n",
    "easily into [3D slicer](https://www.slicer.org/), but it takes up more disk space and takes time to generate the file.\n",
    "\n",
    "Valid options are: `True` or `False`"
   ]
  },
  {
   "cell_type": "code",
   "execution_count": 8,
   "metadata": {
    "execution": {
     "iopub.execute_input": "2024-12-16T12:43:43.687696Z",
     "iopub.status.busy": "2024-12-16T12:43:43.687499Z",
     "iopub.status.idle": "2024-12-16T12:43:43.690696Z",
     "shell.execute_reply": "2024-12-16T12:43:43.690161Z"
    }
   },
   "outputs": [],
   "source": [
    "pydicer.config.set_config(\"generate_nrrd\", False)"
   ]
  },
  {
   "cell_type": "markdown",
   "metadata": {},
   "source": [
    "### NRRD Colormap\n",
    "\n",
    "If NRRD files are to be generated, this defines the Matplotlib colormap to use when saving NRRD\n",
    "file of structures.\n",
    "\n",
    "Valid options are any [Matplotlib colormap](https://matplotlib.org/stable/users/explain/colors/colormaps.html)."
   ]
  },
  {
   "cell_type": "code",
   "execution_count": 9,
   "metadata": {
    "execution": {
     "iopub.execute_input": "2024-12-16T12:43:43.693050Z",
     "iopub.status.busy": "2024-12-16T12:43:43.692855Z",
     "iopub.status.idle": "2024-12-16T12:43:43.696022Z",
     "shell.execute_reply": "2024-12-16T12:43:43.695486Z"
    }
   },
   "outputs": [],
   "source": [
    "pydicer.config.set_config(\"nrrd_colormap\", \"rainbow\")"
   ]
  },
  {
   "cell_type": "code",
   "execution_count": null,
   "metadata": {},
   "outputs": [],
   "source": []
  }
 ],
 "metadata": {
  "interpreter": {
   "hash": "814af119db7f8f2860617be3dcd1d37c560587d11c65bd58c45b1679d3ee6ea4"
  },
  "kernelspec": {
   "display_name": "Python 3.8.0 64-bit ('pydicer': pyenv)",
   "language": "python",
   "name": "python3"
  },
  "language_info": {
   "codemirror_mode": {
    "name": "ipython",
    "version": 3
   },
   "file_extension": ".py",
   "mimetype": "text/x-python",
   "name": "python",
   "nbconvert_exporter": "python",
   "pygments_lexer": "ipython3",
   "version": "3.9.20"
  }
 },
 "nbformat": 4,
 "nbformat_minor": 2
}
