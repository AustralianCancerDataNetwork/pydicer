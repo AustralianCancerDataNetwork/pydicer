{
 "cells": [
  {
   "attachments": {},
   "cell_type": "markdown",
   "metadata": {},
   "source": [
    "# Converting Data\n",
    "\n",
    "In this example, the preprocessing and conversion of DICOM data is demonstrated. These are\n",
    "essential first steps before data can be analysed using PyDicer."
   ]
  },
  {
   "cell_type": "code",
   "execution_count": 1,
   "metadata": {
    "execution": {
     "iopub.execute_input": "2023-12-05T03:07:59.710549Z",
     "iopub.status.busy": "2023-12-05T03:07:59.710365Z",
     "iopub.status.idle": "2023-12-05T03:08:01.033336Z",
     "shell.execute_reply": "2023-12-05T03:08:01.032668Z"
    }
   },
   "outputs": [],
   "source": [
    "try:\n",
    "    from pydicer import PyDicer\n",
    "except ImportError:\n",
    "    !pip install pydicer\n",
    "    from pydicer import PyDicer\n",
    "\n",
    "from pathlib import Path\n",
    "\n",
    "from pydicer.input.test import TestInput"
   ]
  },
  {
   "cell_type": "markdown",
   "metadata": {},
   "source": [
    "## Setup PyDicer\n",
    "\n",
    "As in the `Getting Started` example, we must first define a working directory for our dataset. We\n",
    "also create a `PyDicer` object."
   ]
  },
  {
   "cell_type": "code",
   "execution_count": 2,
   "metadata": {
    "execution": {
     "iopub.execute_input": "2023-12-05T03:08:01.036229Z",
     "iopub.status.busy": "2023-12-05T03:08:01.035949Z",
     "iopub.status.idle": "2023-12-05T03:08:01.039782Z",
     "shell.execute_reply": "2023-12-05T03:08:01.039295Z"
    }
   },
   "outputs": [],
   "source": [
    "directory = Path(\"./working\")\n",
    "pydicer = PyDicer(directory)"
   ]
  },
  {
   "cell_type": "markdown",
   "metadata": {},
   "source": [
    "## Fetch some data\n",
    "\n",
    "A TestInput class is provided in pydicer to download some sample data to work with. Several other\n",
    "input classes exist if you'd like to retrieve DICOM data for conversion from somewhere else. See \n",
    "the [docs for information](https://australiancancerdatanetwork.github.io/pydicer/html/input.html)\n",
    "on how the PyDicer input classes work.\n",
    "\n",
    "Most commonly, if you have DICOM files stored within a folder on your file system you can simply\n",
    "pass the path to your DICOM directory to the `pydicer.add_input()` function."
   ]
  },
  {
   "cell_type": "code",
   "execution_count": 3,
   "metadata": {
    "execution": {
     "iopub.execute_input": "2023-12-05T03:08:01.042313Z",
     "iopub.status.busy": "2023-12-05T03:08:01.041863Z",
     "iopub.status.idle": "2023-12-05T03:08:22.255229Z",
     "shell.execute_reply": "2023-12-05T03:08:22.254515Z"
    }
   },
   "outputs": [],
   "source": [
    "dicom_directory = directory.joinpath(\"dicom\")\n",
    "test_input = TestInput(dicom_directory)\n",
    "test_input.fetch_data()\n",
    "\n",
    "# Add the input DICOM location to the pydicer object\n",
    "pydicer.add_input(dicom_directory)"
   ]
  },
  {
   "cell_type": "markdown",
   "metadata": {},
   "source": [
    "## Preprocess\n",
    "\n",
    "With some DICOM data ready to work with, we must first use the PyDicer `preprocess` module. This\n",
    "module will crawl over all DICOM data available and will index all information required for\n",
    "conversion of the data."
   ]
  },
  {
   "cell_type": "code",
   "execution_count": 4,
   "metadata": {
    "execution": {
     "iopub.execute_input": "2023-12-05T03:08:22.258168Z",
     "iopub.status.busy": "2023-12-05T03:08:22.257941Z",
     "iopub.status.idle": "2023-12-05T03:08:26.375804Z",
     "shell.execute_reply": "2023-12-05T03:08:26.375135Z"
    }
   },
   "outputs": [
    {
     "name": "stderr",
     "output_type": "stream",
     "text": [
      "\r",
      "  0%|          | 0/1309 [00:00<?, ?files/s, preprocess]"
     ]
    },
    {
     "name": "stderr",
     "output_type": "stream",
     "text": [
      "\r",
      "  2%|▏         | 29/1309 [00:00<00:04, 284.87files/s, preprocess]"
     ]
    },
    {
     "name": "stderr",
     "output_type": "stream",
     "text": [
      "\r",
      "  7%|▋         | 87/1309 [00:00<00:02, 455.35files/s, preprocess]"
     ]
    },
    {
     "name": "stderr",
     "output_type": "stream",
     "text": [
      "\r",
      " 11%|█         | 146/1309 [00:00<00:02, 515.76files/s, preprocess]"
     ]
    },
    {
     "name": "stderr",
     "output_type": "stream",
     "text": [
      "\r",
      " 15%|█▌        | 198/1309 [00:00<00:06, 184.60files/s, preprocess]"
     ]
    },
    {
     "name": "stderr",
     "output_type": "stream",
     "text": [
      "\r",
      " 20%|█▉        | 257/1309 [00:00<00:04, 251.96files/s, preprocess]"
     ]
    },
    {
     "name": "stderr",
     "output_type": "stream",
     "text": [
      "\r",
      " 24%|██▍       | 313/1309 [00:01<00:03, 310.80files/s, preprocess]"
     ]
    },
    {
     "name": "stderr",
     "output_type": "stream",
     "text": [
      "\r",
      " 28%|██▊       | 361/1309 [00:01<00:02, 343.19files/s, preprocess]"
     ]
    },
    {
     "name": "stderr",
     "output_type": "stream",
     "text": [
      "\r",
      " 31%|███       | 408/1309 [00:01<00:02, 369.70files/s, preprocess]"
     ]
    },
    {
     "name": "stderr",
     "output_type": "stream",
     "text": [
      "\r",
      " 35%|███▍      | 455/1309 [00:01<00:02, 390.82files/s, preprocess]"
     ]
    },
    {
     "name": "stderr",
     "output_type": "stream",
     "text": [
      "\r",
      " 38%|███▊      | 502/1309 [00:01<00:01, 406.99files/s, preprocess]"
     ]
    },
    {
     "name": "stderr",
     "output_type": "stream",
     "text": [
      "\r",
      " 42%|████▏     | 548/1309 [00:01<00:01, 417.83files/s, preprocess]"
     ]
    },
    {
     "name": "stderr",
     "output_type": "stream",
     "text": [
      "\r",
      " 45%|████▌     | 594/1309 [00:01<00:01, 426.97files/s, preprocess]"
     ]
    },
    {
     "name": "stderr",
     "output_type": "stream",
     "text": [
      "\r",
      " 49%|████▉     | 640/1309 [00:01<00:01, 432.61files/s, preprocess]"
     ]
    },
    {
     "name": "stderr",
     "output_type": "stream",
     "text": [
      "\r",
      " 52%|█████▏    | 686/1309 [00:01<00:01, 437.82files/s, preprocess]"
     ]
    },
    {
     "name": "stderr",
     "output_type": "stream",
     "text": [
      "\r",
      " 56%|█████▌    | 732/1309 [00:01<00:01, 438.18files/s, preprocess]"
     ]
    },
    {
     "name": "stderr",
     "output_type": "stream",
     "text": [
      "\r",
      " 59%|█████▉    | 777/1309 [00:02<00:01, 434.68files/s, preprocess]"
     ]
    },
    {
     "name": "stderr",
     "output_type": "stream",
     "text": [
      "\r",
      " 63%|██████▎   | 822/1309 [00:02<00:01, 438.82files/s, preprocess]"
     ]
    },
    {
     "name": "stderr",
     "output_type": "stream",
     "text": [
      "\r",
      " 66%|██████▌   | 867/1309 [00:02<00:01, 440.52files/s, preprocess]"
     ]
    },
    {
     "name": "stderr",
     "output_type": "stream",
     "text": [
      "\r",
      " 70%|██████▉   | 912/1309 [00:02<00:00, 443.16files/s, preprocess]"
     ]
    },
    {
     "name": "stderr",
     "output_type": "stream",
     "text": [
      "\r",
      " 73%|███████▎  | 958/1309 [00:02<00:00, 445.66files/s, preprocess]"
     ]
    },
    {
     "name": "stderr",
     "output_type": "stream",
     "text": [
      "\r",
      " 77%|███████▋  | 1003/1309 [00:03<00:01, 174.06files/s, preprocess]"
     ]
    },
    {
     "name": "stderr",
     "output_type": "stream",
     "text": [
      "\r",
      " 80%|███████▉  | 1047/1309 [00:03<00:01, 211.58files/s, preprocess]"
     ]
    },
    {
     "name": "stderr",
     "output_type": "stream",
     "text": [
      "\r",
      " 83%|████████▎ | 1092/1309 [00:03<00:00, 251.49files/s, preprocess]"
     ]
    },
    {
     "name": "stderr",
     "output_type": "stream",
     "text": [
      "\r",
      " 87%|████████▋ | 1137/1309 [00:03<00:00, 289.82files/s, preprocess]"
     ]
    },
    {
     "name": "stderr",
     "output_type": "stream",
     "text": [
      "\r",
      " 90%|████████▉ | 1178/1309 [00:03<00:00, 201.38files/s, preprocess]"
     ]
    },
    {
     "name": "stderr",
     "output_type": "stream",
     "text": [
      "\r",
      " 94%|█████████▍| 1231/1309 [00:03<00:00, 254.80files/s, preprocess]"
     ]
    },
    {
     "name": "stderr",
     "output_type": "stream",
     "text": [
      "\r",
      " 98%|█████████▊| 1283/1309 [00:03<00:00, 305.15files/s, preprocess]"
     ]
    },
    {
     "name": "stderr",
     "output_type": "stream",
     "text": [
      "\r",
      "100%|██████████| 1309/1309 [00:04<00:00, 322.98files/s, preprocess]"
     ]
    },
    {
     "name": "stderr",
     "output_type": "stream",
     "text": [
      "\n"
     ]
    }
   ],
   "source": [
    "pydicer.preprocess()"
   ]
  },
  {
   "cell_type": "markdown",
   "metadata": {},
   "source": [
    "### Inspect Preprocessed Data\n",
    "\n",
    "Here we load the data that was indexed during preprocessing and output the first rows. This data\n",
    "will be used by the following step of data conversion."
   ]
  },
  {
   "cell_type": "code",
   "execution_count": 5,
   "metadata": {
    "execution": {
     "iopub.execute_input": "2023-12-05T03:08:26.378272Z",
     "iopub.status.busy": "2023-12-05T03:08:26.378065Z",
     "iopub.status.idle": "2023-12-05T03:08:26.398071Z",
     "shell.execute_reply": "2023-12-05T03:08:26.397382Z"
    }
   },
   "outputs": [
    {
     "data": {
      "text/html": [
       "<div>\n",
       "<style scoped>\n",
       "    .dataframe tbody tr th:only-of-type {\n",
       "        vertical-align: middle;\n",
       "    }\n",
       "\n",
       "    .dataframe tbody tr th {\n",
       "        vertical-align: top;\n",
       "    }\n",
       "\n",
       "    .dataframe thead th {\n",
       "        text-align: right;\n",
       "    }\n",
       "</style>\n",
       "<table border=\"1\" class=\"dataframe\">\n",
       "  <thead>\n",
       "    <tr style=\"text-align: right;\">\n",
       "      <th></th>\n",
       "      <th>patient_id</th>\n",
       "      <th>study_uid</th>\n",
       "      <th>series_uid</th>\n",
       "      <th>modality</th>\n",
       "      <th>sop_class_uid</th>\n",
       "      <th>sop_instance_uid</th>\n",
       "      <th>for_uid</th>\n",
       "      <th>file_path</th>\n",
       "      <th>slice_location</th>\n",
       "      <th>referenced_uid</th>\n",
       "      <th>referenced_for_uid</th>\n",
       "    </tr>\n",
       "  </thead>\n",
       "  <tbody>\n",
       "    <tr>\n",
       "      <th>1197</th>\n",
       "      <td>HNSCC-01-0019</td>\n",
       "      <td>1.3.6.1.4.1.14519.5.2.1.1706.8040.797724702538...</td>\n",
       "      <td>1.3.6.1.4.1.14519.5.2.1.1706.8040.233510441938...</td>\n",
       "      <td>CT</td>\n",
       "      <td>1.2.840.10008.5.1.4.1.1.2</td>\n",
       "      <td>1.3.6.1.4.1.14519.5.2.1.1706.8040.418136430763...</td>\n",
       "      <td>1.3.6.1.4.1.14519.5.2.1.1706.8040.290727775603...</td>\n",
       "      <td>working/dicom/HNSCC/HNSCC-01-0019/07-04-1998-N...</td>\n",
       "      <td>-807.0</td>\n",
       "      <td>NaN</td>\n",
       "      <td>NaN</td>\n",
       "    </tr>\n",
       "    <tr>\n",
       "      <th>1226</th>\n",
       "      <td>HNSCC-01-0019</td>\n",
       "      <td>1.3.6.1.4.1.14519.5.2.1.1706.8040.797724702538...</td>\n",
       "      <td>1.3.6.1.4.1.14519.5.2.1.1706.8040.233510441938...</td>\n",
       "      <td>CT</td>\n",
       "      <td>1.2.840.10008.5.1.4.1.1.2</td>\n",
       "      <td>1.3.6.1.4.1.14519.5.2.1.1706.8040.206018114826...</td>\n",
       "      <td>1.3.6.1.4.1.14519.5.2.1.1706.8040.290727775603...</td>\n",
       "      <td>working/dicom/HNSCC/HNSCC-01-0019/07-04-1998-N...</td>\n",
       "      <td>-804.0</td>\n",
       "      <td>NaN</td>\n",
       "      <td>NaN</td>\n",
       "    </tr>\n",
       "    <tr>\n",
       "      <th>1285</th>\n",
       "      <td>HNSCC-01-0019</td>\n",
       "      <td>1.3.6.1.4.1.14519.5.2.1.1706.8040.797724702538...</td>\n",
       "      <td>1.3.6.1.4.1.14519.5.2.1.1706.8040.233510441938...</td>\n",
       "      <td>CT</td>\n",
       "      <td>1.2.840.10008.5.1.4.1.1.2</td>\n",
       "      <td>1.3.6.1.4.1.14519.5.2.1.1706.8040.100785615013...</td>\n",
       "      <td>1.3.6.1.4.1.14519.5.2.1.1706.8040.290727775603...</td>\n",
       "      <td>working/dicom/HNSCC/HNSCC-01-0019/07-04-1998-N...</td>\n",
       "      <td>-801.0</td>\n",
       "      <td>NaN</td>\n",
       "      <td>NaN</td>\n",
       "    </tr>\n",
       "    <tr>\n",
       "      <th>1256</th>\n",
       "      <td>HNSCC-01-0019</td>\n",
       "      <td>1.3.6.1.4.1.14519.5.2.1.1706.8040.797724702538...</td>\n",
       "      <td>1.3.6.1.4.1.14519.5.2.1.1706.8040.233510441938...</td>\n",
       "      <td>CT</td>\n",
       "      <td>1.2.840.10008.5.1.4.1.1.2</td>\n",
       "      <td>1.3.6.1.4.1.14519.5.2.1.1706.8040.113351005230...</td>\n",
       "      <td>1.3.6.1.4.1.14519.5.2.1.1706.8040.290727775603...</td>\n",
       "      <td>working/dicom/HNSCC/HNSCC-01-0019/07-04-1998-N...</td>\n",
       "      <td>-798.0</td>\n",
       "      <td>NaN</td>\n",
       "      <td>NaN</td>\n",
       "    </tr>\n",
       "    <tr>\n",
       "      <th>1228</th>\n",
       "      <td>HNSCC-01-0019</td>\n",
       "      <td>1.3.6.1.4.1.14519.5.2.1.1706.8040.797724702538...</td>\n",
       "      <td>1.3.6.1.4.1.14519.5.2.1.1706.8040.233510441938...</td>\n",
       "      <td>CT</td>\n",
       "      <td>1.2.840.10008.5.1.4.1.1.2</td>\n",
       "      <td>1.3.6.1.4.1.14519.5.2.1.1706.8040.112029189313...</td>\n",
       "      <td>1.3.6.1.4.1.14519.5.2.1.1706.8040.290727775603...</td>\n",
       "      <td>working/dicom/HNSCC/HNSCC-01-0019/07-04-1998-N...</td>\n",
       "      <td>-795.0</td>\n",
       "      <td>NaN</td>\n",
       "      <td>NaN</td>\n",
       "    </tr>\n",
       "  </tbody>\n",
       "</table>\n",
       "</div>"
      ],
      "text/plain": [
       "         patient_id                                          study_uid  \\\n",
       "1197  HNSCC-01-0019  1.3.6.1.4.1.14519.5.2.1.1706.8040.797724702538...   \n",
       "1226  HNSCC-01-0019  1.3.6.1.4.1.14519.5.2.1.1706.8040.797724702538...   \n",
       "1285  HNSCC-01-0019  1.3.6.1.4.1.14519.5.2.1.1706.8040.797724702538...   \n",
       "1256  HNSCC-01-0019  1.3.6.1.4.1.14519.5.2.1.1706.8040.797724702538...   \n",
       "1228  HNSCC-01-0019  1.3.6.1.4.1.14519.5.2.1.1706.8040.797724702538...   \n",
       "\n",
       "                                             series_uid modality  \\\n",
       "1197  1.3.6.1.4.1.14519.5.2.1.1706.8040.233510441938...       CT   \n",
       "1226  1.3.6.1.4.1.14519.5.2.1.1706.8040.233510441938...       CT   \n",
       "1285  1.3.6.1.4.1.14519.5.2.1.1706.8040.233510441938...       CT   \n",
       "1256  1.3.6.1.4.1.14519.5.2.1.1706.8040.233510441938...       CT   \n",
       "1228  1.3.6.1.4.1.14519.5.2.1.1706.8040.233510441938...       CT   \n",
       "\n",
       "                  sop_class_uid  \\\n",
       "1197  1.2.840.10008.5.1.4.1.1.2   \n",
       "1226  1.2.840.10008.5.1.4.1.1.2   \n",
       "1285  1.2.840.10008.5.1.4.1.1.2   \n",
       "1256  1.2.840.10008.5.1.4.1.1.2   \n",
       "1228  1.2.840.10008.5.1.4.1.1.2   \n",
       "\n",
       "                                       sop_instance_uid  \\\n",
       "1197  1.3.6.1.4.1.14519.5.2.1.1706.8040.418136430763...   \n",
       "1226  1.3.6.1.4.1.14519.5.2.1.1706.8040.206018114826...   \n",
       "1285  1.3.6.1.4.1.14519.5.2.1.1706.8040.100785615013...   \n",
       "1256  1.3.6.1.4.1.14519.5.2.1.1706.8040.113351005230...   \n",
       "1228  1.3.6.1.4.1.14519.5.2.1.1706.8040.112029189313...   \n",
       "\n",
       "                                                for_uid  \\\n",
       "1197  1.3.6.1.4.1.14519.5.2.1.1706.8040.290727775603...   \n",
       "1226  1.3.6.1.4.1.14519.5.2.1.1706.8040.290727775603...   \n",
       "1285  1.3.6.1.4.1.14519.5.2.1.1706.8040.290727775603...   \n",
       "1256  1.3.6.1.4.1.14519.5.2.1.1706.8040.290727775603...   \n",
       "1228  1.3.6.1.4.1.14519.5.2.1.1706.8040.290727775603...   \n",
       "\n",
       "                                              file_path  slice_location  \\\n",
       "1197  working/dicom/HNSCC/HNSCC-01-0019/07-04-1998-N...          -807.0   \n",
       "1226  working/dicom/HNSCC/HNSCC-01-0019/07-04-1998-N...          -804.0   \n",
       "1285  working/dicom/HNSCC/HNSCC-01-0019/07-04-1998-N...          -801.0   \n",
       "1256  working/dicom/HNSCC/HNSCC-01-0019/07-04-1998-N...          -798.0   \n",
       "1228  working/dicom/HNSCC/HNSCC-01-0019/07-04-1998-N...          -795.0   \n",
       "\n",
       "     referenced_uid referenced_for_uid  \n",
       "1197            NaN                NaN  \n",
       "1226            NaN                NaN  \n",
       "1285            NaN                NaN  \n",
       "1256            NaN                NaN  \n",
       "1228            NaN                NaN  "
      ]
     },
     "execution_count": 5,
     "metadata": {},
     "output_type": "execute_result"
    }
   ],
   "source": [
    "df_preprocessed = pydicer.read_preprocessed_data()\n",
    "df_preprocessed.head()"
   ]
  },
  {
   "cell_type": "markdown",
   "metadata": {},
   "source": [
    "## Convert Data\n",
    "\n",
    "With the DICOM data having been indexed during preprocessing, we are now ready to convert this data\n",
    "into NIfTI format which will be stored within the PyDicer standard directory structure.\n",
    "\n",
    "Running the following cell will begin the conversion process. While this cell is running, take a\n",
    "look inside the `working/data` directory to see how the converted data is being stored.\n",
    "\n",
    "Notice the `converted.csv` file stored for each patient. This tracks each converted data object.\n",
    "This will be loaded as a Pandas DataFrame for use throughout PyDicer.\n"
   ]
  },
  {
   "cell_type": "code",
   "execution_count": 6,
   "metadata": {
    "execution": {
     "iopub.execute_input": "2023-12-05T03:08:26.400463Z",
     "iopub.status.busy": "2023-12-05T03:08:26.400270Z",
     "iopub.status.idle": "2023-12-05T03:12:31.471937Z",
     "shell.execute_reply": "2023-12-05T03:12:31.471285Z"
    }
   },
   "outputs": [
    {
     "name": "stderr",
     "output_type": "stream",
     "text": [
      "\r",
      "  0%|          | 0/21 [00:00<?, ?objects/s, convert]"
     ]
    },
    {
     "name": "stderr",
     "output_type": "stream",
     "text": [
      "\r",
      "  5%|▍         | 1/21 [00:01<00:39,  1.97s/objects, convert]"
     ]
    },
    {
     "name": "stderr",
     "output_type": "stream",
     "text": [
      "\r",
      " 14%|█▍        | 3/21 [00:02<00:11,  1.57objects/s, convert]"
     ]
    },
    {
     "name": "stderr",
     "output_type": "stream",
     "text": [
      "\r",
      " 19%|█▉        | 4/21 [00:50<04:52, 17.20s/objects, convert]"
     ]
    },
    {
     "name": "stderr",
     "output_type": "stream",
     "text": [
      "\r",
      " 24%|██▍       | 5/21 [00:52<03:13, 12.11s/objects, convert]"
     ]
    },
    {
     "name": "stderr",
     "output_type": "stream",
     "text": [
      "WARNING: In /tmp/SimpleITK-build/ITK-prefix/include/ITK-5.3/itkImageSeriesReader.hxx, line 477\n",
      "ImageSeriesReader (0x5594ef7ba930): Non uniform sampling or missing slices detected,  maximum nonuniformity:0.000641026\n",
      "\n"
     ]
    },
    {
     "name": "stderr",
     "output_type": "stream",
     "text": [
      "\r",
      " 29%|██▊       | 6/21 [00:53<02:09,  8.61s/objects, convert]"
     ]
    },
    {
     "name": "stderr",
     "output_type": "stream",
     "text": [
      "WARNING: In /tmp/SimpleITK-build/ITK-prefix/include/ITK-5.3/itkImageSeriesReader.hxx, line 477\n",
      "ImageSeriesReader (0x5594ef7ba930): Non uniform sampling or missing slices detected,  maximum nonuniformity:0.000641026\n",
      "\n"
     ]
    },
    {
     "name": "stderr",
     "output_type": "stream",
     "text": [
      "\r",
      " 33%|███▎      | 7/21 [00:55<01:27,  6.28s/objects, convert]"
     ]
    },
    {
     "name": "stderr",
     "output_type": "stream",
     "text": [
      "\r",
      " 38%|███▊      | 8/21 [00:57<01:05,  5.04s/objects, convert]"
     ]
    },
    {
     "name": "stderr",
     "output_type": "stream",
     "text": [
      "\r",
      " 48%|████▊     | 10/21 [00:59<00:34,  3.18s/objects, convert]"
     ]
    },
    {
     "name": "stderr",
     "output_type": "stream",
     "text": [
      "\r",
      " 52%|█████▏    | 11/21 [01:02<00:31,  3.13s/objects, convert]"
     ]
    },
    {
     "name": "stderr",
     "output_type": "stream",
     "text": [
      "\r",
      " 62%|██████▏   | 13/21 [01:02<00:14,  1.86s/objects, convert]"
     ]
    },
    {
     "name": "stderr",
     "output_type": "stream",
     "text": [
      "\r",
      " 67%|██████▋   | 14/21 [01:02<00:10,  1.48s/objects, convert]"
     ]
    },
    {
     "name": "stderr",
     "output_type": "stream",
     "text": [
      "\r",
      " 71%|███████▏  | 15/21 [01:03<00:06,  1.16s/objects, convert]"
     ]
    },
    {
     "name": "stderr",
     "output_type": "stream",
     "text": [
      "\r",
      " 76%|███████▌  | 16/21 [02:03<01:23, 16.69s/objects, convert]"
     ]
    },
    {
     "name": "stderr",
     "output_type": "stream",
     "text": [
      "\r",
      " 81%|████████  | 17/21 [02:56<01:46, 26.57s/objects, convert]"
     ]
    },
    {
     "name": "stderr",
     "output_type": "stream",
     "text": [
      "\r",
      " 86%|████████▌ | 18/21 [02:59<00:59, 19.90s/objects, convert]"
     ]
    },
    {
     "name": "stderr",
     "output_type": "stream",
     "text": [
      "\r",
      " 95%|█████████▌| 20/21 [02:59<00:11, 11.13s/objects, convert]"
     ]
    },
    {
     "name": "stderr",
     "output_type": "stream",
     "text": [
      "\r",
      "100%|██████████| 21/21 [04:05<00:00, 24.17s/objects, convert]"
     ]
    },
    {
     "name": "stderr",
     "output_type": "stream",
     "text": [
      "\r",
      "100%|██████████| 21/21 [04:05<00:00, 11.67s/objects, convert]"
     ]
    },
    {
     "name": "stderr",
     "output_type": "stream",
     "text": [
      "\n"
     ]
    }
   ],
   "source": [
    "pydicer.convert.convert()"
   ]
  },
  {
   "cell_type": "markdown",
   "metadata": {},
   "source": [
    "### Load Converted DataFrame\n",
    "\n",
    "Once data is converted, we can load a Pandas DataFrame which contains a description of each object\n",
    "converted.\n",
    "\n",
    "The most useful columns in the DataFrame for working with this data in PyDicer are:\n",
    "- `hashed_uid`: This is a 6 character hexidecimal hash of the associated DICOM SeriesInstanceUID.\n",
    "  PyDicer refers to objects using this hashed identifier for a more consice representation.\n",
    "- `modality`: The modality of the data object.\n",
    "- `patient_id`: The ID of the patient this data object belongs to.\n",
    "- `path`: The path within the working directory where files for this data object are stored."
   ]
  },
  {
   "cell_type": "code",
   "execution_count": 7,
   "metadata": {
    "execution": {
     "iopub.execute_input": "2023-12-05T03:12:31.474543Z",
     "iopub.status.busy": "2023-12-05T03:12:31.474194Z",
     "iopub.status.idle": "2023-12-05T03:12:31.490520Z",
     "shell.execute_reply": "2023-12-05T03:12:31.489870Z"
    }
   },
   "outputs": [
    {
     "data": {
      "text/html": [
       "<div>\n",
       "<style scoped>\n",
       "    .dataframe tbody tr th:only-of-type {\n",
       "        vertical-align: middle;\n",
       "    }\n",
       "\n",
       "    .dataframe tbody tr th {\n",
       "        vertical-align: top;\n",
       "    }\n",
       "\n",
       "    .dataframe thead th {\n",
       "        text-align: right;\n",
       "    }\n",
       "</style>\n",
       "<table border=\"1\" class=\"dataframe\">\n",
       "  <thead>\n",
       "    <tr style=\"text-align: right;\">\n",
       "      <th></th>\n",
       "      <th>sop_instance_uid</th>\n",
       "      <th>hashed_uid</th>\n",
       "      <th>modality</th>\n",
       "      <th>patient_id</th>\n",
       "      <th>series_uid</th>\n",
       "      <th>for_uid</th>\n",
       "      <th>referenced_sop_instance_uid</th>\n",
       "      <th>path</th>\n",
       "    </tr>\n",
       "  </thead>\n",
       "  <tbody>\n",
       "    <tr>\n",
       "      <th>0</th>\n",
       "      <td>1.3.6.1.4.1.14519.5.2.1.1706.8040.334001018535...</td>\n",
       "      <td>c4ffd0</td>\n",
       "      <td>CT</td>\n",
       "      <td>HNSCC-01-0176</td>\n",
       "      <td>1.3.6.1.4.1.14519.5.2.1.1706.8040.151938046710...</td>\n",
       "      <td>1.3.6.1.4.1.14519.5.2.1.1706.8040.120880328745...</td>\n",
       "      <td>NaN</td>\n",
       "      <td>working/data/HNSCC-01-0176/images/c4ffd0</td>\n",
       "    </tr>\n",
       "    <tr>\n",
       "      <th>1</th>\n",
       "      <td>1.3.6.1.4.1.14519.5.2.1.1706.8040.107072817915...</td>\n",
       "      <td>8e0da9</td>\n",
       "      <td>CT</td>\n",
       "      <td>HNSCC-01-0176</td>\n",
       "      <td>1.3.6.1.4.1.14519.5.2.1.1706.8040.176143398282...</td>\n",
       "      <td>1.3.6.1.4.1.14519.5.2.1.1706.8040.216161306702...</td>\n",
       "      <td>NaN</td>\n",
       "      <td>working/data/HNSCC-01-0176/images/8e0da9</td>\n",
       "    </tr>\n",
       "    <tr>\n",
       "      <th>2</th>\n",
       "      <td>1.3.6.1.4.1.14519.5.2.1.1706.8040.133948865586...</td>\n",
       "      <td>ec4aec</td>\n",
       "      <td>CT</td>\n",
       "      <td>HNSCC-01-0176</td>\n",
       "      <td>1.3.6.1.4.1.14519.5.2.1.1706.8040.192899726585...</td>\n",
       "      <td>1.3.6.1.4.1.14519.5.2.1.1706.8040.216161306702...</td>\n",
       "      <td>NaN</td>\n",
       "      <td>working/data/HNSCC-01-0176/images/ec4aec</td>\n",
       "    </tr>\n",
       "    <tr>\n",
       "      <th>3</th>\n",
       "      <td>1.3.6.1.4.1.14519.5.2.1.1706.8040.469610481459...</td>\n",
       "      <td>33c44a</td>\n",
       "      <td>CT</td>\n",
       "      <td>HNSCC-01-0176</td>\n",
       "      <td>1.3.6.1.4.1.14519.5.2.1.1706.8040.244362210503...</td>\n",
       "      <td>1.3.6.1.4.1.14519.5.2.1.1706.8040.310630617866...</td>\n",
       "      <td>NaN</td>\n",
       "      <td>working/data/HNSCC-01-0176/images/33c44a</td>\n",
       "    </tr>\n",
       "    <tr>\n",
       "      <th>4</th>\n",
       "      <td>1.3.6.1.4.1.14519.5.2.1.1706.8040.169033525924...</td>\n",
       "      <td>833a74</td>\n",
       "      <td>RTDOSE</td>\n",
       "      <td>HNSCC-01-0176</td>\n",
       "      <td>1.3.6.1.4.1.14519.5.2.1.1706.8040.279793773343...</td>\n",
       "      <td>1.3.6.1.4.1.14519.5.2.1.1706.8040.706719210726...</td>\n",
       "      <td>1.3.6.1.4.1.14519.5.2.1.1706.8040.470253980284...</td>\n",
       "      <td>working/data/HNSCC-01-0176/doses/833a74</td>\n",
       "    </tr>\n",
       "    <tr>\n",
       "      <th>5</th>\n",
       "      <td>1.3.6.1.4.1.14519.5.2.1.1706.8040.267291308489...</td>\n",
       "      <td>bf3fba</td>\n",
       "      <td>RTDOSE</td>\n",
       "      <td>HNSCC-01-0176</td>\n",
       "      <td>1.3.6.1.4.1.14519.5.2.1.1706.8040.283706688235...</td>\n",
       "      <td>1.3.6.1.4.1.14519.5.2.1.1706.8040.566662631858...</td>\n",
       "      <td>1.3.6.1.4.1.14519.5.2.1.1706.8040.173917268454...</td>\n",
       "      <td>working/data/HNSCC-01-0176/doses/bf3fba</td>\n",
       "    </tr>\n",
       "    <tr>\n",
       "      <th>6</th>\n",
       "      <td>1.3.6.1.4.1.14519.5.2.1.1706.8040.173917268454...</td>\n",
       "      <td>6f7db7</td>\n",
       "      <td>RTPLAN</td>\n",
       "      <td>HNSCC-01-0176</td>\n",
       "      <td>1.3.6.1.4.1.14519.5.2.1.1706.8040.120111576192...</td>\n",
       "      <td>1.3.6.1.4.1.14519.5.2.1.1706.8040.566662631858...</td>\n",
       "      <td>1.3.6.1.4.1.14519.5.2.1.1706.8040.323156708629...</td>\n",
       "      <td>working/data/HNSCC-01-0176/plans/6f7db7</td>\n",
       "    </tr>\n",
       "    <tr>\n",
       "      <th>7</th>\n",
       "      <td>1.3.6.1.4.1.14519.5.2.1.1706.8040.470253980284...</td>\n",
       "      <td>a6b346</td>\n",
       "      <td>RTPLAN</td>\n",
       "      <td>HNSCC-01-0176</td>\n",
       "      <td>1.3.6.1.4.1.14519.5.2.1.1706.8040.318927873561...</td>\n",
       "      <td>1.3.6.1.4.1.14519.5.2.1.1706.8040.706719210726...</td>\n",
       "      <td>1.3.6.1.4.1.14519.5.2.1.1706.8040.403955456521...</td>\n",
       "      <td>working/data/HNSCC-01-0176/plans/a6b346</td>\n",
       "    </tr>\n",
       "    <tr>\n",
       "      <th>8</th>\n",
       "      <td>1.3.6.1.4.1.14519.5.2.1.1706.8040.403955456521...</td>\n",
       "      <td>cbbf5b</td>\n",
       "      <td>RTSTRUCT</td>\n",
       "      <td>HNSCC-01-0176</td>\n",
       "      <td>1.3.6.1.4.1.14519.5.2.1.1706.8040.276897558084...</td>\n",
       "      <td>1.3.6.1.4.1.14519.5.2.1.1706.8040.120880328745...</td>\n",
       "      <td>1.3.6.1.4.1.14519.5.2.1.1706.8040.334001018535...</td>\n",
       "      <td>working/data/HNSCC-01-0176/structures/cbbf5b</td>\n",
       "    </tr>\n",
       "    <tr>\n",
       "      <th>9</th>\n",
       "      <td>1.3.6.1.4.1.14519.5.2.1.1706.8040.323156708629...</td>\n",
       "      <td>6d2934</td>\n",
       "      <td>RTSTRUCT</td>\n",
       "      <td>HNSCC-01-0176</td>\n",
       "      <td>1.3.6.1.4.1.14519.5.2.1.1706.8040.495627765798...</td>\n",
       "      <td>1.3.6.1.4.1.14519.5.2.1.1706.8040.310630617866...</td>\n",
       "      <td>1.3.6.1.4.1.14519.5.2.1.1706.8040.469610481459...</td>\n",
       "      <td>working/data/HNSCC-01-0176/structures/6d2934</td>\n",
       "    </tr>\n",
       "    <tr>\n",
       "      <th>10</th>\n",
       "      <td>1.3.6.1.4.1.14519.5.2.1.1706.8040.240263316258...</td>\n",
       "      <td>72b0f9</td>\n",
       "      <td>CT</td>\n",
       "      <td>HNSCC-01-0199</td>\n",
       "      <td>1.3.6.1.4.1.14519.5.2.1.1706.8040.261759476368...</td>\n",
       "      <td>1.3.6.1.4.1.14519.5.2.1.1706.8040.870916135819...</td>\n",
       "      <td>NaN</td>\n",
       "      <td>working/data/HNSCC-01-0199/images/72b0f9</td>\n",
       "    </tr>\n",
       "    <tr>\n",
       "      <th>11</th>\n",
       "      <td>1.3.6.1.4.1.14519.5.2.1.1706.8040.264264397186...</td>\n",
       "      <td>c16e76</td>\n",
       "      <td>RTDOSE</td>\n",
       "      <td>HNSCC-01-0199</td>\n",
       "      <td>1.3.6.1.4.1.14519.5.2.1.1706.8040.233527028792...</td>\n",
       "      <td>1.3.6.1.4.1.14519.5.2.1.1706.8040.870916135819...</td>\n",
       "      <td>1.3.6.1.4.1.14519.5.2.1.1706.8040.287865632112...</td>\n",
       "      <td>working/data/HNSCC-01-0199/doses/c16e76</td>\n",
       "    </tr>\n",
       "    <tr>\n",
       "      <th>12</th>\n",
       "      <td>1.3.6.1.4.1.14519.5.2.1.1706.8040.287865632112...</td>\n",
       "      <td>664e96</td>\n",
       "      <td>RTPLAN</td>\n",
       "      <td>HNSCC-01-0199</td>\n",
       "      <td>1.3.6.1.4.1.14519.5.2.1.1706.8040.137463901488...</td>\n",
       "      <td>1.3.6.1.4.1.14519.5.2.1.1706.8040.870916135819...</td>\n",
       "      <td>1.3.6.1.4.1.14519.5.2.1.1706.8040.166429645421...</td>\n",
       "      <td>working/data/HNSCC-01-0199/plans/664e96</td>\n",
       "    </tr>\n",
       "    <tr>\n",
       "      <th>13</th>\n",
       "      <td>1.3.6.1.4.1.14519.5.2.1.1706.8040.166429645421...</td>\n",
       "      <td>06e49c</td>\n",
       "      <td>RTSTRUCT</td>\n",
       "      <td>HNSCC-01-0199</td>\n",
       "      <td>1.3.6.1.4.1.14519.5.2.1.1706.8040.243934637013...</td>\n",
       "      <td>1.3.6.1.4.1.14519.5.2.1.1706.8040.870916135819...</td>\n",
       "      <td>1.3.6.1.4.1.14519.5.2.1.1706.8040.240263316258...</td>\n",
       "      <td>working/data/HNSCC-01-0199/structures/06e49c</td>\n",
       "    </tr>\n",
       "    <tr>\n",
       "      <th>14</th>\n",
       "      <td>1.3.6.1.4.1.14519.5.2.1.1706.8040.418136430763...</td>\n",
       "      <td>b281ea</td>\n",
       "      <td>CT</td>\n",
       "      <td>HNSCC-01-0019</td>\n",
       "      <td>1.3.6.1.4.1.14519.5.2.1.1706.8040.233510441938...</td>\n",
       "      <td>1.3.6.1.4.1.14519.5.2.1.1706.8040.290727775603...</td>\n",
       "      <td>NaN</td>\n",
       "      <td>working/data/HNSCC-01-0019/images/b281ea</td>\n",
       "    </tr>\n",
       "    <tr>\n",
       "      <th>15</th>\n",
       "      <td>1.3.6.1.4.1.14519.5.2.1.1706.8040.242809596262...</td>\n",
       "      <td>309e1a</td>\n",
       "      <td>RTDOSE</td>\n",
       "      <td>HNSCC-01-0019</td>\n",
       "      <td>1.3.6.1.4.1.14519.5.2.1.1706.8040.777975715563...</td>\n",
       "      <td>1.3.6.1.4.1.14519.5.2.1.1706.8040.290727775603...</td>\n",
       "      <td>1.3.6.1.4.1.14519.5.2.1.1706.8040.254865609982...</td>\n",
       "      <td>working/data/HNSCC-01-0019/doses/309e1a</td>\n",
       "    </tr>\n",
       "    <tr>\n",
       "      <th>16</th>\n",
       "      <td>1.3.6.1.4.1.14519.5.2.1.1706.8040.254865609982...</td>\n",
       "      <td>57b99f</td>\n",
       "      <td>RTPLAN</td>\n",
       "      <td>HNSCC-01-0019</td>\n",
       "      <td>1.3.6.1.4.1.14519.5.2.1.1706.8040.202542618630...</td>\n",
       "      <td>1.3.6.1.4.1.14519.5.2.1.1706.8040.290727775603...</td>\n",
       "      <td>1.3.6.1.4.1.14519.5.2.1.1706.8040.168221415040...</td>\n",
       "      <td>working/data/HNSCC-01-0019/plans/57b99f</td>\n",
       "    </tr>\n",
       "    <tr>\n",
       "      <th>17</th>\n",
       "      <td>1.3.6.1.4.1.14519.5.2.1.1706.8040.168221415040...</td>\n",
       "      <td>7cdcd9</td>\n",
       "      <td>RTSTRUCT</td>\n",
       "      <td>HNSCC-01-0019</td>\n",
       "      <td>1.3.6.1.4.1.14519.5.2.1.1706.8040.103450757970...</td>\n",
       "      <td>1.3.6.1.4.1.14519.5.2.1.1706.8040.290727775603...</td>\n",
       "      <td>1.3.6.1.4.1.14519.5.2.1.1706.8040.418136430763...</td>\n",
       "      <td>working/data/HNSCC-01-0019/structures/7cdcd9</td>\n",
       "    </tr>\n",
       "  </tbody>\n",
       "</table>\n",
       "</div>"
      ],
      "text/plain": [
       "                                     sop_instance_uid hashed_uid  modality  \\\n",
       "0   1.3.6.1.4.1.14519.5.2.1.1706.8040.334001018535...     c4ffd0        CT   \n",
       "1   1.3.6.1.4.1.14519.5.2.1.1706.8040.107072817915...     8e0da9        CT   \n",
       "2   1.3.6.1.4.1.14519.5.2.1.1706.8040.133948865586...     ec4aec        CT   \n",
       "3   1.3.6.1.4.1.14519.5.2.1.1706.8040.469610481459...     33c44a        CT   \n",
       "4   1.3.6.1.4.1.14519.5.2.1.1706.8040.169033525924...     833a74    RTDOSE   \n",
       "5   1.3.6.1.4.1.14519.5.2.1.1706.8040.267291308489...     bf3fba    RTDOSE   \n",
       "6   1.3.6.1.4.1.14519.5.2.1.1706.8040.173917268454...     6f7db7    RTPLAN   \n",
       "7   1.3.6.1.4.1.14519.5.2.1.1706.8040.470253980284...     a6b346    RTPLAN   \n",
       "8   1.3.6.1.4.1.14519.5.2.1.1706.8040.403955456521...     cbbf5b  RTSTRUCT   \n",
       "9   1.3.6.1.4.1.14519.5.2.1.1706.8040.323156708629...     6d2934  RTSTRUCT   \n",
       "10  1.3.6.1.4.1.14519.5.2.1.1706.8040.240263316258...     72b0f9        CT   \n",
       "11  1.3.6.1.4.1.14519.5.2.1.1706.8040.264264397186...     c16e76    RTDOSE   \n",
       "12  1.3.6.1.4.1.14519.5.2.1.1706.8040.287865632112...     664e96    RTPLAN   \n",
       "13  1.3.6.1.4.1.14519.5.2.1.1706.8040.166429645421...     06e49c  RTSTRUCT   \n",
       "14  1.3.6.1.4.1.14519.5.2.1.1706.8040.418136430763...     b281ea        CT   \n",
       "15  1.3.6.1.4.1.14519.5.2.1.1706.8040.242809596262...     309e1a    RTDOSE   \n",
       "16  1.3.6.1.4.1.14519.5.2.1.1706.8040.254865609982...     57b99f    RTPLAN   \n",
       "17  1.3.6.1.4.1.14519.5.2.1.1706.8040.168221415040...     7cdcd9  RTSTRUCT   \n",
       "\n",
       "       patient_id                                         series_uid  \\\n",
       "0   HNSCC-01-0176  1.3.6.1.4.1.14519.5.2.1.1706.8040.151938046710...   \n",
       "1   HNSCC-01-0176  1.3.6.1.4.1.14519.5.2.1.1706.8040.176143398282...   \n",
       "2   HNSCC-01-0176  1.3.6.1.4.1.14519.5.2.1.1706.8040.192899726585...   \n",
       "3   HNSCC-01-0176  1.3.6.1.4.1.14519.5.2.1.1706.8040.244362210503...   \n",
       "4   HNSCC-01-0176  1.3.6.1.4.1.14519.5.2.1.1706.8040.279793773343...   \n",
       "5   HNSCC-01-0176  1.3.6.1.4.1.14519.5.2.1.1706.8040.283706688235...   \n",
       "6   HNSCC-01-0176  1.3.6.1.4.1.14519.5.2.1.1706.8040.120111576192...   \n",
       "7   HNSCC-01-0176  1.3.6.1.4.1.14519.5.2.1.1706.8040.318927873561...   \n",
       "8   HNSCC-01-0176  1.3.6.1.4.1.14519.5.2.1.1706.8040.276897558084...   \n",
       "9   HNSCC-01-0176  1.3.6.1.4.1.14519.5.2.1.1706.8040.495627765798...   \n",
       "10  HNSCC-01-0199  1.3.6.1.4.1.14519.5.2.1.1706.8040.261759476368...   \n",
       "11  HNSCC-01-0199  1.3.6.1.4.1.14519.5.2.1.1706.8040.233527028792...   \n",
       "12  HNSCC-01-0199  1.3.6.1.4.1.14519.5.2.1.1706.8040.137463901488...   \n",
       "13  HNSCC-01-0199  1.3.6.1.4.1.14519.5.2.1.1706.8040.243934637013...   \n",
       "14  HNSCC-01-0019  1.3.6.1.4.1.14519.5.2.1.1706.8040.233510441938...   \n",
       "15  HNSCC-01-0019  1.3.6.1.4.1.14519.5.2.1.1706.8040.777975715563...   \n",
       "16  HNSCC-01-0019  1.3.6.1.4.1.14519.5.2.1.1706.8040.202542618630...   \n",
       "17  HNSCC-01-0019  1.3.6.1.4.1.14519.5.2.1.1706.8040.103450757970...   \n",
       "\n",
       "                                              for_uid  \\\n",
       "0   1.3.6.1.4.1.14519.5.2.1.1706.8040.120880328745...   \n",
       "1   1.3.6.1.4.1.14519.5.2.1.1706.8040.216161306702...   \n",
       "2   1.3.6.1.4.1.14519.5.2.1.1706.8040.216161306702...   \n",
       "3   1.3.6.1.4.1.14519.5.2.1.1706.8040.310630617866...   \n",
       "4   1.3.6.1.4.1.14519.5.2.1.1706.8040.706719210726...   \n",
       "5   1.3.6.1.4.1.14519.5.2.1.1706.8040.566662631858...   \n",
       "6   1.3.6.1.4.1.14519.5.2.1.1706.8040.566662631858...   \n",
       "7   1.3.6.1.4.1.14519.5.2.1.1706.8040.706719210726...   \n",
       "8   1.3.6.1.4.1.14519.5.2.1.1706.8040.120880328745...   \n",
       "9   1.3.6.1.4.1.14519.5.2.1.1706.8040.310630617866...   \n",
       "10  1.3.6.1.4.1.14519.5.2.1.1706.8040.870916135819...   \n",
       "11  1.3.6.1.4.1.14519.5.2.1.1706.8040.870916135819...   \n",
       "12  1.3.6.1.4.1.14519.5.2.1.1706.8040.870916135819...   \n",
       "13  1.3.6.1.4.1.14519.5.2.1.1706.8040.870916135819...   \n",
       "14  1.3.6.1.4.1.14519.5.2.1.1706.8040.290727775603...   \n",
       "15  1.3.6.1.4.1.14519.5.2.1.1706.8040.290727775603...   \n",
       "16  1.3.6.1.4.1.14519.5.2.1.1706.8040.290727775603...   \n",
       "17  1.3.6.1.4.1.14519.5.2.1.1706.8040.290727775603...   \n",
       "\n",
       "                          referenced_sop_instance_uid  \\\n",
       "0                                                 NaN   \n",
       "1                                                 NaN   \n",
       "2                                                 NaN   \n",
       "3                                                 NaN   \n",
       "4   1.3.6.1.4.1.14519.5.2.1.1706.8040.470253980284...   \n",
       "5   1.3.6.1.4.1.14519.5.2.1.1706.8040.173917268454...   \n",
       "6   1.3.6.1.4.1.14519.5.2.1.1706.8040.323156708629...   \n",
       "7   1.3.6.1.4.1.14519.5.2.1.1706.8040.403955456521...   \n",
       "8   1.3.6.1.4.1.14519.5.2.1.1706.8040.334001018535...   \n",
       "9   1.3.6.1.4.1.14519.5.2.1.1706.8040.469610481459...   \n",
       "10                                                NaN   \n",
       "11  1.3.6.1.4.1.14519.5.2.1.1706.8040.287865632112...   \n",
       "12  1.3.6.1.4.1.14519.5.2.1.1706.8040.166429645421...   \n",
       "13  1.3.6.1.4.1.14519.5.2.1.1706.8040.240263316258...   \n",
       "14                                                NaN   \n",
       "15  1.3.6.1.4.1.14519.5.2.1.1706.8040.254865609982...   \n",
       "16  1.3.6.1.4.1.14519.5.2.1.1706.8040.168221415040...   \n",
       "17  1.3.6.1.4.1.14519.5.2.1.1706.8040.418136430763...   \n",
       "\n",
       "                                            path  \n",
       "0       working/data/HNSCC-01-0176/images/c4ffd0  \n",
       "1       working/data/HNSCC-01-0176/images/8e0da9  \n",
       "2       working/data/HNSCC-01-0176/images/ec4aec  \n",
       "3       working/data/HNSCC-01-0176/images/33c44a  \n",
       "4        working/data/HNSCC-01-0176/doses/833a74  \n",
       "5        working/data/HNSCC-01-0176/doses/bf3fba  \n",
       "6        working/data/HNSCC-01-0176/plans/6f7db7  \n",
       "7        working/data/HNSCC-01-0176/plans/a6b346  \n",
       "8   working/data/HNSCC-01-0176/structures/cbbf5b  \n",
       "9   working/data/HNSCC-01-0176/structures/6d2934  \n",
       "10      working/data/HNSCC-01-0199/images/72b0f9  \n",
       "11       working/data/HNSCC-01-0199/doses/c16e76  \n",
       "12       working/data/HNSCC-01-0199/plans/664e96  \n",
       "13  working/data/HNSCC-01-0199/structures/06e49c  \n",
       "14      working/data/HNSCC-01-0019/images/b281ea  \n",
       "15       working/data/HNSCC-01-0019/doses/309e1a  \n",
       "16       working/data/HNSCC-01-0019/plans/57b99f  \n",
       "17  working/data/HNSCC-01-0019/structures/7cdcd9  "
      ]
     },
     "execution_count": 7,
     "metadata": {},
     "output_type": "execute_result"
    }
   ],
   "source": [
    "df = pydicer.read_converted_data()\n",
    "df"
   ]
  },
  {
   "cell_type": "markdown",
   "metadata": {},
   "source": [
    "## Data Quarantine\n",
    "\n",
    "If anything goes wrong while converting a DICOM object during either the preprocess step or the\n",
    "conversion step, the problematic DICOM data will be copied to the `working/quarantine` directory.\n",
    "\n",
    "It's a good idea to regularly check your quarantine directory to ensure that no critical data\n",
    "objects are being quarantine. If so you may want to consider rectifying the issue and running the\n",
    "preprocess and conversion steps again.\n",
    "\n",
    "As can be seen by running the cell below, there were several DICOM objects moved to the quarantine\n",
    "during for our test dataset. This was due to there being multiple slices at the same location with\n",
    "differing pixel data in one CT image series."
   ]
  },
  {
   "cell_type": "code",
   "execution_count": 8,
   "metadata": {
    "execution": {
     "iopub.execute_input": "2023-12-05T03:12:31.492976Z",
     "iopub.status.busy": "2023-12-05T03:12:31.492596Z",
     "iopub.status.idle": "2023-12-05T03:12:31.504845Z",
     "shell.execute_reply": "2023-12-05T03:12:31.504233Z"
    }
   },
   "outputs": [
    {
     "data": {
      "text/html": [
       "<div>\n",
       "<style scoped>\n",
       "    .dataframe tbody tr th:only-of-type {\n",
       "        vertical-align: middle;\n",
       "    }\n",
       "\n",
       "    .dataframe tbody tr th {\n",
       "        vertical-align: top;\n",
       "    }\n",
       "\n",
       "    .dataframe thead th {\n",
       "        text-align: right;\n",
       "    }\n",
       "</style>\n",
       "<table border=\"1\" class=\"dataframe\">\n",
       "  <thead>\n",
       "    <tr style=\"text-align: right;\">\n",
       "      <th></th>\n",
       "      <th>file</th>\n",
       "      <th>error</th>\n",
       "      <th>quarantine_dttm</th>\n",
       "      <th>PatientID</th>\n",
       "      <th>Modality</th>\n",
       "      <th>SOPInstanceUID</th>\n",
       "      <th>SeriesDescription</th>\n",
       "    </tr>\n",
       "  </thead>\n",
       "  <tbody>\n",
       "    <tr>\n",
       "      <th>0</th>\n",
       "      <td>working/dicom/HNSCC/HNSCC-01-0176/03-05-2004-N...</td>\n",
       "      <td>2 slices at location 0.0 containing different ...</td>\n",
       "      <td>2023-12-05 03:09:23.721854</td>\n",
       "      <td>HNSCC-01-0176</td>\n",
       "      <td>CT</td>\n",
       "      <td>1.3.6.1.4.1.14519.5.2.1.1706.8040.258957568007...</td>\n",
       "      <td>SCOUT/NECK-ORAL/NASO W/CON</td>\n",
       "    </tr>\n",
       "    <tr>\n",
       "      <th>1</th>\n",
       "      <td>working/dicom/HNSCC/HNSCC-01-0176/03-05-2004-N...</td>\n",
       "      <td>2 slices at location 0.0 containing different ...</td>\n",
       "      <td>2023-12-05 03:09:23.727033</td>\n",
       "      <td>HNSCC-01-0176</td>\n",
       "      <td>CT</td>\n",
       "      <td>1.3.6.1.4.1.14519.5.2.1.1706.8040.181695106907...</td>\n",
       "      <td>SCOUT/NECK-ORAL/NASO W/CON</td>\n",
       "    </tr>\n",
       "    <tr>\n",
       "      <th>2</th>\n",
       "      <td>working/dicom/HNSCC/HNSCC-01-0176/03-05-2004-N...</td>\n",
       "      <td>2 slices at location -155.0 containing differe...</td>\n",
       "      <td>2023-12-05 03:09:23.742616</td>\n",
       "      <td>HNSCC-01-0176</td>\n",
       "      <td>CT</td>\n",
       "      <td>1.3.6.1.4.1.14519.5.2.1.1706.8040.308207714344...</td>\n",
       "      <td>BONE</td>\n",
       "    </tr>\n",
       "    <tr>\n",
       "      <th>3</th>\n",
       "      <td>working/dicom/HNSCC/HNSCC-01-0176/03-05-2004-N...</td>\n",
       "      <td>2 slices at location -155.0 containing differe...</td>\n",
       "      <td>2023-12-05 03:09:23.748363</td>\n",
       "      <td>HNSCC-01-0176</td>\n",
       "      <td>CT</td>\n",
       "      <td>1.3.6.1.4.1.14519.5.2.1.1706.8040.189167578552...</td>\n",
       "      <td>BONE</td>\n",
       "    </tr>\n",
       "    <tr>\n",
       "      <th>4</th>\n",
       "      <td>working/dicom/HNSCC/HNSCC-01-0176/03-05-2004-N...</td>\n",
       "      <td>2 slices at location -155.0 containing differe...</td>\n",
       "      <td>2023-12-05 03:09:23.753991</td>\n",
       "      <td>HNSCC-01-0176</td>\n",
       "      <td>CT</td>\n",
       "      <td>1.3.6.1.4.1.14519.5.2.1.1706.8040.146032766668...</td>\n",
       "      <td>BONE</td>\n",
       "    </tr>\n",
       "    <tr>\n",
       "      <th>...</th>\n",
       "      <td>...</td>\n",
       "      <td>...</td>\n",
       "      <td>...</td>\n",
       "      <td>...</td>\n",
       "      <td>...</td>\n",
       "      <td>...</td>\n",
       "      <td>...</td>\n",
       "    </tr>\n",
       "    <tr>\n",
       "      <th>607</th>\n",
       "      <td>working/dicom/HNSCC/HNSCC-01-0176/03-05-2004-N...</td>\n",
       "      <td>2 slices at location -155.0 containing differe...</td>\n",
       "      <td>2023-12-05 03:09:28.810649</td>\n",
       "      <td>HNSCC-01-0176</td>\n",
       "      <td>CT</td>\n",
       "      <td>1.3.6.1.4.1.14519.5.2.1.1706.8040.190466192108...</td>\n",
       "      <td>CONTRAST120CC@3CC/S,90S DELAY</td>\n",
       "    </tr>\n",
       "    <tr>\n",
       "      <th>608</th>\n",
       "      <td>working/dicom/HNSCC/HNSCC-01-0176/03-05-2004-N...</td>\n",
       "      <td>2 slices at location -155.0 containing differe...</td>\n",
       "      <td>2023-12-05 03:09:28.821956</td>\n",
       "      <td>HNSCC-01-0176</td>\n",
       "      <td>CT</td>\n",
       "      <td>1.3.6.1.4.1.14519.5.2.1.1706.8040.209452648754...</td>\n",
       "      <td>CONTRAST120CC@3CC/S,90S DELAY</td>\n",
       "    </tr>\n",
       "    <tr>\n",
       "      <th>609</th>\n",
       "      <td>working/dicom/HNSCC/HNSCC-01-0176/03-05-2004-N...</td>\n",
       "      <td>2 slices at location -155.0 containing differe...</td>\n",
       "      <td>2023-12-05 03:09:28.833304</td>\n",
       "      <td>HNSCC-01-0176</td>\n",
       "      <td>CT</td>\n",
       "      <td>1.3.6.1.4.1.14519.5.2.1.1706.8040.174557835738...</td>\n",
       "      <td>CONTRAST120CC@3CC/S,90S DELAY</td>\n",
       "    </tr>\n",
       "    <tr>\n",
       "      <th>610</th>\n",
       "      <td>working/dicom/HNSCC/HNSCC-01-0176/03-05-2004-N...</td>\n",
       "      <td>2 slices at location -155.0 containing differe...</td>\n",
       "      <td>2023-12-05 03:09:28.844588</td>\n",
       "      <td>HNSCC-01-0176</td>\n",
       "      <td>CT</td>\n",
       "      <td>1.3.6.1.4.1.14519.5.2.1.1706.8040.113716820433...</td>\n",
       "      <td>CONTRAST120CC@3CC/S,90S DELAY</td>\n",
       "    </tr>\n",
       "    <tr>\n",
       "      <th>611</th>\n",
       "      <td>working/dicom/HNSCC/HNSCC-01-0176/03-05-2004-N...</td>\n",
       "      <td>2 slices at location -155.0 containing differe...</td>\n",
       "      <td>2023-12-05 03:09:28.855755</td>\n",
       "      <td>HNSCC-01-0176</td>\n",
       "      <td>CT</td>\n",
       "      <td>1.3.6.1.4.1.14519.5.2.1.1706.8040.141027169157...</td>\n",
       "      <td>CONTRAST120CC@3CC/S,90S DELAY</td>\n",
       "    </tr>\n",
       "  </tbody>\n",
       "</table>\n",
       "<p>612 rows × 7 columns</p>\n",
       "</div>"
      ],
      "text/plain": [
       "                                                  file  \\\n",
       "0    working/dicom/HNSCC/HNSCC-01-0176/03-05-2004-N...   \n",
       "1    working/dicom/HNSCC/HNSCC-01-0176/03-05-2004-N...   \n",
       "2    working/dicom/HNSCC/HNSCC-01-0176/03-05-2004-N...   \n",
       "3    working/dicom/HNSCC/HNSCC-01-0176/03-05-2004-N...   \n",
       "4    working/dicom/HNSCC/HNSCC-01-0176/03-05-2004-N...   \n",
       "..                                                 ...   \n",
       "607  working/dicom/HNSCC/HNSCC-01-0176/03-05-2004-N...   \n",
       "608  working/dicom/HNSCC/HNSCC-01-0176/03-05-2004-N...   \n",
       "609  working/dicom/HNSCC/HNSCC-01-0176/03-05-2004-N...   \n",
       "610  working/dicom/HNSCC/HNSCC-01-0176/03-05-2004-N...   \n",
       "611  working/dicom/HNSCC/HNSCC-01-0176/03-05-2004-N...   \n",
       "\n",
       "                                                 error  \\\n",
       "0    2 slices at location 0.0 containing different ...   \n",
       "1    2 slices at location 0.0 containing different ...   \n",
       "2    2 slices at location -155.0 containing differe...   \n",
       "3    2 slices at location -155.0 containing differe...   \n",
       "4    2 slices at location -155.0 containing differe...   \n",
       "..                                                 ...   \n",
       "607  2 slices at location -155.0 containing differe...   \n",
       "608  2 slices at location -155.0 containing differe...   \n",
       "609  2 slices at location -155.0 containing differe...   \n",
       "610  2 slices at location -155.0 containing differe...   \n",
       "611  2 slices at location -155.0 containing differe...   \n",
       "\n",
       "                quarantine_dttm      PatientID Modality  \\\n",
       "0    2023-12-05 03:09:23.721854  HNSCC-01-0176       CT   \n",
       "1    2023-12-05 03:09:23.727033  HNSCC-01-0176       CT   \n",
       "2    2023-12-05 03:09:23.742616  HNSCC-01-0176       CT   \n",
       "3    2023-12-05 03:09:23.748363  HNSCC-01-0176       CT   \n",
       "4    2023-12-05 03:09:23.753991  HNSCC-01-0176       CT   \n",
       "..                          ...            ...      ...   \n",
       "607  2023-12-05 03:09:28.810649  HNSCC-01-0176       CT   \n",
       "608  2023-12-05 03:09:28.821956  HNSCC-01-0176       CT   \n",
       "609  2023-12-05 03:09:28.833304  HNSCC-01-0176       CT   \n",
       "610  2023-12-05 03:09:28.844588  HNSCC-01-0176       CT   \n",
       "611  2023-12-05 03:09:28.855755  HNSCC-01-0176       CT   \n",
       "\n",
       "                                        SOPInstanceUID  \\\n",
       "0    1.3.6.1.4.1.14519.5.2.1.1706.8040.258957568007...   \n",
       "1    1.3.6.1.4.1.14519.5.2.1.1706.8040.181695106907...   \n",
       "2    1.3.6.1.4.1.14519.5.2.1.1706.8040.308207714344...   \n",
       "3    1.3.6.1.4.1.14519.5.2.1.1706.8040.189167578552...   \n",
       "4    1.3.6.1.4.1.14519.5.2.1.1706.8040.146032766668...   \n",
       "..                                                 ...   \n",
       "607  1.3.6.1.4.1.14519.5.2.1.1706.8040.190466192108...   \n",
       "608  1.3.6.1.4.1.14519.5.2.1.1706.8040.209452648754...   \n",
       "609  1.3.6.1.4.1.14519.5.2.1.1706.8040.174557835738...   \n",
       "610  1.3.6.1.4.1.14519.5.2.1.1706.8040.113716820433...   \n",
       "611  1.3.6.1.4.1.14519.5.2.1.1706.8040.141027169157...   \n",
       "\n",
       "                 SeriesDescription  \n",
       "0       SCOUT/NECK-ORAL/NASO W/CON  \n",
       "1       SCOUT/NECK-ORAL/NASO W/CON  \n",
       "2                             BONE  \n",
       "3                             BONE  \n",
       "4                             BONE  \n",
       "..                             ...  \n",
       "607  CONTRAST120CC@3CC/S,90S DELAY  \n",
       "608  CONTRAST120CC@3CC/S,90S DELAY  \n",
       "609  CONTRAST120CC@3CC/S,90S DELAY  \n",
       "610  CONTRAST120CC@3CC/S,90S DELAY  \n",
       "611  CONTRAST120CC@3CC/S,90S DELAY  \n",
       "\n",
       "[612 rows x 7 columns]"
      ]
     },
     "execution_count": 8,
     "metadata": {},
     "output_type": "execute_result"
    }
   ],
   "source": [
    "df_quarantine = pydicer.read_quarantined_data()\n",
    "df_quarantine"
   ]
  },
  {
   "cell_type": "code",
   "execution_count": null,
   "metadata": {},
   "outputs": [],
   "source": []
  }
 ],
 "metadata": {
  "interpreter": {
   "hash": "814af119db7f8f2860617be3dcd1d37c560587d11c65bd58c45b1679d3ee6ea4"
  },
  "kernelspec": {
   "display_name": "Python 3.8.0 64-bit ('pydicer': pyenv)",
   "language": "python",
   "name": "python3"
  },
  "language_info": {
   "codemirror_mode": {
    "name": "ipython",
    "version": 3
   },
   "file_extension": ".py",
   "mimetype": "text/x-python",
   "name": "python",
   "nbconvert_exporter": "python",
   "pygments_lexer": "ipython3",
   "version": "3.9.18"
  }
 },
 "nbformat": 4,
 "nbformat_minor": 2
}
