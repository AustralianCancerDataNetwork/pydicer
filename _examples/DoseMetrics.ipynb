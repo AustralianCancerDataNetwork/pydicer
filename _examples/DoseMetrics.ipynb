{
 "cells": [
  {
   "attachments": {},
   "cell_type": "markdown",
   "metadata": {},
   "source": [
    "# Dose Metrics\n",
    "\n",
    "[![Open In Colab](https://colab.research.google.com/assets/colab-badge.svg)](https://colab.research.google.com/github/AustralianCancerDataNetwork/pydicer/blob/main/examples/DoseMetrics.ipynb)\n",
    "\n",
    "In this example notebook we will compute [Dose Volume Histograms (DVH)](https://pyplati.github.io/platipy/dose.html#module-platipy.imaging.dose.dvh) for our `RTDOSE` objects\n",
    "across structures found in `RTSTRUCT` objects in our dataset. We use\n",
    "[HNSCC](https://wiki.cancerimagingarchive.net/display/Public/HNSCC) data from the Cancer Imaging\n",
    "Archive which has already been converted using PyDicer for demonstration purposes."
   ]
  },
  {
   "cell_type": "code",
   "execution_count": 1,
   "metadata": {
    "execution": {
     "iopub.execute_input": "2025-03-13T20:38:00.783637Z",
     "iopub.status.busy": "2025-03-13T20:38:00.783423Z",
     "iopub.status.idle": "2025-03-13T20:38:01.773672Z",
     "shell.execute_reply": "2025-03-13T20:38:01.773067Z"
    }
   },
   "outputs": [],
   "source": [
    "try:\n",
    "    from pydicer import PyDicer\n",
    "except ImportError:\n",
    "    !pip install pydicer\n",
    "    from pydicer import PyDicer\n",
    "\n",
    "from pathlib import Path\n",
    "\n",
    "from pydicer.utils import fetch_converted_test_data"
   ]
  },
  {
   "cell_type": "markdown",
   "metadata": {},
   "source": [
    "## Fetch data\n",
    "\n",
    "HNSCC data prepared for this example are downloaded and stored into a `testdata_hnscc` directory.\n",
    "We will use this for our PyDicer working directory."
   ]
  },
  {
   "cell_type": "code",
   "execution_count": 2,
   "metadata": {
    "execution": {
     "iopub.execute_input": "2025-03-13T20:38:01.776759Z",
     "iopub.status.busy": "2025-03-13T20:38:01.776287Z",
     "iopub.status.idle": "2025-03-13T20:38:01.780384Z",
     "shell.execute_reply": "2025-03-13T20:38:01.779757Z"
    }
   },
   "outputs": [
    {
     "name": "stderr",
     "output_type": "stream",
     "text": [
      "Working directory %s aready exists, won't download test data.\n"
     ]
    }
   ],
   "source": [
    "working_directory = fetch_converted_test_data(\"./testdata_hnscc\", dataset=\"HNSCC\")"
   ]
  },
  {
   "cell_type": "markdown",
   "metadata": {},
   "source": [
    "## Initialise PyDicer object\n",
    "\n",
    "Using the working directory containing the test data."
   ]
  },
  {
   "cell_type": "code",
   "execution_count": 3,
   "metadata": {
    "execution": {
     "iopub.execute_input": "2025-03-13T20:38:01.782958Z",
     "iopub.status.busy": "2025-03-13T20:38:01.782572Z",
     "iopub.status.idle": "2025-03-13T20:38:01.785904Z",
     "shell.execute_reply": "2025-03-13T20:38:01.785333Z"
    }
   },
   "outputs": [],
   "source": [
    "pydicer = PyDicer(working_directory)"
   ]
  },
  {
   "cell_type": "markdown",
   "metadata": {},
   "source": [
    "## Compute DVH\n",
    "\n",
    "Before we can extract dose metrics, we must compute Dose Volume Histograms for all dose objects and\n",
    "structure sets. This is done using the [compute_dvh](https://australiancancerdatanetwork.github.io/pydicer/analyse.html#pydicer.analyse.data.AnalyseData.compute_dvh) function."
   ]
  },
  {
   "cell_type": "code",
   "execution_count": 4,
   "metadata": {
    "execution": {
     "iopub.execute_input": "2025-03-13T20:38:01.788266Z",
     "iopub.status.busy": "2025-03-13T20:38:01.787910Z",
     "iopub.status.idle": "2025-03-13T20:38:47.745213Z",
     "shell.execute_reply": "2025-03-13T20:38:47.744505Z"
    }
   },
   "outputs": [
    {
     "name": "stderr",
     "output_type": "stream",
     "text": [
      "\r",
      "  0%|          | 0/4 [00:00<?, ?objects/s, Compute DVH]"
     ]
    },
    {
     "name": "stderr",
     "output_type": "stream",
     "text": [
      "\r",
      " 25%|██▌       | 1/4 [00:12<00:36, 12.19s/objects, Compute DVH]"
     ]
    },
    {
     "name": "stderr",
     "output_type": "stream",
     "text": [
      "\r",
      " 50%|█████     | 2/4 [00:22<00:22, 11.35s/objects, Compute DVH]"
     ]
    },
    {
     "name": "stderr",
     "output_type": "stream",
     "text": [
      "\r",
      " 75%|███████▌  | 3/4 [00:36<00:12, 12.22s/objects, Compute DVH]"
     ]
    },
    {
     "name": "stderr",
     "output_type": "stream",
     "text": [
      "\r",
      "100%|██████████| 4/4 [00:45<00:00, 11.23s/objects, Compute DVH]"
     ]
    },
    {
     "name": "stderr",
     "output_type": "stream",
     "text": [
      "\r",
      "100%|██████████| 4/4 [00:45<00:00, 11.48s/objects, Compute DVH]"
     ]
    },
    {
     "name": "stderr",
     "output_type": "stream",
     "text": [
      "\n"
     ]
    }
   ],
   "source": [
    "pydicer.analyse.compute_dvh()"
   ]
  },
  {
   "cell_type": "markdown",
   "metadata": {},
   "source": [
    "## Inspect DVH\n",
    "\n",
    "DVHs computed are stored in the respective dose object directories on the file system. Inspect a\n",
    "dose object directory (e.g. `testdata_hnscc/data/HNSCC-01-0019/doses/309e1a`). Here you will find\n",
    "a `.png` file which plots the DVH for each of the linked structures. In addition a `.csv` file \n",
    "stores the raw DVH values.\n",
    "\n",
    "The DVHs can for this dataset can be loaded into a pandas DataFrame with the\n",
    "[get_all_dvhs_for_dataset](https://australiancancerdatanetwork.github.io/pydicer/analyse.html#pydicer.analyse.data.AnalyseData.get_all_dvhs_for_dataset) function."
   ]
  },
  {
   "cell_type": "code",
   "execution_count": 5,
   "metadata": {
    "execution": {
     "iopub.execute_input": "2025-03-13T20:38:47.748086Z",
     "iopub.status.busy": "2025-03-13T20:38:47.747724Z",
     "iopub.status.idle": "2025-03-13T20:38:47.923218Z",
     "shell.execute_reply": "2025-03-13T20:38:47.922544Z"
    }
   },
   "outputs": [
    {
     "data": {
      "text/html": [
       "<div>\n",
       "<style scoped>\n",
       "    .dataframe tbody tr th:only-of-type {\n",
       "        vertical-align: middle;\n",
       "    }\n",
       "\n",
       "    .dataframe tbody tr th {\n",
       "        vertical-align: top;\n",
       "    }\n",
       "\n",
       "    .dataframe thead th {\n",
       "        text-align: right;\n",
       "    }\n",
       "</style>\n",
       "<table border=\"1\" class=\"dataframe\">\n",
       "  <thead>\n",
       "    <tr style=\"text-align: right;\">\n",
       "      <th></th>\n",
       "      <th>patient</th>\n",
       "      <th>struct_hash</th>\n",
       "      <th>dose_hash</th>\n",
       "      <th>label</th>\n",
       "      <th>cc</th>\n",
       "      <th>mean</th>\n",
       "      <th>0.0</th>\n",
       "      <th>0.1</th>\n",
       "      <th>0.2</th>\n",
       "      <th>0.3</th>\n",
       "      <th>...</th>\n",
       "      <th>77.2</th>\n",
       "      <th>77.3</th>\n",
       "      <th>77.4</th>\n",
       "      <th>77.5</th>\n",
       "      <th>77.6</th>\n",
       "      <th>77.7</th>\n",
       "      <th>77.8</th>\n",
       "      <th>77.9</th>\n",
       "      <th>78.0</th>\n",
       "      <th>78.1</th>\n",
       "    </tr>\n",
       "  </thead>\n",
       "  <tbody>\n",
       "    <tr>\n",
       "      <th>0</th>\n",
       "      <td>HNSCC-01-0019</td>\n",
       "      <td>7cdcd9</td>\n",
       "      <td>309e1a</td>\n",
       "      <td>+1</td>\n",
       "      <td>4640.553474</td>\n",
       "      <td>29.679710</td>\n",
       "      <td>1.0</td>\n",
       "      <td>0.837845</td>\n",
       "      <td>0.835239</td>\n",
       "      <td>0.83267</td>\n",
       "      <td>...</td>\n",
       "      <td>0.000028</td>\n",
       "      <td>0.000020</td>\n",
       "      <td>0.000009</td>\n",
       "      <td>0.000002</td>\n",
       "      <td>6.165262e-07</td>\n",
       "      <td>0.0</td>\n",
       "      <td>0.0</td>\n",
       "      <td>0.0</td>\n",
       "      <td>0.0</td>\n",
       "      <td>0.0</td>\n",
       "    </tr>\n",
       "    <tr>\n",
       "      <th>1</th>\n",
       "      <td>HNSCC-01-0019</td>\n",
       "      <td>7cdcd9</td>\n",
       "      <td>309e1a</td>\n",
       "      <td>-.3</td>\n",
       "      <td>2689.948082</td>\n",
       "      <td>43.784290</td>\n",
       "      <td>1.0</td>\n",
       "      <td>1.000000</td>\n",
       "      <td>1.000000</td>\n",
       "      <td>1.00000</td>\n",
       "      <td>...</td>\n",
       "      <td>0.000048</td>\n",
       "      <td>0.000035</td>\n",
       "      <td>0.000016</td>\n",
       "      <td>0.000004</td>\n",
       "      <td>1.063598e-06</td>\n",
       "      <td>0.0</td>\n",
       "      <td>0.0</td>\n",
       "      <td>0.0</td>\n",
       "      <td>0.0</td>\n",
       "      <td>0.0</td>\n",
       "    </tr>\n",
       "    <tr>\n",
       "      <th>2</th>\n",
       "      <td>HNSCC-01-0019</td>\n",
       "      <td>7cdcd9</td>\n",
       "      <td>309e1a</td>\n",
       "      <td>Brain</td>\n",
       "      <td>549.576759</td>\n",
       "      <td>24.043829</td>\n",
       "      <td>1.0</td>\n",
       "      <td>1.000000</td>\n",
       "      <td>1.000000</td>\n",
       "      <td>1.00000</td>\n",
       "      <td>...</td>\n",
       "      <td>0.000000</td>\n",
       "      <td>0.000000</td>\n",
       "      <td>0.000000</td>\n",
       "      <td>0.000000</td>\n",
       "      <td>0.000000e+00</td>\n",
       "      <td>0.0</td>\n",
       "      <td>0.0</td>\n",
       "      <td>0.0</td>\n",
       "      <td>0.0</td>\n",
       "      <td>0.0</td>\n",
       "    </tr>\n",
       "    <tr>\n",
       "      <th>3</th>\n",
       "      <td>HNSCC-01-0019</td>\n",
       "      <td>7cdcd9</td>\n",
       "      <td>309e1a</td>\n",
       "      <td>Brainstem</td>\n",
       "      <td>47.636032</td>\n",
       "      <td>39.998913</td>\n",
       "      <td>1.0</td>\n",
       "      <td>1.000000</td>\n",
       "      <td>1.000000</td>\n",
       "      <td>1.00000</td>\n",
       "      <td>...</td>\n",
       "      <td>0.000000</td>\n",
       "      <td>0.000000</td>\n",
       "      <td>0.000000</td>\n",
       "      <td>0.000000</td>\n",
       "      <td>0.000000e+00</td>\n",
       "      <td>0.0</td>\n",
       "      <td>0.0</td>\n",
       "      <td>0.0</td>\n",
       "      <td>0.0</td>\n",
       "      <td>0.0</td>\n",
       "    </tr>\n",
       "    <tr>\n",
       "      <th>4</th>\n",
       "      <td>HNSCC-01-0019</td>\n",
       "      <td>7cdcd9</td>\n",
       "      <td>309e1a</td>\n",
       "      <td>CTV63</td>\n",
       "      <td>467.602730</td>\n",
       "      <td>71.274086</td>\n",
       "      <td>1.0</td>\n",
       "      <td>1.000000</td>\n",
       "      <td>1.000000</td>\n",
       "      <td>1.00000</td>\n",
       "      <td>...</td>\n",
       "      <td>0.000275</td>\n",
       "      <td>0.000202</td>\n",
       "      <td>0.000092</td>\n",
       "      <td>0.000024</td>\n",
       "      <td>6.118491e-06</td>\n",
       "      <td>0.0</td>\n",
       "      <td>0.0</td>\n",
       "      <td>0.0</td>\n",
       "      <td>0.0</td>\n",
       "      <td>0.0</td>\n",
       "    </tr>\n",
       "  </tbody>\n",
       "</table>\n",
       "<p>5 rows × 788 columns</p>\n",
       "</div>"
      ],
      "text/plain": [
       "         patient struct_hash dose_hash      label           cc       mean  \\\n",
       "0  HNSCC-01-0019      7cdcd9    309e1a         +1  4640.553474  29.679710   \n",
       "1  HNSCC-01-0019      7cdcd9    309e1a        -.3  2689.948082  43.784290   \n",
       "2  HNSCC-01-0019      7cdcd9    309e1a      Brain   549.576759  24.043829   \n",
       "3  HNSCC-01-0019      7cdcd9    309e1a  Brainstem    47.636032  39.998913   \n",
       "4  HNSCC-01-0019      7cdcd9    309e1a      CTV63   467.602730  71.274086   \n",
       "\n",
       "   0.0       0.1       0.2      0.3  ...      77.2      77.3      77.4  \\\n",
       "0  1.0  0.837845  0.835239  0.83267  ...  0.000028  0.000020  0.000009   \n",
       "1  1.0  1.000000  1.000000  1.00000  ...  0.000048  0.000035  0.000016   \n",
       "2  1.0  1.000000  1.000000  1.00000  ...  0.000000  0.000000  0.000000   \n",
       "3  1.0  1.000000  1.000000  1.00000  ...  0.000000  0.000000  0.000000   \n",
       "4  1.0  1.000000  1.000000  1.00000  ...  0.000275  0.000202  0.000092   \n",
       "\n",
       "       77.5          77.6  77.7  77.8  77.9  78.0  78.1  \n",
       "0  0.000002  6.165262e-07   0.0   0.0   0.0   0.0   0.0  \n",
       "1  0.000004  1.063598e-06   0.0   0.0   0.0   0.0   0.0  \n",
       "2  0.000000  0.000000e+00   0.0   0.0   0.0   0.0   0.0  \n",
       "3  0.000000  0.000000e+00   0.0   0.0   0.0   0.0   0.0  \n",
       "4  0.000024  6.118491e-06   0.0   0.0   0.0   0.0   0.0  \n",
       "\n",
       "[5 rows x 788 columns]"
      ]
     },
     "execution_count": 5,
     "metadata": {},
     "output_type": "execute_result"
    }
   ],
   "source": [
    "df_dvh = pydicer.analyse.get_all_dvhs_for_dataset()\n",
    "df_dvh.head()"
   ]
  },
  {
   "cell_type": "markdown",
   "metadata": {},
   "source": [
    "## Compute Dose Metrics\n",
    "\n",
    "The [compute_dose_metrics](https://australiancancerdatanetwork.github.io/pydicer/analyse.html#pydicer.analyse.data.AnalyseData.compute_dose_metrics) function in the `analyse` module can compute **D**, **V** and **Dcc**\n",
    "metrics. Specify the points at which to compute those values. For example, the following cell\n",
    "computes the **D95**, **D50**, **V5** and **Dcc10**."
   ]
  },
  {
   "cell_type": "code",
   "execution_count": 6,
   "metadata": {
    "execution": {
     "iopub.execute_input": "2025-03-13T20:38:47.925942Z",
     "iopub.status.busy": "2025-03-13T20:38:47.925567Z",
     "iopub.status.idle": "2025-03-13T20:38:48.523119Z",
     "shell.execute_reply": "2025-03-13T20:38:48.522408Z"
    }
   },
   "outputs": [
    {
     "data": {
      "text/html": [
       "<div>\n",
       "<style scoped>\n",
       "    .dataframe tbody tr th:only-of-type {\n",
       "        vertical-align: middle;\n",
       "    }\n",
       "\n",
       "    .dataframe tbody tr th {\n",
       "        vertical-align: top;\n",
       "    }\n",
       "\n",
       "    .dataframe thead th {\n",
       "        text-align: right;\n",
       "    }\n",
       "</style>\n",
       "<table border=\"1\" class=\"dataframe\">\n",
       "  <thead>\n",
       "    <tr style=\"text-align: right;\">\n",
       "      <th></th>\n",
       "      <th>patient</th>\n",
       "      <th>struct_hash</th>\n",
       "      <th>dose_hash</th>\n",
       "      <th>label</th>\n",
       "      <th>cc</th>\n",
       "      <th>mean</th>\n",
       "      <th>D95</th>\n",
       "      <th>D50</th>\n",
       "      <th>V5</th>\n",
       "      <th>D10cc</th>\n",
       "    </tr>\n",
       "  </thead>\n",
       "  <tbody>\n",
       "    <tr>\n",
       "      <th>0</th>\n",
       "      <td>HNSCC-01-0019</td>\n",
       "      <td>7cdcd9</td>\n",
       "      <td>309e1a</td>\n",
       "      <td>+1</td>\n",
       "      <td>4640.553474</td>\n",
       "      <td>29.679710</td>\n",
       "      <td>0.030835</td>\n",
       "      <td>25.358893</td>\n",
       "      <td>3558.228493</td>\n",
       "      <td>75.501190</td>\n",
       "    </tr>\n",
       "    <tr>\n",
       "      <th>1</th>\n",
       "      <td>HNSCC-01-0019</td>\n",
       "      <td>7cdcd9</td>\n",
       "      <td>309e1a</td>\n",
       "      <td>-.3</td>\n",
       "      <td>2689.948082</td>\n",
       "      <td>43.784290</td>\n",
       "      <td>11.384142</td>\n",
       "      <td>43.358867</td>\n",
       "      <td>2668.971062</td>\n",
       "      <td>75.501190</td>\n",
       "    </tr>\n",
       "    <tr>\n",
       "      <th>2</th>\n",
       "      <td>HNSCC-01-0019</td>\n",
       "      <td>7cdcd9</td>\n",
       "      <td>309e1a</td>\n",
       "      <td>Brain</td>\n",
       "      <td>549.576759</td>\n",
       "      <td>24.043829</td>\n",
       "      <td>7.657684</td>\n",
       "      <td>22.339093</td>\n",
       "      <td>544.220924</td>\n",
       "      <td>56.311918</td>\n",
       "    </tr>\n",
       "    <tr>\n",
       "      <th>3</th>\n",
       "      <td>HNSCC-01-0019</td>\n",
       "      <td>7cdcd9</td>\n",
       "      <td>309e1a</td>\n",
       "      <td>Brainstem</td>\n",
       "      <td>47.636032</td>\n",
       "      <td>39.998913</td>\n",
       "      <td>28.935185</td>\n",
       "      <td>39.202222</td>\n",
       "      <td>47.636032</td>\n",
       "      <td>46.232806</td>\n",
       "    </tr>\n",
       "    <tr>\n",
       "      <th>4</th>\n",
       "      <td>HNSCC-01-0019</td>\n",
       "      <td>7cdcd9</td>\n",
       "      <td>309e1a</td>\n",
       "      <td>CTV63</td>\n",
       "      <td>467.602730</td>\n",
       "      <td>71.274086</td>\n",
       "      <td>66.177108</td>\n",
       "      <td>71.589748</td>\n",
       "      <td>467.602730</td>\n",
       "      <td>75.494366</td>\n",
       "    </tr>\n",
       "  </tbody>\n",
       "</table>\n",
       "</div>"
      ],
      "text/plain": [
       "         patient struct_hash dose_hash      label           cc       mean  \\\n",
       "0  HNSCC-01-0019      7cdcd9    309e1a         +1  4640.553474  29.679710   \n",
       "1  HNSCC-01-0019      7cdcd9    309e1a        -.3  2689.948082  43.784290   \n",
       "2  HNSCC-01-0019      7cdcd9    309e1a      Brain   549.576759  24.043829   \n",
       "3  HNSCC-01-0019      7cdcd9    309e1a  Brainstem    47.636032  39.998913   \n",
       "4  HNSCC-01-0019      7cdcd9    309e1a      CTV63   467.602730  71.274086   \n",
       "\n",
       "         D95        D50           V5      D10cc  \n",
       "0   0.030835  25.358893  3558.228493  75.501190  \n",
       "1  11.384142  43.358867  2668.971062  75.501190  \n",
       "2   7.657684  22.339093   544.220924  56.311918  \n",
       "3  28.935185  39.202222    47.636032  46.232806  \n",
       "4  66.177108  71.589748   467.602730  75.494366  "
      ]
     },
     "execution_count": 6,
     "metadata": {},
     "output_type": "execute_result"
    }
   ],
   "source": [
    "df_dose_metrics = pydicer.analyse.compute_dose_metrics(\n",
    "    d_point=[95, 50],\n",
    "    v_point=[5],\n",
    "    d_cc_point=[10]\n",
    ")\n",
    "df_dose_metrics.head()"
   ]
  },
  {
   "cell_type": "code",
   "execution_count": null,
   "metadata": {},
   "outputs": [],
   "source": []
  }
 ],
 "metadata": {
  "interpreter": {
   "hash": "814af119db7f8f2860617be3dcd1d37c560587d11c65bd58c45b1679d3ee6ea4"
  },
  "kernelspec": {
   "display_name": "Python 3.8.0 64-bit ('pydicer': pyenv)",
   "language": "python",
   "name": "python3"
  },
  "language_info": {
   "codemirror_mode": {
    "name": "ipython",
    "version": 3
   },
   "file_extension": ".py",
   "mimetype": "text/x-python",
   "name": "python",
   "nbconvert_exporter": "python",
   "pygments_lexer": "ipython3",
   "version": "3.9.21"
  }
 },
 "nbformat": 4,
 "nbformat_minor": 2
}
