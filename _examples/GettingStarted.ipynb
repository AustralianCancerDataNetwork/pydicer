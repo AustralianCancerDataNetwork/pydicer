{
 "cells": [
  {
   "attachments": {},
   "cell_type": "markdown",
   "metadata": {},
   "source": [
    "# Getting Started\n",
    "\n",
    "This notebook provides a basic example to run the PyDicer pipeline using some test data."
   ]
  },
  {
   "cell_type": "code",
   "execution_count": 1,
   "metadata": {
    "execution": {
     "iopub.execute_input": "2023-06-08T03:52:37.015262Z",
     "iopub.status.busy": "2023-06-08T03:52:37.014750Z",
     "iopub.status.idle": "2023-06-08T03:52:38.422957Z",
     "shell.execute_reply": "2023-06-08T03:52:38.422240Z"
    }
   },
   "outputs": [],
   "source": [
    "try:\n",
    "    from pydicer import PyDicer\n",
    "except ImportError:\n",
    "    !pip install pydicer\n",
    "    from pydicer import PyDicer\n",
    "\n",
    "from pathlib import Path\n",
    "\n",
    "from pydicer.input.test import TestInput"
   ]
  },
  {
   "cell_type": "markdown",
   "metadata": {},
   "source": [
    "## Setup working directory\n",
    "\n",
    "First we'll create a directory for our project. Change the `directory` location to a folder on your\n",
    "system where you'd like PyDicer to work with this data."
   ]
  },
  {
   "cell_type": "code",
   "execution_count": 2,
   "metadata": {
    "execution": {
     "iopub.execute_input": "2023-06-08T03:52:38.427010Z",
     "iopub.status.busy": "2023-06-08T03:52:38.426280Z",
     "iopub.status.idle": "2023-06-08T03:52:38.430403Z",
     "shell.execute_reply": "2023-06-08T03:52:38.429843Z"
    }
   },
   "outputs": [],
   "source": [
    "directory = Path(\"./data\")"
   ]
  },
  {
   "cell_type": "markdown",
   "metadata": {},
   "source": [
    "## Create a PyDicer object\n",
    "\n",
    "The PyDicer class provides all functionlity to run the pipeline and work with the data stored and\n",
    "converted in your project directory"
   ]
  },
  {
   "cell_type": "code",
   "execution_count": 3,
   "metadata": {
    "execution": {
     "iopub.execute_input": "2023-06-08T03:52:38.433348Z",
     "iopub.status.busy": "2023-06-08T03:52:38.432808Z",
     "iopub.status.idle": "2023-06-08T03:52:38.436373Z",
     "shell.execute_reply": "2023-06-08T03:52:38.435770Z"
    }
   },
   "outputs": [],
   "source": [
    "pydicer = PyDicer(directory)"
   ]
  },
  {
   "cell_type": "markdown",
   "metadata": {},
   "source": [
    "## Fetch some data\n",
    "\n",
    "A TestInput class is provided in pydicer to download some sample data to work with. Several other\n",
    "input classes exist if you'd like to retrieve DICOM data for conversion from somewhere else, [see \n",
    "the docs for information on how these work](https://australiancancerdatanetwork.github.io/pydicer/html/input.html)."
   ]
  },
  {
   "cell_type": "code",
   "execution_count": 4,
   "metadata": {
    "execution": {
     "iopub.execute_input": "2023-06-08T03:52:38.439049Z",
     "iopub.status.busy": "2023-06-08T03:52:38.438724Z",
     "iopub.status.idle": "2023-06-08T04:11:15.381267Z",
     "shell.execute_reply": "2023-06-08T04:11:15.380632Z"
    }
   },
   "outputs": [],
   "source": [
    "dicom_directory = directory.joinpath(\"dicom\")\n",
    "test_input = TestInput(dicom_directory)\n",
    "test_input.fetch_data()\n",
    "\n",
    "# Add the input DICOM location to the pydicer object\n",
    "pydicer.add_input(dicom_directory)"
   ]
  },
  {
   "cell_type": "markdown",
   "metadata": {},
   "source": [
    "## Run the pipeline\n",
    "\n",
    "The function runs the entire PyDicer pipeline on the test DICOM data. This includes:\n",
    "- Preprocessing the DICOM data (data which can't be handled or is corrupt will be placed in Quarantine)\n",
    "- Convert the data to Nifti format (see the output in the `data` directory)\n",
    "- Visualise the data (png files will be placed alongside the converted Nifti files)\n",
    "- Compute Radiomics features (Results are stored in a csv alongside the converted structures)\n",
    "- Compute Dose Volume Histograms (results are stored alongside converted dose data)\n",
    "\n",
    "> Note that the entire Pipeline can be quite time consuming to run. Depending on your project's\n",
    "> dataset you will likely want to run only portions of the pipeline with finer control over each\n",
    "> step. For this reason we only run the pipeline for one patient here as a demonstration."
   ]
  },
  {
   "cell_type": "code",
   "execution_count": 5,
   "metadata": {
    "execution": {
     "iopub.execute_input": "2023-06-08T04:11:15.384515Z",
     "iopub.status.busy": "2023-06-08T04:11:15.384072Z",
     "iopub.status.idle": "2023-06-08T04:13:01.330740Z",
     "shell.execute_reply": "2023-06-08T04:13:01.329888Z"
    }
   },
   "outputs": [
    {
     "name": "stderr",
     "output_type": "stream",
     "text": [
      "\r",
      "  0%|          | 0/1309 [00:00<?, ?files/s, preprocess]"
     ]
    },
    {
     "name": "stderr",
     "output_type": "stream",
     "text": [
      "\r",
      "  0%|          | 1/1309 [00:00<11:22,  1.92files/s, preprocess]"
     ]
    },
    {
     "name": "stderr",
     "output_type": "stream",
     "text": [
      "\r",
      "  2%|▏         | 21/1309 [00:00<00:29, 44.39files/s, preprocess]"
     ]
    },
    {
     "name": "stderr",
     "output_type": "stream",
     "text": [
      "\r",
      "  5%|▌         | 71/1309 [00:00<00:08, 150.89files/s, preprocess]"
     ]
    },
    {
     "name": "stderr",
     "output_type": "stream",
     "text": [
      "\r",
      "  9%|▉         | 121/1309 [00:00<00:04, 237.70files/s, preprocess]"
     ]
    },
    {
     "name": "stderr",
     "output_type": "stream",
     "text": [
      "\r",
      " 13%|█▎        | 170/1309 [00:01<00:05, 191.15files/s, preprocess]"
     ]
    },
    {
     "name": "stderr",
     "output_type": "stream",
     "text": [
      "\r",
      " 16%|█▌        | 209/1309 [00:01<00:04, 228.43files/s, preprocess]"
     ]
    },
    {
     "name": "stderr",
     "output_type": "stream",
     "text": [
      "\r",
      " 19%|█▉        | 248/1309 [00:01<00:04, 262.26files/s, preprocess]"
     ]
    },
    {
     "name": "stderr",
     "output_type": "stream",
     "text": [
      "\r",
      " 22%|██▏       | 287/1309 [00:01<00:03, 291.31files/s, preprocess]"
     ]
    },
    {
     "name": "stderr",
     "output_type": "stream",
     "text": [
      "\r",
      " 25%|██▍       | 326/1309 [00:01<00:03, 314.94files/s, preprocess]"
     ]
    },
    {
     "name": "stderr",
     "output_type": "stream",
     "text": [
      "\r",
      " 28%|██▊       | 364/1309 [00:01<00:02, 331.90files/s, preprocess]"
     ]
    },
    {
     "name": "stderr",
     "output_type": "stream",
     "text": [
      "\r",
      " 31%|███       | 403/1309 [00:01<00:02, 346.71files/s, preprocess]"
     ]
    },
    {
     "name": "stderr",
     "output_type": "stream",
     "text": [
      "\r",
      " 34%|███▍      | 442/1309 [00:01<00:02, 357.24files/s, preprocess]"
     ]
    },
    {
     "name": "stderr",
     "output_type": "stream",
     "text": [
      "\r",
      " 37%|███▋      | 481/1309 [00:01<00:02, 365.36files/s, preprocess]"
     ]
    },
    {
     "name": "stderr",
     "output_type": "stream",
     "text": [
      "\r",
      " 40%|███▉      | 520/1309 [00:02<00:02, 371.28files/s, preprocess]"
     ]
    },
    {
     "name": "stderr",
     "output_type": "stream",
     "text": [
      "\r",
      " 43%|████▎     | 559/1309 [00:02<00:02, 373.87files/s, preprocess]"
     ]
    },
    {
     "name": "stderr",
     "output_type": "stream",
     "text": [
      "\r",
      " 46%|████▌     | 598/1309 [00:02<00:01, 374.45files/s, preprocess]"
     ]
    },
    {
     "name": "stderr",
     "output_type": "stream",
     "text": [
      "\r",
      " 49%|████▊     | 637/1309 [00:02<00:01, 376.54files/s, preprocess]"
     ]
    },
    {
     "name": "stderr",
     "output_type": "stream",
     "text": [
      "\r",
      " 52%|█████▏    | 676/1309 [00:02<00:01, 378.26files/s, preprocess]"
     ]
    },
    {
     "name": "stderr",
     "output_type": "stream",
     "text": [
      "\r",
      " 55%|█████▍    | 715/1309 [00:02<00:01, 378.98files/s, preprocess]"
     ]
    },
    {
     "name": "stderr",
     "output_type": "stream",
     "text": [
      "\r",
      " 58%|█████▊    | 754/1309 [00:02<00:01, 380.67files/s, preprocess]"
     ]
    },
    {
     "name": "stderr",
     "output_type": "stream",
     "text": [
      "\r",
      " 61%|██████    | 793/1309 [00:02<00:01, 381.26files/s, preprocess]"
     ]
    },
    {
     "name": "stderr",
     "output_type": "stream",
     "text": [
      "\r",
      " 64%|██████▎   | 832/1309 [00:02<00:01, 381.99files/s, preprocess]"
     ]
    },
    {
     "name": "stderr",
     "output_type": "stream",
     "text": [
      "\r",
      " 67%|██████▋   | 871/1309 [00:03<00:01, 339.84files/s, preprocess]"
     ]
    },
    {
     "name": "stderr",
     "output_type": "stream",
     "text": [
      "\r",
      " 70%|███████   | 922/1309 [00:03<00:01, 384.11files/s, preprocess]"
     ]
    },
    {
     "name": "stderr",
     "output_type": "stream",
     "text": [
      "\r",
      " 74%|███████▍  | 972/1309 [00:03<00:00, 414.90files/s, preprocess]"
     ]
    },
    {
     "name": "stderr",
     "output_type": "stream",
     "text": [
      "\r",
      " 78%|███████▊  | 1017/1309 [00:03<00:00, 421.86files/s, preprocess]"
     ]
    },
    {
     "name": "stderr",
     "output_type": "stream",
     "text": [
      "\r",
      " 81%|████████  | 1060/1309 [00:03<00:00, 409.19files/s, preprocess]"
     ]
    },
    {
     "name": "stderr",
     "output_type": "stream",
     "text": [
      "\r",
      " 84%|████████▍ | 1102/1309 [00:03<00:00, 399.68files/s, preprocess]"
     ]
    },
    {
     "name": "stderr",
     "output_type": "stream",
     "text": [
      "\r",
      " 87%|████████▋ | 1143/1309 [00:03<00:00, 393.78files/s, preprocess]"
     ]
    },
    {
     "name": "stderr",
     "output_type": "stream",
     "text": [
      "\r",
      " 90%|█████████ | 1183/1309 [00:04<00:00, 128.33files/s, preprocess]"
     ]
    },
    {
     "name": "stderr",
     "output_type": "stream",
     "text": [
      "\r",
      " 94%|█████████▎| 1227/1309 [00:04<00:00, 164.39files/s, preprocess]"
     ]
    },
    {
     "name": "stderr",
     "output_type": "stream",
     "text": [
      "\r",
      " 97%|█████████▋| 1272/1309 [00:04<00:00, 204.53files/s, preprocess]"
     ]
    },
    {
     "name": "stderr",
     "output_type": "stream",
     "text": [
      "\r",
      "100%|██████████| 1309/1309 [00:04<00:00, 273.75files/s, preprocess]"
     ]
    },
    {
     "name": "stderr",
     "output_type": "stream",
     "text": [
      "\n"
     ]
    },
    {
     "name": "stderr",
     "output_type": "stream",
     "text": [
      "\r",
      "  0%|          | 0/4 [00:00<?, ?objects/s, convert]"
     ]
    },
    {
     "name": "stderr",
     "output_type": "stream",
     "text": [
      "\r",
      " 25%|██▌       | 1/4 [00:02<00:07,  2.48s/objects, convert]"
     ]
    },
    {
     "name": "stderr",
     "output_type": "stream",
     "text": [
      "\r",
      " 75%|███████▌  | 3/4 [00:02<00:00,  1.27objects/s, convert]"
     ]
    },
    {
     "name": "stderr",
     "output_type": "stream",
     "text": [
      "\r",
      "100%|██████████| 4/4 [01:03<00:00, 21.55s/objects, convert]"
     ]
    },
    {
     "name": "stderr",
     "output_type": "stream",
     "text": [
      "\r",
      "100%|██████████| 4/4 [01:03<00:00, 15.92s/objects, convert]"
     ]
    },
    {
     "name": "stderr",
     "output_type": "stream",
     "text": [
      "\n"
     ]
    },
    {
     "name": "stderr",
     "output_type": "stream",
     "text": [
      "\r",
      "  0%|          | 0/3 [00:00<?, ?objects/s, visualise]"
     ]
    },
    {
     "name": "stderr",
     "output_type": "stream",
     "text": [
      "\r",
      " 33%|███▎      | 1/3 [00:00<00:01,  1.86objects/s, visualise]"
     ]
    },
    {
     "name": "stderr",
     "output_type": "stream",
     "text": [
      "\r",
      " 67%|██████▋   | 2/3 [00:13<00:07,  7.73s/objects, visualise]"
     ]
    },
    {
     "name": "stderr",
     "output_type": "stream",
     "text": [
      "\r",
      "100%|██████████| 3/3 [00:25<00:00,  9.77s/objects, visualise]"
     ]
    },
    {
     "name": "stderr",
     "output_type": "stream",
     "text": [
      "\r",
      "100%|██████████| 3/3 [00:25<00:00,  8.50s/objects, visualise]"
     ]
    },
    {
     "name": "stderr",
     "output_type": "stream",
     "text": [
      "\n"
     ]
    },
    {
     "name": "stdout",
     "output_type": "stream",
     "text": [
      "Due to some limitations in the current version of pyradiomics, pyradiomics must be installed separately. Please run `pip install pyradiomics` to use the compute radiomics functionality.\n"
     ]
    },
    {
     "name": "stderr",
     "output_type": "stream",
     "text": [
      "\r",
      "  0%|          | 0/1 [00:00<?, ?objects/s, Compute DVH]"
     ]
    },
    {
     "name": "stderr",
     "output_type": "stream",
     "text": [
      "\r",
      "100%|██████████| 1/1 [00:11<00:00, 11.87s/objects, Compute DVH]"
     ]
    },
    {
     "name": "stderr",
     "output_type": "stream",
     "text": [
      "\r",
      "100%|██████████| 1/1 [00:11<00:00, 11.87s/objects, Compute DVH]"
     ]
    },
    {
     "name": "stderr",
     "output_type": "stream",
     "text": [
      "\n"
     ]
    }
   ],
   "source": [
    "pydicer.run_pipeline(patient=\"HNSCC-01-0019\")"
   ]
  },
  {
   "cell_type": "markdown",
   "metadata": {},
   "source": [
    "## Prepare a dataset\n",
    "\n",
    "Datasets which are extracted in DICOM format can often be a bit messy and require some cleaning up\n",
    "after conversion. Exactly what data objects to extract for the clean dataset will differ by project\n",
    "but here we use a somewhat common approach of extracting the latest structure set for each patient\n",
    "and the image linked to that.\n",
    "\n",
    "The resulting dataset is stored in a folder with your dataset name (`clean` for this example).\n"
   ]
  },
  {
   "cell_type": "code",
   "execution_count": 6,
   "metadata": {
    "execution": {
     "iopub.execute_input": "2023-06-08T04:13:01.333915Z",
     "iopub.status.busy": "2023-06-08T04:13:01.333384Z",
     "iopub.status.idle": "2023-06-08T04:13:01.364619Z",
     "shell.execute_reply": "2023-06-08T04:13:01.363981Z"
    }
   },
   "outputs": [],
   "source": [
    "pydicer.dataset.prepare(dataset_name=\"clean\", preparation_function=\"rt_latest_dose\")"
   ]
  },
  {
   "cell_type": "markdown",
   "metadata": {},
   "source": [
    "## Analyse the dataset\n",
    "\n",
    "The pipeline computes first-order radiomics features by default, as well as dose volume histograms.\n",
    "Here we can extract out the results easily into a Pandas DataFrame for analysis."
   ]
  },
  {
   "cell_type": "code",
   "execution_count": 7,
   "metadata": {
    "execution": {
     "iopub.execute_input": "2023-06-08T04:13:01.367630Z",
     "iopub.status.busy": "2023-06-08T04:13:01.367213Z",
     "iopub.status.idle": "2023-06-08T04:13:01.381344Z",
     "shell.execute_reply": "2023-06-08T04:13:01.380738Z"
    }
   },
   "outputs": [
    {
     "data": {
      "text/html": [
       "<div>\n",
       "<style scoped>\n",
       "    .dataframe tbody tr th:only-of-type {\n",
       "        vertical-align: middle;\n",
       "    }\n",
       "\n",
       "    .dataframe tbody tr th {\n",
       "        vertical-align: top;\n",
       "    }\n",
       "\n",
       "    .dataframe thead th {\n",
       "        text-align: right;\n",
       "    }\n",
       "</style>\n",
       "<table border=\"1\" class=\"dataframe\">\n",
       "  <thead>\n",
       "    <tr style=\"text-align: right;\">\n",
       "      <th></th>\n",
       "      <th>Patient</th>\n",
       "      <th>ImageHashedUID</th>\n",
       "      <th>StructHashedUID</th>\n",
       "      <th>Contour</th>\n",
       "    </tr>\n",
       "  </thead>\n",
       "  <tbody>\n",
       "  </tbody>\n",
       "</table>\n",
       "</div>"
      ],
      "text/plain": [
       "Empty DataFrame\n",
       "Columns: [Patient, ImageHashedUID, StructHashedUID, Contour]\n",
       "Index: []"
      ]
     },
     "execution_count": 7,
     "metadata": {},
     "output_type": "execute_result"
    }
   ],
   "source": [
    "# Display the DataFrame of radiomics computed\n",
    "df_radiomics = pydicer.analyse.get_all_computed_radiomics_for_dataset(dataset_name=\"clean\")\n",
    "df_radiomics"
   ]
  },
  {
   "cell_type": "code",
   "execution_count": 8,
   "metadata": {
    "execution": {
     "iopub.execute_input": "2023-06-08T04:13:01.384155Z",
     "iopub.status.busy": "2023-06-08T04:13:01.383722Z",
     "iopub.status.idle": "2023-06-08T04:13:01.485426Z",
     "shell.execute_reply": "2023-06-08T04:13:01.484744Z"
    }
   },
   "outputs": [
    {
     "name": "stderr",
     "output_type": "stream",
     "text": [
      "\r",
      "  0%|          | 0/1 [00:00<?, ?objects/s, Compute Dose Metrics]"
     ]
    },
    {
     "name": "stderr",
     "output_type": "stream",
     "text": [
      "\r",
      "100%|██████████| 1/1 [00:00<00:00, 12.71objects/s, Compute Dose Metrics]"
     ]
    },
    {
     "name": "stderr",
     "output_type": "stream",
     "text": [
      "\n"
     ]
    },
    {
     "data": {
      "text/html": [
       "<div>\n",
       "<style scoped>\n",
       "    .dataframe tbody tr th:only-of-type {\n",
       "        vertical-align: middle;\n",
       "    }\n",
       "\n",
       "    .dataframe tbody tr th {\n",
       "        vertical-align: top;\n",
       "    }\n",
       "\n",
       "    .dataframe thead th {\n",
       "        text-align: right;\n",
       "    }\n",
       "</style>\n",
       "<table border=\"1\" class=\"dataframe\">\n",
       "  <thead>\n",
       "    <tr style=\"text-align: right;\">\n",
       "      <th></th>\n",
       "      <th>patient</th>\n",
       "      <th>struct_hash</th>\n",
       "      <th>dose_hash</th>\n",
       "      <th>label</th>\n",
       "      <th>cc</th>\n",
       "      <th>mean</th>\n",
       "      <th>D95</th>\n",
       "      <th>D50</th>\n",
       "      <th>V3</th>\n",
       "    </tr>\n",
       "  </thead>\n",
       "  <tbody>\n",
       "    <tr>\n",
       "      <th>0</th>\n",
       "      <td>HNSCC-01-0019</td>\n",
       "      <td>7cdcd9</td>\n",
       "      <td>309e1a</td>\n",
       "      <td>+1</td>\n",
       "      <td>4640.553474</td>\n",
       "      <td>29.679710</td>\n",
       "      <td>0.030835</td>\n",
       "      <td>25.358893</td>\n",
       "      <td>3709.925652</td>\n",
       "    </tr>\n",
       "    <tr>\n",
       "      <th>1</th>\n",
       "      <td>HNSCC-01-0019</td>\n",
       "      <td>7cdcd9</td>\n",
       "      <td>309e1a</td>\n",
       "      <td>-.3</td>\n",
       "      <td>2689.948082</td>\n",
       "      <td>43.784290</td>\n",
       "      <td>11.384142</td>\n",
       "      <td>43.358867</td>\n",
       "      <td>2688.291550</td>\n",
       "    </tr>\n",
       "    <tr>\n",
       "      <th>2</th>\n",
       "      <td>HNSCC-01-0019</td>\n",
       "      <td>7cdcd9</td>\n",
       "      <td>309e1a</td>\n",
       "      <td>Brain</td>\n",
       "      <td>549.576759</td>\n",
       "      <td>24.043829</td>\n",
       "      <td>7.657684</td>\n",
       "      <td>22.339093</td>\n",
       "      <td>549.553871</td>\n",
       "    </tr>\n",
       "    <tr>\n",
       "      <th>3</th>\n",
       "      <td>HNSCC-01-0019</td>\n",
       "      <td>7cdcd9</td>\n",
       "      <td>309e1a</td>\n",
       "      <td>Brainstem</td>\n",
       "      <td>47.636032</td>\n",
       "      <td>39.998913</td>\n",
       "      <td>28.935185</td>\n",
       "      <td>39.202222</td>\n",
       "      <td>47.636032</td>\n",
       "    </tr>\n",
       "    <tr>\n",
       "      <th>4</th>\n",
       "      <td>HNSCC-01-0019</td>\n",
       "      <td>7cdcd9</td>\n",
       "      <td>309e1a</td>\n",
       "      <td>CTV63</td>\n",
       "      <td>467.602730</td>\n",
       "      <td>71.274086</td>\n",
       "      <td>66.177108</td>\n",
       "      <td>71.589748</td>\n",
       "      <td>467.602730</td>\n",
       "    </tr>\n",
       "    <tr>\n",
       "      <th>5</th>\n",
       "      <td>HNSCC-01-0019</td>\n",
       "      <td>7cdcd9</td>\n",
       "      <td>309e1a</td>\n",
       "      <td>CTV63_Sep</td>\n",
       "      <td>146.395683</td>\n",
       "      <td>68.858795</td>\n",
       "      <td>64.433568</td>\n",
       "      <td>69.122560</td>\n",
       "      <td>146.395683</td>\n",
       "    </tr>\n",
       "    <tr>\n",
       "      <th>6</th>\n",
       "      <td>HNSCC-01-0019</td>\n",
       "      <td>7cdcd9</td>\n",
       "      <td>309e1a</td>\n",
       "      <td>CTV70</td>\n",
       "      <td>325.512886</td>\n",
       "      <td>72.304520</td>\n",
       "      <td>69.484503</td>\n",
       "      <td>72.385685</td>\n",
       "      <td>325.512886</td>\n",
       "    </tr>\n",
       "    <tr>\n",
       "      <th>7</th>\n",
       "      <td>HNSCC-01-0019</td>\n",
       "      <td>7cdcd9</td>\n",
       "      <td>309e1a</td>\n",
       "      <td>Cord</td>\n",
       "      <td>29.082298</td>\n",
       "      <td>24.179092</td>\n",
       "      <td>3.371394</td>\n",
       "      <td>32.130000</td>\n",
       "      <td>28.092384</td>\n",
       "    </tr>\n",
       "    <tr>\n",
       "      <th>8</th>\n",
       "      <td>HNSCC-01-0019</td>\n",
       "      <td>7cdcd9</td>\n",
       "      <td>309e1a</td>\n",
       "      <td>Cord_EXPANDED</td>\n",
       "      <td>88.497162</td>\n",
       "      <td>23.978754</td>\n",
       "      <td>3.222574</td>\n",
       "      <td>31.201053</td>\n",
       "      <td>84.640503</td>\n",
       "    </tr>\n",
       "    <tr>\n",
       "      <th>9</th>\n",
       "      <td>HNSCC-01-0019</td>\n",
       "      <td>7cdcd9</td>\n",
       "      <td>309e1a</td>\n",
       "      <td>External</td>\n",
       "      <td>3131.858826</td>\n",
       "      <td>41.149075</td>\n",
       "      <td>8.677738</td>\n",
       "      <td>39.766531</td>\n",
       "      <td>3123.699188</td>\n",
       "    </tr>\n",
       "    <tr>\n",
       "      <th>10</th>\n",
       "      <td>HNSCC-01-0019</td>\n",
       "      <td>7cdcd9</td>\n",
       "      <td>309e1a</td>\n",
       "      <td>GTV1</td>\n",
       "      <td>145.660400</td>\n",
       "      <td>72.551830</td>\n",
       "      <td>69.922256</td>\n",
       "      <td>72.579562</td>\n",
       "      <td>145.660400</td>\n",
       "    </tr>\n",
       "    <tr>\n",
       "      <th>11</th>\n",
       "      <td>HNSCC-01-0019</td>\n",
       "      <td>7cdcd9</td>\n",
       "      <td>309e1a</td>\n",
       "      <td>LT_Parotid</td>\n",
       "      <td>9.444237</td>\n",
       "      <td>37.419106</td>\n",
       "      <td>20.986429</td>\n",
       "      <td>34.608333</td>\n",
       "      <td>9.444237</td>\n",
       "    </tr>\n",
       "    <tr>\n",
       "      <th>12</th>\n",
       "      <td>HNSCC-01-0019</td>\n",
       "      <td>7cdcd9</td>\n",
       "      <td>309e1a</td>\n",
       "      <td>Lt_Deep_Prtd</td>\n",
       "      <td>5.910873</td>\n",
       "      <td>45.722030</td>\n",
       "      <td>28.243333</td>\n",
       "      <td>44.633333</td>\n",
       "      <td>5.910873</td>\n",
       "    </tr>\n",
       "    <tr>\n",
       "      <th>13</th>\n",
       "      <td>HNSCC-01-0019</td>\n",
       "      <td>7cdcd9</td>\n",
       "      <td>309e1a</td>\n",
       "      <td>Lt_Sup_Prtd</td>\n",
       "      <td>3.819466</td>\n",
       "      <td>26.882912</td>\n",
       "      <td>19.387500</td>\n",
       "      <td>26.795833</td>\n",
       "      <td>3.819466</td>\n",
       "    </tr>\n",
       "    <tr>\n",
       "      <th>14</th>\n",
       "      <td>HNSCC-01-0019</td>\n",
       "      <td>7cdcd9</td>\n",
       "      <td>309e1a</td>\n",
       "      <td>Mandible</td>\n",
       "      <td>68.870544</td>\n",
       "      <td>46.695267</td>\n",
       "      <td>21.463077</td>\n",
       "      <td>42.843662</td>\n",
       "      <td>68.870544</td>\n",
       "    </tr>\n",
       "    <tr>\n",
       "      <th>15</th>\n",
       "      <td>HNSCC-01-0019</td>\n",
       "      <td>7cdcd9</td>\n",
       "      <td>309e1a</td>\n",
       "      <td>Optic_Nerve</td>\n",
       "      <td>4.011154</td>\n",
       "      <td>9.785028</td>\n",
       "      <td>4.719756</td>\n",
       "      <td>8.280000</td>\n",
       "      <td>4.011154</td>\n",
       "    </tr>\n",
       "    <tr>\n",
       "      <th>16</th>\n",
       "      <td>HNSCC-01-0019</td>\n",
       "      <td>7cdcd9</td>\n",
       "      <td>309e1a</td>\n",
       "      <td>Oral_Avoid</td>\n",
       "      <td>103.225708</td>\n",
       "      <td>29.481693</td>\n",
       "      <td>18.202899</td>\n",
       "      <td>30.124706</td>\n",
       "      <td>103.222847</td>\n",
       "    </tr>\n",
       "    <tr>\n",
       "      <th>17</th>\n",
       "      <td>HNSCC-01-0019</td>\n",
       "      <td>7cdcd9</td>\n",
       "      <td>309e1a</td>\n",
       "      <td>PTV57</td>\n",
       "      <td>146.183968</td>\n",
       "      <td>57.981964</td>\n",
       "      <td>53.899716</td>\n",
       "      <td>58.101947</td>\n",
       "      <td>146.183968</td>\n",
       "    </tr>\n",
       "    <tr>\n",
       "      <th>18</th>\n",
       "      <td>HNSCC-01-0019</td>\n",
       "      <td>7cdcd9</td>\n",
       "      <td>309e1a</td>\n",
       "      <td>PTV63</td>\n",
       "      <td>172.883034</td>\n",
       "      <td>65.743240</td>\n",
       "      <td>60.450535</td>\n",
       "      <td>65.955415</td>\n",
       "      <td>172.883034</td>\n",
       "    </tr>\n",
       "    <tr>\n",
       "      <th>19</th>\n",
       "      <td>HNSCC-01-0019</td>\n",
       "      <td>7cdcd9</td>\n",
       "      <td>309e1a</td>\n",
       "      <td>PTV70</td>\n",
       "      <td>456.015587</td>\n",
       "      <td>71.606650</td>\n",
       "      <td>67.455984</td>\n",
       "      <td>71.783420</td>\n",
       "      <td>456.015587</td>\n",
       "    </tr>\n",
       "    <tr>\n",
       "      <th>20</th>\n",
       "      <td>HNSCC-01-0019</td>\n",
       "      <td>7cdcd9</td>\n",
       "      <td>309e1a</td>\n",
       "      <td>Post_Neck</td>\n",
       "      <td>174.854279</td>\n",
       "      <td>38.756176</td>\n",
       "      <td>30.159714</td>\n",
       "      <td>38.474556</td>\n",
       "      <td>174.854279</td>\n",
       "    </tr>\n",
       "    <tr>\n",
       "      <th>21</th>\n",
       "      <td>HNSCC-01-0019</td>\n",
       "      <td>7cdcd9</td>\n",
       "      <td>309e1a</td>\n",
       "      <td>RT_Parotid</td>\n",
       "      <td>12.190819</td>\n",
       "      <td>25.072630</td>\n",
       "      <td>15.400455</td>\n",
       "      <td>22.722973</td>\n",
       "      <td>12.190819</td>\n",
       "    </tr>\n",
       "    <tr>\n",
       "      <th>22</th>\n",
       "      <td>HNSCC-01-0019</td>\n",
       "      <td>7cdcd9</td>\n",
       "      <td>309e1a</td>\n",
       "      <td>Ring</td>\n",
       "      <td>4640.553474</td>\n",
       "      <td>29.679710</td>\n",
       "      <td>0.030835</td>\n",
       "      <td>25.358893</td>\n",
       "      <td>3709.925652</td>\n",
       "    </tr>\n",
       "    <tr>\n",
       "      <th>23</th>\n",
       "      <td>HNSCC-01-0019</td>\n",
       "      <td>7cdcd9</td>\n",
       "      <td>309e1a</td>\n",
       "      <td>Rt_Deep_Prtd</td>\n",
       "      <td>4.420280</td>\n",
       "      <td>32.257150</td>\n",
       "      <td>21.456250</td>\n",
       "      <td>30.916667</td>\n",
       "      <td>4.420280</td>\n",
       "    </tr>\n",
       "    <tr>\n",
       "      <th>24</th>\n",
       "      <td>HNSCC-01-0019</td>\n",
       "      <td>7cdcd9</td>\n",
       "      <td>309e1a</td>\n",
       "      <td>Rt_Sup_Prtd</td>\n",
       "      <td>7.910728</td>\n",
       "      <td>20.038557</td>\n",
       "      <td>14.269444</td>\n",
       "      <td>20.693590</td>\n",
       "      <td>7.910728</td>\n",
       "    </tr>\n",
       "    <tr>\n",
       "      <th>25</th>\n",
       "      <td>HNSCC-01-0019</td>\n",
       "      <td>7cdcd9</td>\n",
       "      <td>309e1a</td>\n",
       "      <td>chiasm</td>\n",
       "      <td>4.898071</td>\n",
       "      <td>7.427364</td>\n",
       "      <td>5.240769</td>\n",
       "      <td>6.989552</td>\n",
       "      <td>4.898071</td>\n",
       "    </tr>\n",
       "    <tr>\n",
       "      <th>26</th>\n",
       "      <td>HNSCC-01-0019</td>\n",
       "      <td>7cdcd9</td>\n",
       "      <td>309e1a</td>\n",
       "      <td>cold</td>\n",
       "      <td>3.115654</td>\n",
       "      <td>71.219050</td>\n",
       "      <td>69.963571</td>\n",
       "      <td>71.269500</td>\n",
       "      <td>3.115654</td>\n",
       "    </tr>\n",
       "    <tr>\n",
       "      <th>27</th>\n",
       "      <td>HNSCC-01-0019</td>\n",
       "      <td>7cdcd9</td>\n",
       "      <td>309e1a</td>\n",
       "      <td>cool_off</td>\n",
       "      <td>7.266998</td>\n",
       "      <td>62.732640</td>\n",
       "      <td>56.155556</td>\n",
       "      <td>63.781250</td>\n",
       "      <td>7.266998</td>\n",
       "    </tr>\n",
       "    <tr>\n",
       "      <th>28</th>\n",
       "      <td>HNSCC-01-0019</td>\n",
       "      <td>7cdcd9</td>\n",
       "      <td>309e1a</td>\n",
       "      <td>ctv_57</td>\n",
       "      <td>88.623047</td>\n",
       "      <td>59.087975</td>\n",
       "      <td>56.294831</td>\n",
       "      <td>58.537787</td>\n",
       "      <td>88.623047</td>\n",
       "    </tr>\n",
       "    <tr>\n",
       "      <th>29</th>\n",
       "      <td>HNSCC-01-0019</td>\n",
       "      <td>7cdcd9</td>\n",
       "      <td>309e1a</td>\n",
       "      <td>hotspot</td>\n",
       "      <td>16.044617</td>\n",
       "      <td>57.649550</td>\n",
       "      <td>48.448571</td>\n",
       "      <td>59.036364</td>\n",
       "      <td>16.036034</td>\n",
       "    </tr>\n",
       "    <tr>\n",
       "      <th>30</th>\n",
       "      <td>HNSCC-01-0019</td>\n",
       "      <td>7cdcd9</td>\n",
       "      <td>309e1a</td>\n",
       "      <td>larynx_avoidance</td>\n",
       "      <td>4.251480</td>\n",
       "      <td>51.509174</td>\n",
       "      <td>43.743333</td>\n",
       "      <td>52.757143</td>\n",
       "      <td>4.251480</td>\n",
       "    </tr>\n",
       "  </tbody>\n",
       "</table>\n",
       "</div>"
      ],
      "text/plain": [
       "          patient struct_hash dose_hash             label           cc  \\\n",
       "0   HNSCC-01-0019      7cdcd9    309e1a                +1  4640.553474   \n",
       "1   HNSCC-01-0019      7cdcd9    309e1a               -.3  2689.948082   \n",
       "2   HNSCC-01-0019      7cdcd9    309e1a             Brain   549.576759   \n",
       "3   HNSCC-01-0019      7cdcd9    309e1a         Brainstem    47.636032   \n",
       "4   HNSCC-01-0019      7cdcd9    309e1a             CTV63   467.602730   \n",
       "5   HNSCC-01-0019      7cdcd9    309e1a         CTV63_Sep   146.395683   \n",
       "6   HNSCC-01-0019      7cdcd9    309e1a             CTV70   325.512886   \n",
       "7   HNSCC-01-0019      7cdcd9    309e1a              Cord    29.082298   \n",
       "8   HNSCC-01-0019      7cdcd9    309e1a     Cord_EXPANDED    88.497162   \n",
       "9   HNSCC-01-0019      7cdcd9    309e1a          External  3131.858826   \n",
       "10  HNSCC-01-0019      7cdcd9    309e1a              GTV1   145.660400   \n",
       "11  HNSCC-01-0019      7cdcd9    309e1a        LT_Parotid     9.444237   \n",
       "12  HNSCC-01-0019      7cdcd9    309e1a      Lt_Deep_Prtd     5.910873   \n",
       "13  HNSCC-01-0019      7cdcd9    309e1a       Lt_Sup_Prtd     3.819466   \n",
       "14  HNSCC-01-0019      7cdcd9    309e1a          Mandible    68.870544   \n",
       "15  HNSCC-01-0019      7cdcd9    309e1a       Optic_Nerve     4.011154   \n",
       "16  HNSCC-01-0019      7cdcd9    309e1a        Oral_Avoid   103.225708   \n",
       "17  HNSCC-01-0019      7cdcd9    309e1a             PTV57   146.183968   \n",
       "18  HNSCC-01-0019      7cdcd9    309e1a             PTV63   172.883034   \n",
       "19  HNSCC-01-0019      7cdcd9    309e1a             PTV70   456.015587   \n",
       "20  HNSCC-01-0019      7cdcd9    309e1a         Post_Neck   174.854279   \n",
       "21  HNSCC-01-0019      7cdcd9    309e1a        RT_Parotid    12.190819   \n",
       "22  HNSCC-01-0019      7cdcd9    309e1a              Ring  4640.553474   \n",
       "23  HNSCC-01-0019      7cdcd9    309e1a      Rt_Deep_Prtd     4.420280   \n",
       "24  HNSCC-01-0019      7cdcd9    309e1a       Rt_Sup_Prtd     7.910728   \n",
       "25  HNSCC-01-0019      7cdcd9    309e1a            chiasm     4.898071   \n",
       "26  HNSCC-01-0019      7cdcd9    309e1a              cold     3.115654   \n",
       "27  HNSCC-01-0019      7cdcd9    309e1a          cool_off     7.266998   \n",
       "28  HNSCC-01-0019      7cdcd9    309e1a            ctv_57    88.623047   \n",
       "29  HNSCC-01-0019      7cdcd9    309e1a           hotspot    16.044617   \n",
       "30  HNSCC-01-0019      7cdcd9    309e1a  larynx_avoidance     4.251480   \n",
       "\n",
       "         mean        D95        D50           V3  \n",
       "0   29.679710   0.030835  25.358893  3709.925652  \n",
       "1   43.784290  11.384142  43.358867  2688.291550  \n",
       "2   24.043829   7.657684  22.339093   549.553871  \n",
       "3   39.998913  28.935185  39.202222    47.636032  \n",
       "4   71.274086  66.177108  71.589748   467.602730  \n",
       "5   68.858795  64.433568  69.122560   146.395683  \n",
       "6   72.304520  69.484503  72.385685   325.512886  \n",
       "7   24.179092   3.371394  32.130000    28.092384  \n",
       "8   23.978754   3.222574  31.201053    84.640503  \n",
       "9   41.149075   8.677738  39.766531  3123.699188  \n",
       "10  72.551830  69.922256  72.579562   145.660400  \n",
       "11  37.419106  20.986429  34.608333     9.444237  \n",
       "12  45.722030  28.243333  44.633333     5.910873  \n",
       "13  26.882912  19.387500  26.795833     3.819466  \n",
       "14  46.695267  21.463077  42.843662    68.870544  \n",
       "15   9.785028   4.719756   8.280000     4.011154  \n",
       "16  29.481693  18.202899  30.124706   103.222847  \n",
       "17  57.981964  53.899716  58.101947   146.183968  \n",
       "18  65.743240  60.450535  65.955415   172.883034  \n",
       "19  71.606650  67.455984  71.783420   456.015587  \n",
       "20  38.756176  30.159714  38.474556   174.854279  \n",
       "21  25.072630  15.400455  22.722973    12.190819  \n",
       "22  29.679710   0.030835  25.358893  3709.925652  \n",
       "23  32.257150  21.456250  30.916667     4.420280  \n",
       "24  20.038557  14.269444  20.693590     7.910728  \n",
       "25   7.427364   5.240769   6.989552     4.898071  \n",
       "26  71.219050  69.963571  71.269500     3.115654  \n",
       "27  62.732640  56.155556  63.781250     7.266998  \n",
       "28  59.087975  56.294831  58.537787    88.623047  \n",
       "29  57.649550  48.448571  59.036364    16.036034  \n",
       "30  51.509174  43.743333  52.757143     4.251480  "
      ]
     },
     "execution_count": 8,
     "metadata": {},
     "output_type": "execute_result"
    }
   ],
   "source": [
    "# Extract the D95, D50 and V3 dose metrics\n",
    "df_dose_metrics = pydicer.analyse.compute_dose_metrics(dataset_name=\"clean\", d_point=[95, 50], v_point=[3])\n",
    "df_dose_metrics"
   ]
  },
  {
   "cell_type": "code",
   "execution_count": null,
   "metadata": {},
   "outputs": [],
   "source": []
  }
 ],
 "metadata": {
  "interpreter": {
   "hash": "814af119db7f8f2860617be3dcd1d37c560587d11c65bd58c45b1679d3ee6ea4"
  },
  "kernelspec": {
   "display_name": "Python 3.8.0 64-bit ('pydicer': pyenv)",
   "language": "python",
   "name": "python3"
  },
  "language_info": {
   "codemirror_mode": {
    "name": "ipython",
    "version": 3
   },
   "file_extension": ".py",
   "mimetype": "text/x-python",
   "name": "python",
   "nbconvert_exporter": "python",
   "pygments_lexer": "ipython3",
   "version": "3.9.16"
  }
 },
 "nbformat": 4,
 "nbformat_minor": 2
}
