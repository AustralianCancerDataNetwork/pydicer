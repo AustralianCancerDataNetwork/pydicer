{
 "cells": [
  {
   "attachments": {},
   "cell_type": "markdown",
   "metadata": {},
   "source": [
    "# Compute Radiomics\n",
    "\n",
    "[![Open In Colab](https://colab.research.google.com/assets/colab-badge.svg)](https://colab.research.google.com/github/AustralianCancerDataNetwork/pydicer/blob/main/examples/Radiomics.ipynb)\n",
    "\n",
    "In this example notebook we use [PyRadiomics](https://github.com/AIM-Harvard/pyradiomics) to\n",
    "compute various type of radiomics features. We use some\n",
    "[LCTSC](https://wiki.cancerimagingarchive.net/pages/viewpage.action?pageId=24284539) data from the\n",
    "Cancer Imaging Archive which has already been converted using PyDicer for demonstration purposes."
   ]
  },
  {
   "cell_type": "code",
   "execution_count": 1,
   "metadata": {
    "execution": {
     "iopub.execute_input": "2024-12-16T12:57:24.659995Z",
     "iopub.status.busy": "2024-12-16T12:57:24.659800Z",
     "iopub.status.idle": "2024-12-16T12:57:25.646157Z",
     "shell.execute_reply": "2024-12-16T12:57:25.645588Z"
    }
   },
   "outputs": [],
   "source": [
    "try:\n",
    "    from pydicer import PyDicer\n",
    "except ImportError:\n",
    "    !pip install pydicer\n",
    "    from pydicer import PyDicer\n",
    "\n",
    "from pathlib import Path\n",
    "\n",
    "from pydicer.utils import fetch_converted_test_data\n",
    "\n",
    "from pydicer.utils import load_object_metadata"
   ]
  },
  {
   "cell_type": "markdown",
   "metadata": {},
   "source": [
    "## Fetch data\n",
    "\n",
    "LCTSC data prepared for this example are downloaded and stored into a `testdata_lctsc` directory.\n",
    "We will use this for our PyDicer working directory."
   ]
  },
  {
   "cell_type": "code",
   "execution_count": 2,
   "metadata": {
    "execution": {
     "iopub.execute_input": "2024-12-16T12:57:25.649338Z",
     "iopub.status.busy": "2024-12-16T12:57:25.648840Z",
     "iopub.status.idle": "2024-12-16T12:57:25.653065Z",
     "shell.execute_reply": "2024-12-16T12:57:25.652438Z"
    }
   },
   "outputs": [
    {
     "name": "stderr",
     "output_type": "stream",
     "text": [
      "Working directory %s aready exists, won't download test data.\n"
     ]
    }
   ],
   "source": [
    "working_directory = fetch_converted_test_data(\"./testdata_lctsc\", dataset=\"LCTSC\")"
   ]
  },
  {
   "cell_type": "markdown",
   "metadata": {},
   "source": [
    "## Initialise PyDicer object\n",
    "\n",
    "Using the working directory containing the LCTSC test data."
   ]
  },
  {
   "cell_type": "code",
   "execution_count": 3,
   "metadata": {
    "execution": {
     "iopub.execute_input": "2024-12-16T12:57:25.655505Z",
     "iopub.status.busy": "2024-12-16T12:57:25.655133Z",
     "iopub.status.idle": "2024-12-16T12:57:25.658626Z",
     "shell.execute_reply": "2024-12-16T12:57:25.658021Z"
    }
   },
   "outputs": [],
   "source": [
    "pydicer = PyDicer(working_directory)"
   ]
  },
  {
   "cell_type": "markdown",
   "metadata": {},
   "source": [
    "## Compute Default Radiomics\n",
    "\n",
    "By default, PyDicer will compute only first-order radiomics features. Radiomics are computed for\n",
    "each structure available in the dataset using the image data of images linked to those structures."
   ]
  },
  {
   "cell_type": "code",
   "execution_count": 4,
   "metadata": {
    "execution": {
     "iopub.execute_input": "2024-12-16T12:57:25.661121Z",
     "iopub.status.busy": "2024-12-16T12:57:25.660757Z",
     "iopub.status.idle": "2024-12-16T12:57:30.277207Z",
     "shell.execute_reply": "2024-12-16T12:57:30.276487Z"
    }
   },
   "outputs": [
    {
     "name": "stdout",
     "output_type": "stream",
     "text": [
      "pydicer.analyse.data - INFO - Computing radiomics for structure set ed6686 and image 5adf40\n"
     ]
    },
    {
     "name": "stdout",
     "output_type": "stream",
     "text": [
      "pydicer.analyse.data - DEBUG - Computing radiomics for structure Lung_L\n"
     ]
    },
    {
     "name": "stdout",
     "output_type": "stream",
     "text": [
      "pydicer.analyse.data - DEBUG - Computing radiomics for structure Esophagus\n"
     ]
    },
    {
     "name": "stdout",
     "output_type": "stream",
     "text": [
      "pydicer.analyse.data - DEBUG - Computing radiomics for structure Lung_R\n"
     ]
    },
    {
     "name": "stdout",
     "output_type": "stream",
     "text": [
      "pydicer.analyse.data - DEBUG - Computing radiomics for structure SpinalCord\n"
     ]
    },
    {
     "name": "stdout",
     "output_type": "stream",
     "text": [
      "pydicer.analyse.data - DEBUG - Computing radiomics for structure Heart\n"
     ]
    },
    {
     "name": "stdout",
     "output_type": "stream",
     "text": [
      "pydicer.analyse.data - INFO - Computing radiomics for structure set ceb111 and image 88c5ef\n"
     ]
    },
    {
     "name": "stdout",
     "output_type": "stream",
     "text": [
      "pydicer.analyse.data - DEBUG - Computing radiomics for structure Lung_L\n"
     ]
    },
    {
     "name": "stdout",
     "output_type": "stream",
     "text": [
      "pydicer.analyse.data - DEBUG - Computing radiomics for structure Esophagus\n"
     ]
    },
    {
     "name": "stdout",
     "output_type": "stream",
     "text": [
      "pydicer.analyse.data - DEBUG - Computing radiomics for structure Lung_R\n"
     ]
    },
    {
     "name": "stdout",
     "output_type": "stream",
     "text": [
      "pydicer.analyse.data - DEBUG - Computing radiomics for structure SpinalCord\n"
     ]
    },
    {
     "name": "stdout",
     "output_type": "stream",
     "text": [
      "pydicer.analyse.data - DEBUG - Computing radiomics for structure Heart\n"
     ]
    },
    {
     "name": "stdout",
     "output_type": "stream",
     "text": [
      "pydicer.analyse.data - INFO - Computing radiomics for structure set 6c6ea4 and image 914d57\n"
     ]
    },
    {
     "name": "stdout",
     "output_type": "stream",
     "text": [
      "pydicer.analyse.data - DEBUG - Computing radiomics for structure Lung_L\n"
     ]
    },
    {
     "name": "stdout",
     "output_type": "stream",
     "text": [
      "pydicer.analyse.data - DEBUG - Computing radiomics for structure Esophagus\n"
     ]
    },
    {
     "name": "stdout",
     "output_type": "stream",
     "text": [
      "pydicer.analyse.data - DEBUG - Computing radiomics for structure Lung_R\n"
     ]
    },
    {
     "name": "stdout",
     "output_type": "stream",
     "text": [
      "pydicer.analyse.data - DEBUG - Computing radiomics for structure SpinalCord\n"
     ]
    },
    {
     "name": "stdout",
     "output_type": "stream",
     "text": [
      "pydicer.analyse.data - DEBUG - Computing radiomics for structure Heart\n"
     ]
    },
    {
     "name": "stdout",
     "output_type": "stream",
     "text": [
      "pydicer.analyse.data - INFO - Computing radiomics for structure set f036b8 and image aa38e6\n"
     ]
    },
    {
     "name": "stdout",
     "output_type": "stream",
     "text": [
      "pydicer.analyse.data - DEBUG - Computing radiomics for structure Esophagus\n"
     ]
    },
    {
     "name": "stdout",
     "output_type": "stream",
     "text": [
      "pydicer.analyse.data - DEBUG - Computing radiomics for structure SpinalCord\n"
     ]
    },
    {
     "name": "stdout",
     "output_type": "stream",
     "text": [
      "pydicer.analyse.data - DEBUG - Computing radiomics for structure Lung_Right\n"
     ]
    },
    {
     "name": "stdout",
     "output_type": "stream",
     "text": [
      "pydicer.analyse.data - DEBUG - Computing radiomics for structure Heart\n"
     ]
    },
    {
     "name": "stdout",
     "output_type": "stream",
     "text": [
      "pydicer.analyse.data - DEBUG - Computing radiomics for structure Lung_Left\n"
     ]
    },
    {
     "name": "stdout",
     "output_type": "stream",
     "text": [
      "pydicer.analyse.data - INFO - Computing radiomics for structure set 48a970 and image dd0026\n"
     ]
    },
    {
     "name": "stdout",
     "output_type": "stream",
     "text": [
      "pydicer.analyse.data - DEBUG - Computing radiomics for structure Lung_L\n"
     ]
    },
    {
     "name": "stdout",
     "output_type": "stream",
     "text": [
      "pydicer.analyse.data - DEBUG - Computing radiomics for structure Esophagus\n"
     ]
    },
    {
     "name": "stdout",
     "output_type": "stream",
     "text": [
      "pydicer.analyse.data - DEBUG - Computing radiomics for structure Lung_R\n"
     ]
    },
    {
     "name": "stdout",
     "output_type": "stream",
     "text": [
      "pydicer.analyse.data - DEBUG - Computing radiomics for structure SpinalCord\n"
     ]
    },
    {
     "name": "stdout",
     "output_type": "stream",
     "text": [
      "pydicer.analyse.data - DEBUG - Computing radiomics for structure Heart\n"
     ]
    },
    {
     "name": "stdout",
     "output_type": "stream",
     "text": [
      "pydicer.analyse.data - INFO - Computing radiomics for structure set 61758b and image d91c84\n"
     ]
    },
    {
     "name": "stdout",
     "output_type": "stream",
     "text": [
      "pydicer.analyse.data - DEBUG - Computing radiomics for structure Lung_L\n"
     ]
    },
    {
     "name": "stdout",
     "output_type": "stream",
     "text": [
      "pydicer.analyse.data - DEBUG - Computing radiomics for structure Esophagus\n"
     ]
    },
    {
     "name": "stdout",
     "output_type": "stream",
     "text": [
      "pydicer.analyse.data - DEBUG - Computing radiomics for structure Lung_R\n"
     ]
    },
    {
     "name": "stdout",
     "output_type": "stream",
     "text": [
      "pydicer.analyse.data - DEBUG - Computing radiomics for structure SC\n"
     ]
    },
    {
     "name": "stdout",
     "output_type": "stream",
     "text": [
      "pydicer.analyse.data - DEBUG - Computing radiomics for structure Heart\n"
     ]
    },
    {
     "name": "stdout",
     "output_type": "stream",
     "text": [
      "pydicer.analyse.data - INFO - Computing radiomics for structure set 68d663 and image 738c1a\n"
     ]
    },
    {
     "name": "stdout",
     "output_type": "stream",
     "text": [
      "pydicer.analyse.data - DEBUG - Computing radiomics for structure Esophagus\n"
     ]
    },
    {
     "name": "stdout",
     "output_type": "stream",
     "text": [
      "pydicer.analyse.data - DEBUG - Computing radiomics for structure Lung_R\n"
     ]
    },
    {
     "name": "stdout",
     "output_type": "stream",
     "text": [
      "pydicer.analyse.data - DEBUG - Computing radiomics for structure SpinalCord\n"
     ]
    },
    {
     "name": "stdout",
     "output_type": "stream",
     "text": [
      "pydicer.analyse.data - DEBUG - Computing radiomics for structure Heart\n"
     ]
    },
    {
     "name": "stdout",
     "output_type": "stream",
     "text": [
      "pydicer.analyse.data - DEBUG - Computing radiomics for structure L_Lung\n"
     ]
    },
    {
     "name": "stdout",
     "output_type": "stream",
     "text": [
      "pydicer.analyse.data - INFO - Computing radiomics for structure set b5bddb and image 6834c9\n"
     ]
    },
    {
     "name": "stdout",
     "output_type": "stream",
     "text": [
      "pydicer.analyse.data - DEBUG - Computing radiomics for structure Lung_L\n"
     ]
    },
    {
     "name": "stdout",
     "output_type": "stream",
     "text": [
      "pydicer.analyse.data - DEBUG - Computing radiomics for structure Esophagus\n"
     ]
    },
    {
     "name": "stdout",
     "output_type": "stream",
     "text": [
      "pydicer.analyse.data - DEBUG - Computing radiomics for structure Lung_R\n"
     ]
    },
    {
     "name": "stdout",
     "output_type": "stream",
     "text": [
      "pydicer.analyse.data - DEBUG - Computing radiomics for structure SpinalCord\n"
     ]
    },
    {
     "name": "stdout",
     "output_type": "stream",
     "text": [
      "pydicer.analyse.data - DEBUG - Computing radiomics for structure Heart\n"
     ]
    },
    {
     "name": "stdout",
     "output_type": "stream",
     "text": [
      "pydicer.analyse.data - INFO - Computing radiomics for structure set cc682f and image 666be6\n"
     ]
    },
    {
     "name": "stdout",
     "output_type": "stream",
     "text": [
      "pydicer.analyse.data - DEBUG - Computing radiomics for structure Lung_L\n"
     ]
    },
    {
     "name": "stdout",
     "output_type": "stream",
     "text": [
      "pydicer.analyse.data - DEBUG - Computing radiomics for structure Esophagus\n"
     ]
    },
    {
     "name": "stdout",
     "output_type": "stream",
     "text": [
      "pydicer.analyse.data - DEBUG - Computing radiomics for structure Lung_R\n"
     ]
    },
    {
     "name": "stdout",
     "output_type": "stream",
     "text": [
      "pydicer.analyse.data - DEBUG - Computing radiomics for structure SpinalCord\n"
     ]
    },
    {
     "name": "stdout",
     "output_type": "stream",
     "text": [
      "pydicer.analyse.data - DEBUG - Computing radiomics for structure Heart\n"
     ]
    },
    {
     "name": "stdout",
     "output_type": "stream",
     "text": [
      "pydicer.analyse.data - INFO - Computing radiomics for structure set 8e34f9 and image 2bf2f9\n"
     ]
    },
    {
     "name": "stdout",
     "output_type": "stream",
     "text": [
      "pydicer.analyse.data - DEBUG - Computing radiomics for structure Lung_L\n"
     ]
    },
    {
     "name": "stdout",
     "output_type": "stream",
     "text": [
      "pydicer.analyse.data - DEBUG - Computing radiomics for structure Esophagus\n"
     ]
    },
    {
     "name": "stdout",
     "output_type": "stream",
     "text": [
      "pydicer.analyse.data - DEBUG - Computing radiomics for structure Lung_R\n"
     ]
    },
    {
     "name": "stdout",
     "output_type": "stream",
     "text": [
      "pydicer.analyse.data - DEBUG - Computing radiomics for structure SpinalCord\n"
     ]
    },
    {
     "name": "stdout",
     "output_type": "stream",
     "text": [
      "pydicer.analyse.data - DEBUG - Computing radiomics for structure Heart\n"
     ]
    }
   ],
   "source": [
    "pydicer.analyse.compute_radiomics()"
   ]
  },
  {
   "cell_type": "markdown",
   "metadata": {},
   "source": [
    "## Fetch computed Radiomics\n",
    "\n",
    "Use the [get_all_computed_radiomics_for_dataset](https://australiancancerdatanetwork.github.io/pydicer/analyse.html#pydicer.analyse.data.AnalyseData.get_all_computed_radiomics_for_dataset) function to fetch all radiomics features computed\n",
    "in the last step.\n",
    "\n",
    "The `.head()` function on a Pandas DataFrame output the first 5 rows for inspection."
   ]
  },
  {
   "cell_type": "code",
   "execution_count": 5,
   "metadata": {
    "execution": {
     "iopub.execute_input": "2024-12-16T12:57:30.280338Z",
     "iopub.status.busy": "2024-12-16T12:57:30.279951Z",
     "iopub.status.idle": "2024-12-16T12:57:30.356736Z",
     "shell.execute_reply": "2024-12-16T12:57:30.356071Z"
    }
   },
   "outputs": [
    {
     "name": "stdout",
     "output_type": "stream",
     "text": [
      "pydicer.dataset.structureset - WARNING - No mapping file found with id default\n"
     ]
    },
    {
     "name": "stdout",
     "output_type": "stream",
     "text": [
      "pydicer.dataset.structureset - WARNING - No mapping file found with id default\n"
     ]
    },
    {
     "name": "stdout",
     "output_type": "stream",
     "text": [
      "pydicer.dataset.structureset - WARNING - No mapping file found with id default\n"
     ]
    },
    {
     "name": "stdout",
     "output_type": "stream",
     "text": [
      "pydicer.dataset.structureset - WARNING - No mapping file found with id default\n"
     ]
    },
    {
     "name": "stdout",
     "output_type": "stream",
     "text": [
      "pydicer.dataset.structureset - WARNING - No mapping file found with id default\n"
     ]
    },
    {
     "name": "stdout",
     "output_type": "stream",
     "text": [
      "pydicer.dataset.structureset - WARNING - No mapping file found with id default\n"
     ]
    },
    {
     "name": "stdout",
     "output_type": "stream",
     "text": [
      "pydicer.dataset.structureset - WARNING - No mapping file found with id default\n"
     ]
    },
    {
     "name": "stdout",
     "output_type": "stream",
     "text": [
      "pydicer.dataset.structureset - WARNING - No mapping file found with id default\n"
     ]
    },
    {
     "name": "stdout",
     "output_type": "stream",
     "text": [
      "pydicer.dataset.structureset - WARNING - No mapping file found with id default\n"
     ]
    },
    {
     "name": "stdout",
     "output_type": "stream",
     "text": [
      "pydicer.dataset.structureset - WARNING - No mapping file found with id default\n"
     ]
    },
    {
     "data": {
      "text/html": [
       "<div>\n",
       "<style scoped>\n",
       "    .dataframe tbody tr th:only-of-type {\n",
       "        vertical-align: middle;\n",
       "    }\n",
       "\n",
       "    .dataframe tbody tr th {\n",
       "        vertical-align: top;\n",
       "    }\n",
       "\n",
       "    .dataframe thead th {\n",
       "        text-align: right;\n",
       "    }\n",
       "</style>\n",
       "<table border=\"1\" class=\"dataframe\">\n",
       "  <thead>\n",
       "    <tr style=\"text-align: right;\">\n",
       "      <th></th>\n",
       "      <th>Contour</th>\n",
       "      <th>Patient</th>\n",
       "      <th>ImageHashedUID</th>\n",
       "      <th>StructHashedUID</th>\n",
       "      <th>ResampledPixelSpacing</th>\n",
       "      <th>NormalisationScale</th>\n",
       "      <th>firstorder|10Percentile</th>\n",
       "      <th>firstorder|90Percentile</th>\n",
       "      <th>firstorder|Energy</th>\n",
       "      <th>firstorder|Entropy</th>\n",
       "      <th>...</th>\n",
       "      <th>firstorder|Mean</th>\n",
       "      <th>firstorder|Median</th>\n",
       "      <th>firstorder|Minimum</th>\n",
       "      <th>firstorder|Range</th>\n",
       "      <th>firstorder|RobustMeanAbsoluteDeviation</th>\n",
       "      <th>firstorder|RootMeanSquared</th>\n",
       "      <th>firstorder|Skewness</th>\n",
       "      <th>firstorder|TotalEnergy</th>\n",
       "      <th>firstorder|Uniformity</th>\n",
       "      <th>firstorder|Variance</th>\n",
       "    </tr>\n",
       "  </thead>\n",
       "  <tbody>\n",
       "    <tr>\n",
       "      <th>1</th>\n",
       "      <td>Esophagus</td>\n",
       "      <td>LCTSC-Test-S1-101</td>\n",
       "      <td>666be6</td>\n",
       "      <td>cc682f</td>\n",
       "      <td>NaN</td>\n",
       "      <td>NaN</td>\n",
       "      <td>-9.0</td>\n",
       "      <td>74.0</td>\n",
       "      <td>6.379739e+06</td>\n",
       "      <td>2.563380</td>\n",
       "      <td>...</td>\n",
       "      <td>33.382764</td>\n",
       "      <td>42.0</td>\n",
       "      <td>-745.0</td>\n",
       "      <td>940.0</td>\n",
       "      <td>15.951183</td>\n",
       "      <td>70.379070</td>\n",
       "      <td>-5.961993</td>\n",
       "      <td>1.642731e+08</td>\n",
       "      <td>0.232723</td>\n",
       "      <td>3838.804579</td>\n",
       "    </tr>\n",
       "    <tr>\n",
       "      <th>4</th>\n",
       "      <td>Heart</td>\n",
       "      <td>LCTSC-Test-S1-101</td>\n",
       "      <td>666be6</td>\n",
       "      <td>cc682f</td>\n",
       "      <td>NaN</td>\n",
       "      <td>NaN</td>\n",
       "      <td>-14.0</td>\n",
       "      <td>68.0</td>\n",
       "      <td>8.486142e+07</td>\n",
       "      <td>2.343017</td>\n",
       "      <td>...</td>\n",
       "      <td>34.078823</td>\n",
       "      <td>44.0</td>\n",
       "      <td>-577.0</td>\n",
       "      <td>806.0</td>\n",
       "      <td>14.250737</td>\n",
       "      <td>53.881633</td>\n",
       "      <td>-2.753651</td>\n",
       "      <td>2.185112e+09</td>\n",
       "      <td>0.273513</td>\n",
       "      <td>1741.864194</td>\n",
       "    </tr>\n",
       "    <tr>\n",
       "      <th>0</th>\n",
       "      <td>Lung_L</td>\n",
       "      <td>LCTSC-Test-S1-101</td>\n",
       "      <td>666be6</td>\n",
       "      <td>cc682f</td>\n",
       "      <td>NaN</td>\n",
       "      <td>NaN</td>\n",
       "      <td>-871.0</td>\n",
       "      <td>-502.0</td>\n",
       "      <td>3.907161e+10</td>\n",
       "      <td>4.313815</td>\n",
       "      <td>...</td>\n",
       "      <td>-729.756106</td>\n",
       "      <td>-778.0</td>\n",
       "      <td>-1000.0</td>\n",
       "      <td>1357.0</td>\n",
       "      <td>67.906500</td>\n",
       "      <td>747.249117</td>\n",
       "      <td>1.747786</td>\n",
       "      <td>1.006062e+12</td>\n",
       "      <td>0.069585</td>\n",
       "      <td>25837.268599</td>\n",
       "    </tr>\n",
       "    <tr>\n",
       "      <th>2</th>\n",
       "      <td>Lung_R</td>\n",
       "      <td>LCTSC-Test-S1-101</td>\n",
       "      <td>666be6</td>\n",
       "      <td>cc682f</td>\n",
       "      <td>NaN</td>\n",
       "      <td>NaN</td>\n",
       "      <td>-889.0</td>\n",
       "      <td>-480.0</td>\n",
       "      <td>4.790689e+10</td>\n",
       "      <td>4.414603</td>\n",
       "      <td>...</td>\n",
       "      <td>-735.842185</td>\n",
       "      <td>-789.0</td>\n",
       "      <td>-1000.0</td>\n",
       "      <td>1215.0</td>\n",
       "      <td>76.876692</td>\n",
       "      <td>755.465238</td>\n",
       "      <td>1.617379</td>\n",
       "      <td>1.233563e+12</td>\n",
       "      <td>0.063675</td>\n",
       "      <td>29264.004413</td>\n",
       "    </tr>\n",
       "    <tr>\n",
       "      <th>3</th>\n",
       "      <td>SpinalCord</td>\n",
       "      <td>LCTSC-Test-S1-101</td>\n",
       "      <td>666be6</td>\n",
       "      <td>cc682f</td>\n",
       "      <td>NaN</td>\n",
       "      <td>NaN</td>\n",
       "      <td>-19.0</td>\n",
       "      <td>70.0</td>\n",
       "      <td>6.830546e+06</td>\n",
       "      <td>2.638360</td>\n",
       "      <td>...</td>\n",
       "      <td>27.051730</td>\n",
       "      <td>27.0</td>\n",
       "      <td>-144.0</td>\n",
       "      <td>573.0</td>\n",
       "      <td>18.213519</td>\n",
       "      <td>49.364661</td>\n",
       "      <td>1.348291</td>\n",
       "      <td>1.758810e+08</td>\n",
       "      <td>0.205445</td>\n",
       "      <td>1705.073671</td>\n",
       "    </tr>\n",
       "  </tbody>\n",
       "</table>\n",
       "<p>5 rows × 24 columns</p>\n",
       "</div>"
      ],
      "text/plain": [
       "      Contour            Patient ImageHashedUID StructHashedUID  \\\n",
       "1   Esophagus  LCTSC-Test-S1-101         666be6          cc682f   \n",
       "4       Heart  LCTSC-Test-S1-101         666be6          cc682f   \n",
       "0      Lung_L  LCTSC-Test-S1-101         666be6          cc682f   \n",
       "2      Lung_R  LCTSC-Test-S1-101         666be6          cc682f   \n",
       "3  SpinalCord  LCTSC-Test-S1-101         666be6          cc682f   \n",
       "\n",
       "   ResampledPixelSpacing  NormalisationScale  firstorder|10Percentile  \\\n",
       "1                    NaN                 NaN                     -9.0   \n",
       "4                    NaN                 NaN                    -14.0   \n",
       "0                    NaN                 NaN                   -871.0   \n",
       "2                    NaN                 NaN                   -889.0   \n",
       "3                    NaN                 NaN                    -19.0   \n",
       "\n",
       "   firstorder|90Percentile  firstorder|Energy  firstorder|Entropy  ...  \\\n",
       "1                     74.0       6.379739e+06            2.563380  ...   \n",
       "4                     68.0       8.486142e+07            2.343017  ...   \n",
       "0                   -502.0       3.907161e+10            4.313815  ...   \n",
       "2                   -480.0       4.790689e+10            4.414603  ...   \n",
       "3                     70.0       6.830546e+06            2.638360  ...   \n",
       "\n",
       "   firstorder|Mean  firstorder|Median  firstorder|Minimum  firstorder|Range  \\\n",
       "1        33.382764               42.0              -745.0             940.0   \n",
       "4        34.078823               44.0              -577.0             806.0   \n",
       "0      -729.756106             -778.0             -1000.0            1357.0   \n",
       "2      -735.842185             -789.0             -1000.0            1215.0   \n",
       "3        27.051730               27.0              -144.0             573.0   \n",
       "\n",
       "   firstorder|RobustMeanAbsoluteDeviation  firstorder|RootMeanSquared  \\\n",
       "1                               15.951183                   70.379070   \n",
       "4                               14.250737                   53.881633   \n",
       "0                               67.906500                  747.249117   \n",
       "2                               76.876692                  755.465238   \n",
       "3                               18.213519                   49.364661   \n",
       "\n",
       "   firstorder|Skewness  firstorder|TotalEnergy  firstorder|Uniformity  \\\n",
       "1            -5.961993            1.642731e+08               0.232723   \n",
       "4            -2.753651            2.185112e+09               0.273513   \n",
       "0             1.747786            1.006062e+12               0.069585   \n",
       "2             1.617379            1.233563e+12               0.063675   \n",
       "3             1.348291            1.758810e+08               0.205445   \n",
       "\n",
       "   firstorder|Variance  \n",
       "1          3838.804579  \n",
       "4          1741.864194  \n",
       "0         25837.268599  \n",
       "2         29264.004413  \n",
       "3          1705.073671  \n",
       "\n",
       "[5 rows x 24 columns]"
      ]
     },
     "execution_count": 5,
     "metadata": {},
     "output_type": "execute_result"
    }
   ],
   "source": [
    "# Display the DataFrame of radiomics computed\n",
    "df_radiomics = pydicer.analyse.get_all_computed_radiomics_for_dataset()\n",
    "df_radiomics.head()"
   ]
  },
  {
   "cell_type": "markdown",
   "metadata": {},
   "source": [
    "## Specify Radiomics to Compute\n",
    "\n",
    "PyDicer used the popular `pyradiomics` library to compute radiomics. So, you may specify any\n",
    "radiomics features provided in that library to be computed. See the [pyradiomics documentation for\n",
    "a list of radiomics features\n",
    "available](https://pyradiomics.readthedocs.io/en/latest/features.html).\n",
    "\n",
    "In this example, we specify all `shape` features as well as `first-order` features to be computed."
   ]
  },
  {
   "cell_type": "code",
   "execution_count": 6,
   "metadata": {
    "execution": {
     "iopub.execute_input": "2024-12-16T12:57:30.359167Z",
     "iopub.status.busy": "2024-12-16T12:57:30.358970Z",
     "iopub.status.idle": "2024-12-16T12:57:49.367156Z",
     "shell.execute_reply": "2024-12-16T12:57:49.366521Z"
    }
   },
   "outputs": [
    {
     "name": "stdout",
     "output_type": "stream",
     "text": [
      "pydicer.analyse.data - INFO - Computing radiomics for structure set ed6686 and image 5adf40\n"
     ]
    },
    {
     "name": "stdout",
     "output_type": "stream",
     "text": [
      "pydicer.analyse.data - DEBUG - Computing radiomics for structure Lung_L\n"
     ]
    },
    {
     "name": "stdout",
     "output_type": "stream",
     "text": [
      "pydicer.analyse.data - DEBUG - Computing radiomics for structure Esophagus\n"
     ]
    },
    {
     "name": "stdout",
     "output_type": "stream",
     "text": [
      "pydicer.analyse.data - DEBUG - Computing radiomics for structure Lung_R\n"
     ]
    },
    {
     "name": "stdout",
     "output_type": "stream",
     "text": [
      "pydicer.analyse.data - DEBUG - Computing radiomics for structure SpinalCord\n"
     ]
    },
    {
     "name": "stdout",
     "output_type": "stream",
     "text": [
      "pydicer.analyse.data - DEBUG - Computing radiomics for structure Heart\n"
     ]
    },
    {
     "name": "stdout",
     "output_type": "stream",
     "text": [
      "pydicer.analyse.data - INFO - Computing radiomics for structure set ceb111 and image 88c5ef\n"
     ]
    },
    {
     "name": "stdout",
     "output_type": "stream",
     "text": [
      "pydicer.analyse.data - DEBUG - Computing radiomics for structure Lung_L\n"
     ]
    },
    {
     "name": "stdout",
     "output_type": "stream",
     "text": [
      "pydicer.analyse.data - DEBUG - Computing radiomics for structure Esophagus\n"
     ]
    },
    {
     "name": "stdout",
     "output_type": "stream",
     "text": [
      "pydicer.analyse.data - DEBUG - Computing radiomics for structure Lung_R\n"
     ]
    },
    {
     "name": "stdout",
     "output_type": "stream",
     "text": [
      "pydicer.analyse.data - DEBUG - Computing radiomics for structure SpinalCord\n"
     ]
    },
    {
     "name": "stdout",
     "output_type": "stream",
     "text": [
      "pydicer.analyse.data - DEBUG - Computing radiomics for structure Heart\n"
     ]
    },
    {
     "name": "stdout",
     "output_type": "stream",
     "text": [
      "pydicer.analyse.data - INFO - Computing radiomics for structure set 6c6ea4 and image 914d57\n"
     ]
    },
    {
     "name": "stdout",
     "output_type": "stream",
     "text": [
      "pydicer.analyse.data - DEBUG - Computing radiomics for structure Lung_L\n"
     ]
    },
    {
     "name": "stdout",
     "output_type": "stream",
     "text": [
      "pydicer.analyse.data - DEBUG - Computing radiomics for structure Esophagus\n"
     ]
    },
    {
     "name": "stdout",
     "output_type": "stream",
     "text": [
      "pydicer.analyse.data - DEBUG - Computing radiomics for structure Lung_R\n"
     ]
    },
    {
     "name": "stdout",
     "output_type": "stream",
     "text": [
      "pydicer.analyse.data - DEBUG - Computing radiomics for structure SpinalCord\n"
     ]
    },
    {
     "name": "stdout",
     "output_type": "stream",
     "text": [
      "pydicer.analyse.data - DEBUG - Computing radiomics for structure Heart\n"
     ]
    },
    {
     "name": "stdout",
     "output_type": "stream",
     "text": [
      "pydicer.analyse.data - INFO - Computing radiomics for structure set f036b8 and image aa38e6\n"
     ]
    },
    {
     "name": "stdout",
     "output_type": "stream",
     "text": [
      "pydicer.analyse.data - DEBUG - Computing radiomics for structure Esophagus\n"
     ]
    },
    {
     "name": "stdout",
     "output_type": "stream",
     "text": [
      "pydicer.analyse.data - DEBUG - Computing radiomics for structure SpinalCord\n"
     ]
    },
    {
     "name": "stdout",
     "output_type": "stream",
     "text": [
      "pydicer.analyse.data - DEBUG - Computing radiomics for structure Lung_Right\n"
     ]
    },
    {
     "name": "stdout",
     "output_type": "stream",
     "text": [
      "pydicer.analyse.data - DEBUG - Computing radiomics for structure Heart\n"
     ]
    },
    {
     "name": "stdout",
     "output_type": "stream",
     "text": [
      "pydicer.analyse.data - DEBUG - Computing radiomics for structure Lung_Left\n"
     ]
    },
    {
     "name": "stdout",
     "output_type": "stream",
     "text": [
      "pydicer.analyse.data - INFO - Computing radiomics for structure set 48a970 and image dd0026\n"
     ]
    },
    {
     "name": "stdout",
     "output_type": "stream",
     "text": [
      "pydicer.analyse.data - DEBUG - Computing radiomics for structure Lung_L\n"
     ]
    },
    {
     "name": "stdout",
     "output_type": "stream",
     "text": [
      "pydicer.analyse.data - DEBUG - Computing radiomics for structure Esophagus\n"
     ]
    },
    {
     "name": "stdout",
     "output_type": "stream",
     "text": [
      "pydicer.analyse.data - DEBUG - Computing radiomics for structure Lung_R\n"
     ]
    },
    {
     "name": "stdout",
     "output_type": "stream",
     "text": [
      "pydicer.analyse.data - DEBUG - Computing radiomics for structure SpinalCord\n"
     ]
    },
    {
     "name": "stdout",
     "output_type": "stream",
     "text": [
      "pydicer.analyse.data - DEBUG - Computing radiomics for structure Heart\n"
     ]
    },
    {
     "name": "stdout",
     "output_type": "stream",
     "text": [
      "pydicer.analyse.data - INFO - Computing radiomics for structure set 61758b and image d91c84\n"
     ]
    },
    {
     "name": "stdout",
     "output_type": "stream",
     "text": [
      "pydicer.analyse.data - DEBUG - Computing radiomics for structure Lung_L\n"
     ]
    },
    {
     "name": "stdout",
     "output_type": "stream",
     "text": [
      "pydicer.analyse.data - DEBUG - Computing radiomics for structure Esophagus\n"
     ]
    },
    {
     "name": "stdout",
     "output_type": "stream",
     "text": [
      "pydicer.analyse.data - DEBUG - Computing radiomics for structure Lung_R\n"
     ]
    },
    {
     "name": "stdout",
     "output_type": "stream",
     "text": [
      "pydicer.analyse.data - DEBUG - Computing radiomics for structure SC\n"
     ]
    },
    {
     "name": "stdout",
     "output_type": "stream",
     "text": [
      "pydicer.analyse.data - DEBUG - Computing radiomics for structure Heart\n"
     ]
    },
    {
     "name": "stdout",
     "output_type": "stream",
     "text": [
      "pydicer.analyse.data - INFO - Computing radiomics for structure set 68d663 and image 738c1a\n"
     ]
    },
    {
     "name": "stdout",
     "output_type": "stream",
     "text": [
      "pydicer.analyse.data - DEBUG - Computing radiomics for structure Esophagus\n"
     ]
    },
    {
     "name": "stdout",
     "output_type": "stream",
     "text": [
      "pydicer.analyse.data - DEBUG - Computing radiomics for structure Lung_R\n"
     ]
    },
    {
     "name": "stdout",
     "output_type": "stream",
     "text": [
      "pydicer.analyse.data - DEBUG - Computing radiomics for structure SpinalCord\n"
     ]
    },
    {
     "name": "stdout",
     "output_type": "stream",
     "text": [
      "pydicer.analyse.data - DEBUG - Computing radiomics for structure Heart\n"
     ]
    },
    {
     "name": "stdout",
     "output_type": "stream",
     "text": [
      "pydicer.analyse.data - DEBUG - Computing radiomics for structure L_Lung\n"
     ]
    },
    {
     "name": "stdout",
     "output_type": "stream",
     "text": [
      "pydicer.analyse.data - INFO - Computing radiomics for structure set b5bddb and image 6834c9\n"
     ]
    },
    {
     "name": "stdout",
     "output_type": "stream",
     "text": [
      "pydicer.analyse.data - DEBUG - Computing radiomics for structure Lung_L\n"
     ]
    },
    {
     "name": "stdout",
     "output_type": "stream",
     "text": [
      "pydicer.analyse.data - DEBUG - Computing radiomics for structure Esophagus\n"
     ]
    },
    {
     "name": "stdout",
     "output_type": "stream",
     "text": [
      "pydicer.analyse.data - DEBUG - Computing radiomics for structure Lung_R\n"
     ]
    },
    {
     "name": "stdout",
     "output_type": "stream",
     "text": [
      "pydicer.analyse.data - DEBUG - Computing radiomics for structure SpinalCord\n"
     ]
    },
    {
     "name": "stdout",
     "output_type": "stream",
     "text": [
      "pydicer.analyse.data - DEBUG - Computing radiomics for structure Heart\n"
     ]
    },
    {
     "name": "stdout",
     "output_type": "stream",
     "text": [
      "pydicer.analyse.data - INFO - Computing radiomics for structure set cc682f and image 666be6\n"
     ]
    },
    {
     "name": "stdout",
     "output_type": "stream",
     "text": [
      "pydicer.analyse.data - DEBUG - Computing radiomics for structure Lung_L\n"
     ]
    },
    {
     "name": "stdout",
     "output_type": "stream",
     "text": [
      "pydicer.analyse.data - DEBUG - Computing radiomics for structure Esophagus\n"
     ]
    },
    {
     "name": "stdout",
     "output_type": "stream",
     "text": [
      "pydicer.analyse.data - DEBUG - Computing radiomics for structure Lung_R\n"
     ]
    },
    {
     "name": "stdout",
     "output_type": "stream",
     "text": [
      "pydicer.analyse.data - DEBUG - Computing radiomics for structure SpinalCord\n"
     ]
    },
    {
     "name": "stdout",
     "output_type": "stream",
     "text": [
      "pydicer.analyse.data - DEBUG - Computing radiomics for structure Heart\n"
     ]
    },
    {
     "name": "stdout",
     "output_type": "stream",
     "text": [
      "pydicer.analyse.data - INFO - Computing radiomics for structure set 8e34f9 and image 2bf2f9\n"
     ]
    },
    {
     "name": "stdout",
     "output_type": "stream",
     "text": [
      "pydicer.analyse.data - DEBUG - Computing radiomics for structure Lung_L\n"
     ]
    },
    {
     "name": "stdout",
     "output_type": "stream",
     "text": [
      "pydicer.analyse.data - DEBUG - Computing radiomics for structure Esophagus\n"
     ]
    },
    {
     "name": "stdout",
     "output_type": "stream",
     "text": [
      "pydicer.analyse.data - DEBUG - Computing radiomics for structure Lung_R\n"
     ]
    },
    {
     "name": "stdout",
     "output_type": "stream",
     "text": [
      "pydicer.analyse.data - DEBUG - Computing radiomics for structure SpinalCord\n"
     ]
    },
    {
     "name": "stdout",
     "output_type": "stream",
     "text": [
      "pydicer.analyse.data - DEBUG - Computing radiomics for structure Heart\n"
     ]
    },
    {
     "name": "stdout",
     "output_type": "stream",
     "text": [
      "pydicer.dataset.structureset - WARNING - No mapping file found with id default\n"
     ]
    },
    {
     "name": "stdout",
     "output_type": "stream",
     "text": [
      "pydicer.dataset.structureset - WARNING - No mapping file found with id default\n"
     ]
    },
    {
     "name": "stdout",
     "output_type": "stream",
     "text": [
      "pydicer.dataset.structureset - WARNING - No mapping file found with id default\n"
     ]
    },
    {
     "name": "stdout",
     "output_type": "stream",
     "text": [
      "pydicer.dataset.structureset - WARNING - No mapping file found with id default\n"
     ]
    },
    {
     "name": "stdout",
     "output_type": "stream",
     "text": [
      "pydicer.dataset.structureset - WARNING - No mapping file found with id default\n"
     ]
    },
    {
     "name": "stdout",
     "output_type": "stream",
     "text": [
      "pydicer.dataset.structureset - WARNING - No mapping file found with id default\n"
     ]
    },
    {
     "name": "stdout",
     "output_type": "stream",
     "text": [
      "pydicer.dataset.structureset - WARNING - No mapping file found with id default\n"
     ]
    },
    {
     "name": "stdout",
     "output_type": "stream",
     "text": [
      "pydicer.dataset.structureset - WARNING - No mapping file found with id default\n"
     ]
    },
    {
     "name": "stdout",
     "output_type": "stream",
     "text": [
      "pydicer.dataset.structureset - WARNING - No mapping file found with id default\n"
     ]
    },
    {
     "name": "stdout",
     "output_type": "stream",
     "text": [
      "pydicer.dataset.structureset - WARNING - No mapping file found with id default\n"
     ]
    },
    {
     "data": {
      "text/html": [
       "<div>\n",
       "<style scoped>\n",
       "    .dataframe tbody tr th:only-of-type {\n",
       "        vertical-align: middle;\n",
       "    }\n",
       "\n",
       "    .dataframe tbody tr th {\n",
       "        vertical-align: top;\n",
       "    }\n",
       "\n",
       "    .dataframe thead th {\n",
       "        text-align: right;\n",
       "    }\n",
       "</style>\n",
       "<table border=\"1\" class=\"dataframe\">\n",
       "  <thead>\n",
       "    <tr style=\"text-align: right;\">\n",
       "      <th></th>\n",
       "      <th>Contour</th>\n",
       "      <th>Patient</th>\n",
       "      <th>ImageHashedUID</th>\n",
       "      <th>StructHashedUID</th>\n",
       "      <th>ResampledPixelSpacing</th>\n",
       "      <th>NormalisationScale</th>\n",
       "      <th>firstorder|10Percentile</th>\n",
       "      <th>firstorder|90Percentile</th>\n",
       "      <th>firstorder|Energy</th>\n",
       "      <th>firstorder|Entropy</th>\n",
       "      <th>...</th>\n",
       "      <th>shape|Maximum2DDiameterColumn</th>\n",
       "      <th>shape|Maximum2DDiameterRow</th>\n",
       "      <th>shape|Maximum2DDiameterSlice</th>\n",
       "      <th>shape|Maximum3DDiameter</th>\n",
       "      <th>shape|MeshVolume</th>\n",
       "      <th>shape|MinorAxisLength</th>\n",
       "      <th>shape|Sphericity</th>\n",
       "      <th>shape|SurfaceArea</th>\n",
       "      <th>shape|SurfaceVolumeRatio</th>\n",
       "      <th>shape|VoxelVolume</th>\n",
       "    </tr>\n",
       "  </thead>\n",
       "  <tbody>\n",
       "    <tr>\n",
       "      <th>1</th>\n",
       "      <td>Esophagus</td>\n",
       "      <td>LCTSC-Test-S1-101</td>\n",
       "      <td>666be6</td>\n",
       "      <td>cc682f</td>\n",
       "      <td>NaN</td>\n",
       "      <td>NaN</td>\n",
       "      <td>-9.0</td>\n",
       "      <td>74.0</td>\n",
       "      <td>6.379739e+06</td>\n",
       "      <td>2.563380</td>\n",
       "      <td>...</td>\n",
       "      <td>223.924778</td>\n",
       "      <td>222.309084</td>\n",
       "      <td>23.619884</td>\n",
       "      <td>224.231209</td>\n",
       "      <td>3.193220e+04</td>\n",
       "      <td>50.733471</td>\n",
       "      <td>0.408351</td>\n",
       "      <td>11919.810387</td>\n",
       "      <td>0.373285</td>\n",
       "      <td>3.316495e+04</td>\n",
       "    </tr>\n",
       "    <tr>\n",
       "      <th>4</th>\n",
       "      <td>Heart</td>\n",
       "      <td>LCTSC-Test-S1-101</td>\n",
       "      <td>666be6</td>\n",
       "      <td>cc682f</td>\n",
       "      <td>NaN</td>\n",
       "      <td>NaN</td>\n",
       "      <td>-14.0</td>\n",
       "      <td>68.0</td>\n",
       "      <td>8.486142e+07</td>\n",
       "      <td>2.343017</td>\n",
       "      <td>...</td>\n",
       "      <td>163.733306</td>\n",
       "      <td>127.040344</td>\n",
       "      <td>151.241053</td>\n",
       "      <td>164.152138</td>\n",
       "      <td>7.510135e+05</td>\n",
       "      <td>100.977462</td>\n",
       "      <td>0.781597</td>\n",
       "      <td>51121.049949</td>\n",
       "      <td>0.068069</td>\n",
       "      <td>7.526486e+05</td>\n",
       "    </tr>\n",
       "    <tr>\n",
       "      <th>0</th>\n",
       "      <td>Lung_L</td>\n",
       "      <td>LCTSC-Test-S1-101</td>\n",
       "      <td>666be6</td>\n",
       "      <td>cc682f</td>\n",
       "      <td>NaN</td>\n",
       "      <td>NaN</td>\n",
       "      <td>-871.0</td>\n",
       "      <td>-502.0</td>\n",
       "      <td>3.907161e+10</td>\n",
       "      <td>4.313815</td>\n",
       "      <td>...</td>\n",
       "      <td>236.649430</td>\n",
       "      <td>242.714238</td>\n",
       "      <td>190.429595</td>\n",
       "      <td>245.982024</td>\n",
       "      <td>1.802886e+06</td>\n",
       "      <td>171.702531</td>\n",
       "      <td>0.568696</td>\n",
       "      <td>125964.905979</td>\n",
       "      <td>0.069868</td>\n",
       "      <td>1.801747e+06</td>\n",
       "    </tr>\n",
       "    <tr>\n",
       "      <th>2</th>\n",
       "      <td>Lung_R</td>\n",
       "      <td>LCTSC-Test-S1-101</td>\n",
       "      <td>666be6</td>\n",
       "      <td>cc682f</td>\n",
       "      <td>NaN</td>\n",
       "      <td>NaN</td>\n",
       "      <td>-889.0</td>\n",
       "      <td>-480.0</td>\n",
       "      <td>4.790689e+10</td>\n",
       "      <td>4.414603</td>\n",
       "      <td>...</td>\n",
       "      <td>231.159117</td>\n",
       "      <td>247.961931</td>\n",
       "      <td>186.213760</td>\n",
       "      <td>248.126635</td>\n",
       "      <td>2.159708e+06</td>\n",
       "      <td>172.513299</td>\n",
       "      <td>0.582917</td>\n",
       "      <td>138614.093158</td>\n",
       "      <td>0.064182</td>\n",
       "      <td>2.161386e+06</td>\n",
       "    </tr>\n",
       "    <tr>\n",
       "      <th>3</th>\n",
       "      <td>SpinalCord</td>\n",
       "      <td>LCTSC-Test-S1-101</td>\n",
       "      <td>666be6</td>\n",
       "      <td>cc682f</td>\n",
       "      <td>NaN</td>\n",
       "      <td>NaN</td>\n",
       "      <td>-19.0</td>\n",
       "      <td>70.0</td>\n",
       "      <td>6.830546e+06</td>\n",
       "      <td>2.638360</td>\n",
       "      <td>...</td>\n",
       "      <td>300.128718</td>\n",
       "      <td>313.974459</td>\n",
       "      <td>26.529436</td>\n",
       "      <td>314.315983</td>\n",
       "      <td>7.050233e+04</td>\n",
       "      <td>32.966235</td>\n",
       "      <td>0.418454</td>\n",
       "      <td>19722.946105</td>\n",
       "      <td>0.279749</td>\n",
       "      <td>7.217496e+04</td>\n",
       "    </tr>\n",
       "  </tbody>\n",
       "</table>\n",
       "<p>5 rows × 38 columns</p>\n",
       "</div>"
      ],
      "text/plain": [
       "      Contour            Patient ImageHashedUID StructHashedUID  \\\n",
       "1   Esophagus  LCTSC-Test-S1-101         666be6          cc682f   \n",
       "4       Heart  LCTSC-Test-S1-101         666be6          cc682f   \n",
       "0      Lung_L  LCTSC-Test-S1-101         666be6          cc682f   \n",
       "2      Lung_R  LCTSC-Test-S1-101         666be6          cc682f   \n",
       "3  SpinalCord  LCTSC-Test-S1-101         666be6          cc682f   \n",
       "\n",
       "   ResampledPixelSpacing  NormalisationScale  firstorder|10Percentile  \\\n",
       "1                    NaN                 NaN                     -9.0   \n",
       "4                    NaN                 NaN                    -14.0   \n",
       "0                    NaN                 NaN                   -871.0   \n",
       "2                    NaN                 NaN                   -889.0   \n",
       "3                    NaN                 NaN                    -19.0   \n",
       "\n",
       "   firstorder|90Percentile  firstorder|Energy  firstorder|Entropy  ...  \\\n",
       "1                     74.0       6.379739e+06            2.563380  ...   \n",
       "4                     68.0       8.486142e+07            2.343017  ...   \n",
       "0                   -502.0       3.907161e+10            4.313815  ...   \n",
       "2                   -480.0       4.790689e+10            4.414603  ...   \n",
       "3                     70.0       6.830546e+06            2.638360  ...   \n",
       "\n",
       "   shape|Maximum2DDiameterColumn  shape|Maximum2DDiameterRow  \\\n",
       "1                     223.924778                  222.309084   \n",
       "4                     163.733306                  127.040344   \n",
       "0                     236.649430                  242.714238   \n",
       "2                     231.159117                  247.961931   \n",
       "3                     300.128718                  313.974459   \n",
       "\n",
       "   shape|Maximum2DDiameterSlice  shape|Maximum3DDiameter  shape|MeshVolume  \\\n",
       "1                     23.619884               224.231209      3.193220e+04   \n",
       "4                    151.241053               164.152138      7.510135e+05   \n",
       "0                    190.429595               245.982024      1.802886e+06   \n",
       "2                    186.213760               248.126635      2.159708e+06   \n",
       "3                     26.529436               314.315983      7.050233e+04   \n",
       "\n",
       "   shape|MinorAxisLength  shape|Sphericity  shape|SurfaceArea  \\\n",
       "1              50.733471          0.408351       11919.810387   \n",
       "4             100.977462          0.781597       51121.049949   \n",
       "0             171.702531          0.568696      125964.905979   \n",
       "2             172.513299          0.582917      138614.093158   \n",
       "3              32.966235          0.418454       19722.946105   \n",
       "\n",
       "   shape|SurfaceVolumeRatio  shape|VoxelVolume  \n",
       "1                  0.373285       3.316495e+04  \n",
       "4                  0.068069       7.526486e+05  \n",
       "0                  0.069868       1.801747e+06  \n",
       "2                  0.064182       2.161386e+06  \n",
       "3                  0.279749       7.217496e+04  \n",
       "\n",
       "[5 rows x 38 columns]"
      ]
     },
     "execution_count": 6,
     "metadata": {},
     "output_type": "execute_result"
    }
   ],
   "source": [
    "# Import pyradiomics feature modules\n",
    "from radiomics import (\n",
    "    firstorder,\n",
    "    shape,\n",
    ")\n",
    "\n",
    "# Prepare a dict of features to compute grouped by class\n",
    "first_order_features = firstorder.RadiomicsFirstOrder.getFeatureNames()\n",
    "shape_features = shape.RadiomicsShape.getFeatureNames()\n",
    "compute_radiomics = {\n",
    "    \"firstorder\": [f for f in first_order_features if not first_order_features[f]],\n",
    "    \"shape\": [f for f in shape_features if not shape_features[f]],\n",
    "}\n",
    "\n",
    "# Pass the dict to the compute the radiomics\n",
    "pydicer.analyse.compute_radiomics(radiomics=compute_radiomics)\n",
    "\n",
    "# Fetch the computed radiomics and output the first few rows\n",
    "df_radiomics = pydicer.analyse.get_all_computed_radiomics_for_dataset()\n",
    "df_radiomics.head()"
   ]
  },
  {
   "cell_type": "markdown",
   "metadata": {},
   "source": [
    "You can also set a specific subset of features like this:"
   ]
  },
  {
   "cell_type": "code",
   "execution_count": 7,
   "metadata": {
    "execution": {
     "iopub.execute_input": "2024-12-16T12:57:49.369573Z",
     "iopub.status.busy": "2024-12-16T12:57:49.369376Z",
     "iopub.status.idle": "2024-12-16T12:58:07.771774Z",
     "shell.execute_reply": "2024-12-16T12:58:07.771148Z"
    }
   },
   "outputs": [
    {
     "name": "stdout",
     "output_type": "stream",
     "text": [
      "pydicer.analyse.data - INFO - Computing radiomics for structure set ed6686 and image 5adf40\n"
     ]
    },
    {
     "name": "stdout",
     "output_type": "stream",
     "text": [
      "pydicer.analyse.data - DEBUG - Computing radiomics for structure Lung_L\n"
     ]
    },
    {
     "name": "stdout",
     "output_type": "stream",
     "text": [
      "pydicer.analyse.data - DEBUG - Computing radiomics for structure Esophagus\n"
     ]
    },
    {
     "name": "stdout",
     "output_type": "stream",
     "text": [
      "pydicer.analyse.data - DEBUG - Computing radiomics for structure Lung_R\n"
     ]
    },
    {
     "name": "stdout",
     "output_type": "stream",
     "text": [
      "pydicer.analyse.data - DEBUG - Computing radiomics for structure SpinalCord\n"
     ]
    },
    {
     "name": "stdout",
     "output_type": "stream",
     "text": [
      "pydicer.analyse.data - DEBUG - Computing radiomics for structure Heart\n"
     ]
    },
    {
     "name": "stdout",
     "output_type": "stream",
     "text": [
      "pydicer.analyse.data - INFO - Computing radiomics for structure set ceb111 and image 88c5ef\n"
     ]
    },
    {
     "name": "stdout",
     "output_type": "stream",
     "text": [
      "pydicer.analyse.data - DEBUG - Computing radiomics for structure Lung_L\n"
     ]
    },
    {
     "name": "stdout",
     "output_type": "stream",
     "text": [
      "pydicer.analyse.data - DEBUG - Computing radiomics for structure Esophagus\n"
     ]
    },
    {
     "name": "stdout",
     "output_type": "stream",
     "text": [
      "pydicer.analyse.data - DEBUG - Computing radiomics for structure Lung_R\n"
     ]
    },
    {
     "name": "stdout",
     "output_type": "stream",
     "text": [
      "pydicer.analyse.data - DEBUG - Computing radiomics for structure SpinalCord\n"
     ]
    },
    {
     "name": "stdout",
     "output_type": "stream",
     "text": [
      "pydicer.analyse.data - DEBUG - Computing radiomics for structure Heart\n"
     ]
    },
    {
     "name": "stdout",
     "output_type": "stream",
     "text": [
      "pydicer.analyse.data - INFO - Computing radiomics for structure set 6c6ea4 and image 914d57\n"
     ]
    },
    {
     "name": "stdout",
     "output_type": "stream",
     "text": [
      "pydicer.analyse.data - DEBUG - Computing radiomics for structure Lung_L\n"
     ]
    },
    {
     "name": "stdout",
     "output_type": "stream",
     "text": [
      "pydicer.analyse.data - DEBUG - Computing radiomics for structure Esophagus\n"
     ]
    },
    {
     "name": "stdout",
     "output_type": "stream",
     "text": [
      "pydicer.analyse.data - DEBUG - Computing radiomics for structure Lung_R\n"
     ]
    },
    {
     "name": "stdout",
     "output_type": "stream",
     "text": [
      "pydicer.analyse.data - DEBUG - Computing radiomics for structure SpinalCord\n"
     ]
    },
    {
     "name": "stdout",
     "output_type": "stream",
     "text": [
      "pydicer.analyse.data - DEBUG - Computing radiomics for structure Heart\n"
     ]
    },
    {
     "name": "stdout",
     "output_type": "stream",
     "text": [
      "pydicer.analyse.data - INFO - Computing radiomics for structure set f036b8 and image aa38e6\n"
     ]
    },
    {
     "name": "stdout",
     "output_type": "stream",
     "text": [
      "pydicer.analyse.data - DEBUG - Computing radiomics for structure Esophagus\n"
     ]
    },
    {
     "name": "stdout",
     "output_type": "stream",
     "text": [
      "pydicer.analyse.data - DEBUG - Computing radiomics for structure SpinalCord\n"
     ]
    },
    {
     "name": "stdout",
     "output_type": "stream",
     "text": [
      "pydicer.analyse.data - DEBUG - Computing radiomics for structure Lung_Right\n"
     ]
    },
    {
     "name": "stdout",
     "output_type": "stream",
     "text": [
      "pydicer.analyse.data - DEBUG - Computing radiomics for structure Heart\n"
     ]
    },
    {
     "name": "stdout",
     "output_type": "stream",
     "text": [
      "pydicer.analyse.data - DEBUG - Computing radiomics for structure Lung_Left\n"
     ]
    },
    {
     "name": "stdout",
     "output_type": "stream",
     "text": [
      "pydicer.analyse.data - INFO - Computing radiomics for structure set 48a970 and image dd0026\n"
     ]
    },
    {
     "name": "stdout",
     "output_type": "stream",
     "text": [
      "pydicer.analyse.data - DEBUG - Computing radiomics for structure Lung_L\n"
     ]
    },
    {
     "name": "stdout",
     "output_type": "stream",
     "text": [
      "pydicer.analyse.data - DEBUG - Computing radiomics for structure Esophagus\n"
     ]
    },
    {
     "name": "stdout",
     "output_type": "stream",
     "text": [
      "pydicer.analyse.data - DEBUG - Computing radiomics for structure Lung_R\n"
     ]
    },
    {
     "name": "stdout",
     "output_type": "stream",
     "text": [
      "pydicer.analyse.data - DEBUG - Computing radiomics for structure SpinalCord\n"
     ]
    },
    {
     "name": "stdout",
     "output_type": "stream",
     "text": [
      "pydicer.analyse.data - DEBUG - Computing radiomics for structure Heart\n"
     ]
    },
    {
     "name": "stdout",
     "output_type": "stream",
     "text": [
      "pydicer.analyse.data - INFO - Computing radiomics for structure set 61758b and image d91c84\n"
     ]
    },
    {
     "name": "stdout",
     "output_type": "stream",
     "text": [
      "pydicer.analyse.data - DEBUG - Computing radiomics for structure Lung_L\n"
     ]
    },
    {
     "name": "stdout",
     "output_type": "stream",
     "text": [
      "pydicer.analyse.data - DEBUG - Computing radiomics for structure Esophagus\n"
     ]
    },
    {
     "name": "stdout",
     "output_type": "stream",
     "text": [
      "pydicer.analyse.data - DEBUG - Computing radiomics for structure Lung_R\n"
     ]
    },
    {
     "name": "stdout",
     "output_type": "stream",
     "text": [
      "pydicer.analyse.data - DEBUG - Computing radiomics for structure SC\n"
     ]
    },
    {
     "name": "stdout",
     "output_type": "stream",
     "text": [
      "pydicer.analyse.data - DEBUG - Computing radiomics for structure Heart\n"
     ]
    },
    {
     "name": "stdout",
     "output_type": "stream",
     "text": [
      "pydicer.analyse.data - INFO - Computing radiomics for structure set 68d663 and image 738c1a\n"
     ]
    },
    {
     "name": "stdout",
     "output_type": "stream",
     "text": [
      "pydicer.analyse.data - DEBUG - Computing radiomics for structure Esophagus\n"
     ]
    },
    {
     "name": "stdout",
     "output_type": "stream",
     "text": [
      "pydicer.analyse.data - DEBUG - Computing radiomics for structure Lung_R\n"
     ]
    },
    {
     "name": "stdout",
     "output_type": "stream",
     "text": [
      "pydicer.analyse.data - DEBUG - Computing radiomics for structure SpinalCord\n"
     ]
    },
    {
     "name": "stdout",
     "output_type": "stream",
     "text": [
      "pydicer.analyse.data - DEBUG - Computing radiomics for structure Heart\n"
     ]
    },
    {
     "name": "stdout",
     "output_type": "stream",
     "text": [
      "pydicer.analyse.data - DEBUG - Computing radiomics for structure L_Lung\n"
     ]
    },
    {
     "name": "stdout",
     "output_type": "stream",
     "text": [
      "pydicer.analyse.data - INFO - Computing radiomics for structure set b5bddb and image 6834c9\n"
     ]
    },
    {
     "name": "stdout",
     "output_type": "stream",
     "text": [
      "pydicer.analyse.data - DEBUG - Computing radiomics for structure Lung_L\n"
     ]
    },
    {
     "name": "stdout",
     "output_type": "stream",
     "text": [
      "pydicer.analyse.data - DEBUG - Computing radiomics for structure Esophagus\n"
     ]
    },
    {
     "name": "stdout",
     "output_type": "stream",
     "text": [
      "pydicer.analyse.data - DEBUG - Computing radiomics for structure Lung_R\n"
     ]
    },
    {
     "name": "stdout",
     "output_type": "stream",
     "text": [
      "pydicer.analyse.data - DEBUG - Computing radiomics for structure SpinalCord\n"
     ]
    },
    {
     "name": "stdout",
     "output_type": "stream",
     "text": [
      "pydicer.analyse.data - DEBUG - Computing radiomics for structure Heart\n"
     ]
    },
    {
     "name": "stdout",
     "output_type": "stream",
     "text": [
      "pydicer.analyse.data - INFO - Computing radiomics for structure set cc682f and image 666be6\n"
     ]
    },
    {
     "name": "stdout",
     "output_type": "stream",
     "text": [
      "pydicer.analyse.data - DEBUG - Computing radiomics for structure Lung_L\n"
     ]
    },
    {
     "name": "stdout",
     "output_type": "stream",
     "text": [
      "pydicer.analyse.data - DEBUG - Computing radiomics for structure Esophagus\n"
     ]
    },
    {
     "name": "stdout",
     "output_type": "stream",
     "text": [
      "pydicer.analyse.data - DEBUG - Computing radiomics for structure Lung_R\n"
     ]
    },
    {
     "name": "stdout",
     "output_type": "stream",
     "text": [
      "pydicer.analyse.data - DEBUG - Computing radiomics for structure SpinalCord\n"
     ]
    },
    {
     "name": "stdout",
     "output_type": "stream",
     "text": [
      "pydicer.analyse.data - DEBUG - Computing radiomics for structure Heart\n"
     ]
    },
    {
     "name": "stdout",
     "output_type": "stream",
     "text": [
      "pydicer.analyse.data - INFO - Computing radiomics for structure set 8e34f9 and image 2bf2f9\n"
     ]
    },
    {
     "name": "stdout",
     "output_type": "stream",
     "text": [
      "pydicer.analyse.data - DEBUG - Computing radiomics for structure Lung_L\n"
     ]
    },
    {
     "name": "stdout",
     "output_type": "stream",
     "text": [
      "pydicer.analyse.data - DEBUG - Computing radiomics for structure Esophagus\n"
     ]
    },
    {
     "name": "stdout",
     "output_type": "stream",
     "text": [
      "pydicer.analyse.data - DEBUG - Computing radiomics for structure Lung_R\n"
     ]
    },
    {
     "name": "stdout",
     "output_type": "stream",
     "text": [
      "pydicer.analyse.data - DEBUG - Computing radiomics for structure SpinalCord\n"
     ]
    },
    {
     "name": "stdout",
     "output_type": "stream",
     "text": [
      "pydicer.analyse.data - DEBUG - Computing radiomics for structure Heart\n"
     ]
    },
    {
     "name": "stdout",
     "output_type": "stream",
     "text": [
      "pydicer.dataset.structureset - WARNING - No mapping file found with id default\n"
     ]
    },
    {
     "name": "stdout",
     "output_type": "stream",
     "text": [
      "pydicer.dataset.structureset - WARNING - No mapping file found with id default\n"
     ]
    },
    {
     "name": "stdout",
     "output_type": "stream",
     "text": [
      "pydicer.dataset.structureset - WARNING - No mapping file found with id default\n"
     ]
    },
    {
     "name": "stdout",
     "output_type": "stream",
     "text": [
      "pydicer.dataset.structureset - WARNING - No mapping file found with id default\n"
     ]
    },
    {
     "name": "stdout",
     "output_type": "stream",
     "text": [
      "pydicer.dataset.structureset - WARNING - No mapping file found with id default\n"
     ]
    },
    {
     "name": "stdout",
     "output_type": "stream",
     "text": [
      "pydicer.dataset.structureset - WARNING - No mapping file found with id default\n"
     ]
    },
    {
     "name": "stdout",
     "output_type": "stream",
     "text": [
      "pydicer.dataset.structureset - WARNING - No mapping file found with id default\n"
     ]
    },
    {
     "name": "stdout",
     "output_type": "stream",
     "text": [
      "pydicer.dataset.structureset - WARNING - No mapping file found with id default\n"
     ]
    },
    {
     "name": "stdout",
     "output_type": "stream",
     "text": [
      "pydicer.dataset.structureset - WARNING - No mapping file found with id default\n"
     ]
    },
    {
     "name": "stdout",
     "output_type": "stream",
     "text": [
      "pydicer.dataset.structureset - WARNING - No mapping file found with id default\n"
     ]
    },
    {
     "data": {
      "text/html": [
       "<div>\n",
       "<style scoped>\n",
       "    .dataframe tbody tr th:only-of-type {\n",
       "        vertical-align: middle;\n",
       "    }\n",
       "\n",
       "    .dataframe tbody tr th {\n",
       "        vertical-align: top;\n",
       "    }\n",
       "\n",
       "    .dataframe thead th {\n",
       "        text-align: right;\n",
       "    }\n",
       "</style>\n",
       "<table border=\"1\" class=\"dataframe\">\n",
       "  <thead>\n",
       "    <tr style=\"text-align: right;\">\n",
       "      <th></th>\n",
       "      <th>Contour</th>\n",
       "      <th>Patient</th>\n",
       "      <th>ImageHashedUID</th>\n",
       "      <th>StructHashedUID</th>\n",
       "      <th>ResampledPixelSpacing</th>\n",
       "      <th>NormalisationScale</th>\n",
       "      <th>firstorder|Maximum</th>\n",
       "      <th>firstorder|Minimum</th>\n",
       "      <th>firstorder|Mean</th>\n",
       "      <th>firstorder|Median</th>\n",
       "      <th>shape|SurfaceArea</th>\n",
       "      <th>shape|VoxelVolume</th>\n",
       "    </tr>\n",
       "  </thead>\n",
       "  <tbody>\n",
       "    <tr>\n",
       "      <th>1</th>\n",
       "      <td>Esophagus</td>\n",
       "      <td>LCTSC-Test-S1-101</td>\n",
       "      <td>666be6</td>\n",
       "      <td>cc682f</td>\n",
       "      <td>NaN</td>\n",
       "      <td>NaN</td>\n",
       "      <td>195.0</td>\n",
       "      <td>-745.0</td>\n",
       "      <td>33.382764</td>\n",
       "      <td>42.0</td>\n",
       "      <td>11919.810387</td>\n",
       "      <td>3.316495e+04</td>\n",
       "    </tr>\n",
       "    <tr>\n",
       "      <th>4</th>\n",
       "      <td>Heart</td>\n",
       "      <td>LCTSC-Test-S1-101</td>\n",
       "      <td>666be6</td>\n",
       "      <td>cc682f</td>\n",
       "      <td>NaN</td>\n",
       "      <td>NaN</td>\n",
       "      <td>229.0</td>\n",
       "      <td>-577.0</td>\n",
       "      <td>34.078823</td>\n",
       "      <td>44.0</td>\n",
       "      <td>51121.049949</td>\n",
       "      <td>7.526486e+05</td>\n",
       "    </tr>\n",
       "    <tr>\n",
       "      <th>0</th>\n",
       "      <td>Lung_L</td>\n",
       "      <td>LCTSC-Test-S1-101</td>\n",
       "      <td>666be6</td>\n",
       "      <td>cc682f</td>\n",
       "      <td>NaN</td>\n",
       "      <td>NaN</td>\n",
       "      <td>357.0</td>\n",
       "      <td>-1000.0</td>\n",
       "      <td>-729.756106</td>\n",
       "      <td>-778.0</td>\n",
       "      <td>125964.905979</td>\n",
       "      <td>1.801747e+06</td>\n",
       "    </tr>\n",
       "    <tr>\n",
       "      <th>2</th>\n",
       "      <td>Lung_R</td>\n",
       "      <td>LCTSC-Test-S1-101</td>\n",
       "      <td>666be6</td>\n",
       "      <td>cc682f</td>\n",
       "      <td>NaN</td>\n",
       "      <td>NaN</td>\n",
       "      <td>215.0</td>\n",
       "      <td>-1000.0</td>\n",
       "      <td>-735.842185</td>\n",
       "      <td>-789.0</td>\n",
       "      <td>138614.093158</td>\n",
       "      <td>2.161386e+06</td>\n",
       "    </tr>\n",
       "    <tr>\n",
       "      <th>3</th>\n",
       "      <td>SpinalCord</td>\n",
       "      <td>LCTSC-Test-S1-101</td>\n",
       "      <td>666be6</td>\n",
       "      <td>cc682f</td>\n",
       "      <td>NaN</td>\n",
       "      <td>NaN</td>\n",
       "      <td>429.0</td>\n",
       "      <td>-144.0</td>\n",
       "      <td>27.051730</td>\n",
       "      <td>27.0</td>\n",
       "      <td>19722.946105</td>\n",
       "      <td>7.217496e+04</td>\n",
       "    </tr>\n",
       "  </tbody>\n",
       "</table>\n",
       "</div>"
      ],
      "text/plain": [
       "      Contour            Patient ImageHashedUID StructHashedUID  \\\n",
       "1   Esophagus  LCTSC-Test-S1-101         666be6          cc682f   \n",
       "4       Heart  LCTSC-Test-S1-101         666be6          cc682f   \n",
       "0      Lung_L  LCTSC-Test-S1-101         666be6          cc682f   \n",
       "2      Lung_R  LCTSC-Test-S1-101         666be6          cc682f   \n",
       "3  SpinalCord  LCTSC-Test-S1-101         666be6          cc682f   \n",
       "\n",
       "   ResampledPixelSpacing  NormalisationScale  firstorder|Maximum  \\\n",
       "1                    NaN                 NaN               195.0   \n",
       "4                    NaN                 NaN               229.0   \n",
       "0                    NaN                 NaN               357.0   \n",
       "2                    NaN                 NaN               215.0   \n",
       "3                    NaN                 NaN               429.0   \n",
       "\n",
       "   firstorder|Minimum  firstorder|Mean  firstorder|Median  shape|SurfaceArea  \\\n",
       "1              -745.0        33.382764               42.0       11919.810387   \n",
       "4              -577.0        34.078823               44.0       51121.049949   \n",
       "0             -1000.0      -729.756106             -778.0      125964.905979   \n",
       "2             -1000.0      -735.842185             -789.0      138614.093158   \n",
       "3              -144.0        27.051730               27.0       19722.946105   \n",
       "\n",
       "   shape|VoxelVolume  \n",
       "1       3.316495e+04  \n",
       "4       7.526486e+05  \n",
       "0       1.801747e+06  \n",
       "2       2.161386e+06  \n",
       "3       7.217496e+04  "
      ]
     },
     "execution_count": 7,
     "metadata": {},
     "output_type": "execute_result"
    }
   ],
   "source": [
    "# Specify features to compute grouped by class\n",
    "compute_radiomics = {\n",
    "    \"firstorder\": [\"Maximum\", \"Minimum\", \"Mean\", \"Median\"],\n",
    "    \"shape\": [\"SurfaceArea\", \"VoxelVolume\"],\n",
    "}\n",
    "\n",
    "# Pass the dict to the compute the radiomics\n",
    "pydicer.analyse.compute_radiomics(radiomics=compute_radiomics)\n",
    "\n",
    "df_radiomics = pydicer.analyse.get_all_computed_radiomics_for_dataset()\n",
    "df_radiomics.head()"
   ]
  },
  {
   "cell_type": "markdown",
   "metadata": {},
   "source": [
    "## Track Metadata\n",
    "\n",
    "When analysing your radiomic features, it may be useful to have certain metadata available from\n",
    "either the image or structure set. You can specify which DICOM header tags to extract metadata for\n",
    "and these will be stored alongside the radiomic feature values.\n",
    "\n",
    "In the cell below, we recompute our radiomics and store the `PatientSex` header value from the\n",
    "image series and the `StudyDate` value from the structure set."
   ]
  },
  {
   "cell_type": "code",
   "execution_count": 8,
   "metadata": {
    "execution": {
     "iopub.execute_input": "2024-12-16T12:58:07.774353Z",
     "iopub.status.busy": "2024-12-16T12:58:07.773971Z",
     "iopub.status.idle": "2024-12-16T12:58:26.187263Z",
     "shell.execute_reply": "2024-12-16T12:58:26.186619Z"
    }
   },
   "outputs": [
    {
     "name": "stdout",
     "output_type": "stream",
     "text": [
      "pydicer.analyse.data - INFO - Computing radiomics for structure set ed6686 and image 5adf40\n"
     ]
    },
    {
     "name": "stdout",
     "output_type": "stream",
     "text": [
      "pydicer.analyse.data - DEBUG - Computing radiomics for structure Lung_L\n"
     ]
    },
    {
     "name": "stdout",
     "output_type": "stream",
     "text": [
      "pydicer.analyse.data - DEBUG - Computing radiomics for structure Esophagus\n"
     ]
    },
    {
     "name": "stdout",
     "output_type": "stream",
     "text": [
      "pydicer.analyse.data - DEBUG - Computing radiomics for structure Lung_R\n"
     ]
    },
    {
     "name": "stdout",
     "output_type": "stream",
     "text": [
      "pydicer.analyse.data - DEBUG - Computing radiomics for structure SpinalCord\n"
     ]
    },
    {
     "name": "stdout",
     "output_type": "stream",
     "text": [
      "pydicer.analyse.data - DEBUG - Computing radiomics for structure Heart\n"
     ]
    },
    {
     "name": "stdout",
     "output_type": "stream",
     "text": [
      "pydicer.analyse.data - INFO - Computing radiomics for structure set ceb111 and image 88c5ef\n"
     ]
    },
    {
     "name": "stdout",
     "output_type": "stream",
     "text": [
      "pydicer.analyse.data - DEBUG - Computing radiomics for structure Lung_L\n"
     ]
    },
    {
     "name": "stdout",
     "output_type": "stream",
     "text": [
      "pydicer.analyse.data - DEBUG - Computing radiomics for structure Esophagus\n"
     ]
    },
    {
     "name": "stdout",
     "output_type": "stream",
     "text": [
      "pydicer.analyse.data - DEBUG - Computing radiomics for structure Lung_R\n"
     ]
    },
    {
     "name": "stdout",
     "output_type": "stream",
     "text": [
      "pydicer.analyse.data - DEBUG - Computing radiomics for structure SpinalCord\n"
     ]
    },
    {
     "name": "stdout",
     "output_type": "stream",
     "text": [
      "pydicer.analyse.data - DEBUG - Computing radiomics for structure Heart\n"
     ]
    },
    {
     "name": "stdout",
     "output_type": "stream",
     "text": [
      "pydicer.analyse.data - INFO - Computing radiomics for structure set 6c6ea4 and image 914d57\n"
     ]
    },
    {
     "name": "stdout",
     "output_type": "stream",
     "text": [
      "pydicer.analyse.data - DEBUG - Computing radiomics for structure Lung_L\n"
     ]
    },
    {
     "name": "stdout",
     "output_type": "stream",
     "text": [
      "pydicer.analyse.data - DEBUG - Computing radiomics for structure Esophagus\n"
     ]
    },
    {
     "name": "stdout",
     "output_type": "stream",
     "text": [
      "pydicer.analyse.data - DEBUG - Computing radiomics for structure Lung_R\n"
     ]
    },
    {
     "name": "stdout",
     "output_type": "stream",
     "text": [
      "pydicer.analyse.data - DEBUG - Computing radiomics for structure SpinalCord\n"
     ]
    },
    {
     "name": "stdout",
     "output_type": "stream",
     "text": [
      "pydicer.analyse.data - DEBUG - Computing radiomics for structure Heart\n"
     ]
    },
    {
     "name": "stdout",
     "output_type": "stream",
     "text": [
      "pydicer.analyse.data - INFO - Computing radiomics for structure set f036b8 and image aa38e6\n"
     ]
    },
    {
     "name": "stdout",
     "output_type": "stream",
     "text": [
      "pydicer.analyse.data - DEBUG - Computing radiomics for structure Esophagus\n"
     ]
    },
    {
     "name": "stdout",
     "output_type": "stream",
     "text": [
      "pydicer.analyse.data - DEBUG - Computing radiomics for structure SpinalCord\n"
     ]
    },
    {
     "name": "stdout",
     "output_type": "stream",
     "text": [
      "pydicer.analyse.data - DEBUG - Computing radiomics for structure Lung_Right\n"
     ]
    },
    {
     "name": "stdout",
     "output_type": "stream",
     "text": [
      "pydicer.analyse.data - DEBUG - Computing radiomics for structure Heart\n"
     ]
    },
    {
     "name": "stdout",
     "output_type": "stream",
     "text": [
      "pydicer.analyse.data - DEBUG - Computing radiomics for structure Lung_Left\n"
     ]
    },
    {
     "name": "stdout",
     "output_type": "stream",
     "text": [
      "pydicer.analyse.data - INFO - Computing radiomics for structure set 48a970 and image dd0026\n"
     ]
    },
    {
     "name": "stdout",
     "output_type": "stream",
     "text": [
      "pydicer.analyse.data - DEBUG - Computing radiomics for structure Lung_L\n"
     ]
    },
    {
     "name": "stdout",
     "output_type": "stream",
     "text": [
      "pydicer.analyse.data - DEBUG - Computing radiomics for structure Esophagus\n"
     ]
    },
    {
     "name": "stdout",
     "output_type": "stream",
     "text": [
      "pydicer.analyse.data - DEBUG - Computing radiomics for structure Lung_R\n"
     ]
    },
    {
     "name": "stdout",
     "output_type": "stream",
     "text": [
      "pydicer.analyse.data - DEBUG - Computing radiomics for structure SpinalCord\n"
     ]
    },
    {
     "name": "stdout",
     "output_type": "stream",
     "text": [
      "pydicer.analyse.data - DEBUG - Computing radiomics for structure Heart\n"
     ]
    },
    {
     "name": "stdout",
     "output_type": "stream",
     "text": [
      "pydicer.analyse.data - INFO - Computing radiomics for structure set 61758b and image d91c84\n"
     ]
    },
    {
     "name": "stdout",
     "output_type": "stream",
     "text": [
      "pydicer.analyse.data - DEBUG - Computing radiomics for structure Lung_L\n"
     ]
    },
    {
     "name": "stdout",
     "output_type": "stream",
     "text": [
      "pydicer.analyse.data - DEBUG - Computing radiomics for structure Esophagus\n"
     ]
    },
    {
     "name": "stdout",
     "output_type": "stream",
     "text": [
      "pydicer.analyse.data - DEBUG - Computing radiomics for structure Lung_R\n"
     ]
    },
    {
     "name": "stdout",
     "output_type": "stream",
     "text": [
      "pydicer.analyse.data - DEBUG - Computing radiomics for structure SC\n"
     ]
    },
    {
     "name": "stdout",
     "output_type": "stream",
     "text": [
      "pydicer.analyse.data - DEBUG - Computing radiomics for structure Heart\n"
     ]
    },
    {
     "name": "stdout",
     "output_type": "stream",
     "text": [
      "pydicer.analyse.data - INFO - Computing radiomics for structure set 68d663 and image 738c1a\n"
     ]
    },
    {
     "name": "stdout",
     "output_type": "stream",
     "text": [
      "pydicer.analyse.data - DEBUG - Computing radiomics for structure Esophagus\n"
     ]
    },
    {
     "name": "stdout",
     "output_type": "stream",
     "text": [
      "pydicer.analyse.data - DEBUG - Computing radiomics for structure Lung_R\n"
     ]
    },
    {
     "name": "stdout",
     "output_type": "stream",
     "text": [
      "pydicer.analyse.data - DEBUG - Computing radiomics for structure SpinalCord\n"
     ]
    },
    {
     "name": "stdout",
     "output_type": "stream",
     "text": [
      "pydicer.analyse.data - DEBUG - Computing radiomics for structure Heart\n"
     ]
    },
    {
     "name": "stdout",
     "output_type": "stream",
     "text": [
      "pydicer.analyse.data - DEBUG - Computing radiomics for structure L_Lung\n"
     ]
    },
    {
     "name": "stdout",
     "output_type": "stream",
     "text": [
      "pydicer.analyse.data - INFO - Computing radiomics for structure set b5bddb and image 6834c9\n"
     ]
    },
    {
     "name": "stdout",
     "output_type": "stream",
     "text": [
      "pydicer.analyse.data - DEBUG - Computing radiomics for structure Lung_L\n"
     ]
    },
    {
     "name": "stdout",
     "output_type": "stream",
     "text": [
      "pydicer.analyse.data - DEBUG - Computing radiomics for structure Esophagus\n"
     ]
    },
    {
     "name": "stdout",
     "output_type": "stream",
     "text": [
      "pydicer.analyse.data - DEBUG - Computing radiomics for structure Lung_R\n"
     ]
    },
    {
     "name": "stdout",
     "output_type": "stream",
     "text": [
      "pydicer.analyse.data - DEBUG - Computing radiomics for structure SpinalCord\n"
     ]
    },
    {
     "name": "stdout",
     "output_type": "stream",
     "text": [
      "pydicer.analyse.data - DEBUG - Computing radiomics for structure Heart\n"
     ]
    },
    {
     "name": "stdout",
     "output_type": "stream",
     "text": [
      "pydicer.analyse.data - INFO - Computing radiomics for structure set cc682f and image 666be6\n"
     ]
    },
    {
     "name": "stdout",
     "output_type": "stream",
     "text": [
      "pydicer.analyse.data - DEBUG - Computing radiomics for structure Lung_L\n"
     ]
    },
    {
     "name": "stdout",
     "output_type": "stream",
     "text": [
      "pydicer.analyse.data - DEBUG - Computing radiomics for structure Esophagus\n"
     ]
    },
    {
     "name": "stdout",
     "output_type": "stream",
     "text": [
      "pydicer.analyse.data - DEBUG - Computing radiomics for structure Lung_R\n"
     ]
    },
    {
     "name": "stdout",
     "output_type": "stream",
     "text": [
      "pydicer.analyse.data - DEBUG - Computing radiomics for structure SpinalCord\n"
     ]
    },
    {
     "name": "stdout",
     "output_type": "stream",
     "text": [
      "pydicer.analyse.data - DEBUG - Computing radiomics for structure Heart\n"
     ]
    },
    {
     "name": "stdout",
     "output_type": "stream",
     "text": [
      "pydicer.analyse.data - INFO - Computing radiomics for structure set 8e34f9 and image 2bf2f9\n"
     ]
    },
    {
     "name": "stdout",
     "output_type": "stream",
     "text": [
      "pydicer.analyse.data - DEBUG - Computing radiomics for structure Lung_L\n"
     ]
    },
    {
     "name": "stdout",
     "output_type": "stream",
     "text": [
      "pydicer.analyse.data - DEBUG - Computing radiomics for structure Esophagus\n"
     ]
    },
    {
     "name": "stdout",
     "output_type": "stream",
     "text": [
      "pydicer.analyse.data - DEBUG - Computing radiomics for structure Lung_R\n"
     ]
    },
    {
     "name": "stdout",
     "output_type": "stream",
     "text": [
      "pydicer.analyse.data - DEBUG - Computing radiomics for structure SpinalCord\n"
     ]
    },
    {
     "name": "stdout",
     "output_type": "stream",
     "text": [
      "pydicer.analyse.data - DEBUG - Computing radiomics for structure Heart\n"
     ]
    },
    {
     "name": "stdout",
     "output_type": "stream",
     "text": [
      "pydicer.dataset.structureset - WARNING - No mapping file found with id default\n"
     ]
    },
    {
     "name": "stdout",
     "output_type": "stream",
     "text": [
      "pydicer.dataset.structureset - WARNING - No mapping file found with id default\n"
     ]
    },
    {
     "name": "stdout",
     "output_type": "stream",
     "text": [
      "pydicer.dataset.structureset - WARNING - No mapping file found with id default\n"
     ]
    },
    {
     "name": "stdout",
     "output_type": "stream",
     "text": [
      "pydicer.dataset.structureset - WARNING - No mapping file found with id default\n"
     ]
    },
    {
     "name": "stdout",
     "output_type": "stream",
     "text": [
      "pydicer.dataset.structureset - WARNING - No mapping file found with id default\n"
     ]
    },
    {
     "name": "stdout",
     "output_type": "stream",
     "text": [
      "pydicer.dataset.structureset - WARNING - No mapping file found with id default\n"
     ]
    },
    {
     "name": "stdout",
     "output_type": "stream",
     "text": [
      "pydicer.dataset.structureset - WARNING - No mapping file found with id default\n"
     ]
    },
    {
     "name": "stdout",
     "output_type": "stream",
     "text": [
      "pydicer.dataset.structureset - WARNING - No mapping file found with id default\n"
     ]
    },
    {
     "name": "stdout",
     "output_type": "stream",
     "text": [
      "pydicer.dataset.structureset - WARNING - No mapping file found with id default\n"
     ]
    },
    {
     "name": "stdout",
     "output_type": "stream",
     "text": [
      "pydicer.dataset.structureset - WARNING - No mapping file found with id default\n"
     ]
    },
    {
     "data": {
      "text/html": [
       "<div>\n",
       "<style scoped>\n",
       "    .dataframe tbody tr th:only-of-type {\n",
       "        vertical-align: middle;\n",
       "    }\n",
       "\n",
       "    .dataframe tbody tr th {\n",
       "        vertical-align: top;\n",
       "    }\n",
       "\n",
       "    .dataframe thead th {\n",
       "        text-align: right;\n",
       "    }\n",
       "</style>\n",
       "<table border=\"1\" class=\"dataframe\">\n",
       "  <thead>\n",
       "    <tr style=\"text-align: right;\">\n",
       "      <th></th>\n",
       "      <th>Contour</th>\n",
       "      <th>Patient</th>\n",
       "      <th>ImageHashedUID</th>\n",
       "      <th>StructHashedUID</th>\n",
       "      <th>ResampledPixelSpacing</th>\n",
       "      <th>NormalisationScale</th>\n",
       "      <th>firstorder|Maximum</th>\n",
       "      <th>firstorder|Minimum</th>\n",
       "      <th>firstorder|Mean</th>\n",
       "      <th>firstorder|Median</th>\n",
       "      <th>shape|SurfaceArea</th>\n",
       "      <th>shape|VoxelVolume</th>\n",
       "      <th>struct|StudyDate</th>\n",
       "      <th>img|PatientSex</th>\n",
       "    </tr>\n",
       "  </thead>\n",
       "  <tbody>\n",
       "    <tr>\n",
       "      <th>1</th>\n",
       "      <td>Esophagus</td>\n",
       "      <td>LCTSC-Test-S1-101</td>\n",
       "      <td>666be6</td>\n",
       "      <td>cc682f</td>\n",
       "      <td>NaN</td>\n",
       "      <td>NaN</td>\n",
       "      <td>195.0</td>\n",
       "      <td>-745.0</td>\n",
       "      <td>33.382764</td>\n",
       "      <td>42.0</td>\n",
       "      <td>11919.810387</td>\n",
       "      <td>3.316495e+04</td>\n",
       "      <td>20040303</td>\n",
       "      <td>M</td>\n",
       "    </tr>\n",
       "    <tr>\n",
       "      <th>4</th>\n",
       "      <td>Heart</td>\n",
       "      <td>LCTSC-Test-S1-101</td>\n",
       "      <td>666be6</td>\n",
       "      <td>cc682f</td>\n",
       "      <td>NaN</td>\n",
       "      <td>NaN</td>\n",
       "      <td>229.0</td>\n",
       "      <td>-577.0</td>\n",
       "      <td>34.078823</td>\n",
       "      <td>44.0</td>\n",
       "      <td>51121.049949</td>\n",
       "      <td>7.526486e+05</td>\n",
       "      <td>20040303</td>\n",
       "      <td>M</td>\n",
       "    </tr>\n",
       "    <tr>\n",
       "      <th>0</th>\n",
       "      <td>Lung_L</td>\n",
       "      <td>LCTSC-Test-S1-101</td>\n",
       "      <td>666be6</td>\n",
       "      <td>cc682f</td>\n",
       "      <td>NaN</td>\n",
       "      <td>NaN</td>\n",
       "      <td>357.0</td>\n",
       "      <td>-1000.0</td>\n",
       "      <td>-729.756106</td>\n",
       "      <td>-778.0</td>\n",
       "      <td>125964.905979</td>\n",
       "      <td>1.801747e+06</td>\n",
       "      <td>20040303</td>\n",
       "      <td>M</td>\n",
       "    </tr>\n",
       "    <tr>\n",
       "      <th>2</th>\n",
       "      <td>Lung_R</td>\n",
       "      <td>LCTSC-Test-S1-101</td>\n",
       "      <td>666be6</td>\n",
       "      <td>cc682f</td>\n",
       "      <td>NaN</td>\n",
       "      <td>NaN</td>\n",
       "      <td>215.0</td>\n",
       "      <td>-1000.0</td>\n",
       "      <td>-735.842185</td>\n",
       "      <td>-789.0</td>\n",
       "      <td>138614.093158</td>\n",
       "      <td>2.161386e+06</td>\n",
       "      <td>20040303</td>\n",
       "      <td>M</td>\n",
       "    </tr>\n",
       "    <tr>\n",
       "      <th>3</th>\n",
       "      <td>SpinalCord</td>\n",
       "      <td>LCTSC-Test-S1-101</td>\n",
       "      <td>666be6</td>\n",
       "      <td>cc682f</td>\n",
       "      <td>NaN</td>\n",
       "      <td>NaN</td>\n",
       "      <td>429.0</td>\n",
       "      <td>-144.0</td>\n",
       "      <td>27.051730</td>\n",
       "      <td>27.0</td>\n",
       "      <td>19722.946105</td>\n",
       "      <td>7.217496e+04</td>\n",
       "      <td>20040303</td>\n",
       "      <td>M</td>\n",
       "    </tr>\n",
       "  </tbody>\n",
       "</table>\n",
       "</div>"
      ],
      "text/plain": [
       "      Contour            Patient ImageHashedUID StructHashedUID  \\\n",
       "1   Esophagus  LCTSC-Test-S1-101         666be6          cc682f   \n",
       "4       Heart  LCTSC-Test-S1-101         666be6          cc682f   \n",
       "0      Lung_L  LCTSC-Test-S1-101         666be6          cc682f   \n",
       "2      Lung_R  LCTSC-Test-S1-101         666be6          cc682f   \n",
       "3  SpinalCord  LCTSC-Test-S1-101         666be6          cc682f   \n",
       "\n",
       "   ResampledPixelSpacing  NormalisationScale  firstorder|Maximum  \\\n",
       "1                    NaN                 NaN               195.0   \n",
       "4                    NaN                 NaN               229.0   \n",
       "0                    NaN                 NaN               357.0   \n",
       "2                    NaN                 NaN               215.0   \n",
       "3                    NaN                 NaN               429.0   \n",
       "\n",
       "   firstorder|Minimum  firstorder|Mean  firstorder|Median  shape|SurfaceArea  \\\n",
       "1              -745.0        33.382764               42.0       11919.810387   \n",
       "4              -577.0        34.078823               44.0       51121.049949   \n",
       "0             -1000.0      -729.756106             -778.0      125964.905979   \n",
       "2             -1000.0      -735.842185             -789.0      138614.093158   \n",
       "3              -144.0        27.051730               27.0       19722.946105   \n",
       "\n",
       "   shape|VoxelVolume  struct|StudyDate img|PatientSex  \n",
       "1       3.316495e+04          20040303              M  \n",
       "4       7.526486e+05          20040303              M  \n",
       "0       1.801747e+06          20040303              M  \n",
       "2       2.161386e+06          20040303              M  \n",
       "3       7.217496e+04          20040303              M  "
      ]
     },
     "execution_count": 8,
     "metadata": {},
     "output_type": "execute_result"
    }
   ],
   "source": [
    "# Compute the radiomics specifying the meta data to keep\n",
    "pydicer.analyse.compute_radiomics(\n",
    "    radiomics=compute_radiomics,\n",
    "    image_meta_data=[\"PatientSex\"],\n",
    "    structure_meta_data=[\"StudyDate\"]\n",
    ")\n",
    "\n",
    "# Fetch the results and display the first rows\n",
    "df_radiomics = pydicer.analyse.get_all_computed_radiomics_for_dataset()\n",
    "df_radiomics.head()"
   ]
  },
  {
   "cell_type": "code",
   "execution_count": null,
   "metadata": {},
   "outputs": [],
   "source": []
  }
 ],
 "metadata": {
  "interpreter": {
   "hash": "814af119db7f8f2860617be3dcd1d37c560587d11c65bd58c45b1679d3ee6ea4"
  },
  "kernelspec": {
   "display_name": "Python 3.8.0 64-bit ('pydicer': pyenv)",
   "language": "python",
   "name": "python3"
  },
  "language_info": {
   "codemirror_mode": {
    "name": "ipython",
    "version": 3
   },
   "file_extension": ".py",
   "mimetype": "text/x-python",
   "name": "python",
   "nbconvert_exporter": "python",
   "pygments_lexer": "ipython3",
   "version": "3.9.20"
  }
 },
 "nbformat": 4,
 "nbformat_minor": 2
}
