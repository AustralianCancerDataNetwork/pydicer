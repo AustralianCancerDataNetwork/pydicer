{
 "cells": [
  {
   "attachments": {},
   "cell_type": "markdown",
   "metadata": {},
   "source": [
    "# Compute Radiomics\n",
    "\n",
    "In this example notebook we use [PyRadiomics](https://github.com/AIM-Harvard/pyradiomics) to\n",
    "compute various type of radiomics features. We use some\n",
    "[LCTSC](https://wiki.cancerimagingarchive.net/pages/viewpage.action?pageId=24284539) data from the\n",
    "Cancer Imaging Archive which has already been converted using PyDicer for demonstration purposes."
   ]
  },
  {
   "cell_type": "code",
   "execution_count": 1,
   "metadata": {
    "execution": {
     "iopub.execute_input": "2023-12-05T03:16:01.064179Z",
     "iopub.status.busy": "2023-12-05T03:16:01.063981Z",
     "iopub.status.idle": "2023-12-05T03:16:02.035571Z",
     "shell.execute_reply": "2023-12-05T03:16:02.035023Z"
    }
   },
   "outputs": [],
   "source": [
    "try:\n",
    "    from pydicer import PyDicer\n",
    "except ImportError:\n",
    "    !pip install pydicer\n",
    "    from pydicer import PyDicer\n",
    "\n",
    "from pathlib import Path\n",
    "\n",
    "from pydicer.utils import fetch_converted_test_data\n",
    "\n",
    "from pydicer.utils import load_object_metadata"
   ]
  },
  {
   "cell_type": "markdown",
   "metadata": {},
   "source": [
    "## Fetch data\n",
    "\n",
    "LCTSC data prepared for this example are downloaded and stored into a `testdata_lctsc` directory.\n",
    "We will use this for our PyDicer working directory."
   ]
  },
  {
   "cell_type": "code",
   "execution_count": 2,
   "metadata": {
    "execution": {
     "iopub.execute_input": "2023-12-05T03:16:02.038495Z",
     "iopub.status.busy": "2023-12-05T03:16:02.038218Z",
     "iopub.status.idle": "2023-12-05T03:16:05.781732Z",
     "shell.execute_reply": "2023-12-05T03:16:05.781042Z"
    }
   },
   "outputs": [],
   "source": [
    "working_directory = fetch_converted_test_data(\"./testdata_lctsc\", dataset=\"LCTSC\")"
   ]
  },
  {
   "cell_type": "markdown",
   "metadata": {},
   "source": [
    "## Initialise PyDicer object\n",
    "\n",
    "Using the working directory containing the LCTSC test data."
   ]
  },
  {
   "cell_type": "code",
   "execution_count": 3,
   "metadata": {
    "execution": {
     "iopub.execute_input": "2023-12-05T03:16:05.784709Z",
     "iopub.status.busy": "2023-12-05T03:16:05.784311Z",
     "iopub.status.idle": "2023-12-05T03:16:05.787822Z",
     "shell.execute_reply": "2023-12-05T03:16:05.787301Z"
    }
   },
   "outputs": [],
   "source": [
    "pydicer = PyDicer(working_directory)"
   ]
  },
  {
   "cell_type": "markdown",
   "metadata": {},
   "source": [
    "## Compute Default Radiomics\n",
    "\n",
    "By default, PyDicer will compute only first-order radiomics features. Radiomics are computed for\n",
    "each structure available in the dataset using the image data of images linked to those structures."
   ]
  },
  {
   "cell_type": "code",
   "execution_count": 4,
   "metadata": {
    "execution": {
     "iopub.execute_input": "2023-12-05T03:16:05.790110Z",
     "iopub.status.busy": "2023-12-05T03:16:05.789879Z",
     "iopub.status.idle": "2023-12-05T03:16:11.502162Z",
     "shell.execute_reply": "2023-12-05T03:16:11.501505Z"
    }
   },
   "outputs": [
    {
     "name": "stderr",
     "output_type": "stream",
     "text": [
      "\r",
      "  0%|          | 0/10 [00:00<?, ?objects/s, Compute Radiomics]"
     ]
    },
    {
     "name": "stderr",
     "output_type": "stream",
     "text": [
      "\r",
      " 10%|█         | 1/10 [00:00<00:04,  1.81objects/s, Compute Radiomics]"
     ]
    },
    {
     "name": "stderr",
     "output_type": "stream",
     "text": [
      "\r",
      " 20%|██        | 2/10 [00:01<00:04,  1.75objects/s, Compute Radiomics]"
     ]
    },
    {
     "name": "stderr",
     "output_type": "stream",
     "text": [
      "\r",
      " 30%|███       | 3/10 [00:01<00:04,  1.70objects/s, Compute Radiomics]"
     ]
    },
    {
     "name": "stderr",
     "output_type": "stream",
     "text": [
      "\r",
      " 40%|████      | 4/10 [00:02<00:03,  1.68objects/s, Compute Radiomics]"
     ]
    },
    {
     "name": "stderr",
     "output_type": "stream",
     "text": [
      "\r",
      " 50%|█████     | 5/10 [00:02<00:02,  1.77objects/s, Compute Radiomics]"
     ]
    },
    {
     "name": "stderr",
     "output_type": "stream",
     "text": [
      "\r",
      " 60%|██████    | 6/10 [00:03<00:02,  1.82objects/s, Compute Radiomics]"
     ]
    },
    {
     "name": "stderr",
     "output_type": "stream",
     "text": [
      "\r",
      " 70%|███████   | 7/10 [00:03<00:01,  1.80objects/s, Compute Radiomics]"
     ]
    },
    {
     "name": "stderr",
     "output_type": "stream",
     "text": [
      "\r",
      " 80%|████████  | 8/10 [00:04<00:01,  1.74objects/s, Compute Radiomics]"
     ]
    },
    {
     "name": "stderr",
     "output_type": "stream",
     "text": [
      "\r",
      " 90%|█████████ | 9/10 [00:05<00:00,  1.72objects/s, Compute Radiomics]"
     ]
    },
    {
     "name": "stderr",
     "output_type": "stream",
     "text": [
      "\r",
      "100%|██████████| 10/10 [00:05<00:00,  1.79objects/s, Compute Radiomics]"
     ]
    },
    {
     "name": "stderr",
     "output_type": "stream",
     "text": [
      "\r",
      "100%|██████████| 10/10 [00:05<00:00,  1.76objects/s, Compute Radiomics]"
     ]
    },
    {
     "name": "stderr",
     "output_type": "stream",
     "text": [
      "\n"
     ]
    }
   ],
   "source": [
    "pydicer.analyse.compute_radiomics()"
   ]
  },
  {
   "cell_type": "markdown",
   "metadata": {},
   "source": [
    "## Fetch computed Radiomics\n",
    "\n",
    "Use the `get_all_computed_radiomics_for_dataset` function to fetch all radiomics features computed\n",
    "in the last step.\n",
    "\n",
    "The `.head()` function on a Pandas DataFrame output the first 5 rows for inspection."
   ]
  },
  {
   "cell_type": "code",
   "execution_count": 5,
   "metadata": {
    "execution": {
     "iopub.execute_input": "2023-12-05T03:16:11.504685Z",
     "iopub.status.busy": "2023-12-05T03:16:11.504286Z",
     "iopub.status.idle": "2023-12-05T03:16:11.569986Z",
     "shell.execute_reply": "2023-12-05T03:16:11.569395Z"
    }
   },
   "outputs": [
    {
     "data": {
      "text/html": [
       "<div>\n",
       "<style scoped>\n",
       "    .dataframe tbody tr th:only-of-type {\n",
       "        vertical-align: middle;\n",
       "    }\n",
       "\n",
       "    .dataframe tbody tr th {\n",
       "        vertical-align: top;\n",
       "    }\n",
       "\n",
       "    .dataframe thead th {\n",
       "        text-align: right;\n",
       "    }\n",
       "</style>\n",
       "<table border=\"1\" class=\"dataframe\">\n",
       "  <thead>\n",
       "    <tr style=\"text-align: right;\">\n",
       "      <th></th>\n",
       "      <th>Contour</th>\n",
       "      <th>Patient</th>\n",
       "      <th>ImageHashedUID</th>\n",
       "      <th>StructHashedUID</th>\n",
       "      <th>firstorder|10Percentile</th>\n",
       "      <th>firstorder|90Percentile</th>\n",
       "      <th>firstorder|Energy</th>\n",
       "      <th>firstorder|Entropy</th>\n",
       "      <th>firstorder|InterquartileRange</th>\n",
       "      <th>firstorder|Kurtosis</th>\n",
       "      <th>...</th>\n",
       "      <th>firstorder|Mean</th>\n",
       "      <th>firstorder|Median</th>\n",
       "      <th>firstorder|Minimum</th>\n",
       "      <th>firstorder|Range</th>\n",
       "      <th>firstorder|RobustMeanAbsoluteDeviation</th>\n",
       "      <th>firstorder|RootMeanSquared</th>\n",
       "      <th>firstorder|Skewness</th>\n",
       "      <th>firstorder|TotalEnergy</th>\n",
       "      <th>firstorder|Uniformity</th>\n",
       "      <th>firstorder|Variance</th>\n",
       "    </tr>\n",
       "  </thead>\n",
       "  <tbody>\n",
       "    <tr>\n",
       "      <th>3</th>\n",
       "      <td>Esophagus</td>\n",
       "      <td>LCTSC-Test-S1-101</td>\n",
       "      <td>666be6</td>\n",
       "      <td>cc682f</td>\n",
       "      <td>-9.0</td>\n",
       "      <td>74.0</td>\n",
       "      <td>6.379739e+06</td>\n",
       "      <td>2.563380</td>\n",
       "      <td>35.25</td>\n",
       "      <td>55.979763</td>\n",
       "      <td>...</td>\n",
       "      <td>33.382764</td>\n",
       "      <td>42.0</td>\n",
       "      <td>-745.0</td>\n",
       "      <td>940.0</td>\n",
       "      <td>15.951183</td>\n",
       "      <td>70.379070</td>\n",
       "      <td>-5.961993</td>\n",
       "      <td>1.642731e+08</td>\n",
       "      <td>0.232723</td>\n",
       "      <td>3838.804579</td>\n",
       "    </tr>\n",
       "    <tr>\n",
       "      <th>1</th>\n",
       "      <td>Heart</td>\n",
       "      <td>LCTSC-Test-S1-101</td>\n",
       "      <td>666be6</td>\n",
       "      <td>cc682f</td>\n",
       "      <td>-14.0</td>\n",
       "      <td>68.0</td>\n",
       "      <td>8.486142e+07</td>\n",
       "      <td>2.343017</td>\n",
       "      <td>31.00</td>\n",
       "      <td>16.880718</td>\n",
       "      <td>...</td>\n",
       "      <td>34.078823</td>\n",
       "      <td>44.0</td>\n",
       "      <td>-577.0</td>\n",
       "      <td>806.0</td>\n",
       "      <td>14.250737</td>\n",
       "      <td>53.881633</td>\n",
       "      <td>-2.753651</td>\n",
       "      <td>2.185112e+09</td>\n",
       "      <td>0.273513</td>\n",
       "      <td>1741.864194</td>\n",
       "    </tr>\n",
       "    <tr>\n",
       "      <th>2</th>\n",
       "      <td>Lung_L</td>\n",
       "      <td>LCTSC-Test-S1-101</td>\n",
       "      <td>666be6</td>\n",
       "      <td>cc682f</td>\n",
       "      <td>-871.0</td>\n",
       "      <td>-502.0</td>\n",
       "      <td>3.907161e+10</td>\n",
       "      <td>4.313815</td>\n",
       "      <td>148.00</td>\n",
       "      <td>6.423229</td>\n",
       "      <td>...</td>\n",
       "      <td>-729.756106</td>\n",
       "      <td>-778.0</td>\n",
       "      <td>-1000.0</td>\n",
       "      <td>1357.0</td>\n",
       "      <td>67.906500</td>\n",
       "      <td>747.249117</td>\n",
       "      <td>1.747786</td>\n",
       "      <td>1.006062e+12</td>\n",
       "      <td>0.069585</td>\n",
       "      <td>25837.268599</td>\n",
       "    </tr>\n",
       "    <tr>\n",
       "      <th>4</th>\n",
       "      <td>Lung_R</td>\n",
       "      <td>LCTSC-Test-S1-101</td>\n",
       "      <td>666be6</td>\n",
       "      <td>cc682f</td>\n",
       "      <td>-889.0</td>\n",
       "      <td>-480.0</td>\n",
       "      <td>4.790689e+10</td>\n",
       "      <td>4.414603</td>\n",
       "      <td>167.00</td>\n",
       "      <td>5.712595</td>\n",
       "      <td>...</td>\n",
       "      <td>-735.842185</td>\n",
       "      <td>-789.0</td>\n",
       "      <td>-1000.0</td>\n",
       "      <td>1215.0</td>\n",
       "      <td>76.876692</td>\n",
       "      <td>755.465238</td>\n",
       "      <td>1.617379</td>\n",
       "      <td>1.233563e+12</td>\n",
       "      <td>0.063675</td>\n",
       "      <td>29264.004413</td>\n",
       "    </tr>\n",
       "    <tr>\n",
       "      <th>0</th>\n",
       "      <td>SpinalCord</td>\n",
       "      <td>LCTSC-Test-S1-101</td>\n",
       "      <td>666be6</td>\n",
       "      <td>cc682f</td>\n",
       "      <td>-19.0</td>\n",
       "      <td>70.0</td>\n",
       "      <td>6.830546e+06</td>\n",
       "      <td>2.638360</td>\n",
       "      <td>43.00</td>\n",
       "      <td>12.650592</td>\n",
       "      <td>...</td>\n",
       "      <td>27.051730</td>\n",
       "      <td>27.0</td>\n",
       "      <td>-144.0</td>\n",
       "      <td>573.0</td>\n",
       "      <td>18.213519</td>\n",
       "      <td>49.364661</td>\n",
       "      <td>1.348291</td>\n",
       "      <td>1.758810e+08</td>\n",
       "      <td>0.205445</td>\n",
       "      <td>1705.073671</td>\n",
       "    </tr>\n",
       "  </tbody>\n",
       "</table>\n",
       "<p>5 rows × 22 columns</p>\n",
       "</div>"
      ],
      "text/plain": [
       "      Contour            Patient ImageHashedUID StructHashedUID  \\\n",
       "3   Esophagus  LCTSC-Test-S1-101         666be6          cc682f   \n",
       "1       Heart  LCTSC-Test-S1-101         666be6          cc682f   \n",
       "2      Lung_L  LCTSC-Test-S1-101         666be6          cc682f   \n",
       "4      Lung_R  LCTSC-Test-S1-101         666be6          cc682f   \n",
       "0  SpinalCord  LCTSC-Test-S1-101         666be6          cc682f   \n",
       "\n",
       "   firstorder|10Percentile  firstorder|90Percentile  firstorder|Energy  \\\n",
       "3                     -9.0                     74.0       6.379739e+06   \n",
       "1                    -14.0                     68.0       8.486142e+07   \n",
       "2                   -871.0                   -502.0       3.907161e+10   \n",
       "4                   -889.0                   -480.0       4.790689e+10   \n",
       "0                    -19.0                     70.0       6.830546e+06   \n",
       "\n",
       "   firstorder|Entropy  firstorder|InterquartileRange  firstorder|Kurtosis  \\\n",
       "3            2.563380                          35.25            55.979763   \n",
       "1            2.343017                          31.00            16.880718   \n",
       "2            4.313815                         148.00             6.423229   \n",
       "4            4.414603                         167.00             5.712595   \n",
       "0            2.638360                          43.00            12.650592   \n",
       "\n",
       "   ...  firstorder|Mean  firstorder|Median  firstorder|Minimum  \\\n",
       "3  ...        33.382764               42.0              -745.0   \n",
       "1  ...        34.078823               44.0              -577.0   \n",
       "2  ...      -729.756106             -778.0             -1000.0   \n",
       "4  ...      -735.842185             -789.0             -1000.0   \n",
       "0  ...        27.051730               27.0              -144.0   \n",
       "\n",
       "   firstorder|Range  firstorder|RobustMeanAbsoluteDeviation  \\\n",
       "3             940.0                               15.951183   \n",
       "1             806.0                               14.250737   \n",
       "2            1357.0                               67.906500   \n",
       "4            1215.0                               76.876692   \n",
       "0             573.0                               18.213519   \n",
       "\n",
       "   firstorder|RootMeanSquared  firstorder|Skewness  firstorder|TotalEnergy  \\\n",
       "3                   70.379070            -5.961993            1.642731e+08   \n",
       "1                   53.881633            -2.753651            2.185112e+09   \n",
       "2                  747.249117             1.747786            1.006062e+12   \n",
       "4                  755.465238             1.617379            1.233563e+12   \n",
       "0                   49.364661             1.348291            1.758810e+08   \n",
       "\n",
       "   firstorder|Uniformity  firstorder|Variance  \n",
       "3               0.232723          3838.804579  \n",
       "1               0.273513          1741.864194  \n",
       "2               0.069585         25837.268599  \n",
       "4               0.063675         29264.004413  \n",
       "0               0.205445          1705.073671  \n",
       "\n",
       "[5 rows x 22 columns]"
      ]
     },
     "execution_count": 5,
     "metadata": {},
     "output_type": "execute_result"
    }
   ],
   "source": [
    "# Display the DataFrame of radiomics computed\n",
    "df_radiomics = pydicer.analyse.get_all_computed_radiomics_for_dataset()\n",
    "df_radiomics.head()"
   ]
  },
  {
   "cell_type": "markdown",
   "metadata": {},
   "source": [
    "## Specify Radiomics to Compute\n",
    "\n",
    "PyDicer used the popular `pyradiomics` library to compute radiomics. So, you may specify any\n",
    "radiomics features provided in that library to be computed. See the [pyradiomics documentation for\n",
    "a list of radiomics features\n",
    "available](https://pyradiomics.readthedocs.io/en/latest/features.html).\n",
    "\n",
    "In this example, we specify all `shape` features as well as `first-order` features to be computed."
   ]
  },
  {
   "cell_type": "code",
   "execution_count": 6,
   "metadata": {
    "execution": {
     "iopub.execute_input": "2023-12-05T03:16:11.572274Z",
     "iopub.status.busy": "2023-12-05T03:16:11.572081Z",
     "iopub.status.idle": "2023-12-05T03:16:29.998775Z",
     "shell.execute_reply": "2023-12-05T03:16:29.997981Z"
    }
   },
   "outputs": [
    {
     "name": "stderr",
     "output_type": "stream",
     "text": [
      "\r",
      "  0%|          | 0/10 [00:00<?, ?objects/s, Compute Radiomics]"
     ]
    },
    {
     "name": "stderr",
     "output_type": "stream",
     "text": [
      "\r",
      " 10%|█         | 1/10 [00:01<00:13,  1.46s/objects, Compute Radiomics]"
     ]
    },
    {
     "name": "stderr",
     "output_type": "stream",
     "text": [
      "\r",
      " 20%|██        | 2/10 [00:03<00:13,  1.71s/objects, Compute Radiomics]"
     ]
    },
    {
     "name": "stderr",
     "output_type": "stream",
     "text": [
      "\r",
      " 30%|███       | 3/10 [00:05<00:12,  1.79s/objects, Compute Radiomics]"
     ]
    },
    {
     "name": "stderr",
     "output_type": "stream",
     "text": [
      "\r",
      " 40%|████      | 4/10 [00:07<00:11,  2.00s/objects, Compute Radiomics]"
     ]
    },
    {
     "name": "stderr",
     "output_type": "stream",
     "text": [
      "\r",
      " 50%|█████     | 5/10 [00:09<00:09,  1.90s/objects, Compute Radiomics]"
     ]
    },
    {
     "name": "stderr",
     "output_type": "stream",
     "text": [
      "\r",
      " 60%|██████    | 6/10 [00:10<00:06,  1.73s/objects, Compute Radiomics]"
     ]
    },
    {
     "name": "stderr",
     "output_type": "stream",
     "text": [
      "\r",
      " 70%|███████   | 7/10 [00:12<00:05,  1.68s/objects, Compute Radiomics]"
     ]
    },
    {
     "name": "stderr",
     "output_type": "stream",
     "text": [
      "\r",
      " 80%|████████  | 8/10 [00:14<00:03,  2.00s/objects, Compute Radiomics]"
     ]
    },
    {
     "name": "stderr",
     "output_type": "stream",
     "text": [
      "\r",
      " 90%|█████████ | 9/10 [00:16<00:01,  1.93s/objects, Compute Radiomics]"
     ]
    },
    {
     "name": "stderr",
     "output_type": "stream",
     "text": [
      "\r",
      "100%|██████████| 10/10 [00:18<00:00,  1.82s/objects, Compute Radiomics]"
     ]
    },
    {
     "name": "stderr",
     "output_type": "stream",
     "text": [
      "\r",
      "100%|██████████| 10/10 [00:18<00:00,  1.83s/objects, Compute Radiomics]"
     ]
    },
    {
     "name": "stderr",
     "output_type": "stream",
     "text": [
      "\n"
     ]
    },
    {
     "data": {
      "text/html": [
       "<div>\n",
       "<style scoped>\n",
       "    .dataframe tbody tr th:only-of-type {\n",
       "        vertical-align: middle;\n",
       "    }\n",
       "\n",
       "    .dataframe tbody tr th {\n",
       "        vertical-align: top;\n",
       "    }\n",
       "\n",
       "    .dataframe thead th {\n",
       "        text-align: right;\n",
       "    }\n",
       "</style>\n",
       "<table border=\"1\" class=\"dataframe\">\n",
       "  <thead>\n",
       "    <tr style=\"text-align: right;\">\n",
       "      <th></th>\n",
       "      <th>Contour</th>\n",
       "      <th>Patient</th>\n",
       "      <th>ImageHashedUID</th>\n",
       "      <th>StructHashedUID</th>\n",
       "      <th>firstorder|10Percentile</th>\n",
       "      <th>firstorder|90Percentile</th>\n",
       "      <th>firstorder|Energy</th>\n",
       "      <th>firstorder|Entropy</th>\n",
       "      <th>firstorder|InterquartileRange</th>\n",
       "      <th>firstorder|Kurtosis</th>\n",
       "      <th>...</th>\n",
       "      <th>shape|Maximum2DDiameterColumn</th>\n",
       "      <th>shape|Maximum2DDiameterRow</th>\n",
       "      <th>shape|Maximum2DDiameterSlice</th>\n",
       "      <th>shape|Maximum3DDiameter</th>\n",
       "      <th>shape|MeshVolume</th>\n",
       "      <th>shape|MinorAxisLength</th>\n",
       "      <th>shape|Sphericity</th>\n",
       "      <th>shape|SurfaceArea</th>\n",
       "      <th>shape|SurfaceVolumeRatio</th>\n",
       "      <th>shape|VoxelVolume</th>\n",
       "    </tr>\n",
       "  </thead>\n",
       "  <tbody>\n",
       "    <tr>\n",
       "      <th>3</th>\n",
       "      <td>Esophagus</td>\n",
       "      <td>LCTSC-Test-S1-101</td>\n",
       "      <td>666be6</td>\n",
       "      <td>cc682f</td>\n",
       "      <td>-9.0</td>\n",
       "      <td>74.0</td>\n",
       "      <td>6.379739e+06</td>\n",
       "      <td>2.563380</td>\n",
       "      <td>35.25</td>\n",
       "      <td>55.979763</td>\n",
       "      <td>...</td>\n",
       "      <td>223.924778</td>\n",
       "      <td>222.309084</td>\n",
       "      <td>23.619884</td>\n",
       "      <td>224.231209</td>\n",
       "      <td>3.193220e+04</td>\n",
       "      <td>50.733471</td>\n",
       "      <td>0.408351</td>\n",
       "      <td>11919.810387</td>\n",
       "      <td>0.373285</td>\n",
       "      <td>3.316495e+04</td>\n",
       "    </tr>\n",
       "    <tr>\n",
       "      <th>1</th>\n",
       "      <td>Heart</td>\n",
       "      <td>LCTSC-Test-S1-101</td>\n",
       "      <td>666be6</td>\n",
       "      <td>cc682f</td>\n",
       "      <td>-14.0</td>\n",
       "      <td>68.0</td>\n",
       "      <td>8.486142e+07</td>\n",
       "      <td>2.343017</td>\n",
       "      <td>31.00</td>\n",
       "      <td>16.880718</td>\n",
       "      <td>...</td>\n",
       "      <td>163.733306</td>\n",
       "      <td>127.040344</td>\n",
       "      <td>151.241053</td>\n",
       "      <td>164.152138</td>\n",
       "      <td>7.513182e+05</td>\n",
       "      <td>100.977462</td>\n",
       "      <td>0.781808</td>\n",
       "      <td>51121.049949</td>\n",
       "      <td>0.068042</td>\n",
       "      <td>7.526486e+05</td>\n",
       "    </tr>\n",
       "    <tr>\n",
       "      <th>2</th>\n",
       "      <td>Lung_L</td>\n",
       "      <td>LCTSC-Test-S1-101</td>\n",
       "      <td>666be6</td>\n",
       "      <td>cc682f</td>\n",
       "      <td>-871.0</td>\n",
       "      <td>-502.0</td>\n",
       "      <td>3.907161e+10</td>\n",
       "      <td>4.313815</td>\n",
       "      <td>148.00</td>\n",
       "      <td>6.423229</td>\n",
       "      <td>...</td>\n",
       "      <td>236.649430</td>\n",
       "      <td>242.714238</td>\n",
       "      <td>190.429595</td>\n",
       "      <td>245.982024</td>\n",
       "      <td>1.801684e+06</td>\n",
       "      <td>171.702531</td>\n",
       "      <td>0.568443</td>\n",
       "      <td>125964.905979</td>\n",
       "      <td>0.069915</td>\n",
       "      <td>1.801747e+06</td>\n",
       "    </tr>\n",
       "    <tr>\n",
       "      <th>4</th>\n",
       "      <td>Lung_R</td>\n",
       "      <td>LCTSC-Test-S1-101</td>\n",
       "      <td>666be6</td>\n",
       "      <td>cc682f</td>\n",
       "      <td>-889.0</td>\n",
       "      <td>-480.0</td>\n",
       "      <td>4.790689e+10</td>\n",
       "      <td>4.414603</td>\n",
       "      <td>167.00</td>\n",
       "      <td>5.712595</td>\n",
       "      <td>...</td>\n",
       "      <td>231.159117</td>\n",
       "      <td>247.961931</td>\n",
       "      <td>186.213760</td>\n",
       "      <td>248.126635</td>\n",
       "      <td>2.159880e+06</td>\n",
       "      <td>172.513299</td>\n",
       "      <td>0.582948</td>\n",
       "      <td>138614.093158</td>\n",
       "      <td>0.064177</td>\n",
       "      <td>2.161386e+06</td>\n",
       "    </tr>\n",
       "    <tr>\n",
       "      <th>0</th>\n",
       "      <td>SpinalCord</td>\n",
       "      <td>LCTSC-Test-S1-101</td>\n",
       "      <td>666be6</td>\n",
       "      <td>cc682f</td>\n",
       "      <td>-19.0</td>\n",
       "      <td>70.0</td>\n",
       "      <td>6.830546e+06</td>\n",
       "      <td>2.638360</td>\n",
       "      <td>43.00</td>\n",
       "      <td>12.650592</td>\n",
       "      <td>...</td>\n",
       "      <td>300.128718</td>\n",
       "      <td>313.974459</td>\n",
       "      <td>26.529436</td>\n",
       "      <td>314.315983</td>\n",
       "      <td>7.050233e+04</td>\n",
       "      <td>32.966235</td>\n",
       "      <td>0.418454</td>\n",
       "      <td>19722.946105</td>\n",
       "      <td>0.279749</td>\n",
       "      <td>7.217496e+04</td>\n",
       "    </tr>\n",
       "  </tbody>\n",
       "</table>\n",
       "<p>5 rows × 36 columns</p>\n",
       "</div>"
      ],
      "text/plain": [
       "      Contour            Patient ImageHashedUID StructHashedUID  \\\n",
       "3   Esophagus  LCTSC-Test-S1-101         666be6          cc682f   \n",
       "1       Heart  LCTSC-Test-S1-101         666be6          cc682f   \n",
       "2      Lung_L  LCTSC-Test-S1-101         666be6          cc682f   \n",
       "4      Lung_R  LCTSC-Test-S1-101         666be6          cc682f   \n",
       "0  SpinalCord  LCTSC-Test-S1-101         666be6          cc682f   \n",
       "\n",
       "   firstorder|10Percentile  firstorder|90Percentile  firstorder|Energy  \\\n",
       "3                     -9.0                     74.0       6.379739e+06   \n",
       "1                    -14.0                     68.0       8.486142e+07   \n",
       "2                   -871.0                   -502.0       3.907161e+10   \n",
       "4                   -889.0                   -480.0       4.790689e+10   \n",
       "0                    -19.0                     70.0       6.830546e+06   \n",
       "\n",
       "   firstorder|Entropy  firstorder|InterquartileRange  firstorder|Kurtosis  \\\n",
       "3            2.563380                          35.25            55.979763   \n",
       "1            2.343017                          31.00            16.880718   \n",
       "2            4.313815                         148.00             6.423229   \n",
       "4            4.414603                         167.00             5.712595   \n",
       "0            2.638360                          43.00            12.650592   \n",
       "\n",
       "   ...  shape|Maximum2DDiameterColumn  shape|Maximum2DDiameterRow  \\\n",
       "3  ...                     223.924778                  222.309084   \n",
       "1  ...                     163.733306                  127.040344   \n",
       "2  ...                     236.649430                  242.714238   \n",
       "4  ...                     231.159117                  247.961931   \n",
       "0  ...                     300.128718                  313.974459   \n",
       "\n",
       "   shape|Maximum2DDiameterSlice  shape|Maximum3DDiameter  shape|MeshVolume  \\\n",
       "3                     23.619884               224.231209      3.193220e+04   \n",
       "1                    151.241053               164.152138      7.513182e+05   \n",
       "2                    190.429595               245.982024      1.801684e+06   \n",
       "4                    186.213760               248.126635      2.159880e+06   \n",
       "0                     26.529436               314.315983      7.050233e+04   \n",
       "\n",
       "   shape|MinorAxisLength  shape|Sphericity  shape|SurfaceArea  \\\n",
       "3              50.733471          0.408351       11919.810387   \n",
       "1             100.977462          0.781808       51121.049949   \n",
       "2             171.702531          0.568443      125964.905979   \n",
       "4             172.513299          0.582948      138614.093158   \n",
       "0              32.966235          0.418454       19722.946105   \n",
       "\n",
       "   shape|SurfaceVolumeRatio  shape|VoxelVolume  \n",
       "3                  0.373285       3.316495e+04  \n",
       "1                  0.068042       7.526486e+05  \n",
       "2                  0.069915       1.801747e+06  \n",
       "4                  0.064177       2.161386e+06  \n",
       "0                  0.279749       7.217496e+04  \n",
       "\n",
       "[5 rows x 36 columns]"
      ]
     },
     "execution_count": 6,
     "metadata": {},
     "output_type": "execute_result"
    }
   ],
   "source": [
    "# Import pyradiomics feature modules\n",
    "from radiomics import (\n",
    "    firstorder,\n",
    "    shape,\n",
    ")\n",
    "\n",
    "# Prepare a dict of features to compute grouped by class\n",
    "first_order_features = firstorder.RadiomicsFirstOrder.getFeatureNames()\n",
    "shape_features = shape.RadiomicsShape.getFeatureNames()\n",
    "compute_radiomics = {\n",
    "    \"firstorder\": [f for f in first_order_features if not first_order_features[f]],\n",
    "    \"shape\": [f for f in shape_features if not shape_features[f]],\n",
    "}\n",
    "\n",
    "# Pass the dict to the compute the radiomics\n",
    "pydicer.analyse.compute_radiomics(radiomics=compute_radiomics)\n",
    "\n",
    "# Fetch the computed radiomics and output the first few rows\n",
    "df_radiomics = pydicer.analyse.get_all_computed_radiomics_for_dataset()\n",
    "df_radiomics.head()"
   ]
  },
  {
   "cell_type": "markdown",
   "metadata": {},
   "source": [
    "You can also set a specific subset of features like this:"
   ]
  },
  {
   "cell_type": "code",
   "execution_count": 7,
   "metadata": {
    "execution": {
     "iopub.execute_input": "2023-12-05T03:16:30.001810Z",
     "iopub.status.busy": "2023-12-05T03:16:30.001271Z",
     "iopub.status.idle": "2023-12-05T03:16:47.982265Z",
     "shell.execute_reply": "2023-12-05T03:16:47.981480Z"
    }
   },
   "outputs": [
    {
     "name": "stderr",
     "output_type": "stream",
     "text": [
      "\r",
      "  0%|          | 0/10 [00:00<?, ?objects/s, Compute Radiomics]"
     ]
    },
    {
     "name": "stderr",
     "output_type": "stream",
     "text": [
      "\r",
      " 10%|█         | 1/10 [00:01<00:12,  1.44s/objects, Compute Radiomics]"
     ]
    },
    {
     "name": "stderr",
     "output_type": "stream",
     "text": [
      "\r",
      " 20%|██        | 2/10 [00:03<00:13,  1.65s/objects, Compute Radiomics]"
     ]
    },
    {
     "name": "stderr",
     "output_type": "stream",
     "text": [
      "\r",
      " 30%|███       | 3/10 [00:05<00:12,  1.74s/objects, Compute Radiomics]"
     ]
    },
    {
     "name": "stderr",
     "output_type": "stream",
     "text": [
      "\r",
      " 40%|████      | 4/10 [00:07<00:11,  1.96s/objects, Compute Radiomics]"
     ]
    },
    {
     "name": "stderr",
     "output_type": "stream",
     "text": [
      "\r",
      " 50%|█████     | 5/10 [00:09<00:09,  1.88s/objects, Compute Radiomics]"
     ]
    },
    {
     "name": "stderr",
     "output_type": "stream",
     "text": [
      "\r",
      " 60%|██████    | 6/10 [00:10<00:06,  1.70s/objects, Compute Radiomics]"
     ]
    },
    {
     "name": "stderr",
     "output_type": "stream",
     "text": [
      "\r",
      " 70%|███████   | 7/10 [00:12<00:04,  1.67s/objects, Compute Radiomics]"
     ]
    },
    {
     "name": "stderr",
     "output_type": "stream",
     "text": [
      "\r",
      " 80%|████████  | 8/10 [00:14<00:03,  1.96s/objects, Compute Radiomics]"
     ]
    },
    {
     "name": "stderr",
     "output_type": "stream",
     "text": [
      "\r",
      " 90%|█████████ | 9/10 [00:16<00:01,  1.90s/objects, Compute Radiomics]"
     ]
    },
    {
     "name": "stderr",
     "output_type": "stream",
     "text": [
      "\r",
      "100%|██████████| 10/10 [00:17<00:00,  1.77s/objects, Compute Radiomics]"
     ]
    },
    {
     "name": "stderr",
     "output_type": "stream",
     "text": [
      "\r",
      "100%|██████████| 10/10 [00:17<00:00,  1.79s/objects, Compute Radiomics]"
     ]
    },
    {
     "name": "stderr",
     "output_type": "stream",
     "text": [
      "\n"
     ]
    },
    {
     "data": {
      "text/html": [
       "<div>\n",
       "<style scoped>\n",
       "    .dataframe tbody tr th:only-of-type {\n",
       "        vertical-align: middle;\n",
       "    }\n",
       "\n",
       "    .dataframe tbody tr th {\n",
       "        vertical-align: top;\n",
       "    }\n",
       "\n",
       "    .dataframe thead th {\n",
       "        text-align: right;\n",
       "    }\n",
       "</style>\n",
       "<table border=\"1\" class=\"dataframe\">\n",
       "  <thead>\n",
       "    <tr style=\"text-align: right;\">\n",
       "      <th></th>\n",
       "      <th>Contour</th>\n",
       "      <th>Patient</th>\n",
       "      <th>ImageHashedUID</th>\n",
       "      <th>StructHashedUID</th>\n",
       "      <th>firstorder|Maximum</th>\n",
       "      <th>firstorder|Minimum</th>\n",
       "      <th>firstorder|Mean</th>\n",
       "      <th>firstorder|Median</th>\n",
       "      <th>shape|SurfaceArea</th>\n",
       "      <th>shape|VoxelVolume</th>\n",
       "    </tr>\n",
       "  </thead>\n",
       "  <tbody>\n",
       "    <tr>\n",
       "      <th>3</th>\n",
       "      <td>Esophagus</td>\n",
       "      <td>LCTSC-Test-S1-101</td>\n",
       "      <td>666be6</td>\n",
       "      <td>cc682f</td>\n",
       "      <td>195.0</td>\n",
       "      <td>-745.0</td>\n",
       "      <td>33.382764</td>\n",
       "      <td>42.0</td>\n",
       "      <td>11919.810387</td>\n",
       "      <td>3.316495e+04</td>\n",
       "    </tr>\n",
       "    <tr>\n",
       "      <th>1</th>\n",
       "      <td>Heart</td>\n",
       "      <td>LCTSC-Test-S1-101</td>\n",
       "      <td>666be6</td>\n",
       "      <td>cc682f</td>\n",
       "      <td>229.0</td>\n",
       "      <td>-577.0</td>\n",
       "      <td>34.078823</td>\n",
       "      <td>44.0</td>\n",
       "      <td>51121.049949</td>\n",
       "      <td>7.526486e+05</td>\n",
       "    </tr>\n",
       "    <tr>\n",
       "      <th>2</th>\n",
       "      <td>Lung_L</td>\n",
       "      <td>LCTSC-Test-S1-101</td>\n",
       "      <td>666be6</td>\n",
       "      <td>cc682f</td>\n",
       "      <td>357.0</td>\n",
       "      <td>-1000.0</td>\n",
       "      <td>-729.756106</td>\n",
       "      <td>-778.0</td>\n",
       "      <td>125964.905979</td>\n",
       "      <td>1.801747e+06</td>\n",
       "    </tr>\n",
       "    <tr>\n",
       "      <th>4</th>\n",
       "      <td>Lung_R</td>\n",
       "      <td>LCTSC-Test-S1-101</td>\n",
       "      <td>666be6</td>\n",
       "      <td>cc682f</td>\n",
       "      <td>215.0</td>\n",
       "      <td>-1000.0</td>\n",
       "      <td>-735.842185</td>\n",
       "      <td>-789.0</td>\n",
       "      <td>138614.093158</td>\n",
       "      <td>2.161386e+06</td>\n",
       "    </tr>\n",
       "    <tr>\n",
       "      <th>0</th>\n",
       "      <td>SpinalCord</td>\n",
       "      <td>LCTSC-Test-S1-101</td>\n",
       "      <td>666be6</td>\n",
       "      <td>cc682f</td>\n",
       "      <td>429.0</td>\n",
       "      <td>-144.0</td>\n",
       "      <td>27.051730</td>\n",
       "      <td>27.0</td>\n",
       "      <td>19722.946105</td>\n",
       "      <td>7.217496e+04</td>\n",
       "    </tr>\n",
       "  </tbody>\n",
       "</table>\n",
       "</div>"
      ],
      "text/plain": [
       "      Contour            Patient ImageHashedUID StructHashedUID  \\\n",
       "3   Esophagus  LCTSC-Test-S1-101         666be6          cc682f   \n",
       "1       Heart  LCTSC-Test-S1-101         666be6          cc682f   \n",
       "2      Lung_L  LCTSC-Test-S1-101         666be6          cc682f   \n",
       "4      Lung_R  LCTSC-Test-S1-101         666be6          cc682f   \n",
       "0  SpinalCord  LCTSC-Test-S1-101         666be6          cc682f   \n",
       "\n",
       "   firstorder|Maximum  firstorder|Minimum  firstorder|Mean  firstorder|Median  \\\n",
       "3               195.0              -745.0        33.382764               42.0   \n",
       "1               229.0              -577.0        34.078823               44.0   \n",
       "2               357.0             -1000.0      -729.756106             -778.0   \n",
       "4               215.0             -1000.0      -735.842185             -789.0   \n",
       "0               429.0              -144.0        27.051730               27.0   \n",
       "\n",
       "   shape|SurfaceArea  shape|VoxelVolume  \n",
       "3       11919.810387       3.316495e+04  \n",
       "1       51121.049949       7.526486e+05  \n",
       "2      125964.905979       1.801747e+06  \n",
       "4      138614.093158       2.161386e+06  \n",
       "0       19722.946105       7.217496e+04  "
      ]
     },
     "execution_count": 7,
     "metadata": {},
     "output_type": "execute_result"
    }
   ],
   "source": [
    "# Specify features to compute grouped by class\n",
    "compute_radiomics = {\n",
    "    \"firstorder\": [\"Maximum\", \"Minimum\", \"Mean\", \"Median\"],\n",
    "    \"shape\": [\"SurfaceArea\", \"VoxelVolume\"],\n",
    "}\n",
    "\n",
    "# Pass the dict to the compute the radiomics\n",
    "pydicer.analyse.compute_radiomics(radiomics=compute_radiomics)\n",
    "\n",
    "df_radiomics = pydicer.analyse.get_all_computed_radiomics_for_dataset()\n",
    "df_radiomics.head()"
   ]
  },
  {
   "cell_type": "markdown",
   "metadata": {},
   "source": [
    "## Track Metadata\n",
    "\n",
    "When analysing your radiomic features, it may be useful to have certain metadata available from\n",
    "either the image or structure set. You can specify which DICOM header tags to extract metadata for\n",
    "and these will be stored alongside the radiomic feature values.\n",
    "\n",
    "In the cell below, we recompute our radiomics and store the `PatientSex` header value from the\n",
    "image series and the `StudyDate` value from the structure set."
   ]
  },
  {
   "cell_type": "code",
   "execution_count": 8,
   "metadata": {
    "execution": {
     "iopub.execute_input": "2023-12-05T03:16:47.985167Z",
     "iopub.status.busy": "2023-12-05T03:16:47.984722Z",
     "iopub.status.idle": "2023-12-05T03:17:05.863649Z",
     "shell.execute_reply": "2023-12-05T03:17:05.862915Z"
    }
   },
   "outputs": [
    {
     "name": "stderr",
     "output_type": "stream",
     "text": [
      "\r",
      "  0%|          | 0/10 [00:00<?, ?objects/s, Compute Radiomics]"
     ]
    },
    {
     "name": "stderr",
     "output_type": "stream",
     "text": [
      "\r",
      " 10%|█         | 1/10 [00:01<00:12,  1.44s/objects, Compute Radiomics]"
     ]
    },
    {
     "name": "stderr",
     "output_type": "stream",
     "text": [
      "\r",
      " 20%|██        | 2/10 [00:03<00:13,  1.65s/objects, Compute Radiomics]"
     ]
    },
    {
     "name": "stderr",
     "output_type": "stream",
     "text": [
      "\r",
      " 30%|███       | 3/10 [00:05<00:12,  1.77s/objects, Compute Radiomics]"
     ]
    },
    {
     "name": "stderr",
     "output_type": "stream",
     "text": [
      "\r",
      " 40%|████      | 4/10 [00:07<00:11,  1.96s/objects, Compute Radiomics]"
     ]
    },
    {
     "name": "stderr",
     "output_type": "stream",
     "text": [
      "\r",
      " 50%|█████     | 5/10 [00:09<00:09,  1.87s/objects, Compute Radiomics]"
     ]
    },
    {
     "name": "stderr",
     "output_type": "stream",
     "text": [
      "\r",
      " 60%|██████    | 6/10 [00:10<00:06,  1.68s/objects, Compute Radiomics]"
     ]
    },
    {
     "name": "stderr",
     "output_type": "stream",
     "text": [
      "\r",
      " 70%|███████   | 7/10 [00:11<00:04,  1.64s/objects, Compute Radiomics]"
     ]
    },
    {
     "name": "stderr",
     "output_type": "stream",
     "text": [
      "\r",
      " 80%|████████  | 8/10 [00:14<00:03,  1.96s/objects, Compute Radiomics]"
     ]
    },
    {
     "name": "stderr",
     "output_type": "stream",
     "text": [
      "\r",
      " 90%|█████████ | 9/10 [00:16<00:01,  1.88s/objects, Compute Radiomics]"
     ]
    },
    {
     "name": "stderr",
     "output_type": "stream",
     "text": [
      "\r",
      "100%|██████████| 10/10 [00:17<00:00,  1.75s/objects, Compute Radiomics]"
     ]
    },
    {
     "name": "stderr",
     "output_type": "stream",
     "text": [
      "\r",
      "100%|██████████| 10/10 [00:17<00:00,  1.78s/objects, Compute Radiomics]"
     ]
    },
    {
     "name": "stderr",
     "output_type": "stream",
     "text": [
      "\n"
     ]
    },
    {
     "data": {
      "text/html": [
       "<div>\n",
       "<style scoped>\n",
       "    .dataframe tbody tr th:only-of-type {\n",
       "        vertical-align: middle;\n",
       "    }\n",
       "\n",
       "    .dataframe tbody tr th {\n",
       "        vertical-align: top;\n",
       "    }\n",
       "\n",
       "    .dataframe thead th {\n",
       "        text-align: right;\n",
       "    }\n",
       "</style>\n",
       "<table border=\"1\" class=\"dataframe\">\n",
       "  <thead>\n",
       "    <tr style=\"text-align: right;\">\n",
       "      <th></th>\n",
       "      <th>Contour</th>\n",
       "      <th>Patient</th>\n",
       "      <th>ImageHashedUID</th>\n",
       "      <th>StructHashedUID</th>\n",
       "      <th>firstorder|Maximum</th>\n",
       "      <th>firstorder|Minimum</th>\n",
       "      <th>firstorder|Mean</th>\n",
       "      <th>firstorder|Median</th>\n",
       "      <th>shape|SurfaceArea</th>\n",
       "      <th>shape|VoxelVolume</th>\n",
       "      <th>struct|StudyDate</th>\n",
       "      <th>img|PatientSex</th>\n",
       "    </tr>\n",
       "  </thead>\n",
       "  <tbody>\n",
       "    <tr>\n",
       "      <th>3</th>\n",
       "      <td>Esophagus</td>\n",
       "      <td>LCTSC-Test-S1-101</td>\n",
       "      <td>666be6</td>\n",
       "      <td>cc682f</td>\n",
       "      <td>195.0</td>\n",
       "      <td>-745.0</td>\n",
       "      <td>33.382764</td>\n",
       "      <td>42.0</td>\n",
       "      <td>11919.810387</td>\n",
       "      <td>3.316495e+04</td>\n",
       "      <td>20040303</td>\n",
       "      <td>M</td>\n",
       "    </tr>\n",
       "    <tr>\n",
       "      <th>1</th>\n",
       "      <td>Heart</td>\n",
       "      <td>LCTSC-Test-S1-101</td>\n",
       "      <td>666be6</td>\n",
       "      <td>cc682f</td>\n",
       "      <td>229.0</td>\n",
       "      <td>-577.0</td>\n",
       "      <td>34.078823</td>\n",
       "      <td>44.0</td>\n",
       "      <td>51121.049949</td>\n",
       "      <td>7.526486e+05</td>\n",
       "      <td>20040303</td>\n",
       "      <td>M</td>\n",
       "    </tr>\n",
       "    <tr>\n",
       "      <th>2</th>\n",
       "      <td>Lung_L</td>\n",
       "      <td>LCTSC-Test-S1-101</td>\n",
       "      <td>666be6</td>\n",
       "      <td>cc682f</td>\n",
       "      <td>357.0</td>\n",
       "      <td>-1000.0</td>\n",
       "      <td>-729.756106</td>\n",
       "      <td>-778.0</td>\n",
       "      <td>125964.905979</td>\n",
       "      <td>1.801747e+06</td>\n",
       "      <td>20040303</td>\n",
       "      <td>M</td>\n",
       "    </tr>\n",
       "    <tr>\n",
       "      <th>4</th>\n",
       "      <td>Lung_R</td>\n",
       "      <td>LCTSC-Test-S1-101</td>\n",
       "      <td>666be6</td>\n",
       "      <td>cc682f</td>\n",
       "      <td>215.0</td>\n",
       "      <td>-1000.0</td>\n",
       "      <td>-735.842185</td>\n",
       "      <td>-789.0</td>\n",
       "      <td>138614.093158</td>\n",
       "      <td>2.161386e+06</td>\n",
       "      <td>20040303</td>\n",
       "      <td>M</td>\n",
       "    </tr>\n",
       "    <tr>\n",
       "      <th>0</th>\n",
       "      <td>SpinalCord</td>\n",
       "      <td>LCTSC-Test-S1-101</td>\n",
       "      <td>666be6</td>\n",
       "      <td>cc682f</td>\n",
       "      <td>429.0</td>\n",
       "      <td>-144.0</td>\n",
       "      <td>27.051730</td>\n",
       "      <td>27.0</td>\n",
       "      <td>19722.946105</td>\n",
       "      <td>7.217496e+04</td>\n",
       "      <td>20040303</td>\n",
       "      <td>M</td>\n",
       "    </tr>\n",
       "  </tbody>\n",
       "</table>\n",
       "</div>"
      ],
      "text/plain": [
       "      Contour            Patient ImageHashedUID StructHashedUID  \\\n",
       "3   Esophagus  LCTSC-Test-S1-101         666be6          cc682f   \n",
       "1       Heart  LCTSC-Test-S1-101         666be6          cc682f   \n",
       "2      Lung_L  LCTSC-Test-S1-101         666be6          cc682f   \n",
       "4      Lung_R  LCTSC-Test-S1-101         666be6          cc682f   \n",
       "0  SpinalCord  LCTSC-Test-S1-101         666be6          cc682f   \n",
       "\n",
       "   firstorder|Maximum  firstorder|Minimum  firstorder|Mean  firstorder|Median  \\\n",
       "3               195.0              -745.0        33.382764               42.0   \n",
       "1               229.0              -577.0        34.078823               44.0   \n",
       "2               357.0             -1000.0      -729.756106             -778.0   \n",
       "4               215.0             -1000.0      -735.842185             -789.0   \n",
       "0               429.0              -144.0        27.051730               27.0   \n",
       "\n",
       "   shape|SurfaceArea  shape|VoxelVolume  struct|StudyDate img|PatientSex  \n",
       "3       11919.810387       3.316495e+04          20040303              M  \n",
       "1       51121.049949       7.526486e+05          20040303              M  \n",
       "2      125964.905979       1.801747e+06          20040303              M  \n",
       "4      138614.093158       2.161386e+06          20040303              M  \n",
       "0       19722.946105       7.217496e+04          20040303              M  "
      ]
     },
     "execution_count": 8,
     "metadata": {},
     "output_type": "execute_result"
    }
   ],
   "source": [
    "# Compute the radiomics specifying the meta data to keep\n",
    "pydicer.analyse.compute_radiomics(\n",
    "    radiomics=compute_radiomics,\n",
    "    image_meta_data=[\"PatientSex\"],\n",
    "    structure_meta_data=[\"StudyDate\"]\n",
    ")\n",
    "\n",
    "# Fetch the results and display the first rows\n",
    "df_radiomics = pydicer.analyse.get_all_computed_radiomics_for_dataset()\n",
    "df_radiomics.head()"
   ]
  },
  {
   "cell_type": "code",
   "execution_count": null,
   "metadata": {},
   "outputs": [],
   "source": []
  }
 ],
 "metadata": {
  "interpreter": {
   "hash": "814af119db7f8f2860617be3dcd1d37c560587d11c65bd58c45b1679d3ee6ea4"
  },
  "kernelspec": {
   "display_name": "Python 3.8.0 64-bit ('pydicer': pyenv)",
   "language": "python",
   "name": "python3"
  },
  "language_info": {
   "codemirror_mode": {
    "name": "ipython",
    "version": 3
   },
   "file_extension": ".py",
   "mimetype": "text/x-python",
   "name": "python",
   "nbconvert_exporter": "python",
   "pygments_lexer": "ipython3",
   "version": "3.9.18"
  }
 },
 "nbformat": 4,
 "nbformat_minor": 2
}
