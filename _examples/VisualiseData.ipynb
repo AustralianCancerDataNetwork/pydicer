{
 "cells": [
  {
   "cell_type": "markdown",
   "metadata": {},
   "source": [
    "# Visualise Data\n",
    "\n",
    "[![Open In Colab](https://colab.research.google.com/assets/colab-badge.svg)](https://colab.research.google.com/github/AustralianCancerDataNetwork/pydicer/blob/main/examples/VisualiseData.ipynb)\n",
    "\n",
    "PyDicer's [visualise module](https://australiancancerdatanetwork.github.io/pydicer/visualise.html) will produce cross-sections of data objects and store them\n",
    "in `.png` format within the data object directory. This is particularly useful for fast inspection\n",
    "of the data to ensure that nothing has gone wrong during conversion.\n",
    "\n",
    "The visualise module can be run at any time after conversion. If you are using advanced features\n",
    "of PyDicer, such as [auto-segmentation inference](https://australiancancerdatanetwork.github.io/pydicer/_examples/AutoSegmentation.html) and [object generation](https://australiancancerdatanetwork.github.io/pydicer/_examples/ObjectGeneration.html), you can run the\n",
    "visualise module following the generation of the new data objects to produce the cross-section\n",
    "`.png` files."
   ]
  },
  {
   "cell_type": "code",
   "execution_count": 1,
   "metadata": {
    "execution": {
     "iopub.execute_input": "2025-01-23T00:46:36.365828Z",
     "iopub.status.busy": "2025-01-23T00:46:36.365633Z",
     "iopub.status.idle": "2025-01-23T00:46:37.356106Z",
     "shell.execute_reply": "2025-01-23T00:46:37.355535Z"
    }
   },
   "outputs": [],
   "source": [
    "try:\n",
    "    from pydicer import PyDicer\n",
    "except ImportError:\n",
    "    !pip install pydicer\n",
    "    from pydicer import PyDicer\n",
    "\n",
    "from pathlib import Path\n",
    "\n",
    "from pydicer.utils import fetch_converted_test_data"
   ]
  },
  {
   "cell_type": "markdown",
   "metadata": {},
   "source": [
    "## Setup PyDicer\n",
    "\n",
    "HNSCC data prepared for this example are downloaded and stored into a `testdata_hnscc` directory.\n",
    "We will use this for our PyDicer working directory. We also initialise our PyDicer object."
   ]
  },
  {
   "cell_type": "code",
   "execution_count": 2,
   "metadata": {
    "execution": {
     "iopub.execute_input": "2025-01-23T00:46:37.359110Z",
     "iopub.status.busy": "2025-01-23T00:46:37.358860Z",
     "iopub.status.idle": "2025-01-23T00:46:37.363445Z",
     "shell.execute_reply": "2025-01-23T00:46:37.362806Z"
    }
   },
   "outputs": [
    {
     "name": "stderr",
     "output_type": "stream",
     "text": [
      "Working directory %s aready exists, won't download test data.\n"
     ]
    }
   ],
   "source": [
    "working_directory = fetch_converted_test_data(\"./testdata_hnscc\", dataset=\"HNSCC\")\n",
    "\n",
    "pydicer = PyDicer(working_directory)"
   ]
  },
  {
   "cell_type": "markdown",
   "metadata": {},
   "source": [
    "## Visualise Data\n",
    "\n",
    "We simply call the [visualise](https://australiancancerdatanetwork.github.io/pydicer/visualise.html#pydicer.visualise.data.VisualiseData.visualise) function of the `visualise` module to produce the cross-sections.\n",
    "\n",
    "Inspect some of the data object directories in `testdata_hnscc/data` and look for the `.png`\n",
    "cross-sections. The `{hashed_uid}` in files named `vis_{hashed_uid}.png`  refers to a UID hash\n",
    "linking to the image being visualised. Visualisations are produced for:\n",
    "- Images\n",
    "- RT Structure Sets\n",
    "- RT Dose Grids"
   ]
  },
  {
   "cell_type": "code",
   "execution_count": 3,
   "metadata": {
    "execution": {
     "iopub.execute_input": "2025-01-23T00:46:37.366130Z",
     "iopub.status.busy": "2025-01-23T00:46:37.365630Z",
     "iopub.status.idle": "2025-01-23T00:48:43.296513Z",
     "shell.execute_reply": "2025-01-23T00:48:43.295822Z"
    }
   },
   "outputs": [
    {
     "name": "stderr",
     "output_type": "stream",
     "text": [
      "\r",
      "  0%|          | 0/30 [00:00<?, ?objects/s, visualise]"
     ]
    },
    {
     "name": "stderr",
     "output_type": "stream",
     "text": [
      "\r",
      "  3%|▎         | 1/30 [00:00<00:10,  2.81objects/s, visualise]"
     ]
    },
    {
     "name": "stderr",
     "output_type": "stream",
     "text": [
      "\r",
      "  7%|▋         | 2/30 [00:00<00:08,  3.29objects/s, visualise]"
     ]
    },
    {
     "name": "stderr",
     "output_type": "stream",
     "text": [
      "\r",
      " 10%|█         | 3/30 [00:00<00:07,  3.52objects/s, visualise]"
     ]
    },
    {
     "name": "stderr",
     "output_type": "stream",
     "text": [
      "\r",
      " 13%|█▎        | 4/30 [00:01<00:08,  3.09objects/s, visualise]"
     ]
    },
    {
     "name": "stderr",
     "output_type": "stream",
     "text": [
      "\r",
      " 17%|█▋        | 5/30 [00:10<01:29,  3.56s/objects, visualise]"
     ]
    },
    {
     "name": "stderr",
     "output_type": "stream",
     "text": [
      "\r",
      " 20%|██        | 6/30 [00:20<02:15,  5.65s/objects, visualise]"
     ]
    },
    {
     "name": "stderr",
     "output_type": "stream",
     "text": [
      "\r",
      " 23%|██▎       | 7/30 [00:29<02:34,  6.71s/objects, visualise]"
     ]
    },
    {
     "name": "stderr",
     "output_type": "stream",
     "text": [
      "\r",
      " 27%|██▋       | 8/30 [00:38<02:46,  7.55s/objects, visualise]"
     ]
    },
    {
     "name": "stderr",
     "output_type": "stream",
     "text": [
      "\r",
      " 30%|███       | 9/30 [00:47<02:49,  8.07s/objects, visualise]"
     ]
    },
    {
     "name": "stderr",
     "output_type": "stream",
     "text": [
      "\r",
      " 33%|███▎      | 10/30 [00:57<02:51,  8.59s/objects, visualise]"
     ]
    },
    {
     "name": "stderr",
     "output_type": "stream",
     "text": [
      "\r",
      " 37%|███▋      | 11/30 [00:58<01:57,  6.17s/objects, visualise]"
     ]
    },
    {
     "name": "stderr",
     "output_type": "stream",
     "text": [
      "\r",
      " 40%|████      | 12/30 [00:58<01:19,  4.40s/objects, visualise]"
     ]
    },
    {
     "name": "stderr",
     "output_type": "stream",
     "text": [
      "\r",
      " 43%|████▎     | 13/30 [00:58<00:53,  3.17s/objects, visualise]"
     ]
    },
    {
     "name": "stderr",
     "output_type": "stream",
     "text": [
      "\r",
      " 47%|████▋     | 14/30 [00:59<00:38,  2.40s/objects, visualise]"
     ]
    },
    {
     "name": "stderr",
     "output_type": "stream",
     "text": [
      "/home/runner/.cache/pypoetry/virtualenvs/pydicer-pNPN9n62-py3.9/lib/python3.9/site-packages/pydicom/valuerep.py:443: UserWarning: Invalid value for VR DA: 'NaT'.\n",
      "  warnings.warn(msg)\n",
      "\r",
      " 50%|█████     | 15/30 [00:59<00:26,  1.78s/objects, visualise]"
     ]
    },
    {
     "name": "stderr",
     "output_type": "stream",
     "text": [
      "/home/runner/.cache/pypoetry/virtualenvs/pydicer-pNPN9n62-py3.9/lib/python3.9/site-packages/pydicom/valuerep.py:443: UserWarning: Invalid value for VR DA: 'NaT'.\n",
      "  warnings.warn(msg)\n",
      "\r",
      " 53%|█████▎    | 16/30 [01:00<00:18,  1.32s/objects, visualise]"
     ]
    },
    {
     "name": "stderr",
     "output_type": "stream",
     "text": [
      "/home/runner/.cache/pypoetry/virtualenvs/pydicer-pNPN9n62-py3.9/lib/python3.9/site-packages/pydicom/valuerep.py:443: UserWarning: Invalid value for VR DA: 'NaT'.\n",
      "  warnings.warn(msg)\n",
      "\r",
      " 57%|█████▋    | 17/30 [01:00<00:12,  1.01objects/s, visualise]"
     ]
    },
    {
     "name": "stderr",
     "output_type": "stream",
     "text": [
      "/home/runner/.cache/pypoetry/virtualenvs/pydicer-pNPN9n62-py3.9/lib/python3.9/site-packages/pydicom/valuerep.py:443: UserWarning: Invalid value for VR DA: 'NaT'.\n",
      "  warnings.warn(msg)\n",
      "\r",
      " 60%|██████    | 18/30 [01:00<00:09,  1.24objects/s, visualise]"
     ]
    },
    {
     "name": "stderr",
     "output_type": "stream",
     "text": [
      "\r",
      " 63%|██████▎   | 19/30 [01:01<00:07,  1.50objects/s, visualise]"
     ]
    },
    {
     "name": "stderr",
     "output_type": "stream",
     "text": [
      "\r",
      " 67%|██████▋   | 20/30 [01:09<00:30,  3.09s/objects, visualise]"
     ]
    },
    {
     "name": "stderr",
     "output_type": "stream",
     "text": [
      "\r",
      " 70%|███████   | 21/30 [01:16<00:39,  4.34s/objects, visualise]"
     ]
    },
    {
     "name": "stderr",
     "output_type": "stream",
     "text": [
      "\r",
      " 73%|███████▎  | 22/30 [01:25<00:44,  5.62s/objects, visualise]"
     ]
    },
    {
     "name": "stderr",
     "output_type": "stream",
     "text": [
      "\r",
      " 77%|███████▋  | 23/30 [01:26<00:28,  4.10s/objects, visualise]"
     ]
    },
    {
     "name": "stderr",
     "output_type": "stream",
     "text": [
      "/home/runner/.cache/pypoetry/virtualenvs/pydicer-pNPN9n62-py3.9/lib/python3.9/site-packages/pydicom/valuerep.py:443: UserWarning: Invalid value for VR DA: 'NaT'.\n",
      "  warnings.warn(msg)\n",
      "\r",
      " 80%|████████  | 24/30 [01:26<00:17,  2.98s/objects, visualise]"
     ]
    },
    {
     "name": "stderr",
     "output_type": "stream",
     "text": [
      "\r",
      " 83%|████████▎ | 25/30 [01:26<00:11,  2.21s/objects, visualise]"
     ]
    },
    {
     "name": "stderr",
     "output_type": "stream",
     "text": [
      "\r",
      " 87%|████████▋ | 26/30 [01:40<00:22,  5.51s/objects, visualise]"
     ]
    },
    {
     "name": "stderr",
     "output_type": "stream",
     "text": [
      "\r",
      " 90%|█████████ | 27/30 [01:51<00:21,  7.31s/objects, visualise]"
     ]
    },
    {
     "name": "stderr",
     "output_type": "stream",
     "text": [
      "\r",
      " 93%|█████████▎| 28/30 [02:04<00:18,  9.06s/objects, visualise]"
     ]
    },
    {
     "name": "stderr",
     "output_type": "stream",
     "text": [
      "\r",
      " 97%|█████████▋| 29/30 [02:05<00:06,  6.55s/objects, visualise]"
     ]
    },
    {
     "name": "stderr",
     "output_type": "stream",
     "text": [
      "/home/runner/.cache/pypoetry/virtualenvs/pydicer-pNPN9n62-py3.9/lib/python3.9/site-packages/pydicom/valuerep.py:443: UserWarning: Invalid value for VR DA: 'NaT'.\n",
      "  warnings.warn(msg)\n",
      "\r",
      "100%|██████████| 30/30 [02:05<00:00,  4.71s/objects, visualise]"
     ]
    },
    {
     "name": "stderr",
     "output_type": "stream",
     "text": [
      "\r",
      "100%|██████████| 30/30 [02:05<00:00,  4.20s/objects, visualise]"
     ]
    },
    {
     "name": "stderr",
     "output_type": "stream",
     "text": [
      "\n"
     ]
    }
   ],
   "source": [
    "pydicer.visualise.visualise()"
   ]
  },
  {
   "cell_type": "markdown",
   "metadata": {},
   "source": [
    "### Run for a single patient\n",
    "\n",
    "You can run the visualisation for only a single patient (or list of specific patients) by providing\n",
    "the `patient` argument."
   ]
  },
  {
   "cell_type": "code",
   "execution_count": 4,
   "metadata": {
    "execution": {
     "iopub.execute_input": "2025-01-23T00:48:43.299162Z",
     "iopub.status.busy": "2025-01-23T00:48:43.298762Z",
     "iopub.status.idle": "2025-01-23T00:49:22.896510Z",
     "shell.execute_reply": "2025-01-23T00:49:22.895827Z"
    }
   },
   "outputs": [
    {
     "name": "stderr",
     "output_type": "stream",
     "text": [
      "\r",
      "  0%|          | 0/6 [00:00<?, ?objects/s, visualise]"
     ]
    },
    {
     "name": "stderr",
     "output_type": "stream",
     "text": [
      "\r",
      " 17%|█▋        | 1/6 [00:00<00:02,  2.50objects/s, visualise]"
     ]
    },
    {
     "name": "stderr",
     "output_type": "stream",
     "text": [
      "\r",
      " 33%|███▎      | 2/6 [00:13<00:31,  7.80s/objects, visualise]"
     ]
    },
    {
     "name": "stderr",
     "output_type": "stream",
     "text": [
      "\r",
      " 50%|█████     | 3/6 [00:25<00:29,  9.73s/objects, visualise]"
     ]
    },
    {
     "name": "stderr",
     "output_type": "stream",
     "text": [
      "\r",
      " 67%|██████▋   | 4/6 [00:38<00:22, 11.05s/objects, visualise]"
     ]
    },
    {
     "name": "stderr",
     "output_type": "stream",
     "text": [
      "\r",
      " 83%|████████▎ | 5/6 [00:39<00:07,  7.31s/objects, visualise]"
     ]
    },
    {
     "name": "stderr",
     "output_type": "stream",
     "text": [
      "/home/runner/.cache/pypoetry/virtualenvs/pydicer-pNPN9n62-py3.9/lib/python3.9/site-packages/pydicom/valuerep.py:443: UserWarning: Invalid value for VR DA: 'NaT'.\n",
      "  warnings.warn(msg)\n",
      "\r",
      "100%|██████████| 6/6 [00:39<00:00,  4.97s/objects, visualise]"
     ]
    },
    {
     "name": "stderr",
     "output_type": "stream",
     "text": [
      "\r",
      "100%|██████████| 6/6 [00:39<00:00,  6.60s/objects, visualise]"
     ]
    },
    {
     "name": "stderr",
     "output_type": "stream",
     "text": [
      "\n"
     ]
    }
   ],
   "source": [
    "pydicer.visualise.visualise(patient=\"HNSCC-01-0199\")"
   ]
  },
  {
   "cell_type": "markdown",
   "metadata": {},
   "source": [
    "### Avoid Re-generating Visualisation\n",
    "\n",
    "If you've added more data to your dataset, and want to avoid re-generating visualisations, set the\n",
    "`force` argument to `False`."
   ]
  },
  {
   "cell_type": "code",
   "execution_count": 5,
   "metadata": {
    "execution": {
     "iopub.execute_input": "2025-01-23T00:49:22.899268Z",
     "iopub.status.busy": "2025-01-23T00:49:22.898874Z",
     "iopub.status.idle": "2025-01-23T00:49:22.988925Z",
     "shell.execute_reply": "2025-01-23T00:49:22.988259Z"
    }
   },
   "outputs": [
    {
     "name": "stderr",
     "output_type": "stream",
     "text": [
      "\r",
      "  0%|          | 0/30 [00:00<?, ?objects/s, visualise]"
     ]
    },
    {
     "name": "stderr",
     "output_type": "stream",
     "text": [
      "\r",
      "100%|██████████| 30/30 [00:00<00:00, 387.22objects/s, visualise]"
     ]
    },
    {
     "name": "stderr",
     "output_type": "stream",
     "text": [
      "\n"
     ]
    }
   ],
   "source": [
    "pydicer.visualise.visualise(force=False)"
   ]
  },
  {
   "cell_type": "code",
   "execution_count": null,
   "metadata": {},
   "outputs": [],
   "source": []
  }
 ],
 "metadata": {
  "interpreter": {
   "hash": "814af119db7f8f2860617be3dcd1d37c560587d11c65bd58c45b1679d3ee6ea4"
  },
  "kernelspec": {
   "display_name": "Python 3.8.0 64-bit ('pydicer': pyenv)",
   "language": "python",
   "name": "python3"
  },
  "language_info": {
   "codemirror_mode": {
    "name": "ipython",
    "version": 3
   },
   "file_extension": ".py",
   "mimetype": "text/x-python",
   "name": "python",
   "nbconvert_exporter": "python",
   "pygments_lexer": "ipython3",
   "version": "3.9.21"
  }
 },
 "nbformat": 4,
 "nbformat_minor": 2
}
