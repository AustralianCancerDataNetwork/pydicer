{
 "cells": [
  {
   "cell_type": "markdown",
   "metadata": {},
   "source": [
    "# Visualise Data\n",
    "\n",
    "PyDicer's `visualise` module will produce cross-sections of data objects and store them\n",
    "in `.png` format within the data object directory. This is particularly useful for fast inspection\n",
    "of the data to ensure that nothing has gone wrong during conversion.\n",
    "\n",
    "The `visualise` module can be run at any time after conversion. If you are using advanced features\n",
    "of PyDicer, such as `auto-segmentation inference` and `object generation`, you can run the\n",
    "visualise module following the generation of the new data objects to produce the cross-section\n",
    "`.png` files."
   ]
  },
  {
   "cell_type": "code",
   "execution_count": 1,
   "metadata": {
    "execution": {
     "iopub.execute_input": "2023-12-06T00:11:32.761391Z",
     "iopub.status.busy": "2023-12-06T00:11:32.761181Z",
     "iopub.status.idle": "2023-12-06T00:11:33.748132Z",
     "shell.execute_reply": "2023-12-06T00:11:33.747559Z"
    }
   },
   "outputs": [],
   "source": [
    "try:\n",
    "    from pydicer import PyDicer\n",
    "except ImportError:\n",
    "    !pip install pydicer\n",
    "    from pydicer import PyDicer\n",
    "\n",
    "from pathlib import Path\n",
    "\n",
    "from pydicer.utils import fetch_converted_test_data"
   ]
  },
  {
   "cell_type": "markdown",
   "metadata": {},
   "source": [
    "## Setup PyDicer\n",
    "\n",
    "HNSCC data prepared for this example are downloaded and stored into a `testdata_hnscc` directory.\n",
    "We will use this for our PyDicer working directory. We also initialise our PyDicer object."
   ]
  },
  {
   "cell_type": "code",
   "execution_count": 2,
   "metadata": {
    "execution": {
     "iopub.execute_input": "2023-12-06T00:11:33.751287Z",
     "iopub.status.busy": "2023-12-06T00:11:33.750732Z",
     "iopub.status.idle": "2023-12-06T00:11:33.755215Z",
     "shell.execute_reply": "2023-12-06T00:11:33.754615Z"
    }
   },
   "outputs": [
    {
     "name": "stderr",
     "output_type": "stream",
     "text": [
      "Working directory %s aready exists, won't download test data.\n"
     ]
    }
   ],
   "source": [
    "working_directory = fetch_converted_test_data(\"./testdata_hnscc\", dataset=\"HNSCC\")\n",
    "\n",
    "pydicer = PyDicer(working_directory)"
   ]
  },
  {
   "cell_type": "markdown",
   "metadata": {},
   "source": [
    "## Visualise Data\n",
    "\n",
    "We simply call the `visualise()` function of the `visualise` module to produce the cross-sections.\n",
    "\n",
    "Inspect some of the data object directories in `testdata_hnscc/data` and look for the `.png`\n",
    "cross-sections. The `{hashed_uid}` in files named `vis_{hashed_uid}.png`  refers to a UID hash\n",
    "linking to the image being visualised. Visualisations are produced for:\n",
    "- Images\n",
    "- RT Structure Sets\n",
    "- RT Dose Grids"
   ]
  },
  {
   "cell_type": "code",
   "execution_count": 3,
   "metadata": {
    "execution": {
     "iopub.execute_input": "2023-12-06T00:11:33.757573Z",
     "iopub.status.busy": "2023-12-06T00:11:33.757220Z",
     "iopub.status.idle": "2023-12-06T00:12:52.244070Z",
     "shell.execute_reply": "2023-12-06T00:12:52.243474Z"
    }
   },
   "outputs": [
    {
     "name": "stderr",
     "output_type": "stream",
     "text": [
      "\r",
      "  0%|          | 0/14 [00:00<?, ?objects/s, visualise]"
     ]
    },
    {
     "name": "stderr",
     "output_type": "stream",
     "text": [
      "\r",
      "  7%|▋         | 1/14 [00:00<00:04,  2.65objects/s, visualise]"
     ]
    },
    {
     "name": "stderr",
     "output_type": "stream",
     "text": [
      "\r",
      " 14%|█▍        | 2/14 [00:00<00:03,  3.09objects/s, visualise]"
     ]
    },
    {
     "name": "stderr",
     "output_type": "stream",
     "text": [
      "\r",
      " 21%|██▏       | 3/14 [00:00<00:03,  3.34objects/s, visualise]"
     ]
    },
    {
     "name": "stderr",
     "output_type": "stream",
     "text": [
      "\r",
      " 29%|██▊       | 4/14 [00:01<00:03,  2.87objects/s, visualise]"
     ]
    },
    {
     "name": "stderr",
     "output_type": "stream",
     "text": [
      "\r",
      " 36%|███▌      | 5/14 [00:10<00:32,  3.57s/objects, visualise]"
     ]
    },
    {
     "name": "stderr",
     "output_type": "stream",
     "text": [
      "\r",
      " 43%|████▎     | 6/14 [00:20<00:45,  5.74s/objects, visualise]"
     ]
    },
    {
     "name": "stderr",
     "output_type": "stream",
     "text": [
      "\r",
      " 50%|█████     | 7/14 [00:29<00:47,  6.78s/objects, visualise]"
     ]
    },
    {
     "name": "stderr",
     "output_type": "stream",
     "text": [
      "\r",
      " 57%|█████▋    | 8/14 [00:38<00:45,  7.64s/objects, visualise]"
     ]
    },
    {
     "name": "stderr",
     "output_type": "stream",
     "text": [
      "\r",
      " 64%|██████▍   | 9/14 [00:39<00:26,  5.39s/objects, visualise]"
     ]
    },
    {
     "name": "stderr",
     "output_type": "stream",
     "text": [
      "\r",
      " 71%|███████▏  | 10/14 [00:51<00:29,  7.41s/objects, visualise]"
     ]
    },
    {
     "name": "stderr",
     "output_type": "stream",
     "text": [
      "\r",
      " 79%|███████▊  | 11/14 [01:02<00:26,  8.70s/objects, visualise]"
     ]
    },
    {
     "name": "stderr",
     "output_type": "stream",
     "text": [
      "\r",
      " 86%|████████▌ | 12/14 [01:03<00:12,  6.17s/objects, visualise]"
     ]
    },
    {
     "name": "stderr",
     "output_type": "stream",
     "text": [
      "\r",
      " 93%|█████████▎| 13/14 [01:11<00:06,  6.63s/objects, visualise]"
     ]
    },
    {
     "name": "stderr",
     "output_type": "stream",
     "text": [
      "\r",
      "100%|██████████| 14/14 [01:18<00:00,  6.87s/objects, visualise]"
     ]
    },
    {
     "name": "stderr",
     "output_type": "stream",
     "text": [
      "\r",
      "100%|██████████| 14/14 [01:18<00:00,  5.60s/objects, visualise]"
     ]
    },
    {
     "name": "stderr",
     "output_type": "stream",
     "text": [
      "\n"
     ]
    }
   ],
   "source": [
    "pydicer.visualise.visualise()"
   ]
  },
  {
   "cell_type": "markdown",
   "metadata": {},
   "source": [
    "### Run for a single patient\n",
    "\n",
    "You can run the visualisation for only a single patient (or list of specific patients) by providing\n",
    "the `patient` argument."
   ]
  },
  {
   "cell_type": "code",
   "execution_count": 4,
   "metadata": {
    "execution": {
     "iopub.execute_input": "2023-12-06T00:12:52.246823Z",
     "iopub.status.busy": "2023-12-06T00:12:52.246338Z",
     "iopub.status.idle": "2023-12-06T00:13:16.487571Z",
     "shell.execute_reply": "2023-12-06T00:13:16.486877Z"
    }
   },
   "outputs": [
    {
     "name": "stderr",
     "output_type": "stream",
     "text": [
      "\r",
      "  0%|          | 0/3 [00:00<?, ?objects/s, visualise]"
     ]
    },
    {
     "name": "stderr",
     "output_type": "stream",
     "text": [
      "\r",
      " 33%|███▎      | 1/3 [00:00<00:00,  2.25objects/s, visualise]"
     ]
    },
    {
     "name": "stderr",
     "output_type": "stream",
     "text": [
      "\r",
      " 67%|██████▋   | 2/3 [00:12<00:07,  7.20s/objects, visualise]"
     ]
    },
    {
     "name": "stderr",
     "output_type": "stream",
     "text": [
      "\r",
      "100%|██████████| 3/3 [00:24<00:00,  9.32s/objects, visualise]"
     ]
    },
    {
     "name": "stderr",
     "output_type": "stream",
     "text": [
      "\r",
      "100%|██████████| 3/3 [00:24<00:00,  8.07s/objects, visualise]"
     ]
    },
    {
     "name": "stderr",
     "output_type": "stream",
     "text": [
      "\n"
     ]
    }
   ],
   "source": [
    "pydicer.visualise.visualise(patient=\"HNSCC-01-0199\")"
   ]
  },
  {
   "cell_type": "markdown",
   "metadata": {},
   "source": [
    "### Avoid Re-generating Visualisation\n",
    "\n",
    "If you've added more data to your dataset, and want to avoid re-generating visualisations, set the\n",
    "`force` argument to `False`."
   ]
  },
  {
   "cell_type": "code",
   "execution_count": 5,
   "metadata": {
    "execution": {
     "iopub.execute_input": "2023-12-06T00:13:16.489991Z",
     "iopub.status.busy": "2023-12-06T00:13:16.489788Z",
     "iopub.status.idle": "2023-12-06T00:13:16.538632Z",
     "shell.execute_reply": "2023-12-06T00:13:16.538049Z"
    }
   },
   "outputs": [
    {
     "name": "stderr",
     "output_type": "stream",
     "text": [
      "\r",
      "  0%|          | 0/14 [00:00<?, ?objects/s, visualise]"
     ]
    },
    {
     "name": "stderr",
     "output_type": "stream",
     "text": [
      "\r",
      "100%|██████████| 14/14 [00:00<00:00, 378.49objects/s, visualise]"
     ]
    },
    {
     "name": "stderr",
     "output_type": "stream",
     "text": [
      "\n"
     ]
    }
   ],
   "source": [
    "pydicer.visualise.visualise(force=False)"
   ]
  },
  {
   "cell_type": "code",
   "execution_count": null,
   "metadata": {},
   "outputs": [],
   "source": []
  }
 ],
 "metadata": {
  "interpreter": {
   "hash": "814af119db7f8f2860617be3dcd1d37c560587d11c65bd58c45b1679d3ee6ea4"
  },
  "kernelspec": {
   "display_name": "Python 3.8.0 64-bit ('pydicer': pyenv)",
   "language": "python",
   "name": "python3"
  },
  "language_info": {
   "codemirror_mode": {
    "name": "ipython",
    "version": 3
   },
   "file_extension": ".py",
   "mimetype": "text/x-python",
   "name": "python",
   "nbconvert_exporter": "python",
   "pygments_lexer": "ipython3",
   "version": "3.9.18"
  }
 },
 "nbformat": 4,
 "nbformat_minor": 2
}
